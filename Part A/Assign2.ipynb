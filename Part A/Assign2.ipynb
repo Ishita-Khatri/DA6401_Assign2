{
 "cells": [
  {
   "cell_type": "code",
   "execution_count": 4,
   "id": "9e360e91",
   "metadata": {
    "execution": {
     "iopub.execute_input": "2025-04-16T17:38:06.885706Z",
     "iopub.status.busy": "2025-04-16T17:38:06.885434Z",
     "iopub.status.idle": "2025-04-16T17:38:06.890919Z",
     "shell.execute_reply": "2025-04-16T17:38:06.890071Z",
     "shell.execute_reply.started": "2025-04-16T17:38:06.885685Z"
    },
    "trusted": true
   },
   "outputs": [],
   "source": [
    "import torch\n",
    "import torch.nn as nn\n",
    "import torchvision\n",
    "import wandb\n",
    "from torchsummary import summary\n",
    "from torchvision import datasets, transforms\n",
    "from torch.utils.data import Subset, DataLoader\n",
    "from sklearn.model_selection import StratifiedShuffleSplit\n",
    "device = torch.device('cuda' if torch.cuda.is_available() else 'cpu')"
   ]
  },
  {
   "cell_type": "code",
   "execution_count": 5,
   "id": "8f1be854",
   "metadata": {
    "execution": {
     "iopub.execute_input": "2025-04-16T17:38:10.374681Z",
     "iopub.status.busy": "2025-04-16T17:38:10.374416Z",
     "iopub.status.idle": "2025-04-16T17:38:10.512224Z",
     "shell.execute_reply": "2025-04-16T17:38:10.511504Z",
     "shell.execute_reply.started": "2025-04-16T17:38:10.374660Z"
    },
    "trusted": true
   },
   "outputs": [
    {
     "name": "stdout",
     "output_type": "stream",
     "text": [
      "----------------------------------------------------------------\n",
      "        Layer (type)               Output Shape         Param #\n",
      "================================================================\n",
      "            Conv2d-1         [-1, 32, 224, 224]             896\n",
      "              ReLU-2         [-1, 32, 224, 224]               0\n",
      "         MaxPool2d-3         [-1, 32, 112, 112]               0\n",
      "            Conv2d-4         [-1, 64, 112, 112]          18,496\n",
      "              ReLU-5         [-1, 64, 112, 112]               0\n",
      "         MaxPool2d-6           [-1, 64, 56, 56]               0\n",
      "            Conv2d-7          [-1, 128, 56, 56]          73,856\n",
      "              ReLU-8          [-1, 128, 56, 56]               0\n",
      "         MaxPool2d-9          [-1, 128, 28, 28]               0\n",
      "           Conv2d-10          [-1, 256, 28, 28]         295,168\n",
      "             ReLU-11          [-1, 256, 28, 28]               0\n",
      "        MaxPool2d-12          [-1, 256, 14, 14]               0\n",
      "           Conv2d-13          [-1, 512, 14, 14]       1,180,160\n",
      "             ReLU-14          [-1, 512, 14, 14]               0\n",
      "        MaxPool2d-15            [-1, 512, 7, 7]               0\n",
      "AdaptiveAvgPool2d-16            [-1, 512, 1, 1]               0\n",
      "           Linear-17                  [-1, 128]          65,664\n",
      "             ReLU-18                  [-1, 128]               0\n",
      "          Dropout-19                  [-1, 128]               0\n",
      "           Linear-20                   [-1, 10]           1,290\n",
      "================================================================\n",
      "Total params: 1,635,530\n",
      "Trainable params: 1,635,530\n",
      "Non-trainable params: 0\n",
      "----------------------------------------------------------------\n",
      "Input size (MB): 0.57\n",
      "Forward/backward pass size (MB): 53.41\n",
      "Params size (MB): 6.24\n",
      "Estimated Total Size (MB): 60.22\n",
      "----------------------------------------------------------------\n"
     ]
    }
   ],
   "source": [
    "class CNN(nn.Module):\n",
    "    def __init__(self, num_filters=32, size_filters=3, activation_func='relu', filter_org=1, num_dense=128, batch_normalisation=False, dropout_rate=0.2, input_channels=3, num_classes=10, num_conv=5):\n",
    "        '''\n",
    "        num_filters: Number of filters in each layer --> 32,64,etc\n",
    "        size_filters: Size of each filter (=F) --> 5,10,etc\n",
    "        activation_func: Activation function for the convolutional layers --> ReLU, GeLU,SiLU, Mish\n",
    "        filter_org: Ratio of number of filters in i+1th layer to number of filters in ith layer --> 1,0.5,2,etc\n",
    "        num_dense: Number of neurons in dense layer --> 128\n",
    "        batch_normalisation: Whether or not to apply batch normalisation after convolution layers --> True, False\n",
    "        dropout_rate: Fraction of neurons to randomly drop (=p) --> 0.2 to 0.5\n",
    "        input_channels: number of channels in input layer --> 3 (RGB)\n",
    "        num_classes: Number of Classes in the iNaturalist Dataset --> 10\n",
    "        num_conv: number of Conv-activation-maxpool blocks in the CNN model --> given:5\n",
    "        '''\n",
    "        super(CNN, self).__init__()\n",
    "        self.layers=nn.ModuleList()\n",
    "\n",
    "        def get_activation(name):\n",
    "            if name == 'relu':\n",
    "                return nn.ReLU()\n",
    "            elif name == 'gelu':\n",
    "                return nn.GELU()\n",
    "            elif name == 'silu':\n",
    "                return nn.SiLU()\n",
    "            elif name == 'mish':\n",
    "                return nn.Mish()\n",
    "\n",
    "        for layer in range(num_conv):\n",
    "            out_channels=int(num_filters*((filter_org)**(layer)))\n",
    "            self.layers.append(nn.Conv2d(in_channels=input_channels, out_channels=out_channels, kernel_size=size_filters, padding=size_filters//2))\n",
    "            if batch_normalisation==True:\n",
    "                self.layers.append(nn.BatchNorm2d(out_channels))\n",
    "            input_channels=out_channels\n",
    "            self.layers.append(get_activation(name=activation_func))    \n",
    "            self.layers.append(nn.MaxPool2d(kernel_size = 2, stride = 2))\n",
    "        self.adaptive_pool = nn.AdaptiveAvgPool2d((1, 1))\n",
    "        if batch_normalisation==True:\n",
    "            self.fc_layers = nn.Sequential(nn.Linear(input_channels, num_dense),get_activation(name=activation_func), nn.BatchNorm1d(num_dense), nn.Dropout(p=dropout_rate), nn.Linear(num_dense, num_classes))\n",
    "        elif batch_normalisation==False:\n",
    "            self.fc_layers = nn.Sequential(nn.Linear(input_channels, num_dense),get_activation(name=activation_func), nn.Dropout(p=dropout_rate), nn.Linear(num_dense, num_classes))\n",
    "\n",
    "    def forward(self, x):\n",
    "        for layer in self.layers:\n",
    "            x = layer(x)\n",
    "        x = self.adaptive_pool(x)\n",
    "        x = x.view(x.size(0), -1)\n",
    "        x = self.fc_layers(x)\n",
    "        return x\n",
    "\n",
    "my_model = CNN(\n",
    "    num_filters=32,\n",
    "    size_filters=3,\n",
    "    activation_func='relu',\n",
    "    filter_org=2,\n",
    "    num_dense=128\n",
    ").to(device)\n",
    "\n",
    "summary(my_model, input_size=(3, 224, 224))"
   ]
  },
  {
   "cell_type": "code",
   "execution_count": 7,
   "id": "3a67fd09",
   "metadata": {
    "execution": {
     "iopub.execute_input": "2025-04-16T17:38:18.529303Z",
     "iopub.status.busy": "2025-04-16T17:38:18.528974Z",
     "iopub.status.idle": "2025-04-16T17:38:18.536214Z",
     "shell.execute_reply": "2025-04-16T17:38:18.535311Z",
     "shell.execute_reply.started": "2025-04-16T17:38:18.529249Z"
    },
    "trusted": true
   },
   "outputs": [],
   "source": [
    "def get_dataloaders(dir='/kaggle/input/nature-12k/inaturalist_12K/train',augment='No',split=0.2,batch_size=64):\n",
    "    labels = datasets.ImageFolder(root=dir).targets\n",
    "    \n",
    "    val_transforms = transforms.Compose([\n",
    "        transforms.Resize((224, 224)),\n",
    "        transforms.ToTensor(),\n",
    "        transforms.Normalize(mean=[0.485, 0.456, 0.406],\n",
    "                            std=[0.229, 0.224, 0.225])\n",
    "    ])\n",
    "    if augment=='Yes':\n",
    "        train_transforms = transforms.Compose([\n",
    "            transforms.Resize((256, 256)),\n",
    "            transforms.RandomResizedCrop(224),\n",
    "            transforms.RandomHorizontalFlip(),\n",
    "            transforms.RandomRotation(15),\n",
    "            transforms.ColorJitter(brightness=0.2, contrast=0.2,\n",
    "                                saturation=0.2, hue=0.1),\n",
    "            transforms.ToTensor(),\n",
    "            transforms.Normalize(mean=[0.485, 0.456, 0.406],\n",
    "                                std=[0.229, 0.224, 0.225])\n",
    "        ])  \n",
    "    elif augment=='No':\n",
    "        train_transforms=val_transforms\n",
    "\n",
    "    splitter = StratifiedShuffleSplit(n_splits=1, test_size=split, random_state=42)\n",
    "    train_idx, val_idx = next(splitter.split(torch.zeros(len(labels)), labels))\n",
    "\n",
    "    train_dataset=datasets.ImageFolder(root=dir,transform=train_transforms)\n",
    "    val_dataset=datasets.ImageFolder(root=dir,transform=val_transforms)\n",
    "\n",
    "    train_dataset = Subset(train_dataset, train_idx)\n",
    "    val_dataset = Subset(val_dataset, val_idx)\n",
    "\n",
    "    train_loader = DataLoader(train_dataset, batch_size=batch_size, shuffle=True, num_workers=2)\n",
    "    val_loader = DataLoader(val_dataset, batch_size=batch_size, shuffle=False, num_workers=2)\n",
    "\n",
    "    return train_loader,val_loader"
   ]
  },
  {
   "cell_type": "code",
   "execution_count": 8,
   "id": "873a9520",
   "metadata": {
    "execution": {
     "iopub.execute_input": "2025-04-16T17:38:23.262312Z",
     "iopub.status.busy": "2025-04-16T17:38:23.262023Z",
     "iopub.status.idle": "2025-04-16T17:38:23.266889Z",
     "shell.execute_reply": "2025-04-16T17:38:23.266166Z",
     "shell.execute_reply.started": "2025-04-16T17:38:23.262289Z"
    },
    "trusted": true
   },
   "outputs": [],
   "source": [
    "def get_optimizer(optim,lr,model):\n",
    "    if optim=='sgd':\n",
    "        return (torch.optim.SGD(model.parameters(), lr, weight_decay=0, momentum=0))\n",
    "    elif optim=='momentum':\n",
    "        return (torch.optim.SGD(model.parameters(), lr, weight_decay=0, momentum=0.9))\n",
    "    elif optim=='adam':\n",
    "        return (torch.optim.Adam(model.parameters(), lr, weight_decay=0.005))"
   ]
  },
  {
   "cell_type": "code",
   "execution_count": 15,
   "id": "ceead109",
   "metadata": {
    "execution": {
     "iopub.execute_input": "2025-04-12T09:52:42.866277Z",
     "iopub.status.busy": "2025-04-12T09:52:42.865614Z",
     "iopub.status.idle": "2025-04-12T09:52:43.173344Z",
     "shell.execute_reply": "2025-04-12T09:52:43.172657Z",
     "shell.execute_reply.started": "2025-04-12T09:52:42.866256Z"
    },
    "trusted": true
   },
   "outputs": [
    {
     "name": "stdout",
     "output_type": "stream",
     "text": [
      "Create sweep with ID: ix36j15i\n",
      "Sweep URL: https://wandb.ai/ishita49-indian-institute-of-technology-madras/DA6401_Assign2/sweeps/ix36j15i\n"
     ]
    }
   ],
   "source": [
    "import wandb\n",
    "# wandb.init(\n",
    "#     project=\"DA6401_Assign2\",\n",
    "# )\n",
    "sweep_config = {\n",
    "    'method': 'bayes',\n",
    "    'metric': {\n",
    "        'name': 'val_accuracy',\n",
    "        'goal': 'maximize'\n",
    "    },\n",
    "    'parameters': {\n",
    "        'num_filters':{\n",
    "            'values':[32,64]\n",
    "        },\n",
    "        'size_filters':{\n",
    "            'values':[3,5,10]\n",
    "        },\n",
    "        'activation_func':{\n",
    "            'values':['relu','gelu','silu','mish']\n",
    "        },\n",
    "        'filter_org':{\n",
    "            'values':[1,0.5,2]\n",
    "        },\n",
    "        'num_dense':{\n",
    "            'values':[128,256,512]\n",
    "        },\n",
    "        'batch_size':{\n",
    "            'values':[16,32,64]\n",
    "        },\n",
    "        'optimizer':{\n",
    "            'values':['sgd','momentum','adam']\n",
    "        },\n",
    "        'learning_rate':{\n",
    "            'min':0.0001,\n",
    "            'max':0.01\n",
    "        },\n",
    "        'data_augmentation':{\n",
    "            'values':['Yes','No']\n",
    "        },\n",
    "        'batch_normalisation':{\n",
    "            'values':[True,False]\n",
    "        },\n",
    "        'dropout_rate':{\n",
    "            'min':0.2,\n",
    "            'max':0.5\n",
    "        }\n",
    "    }\n",
    "}\n",
    "\n",
    "sweep_id = wandb.sweep(sweep_config, project=\"DA6401_Assign2\", entity=\"ishita49-indian-institute-of-technology-madras\")"
   ]
  },
  {
   "cell_type": "code",
   "execution_count": 16,
   "id": "fec0d98b",
   "metadata": {
    "execution": {
     "iopub.execute_input": "2025-04-12T09:52:43.175084Z",
     "iopub.status.busy": "2025-04-12T09:52:43.174769Z",
     "iopub.status.idle": "2025-04-12T09:52:43.183926Z",
     "shell.execute_reply": "2025-04-12T09:52:43.183199Z",
     "shell.execute_reply.started": "2025-04-12T09:52:43.175065Z"
    },
    "trusted": true
   },
   "outputs": [],
   "source": [
    "def train():\n",
    "    config_defaults = {\n",
    "        'num_filters':32,\n",
    "        'size_filters':3,\n",
    "        'activation_func':'relu',\n",
    "        'filter_org':2,\n",
    "        'num_dense':128,\n",
    "        'batch_size':64,\n",
    "        'optimizer':'sgd',\n",
    "        'learning_rate':0.005,\n",
    "        'data_augmentation':'No',\n",
    "        'batch_normalisation':False,\n",
    "        'dropout_rate':0.2\n",
    "    }\n",
    "    wandb.login(key='70a00ae1607c730fb9cd50b1268b191bec7a2901')\n",
    "    wandb.init(config=config_defaults)\n",
    "    config = wandb.config\n",
    "\n",
    "    model = CNN(num_filters=config.num_filters,\n",
    "                size_filters=config.size_filters,\n",
    "                activation_func=config.activation_func,\n",
    "                filter_org=config.filter_org,\n",
    "                num_dense=config.num_dense,\n",
    "                batch_normalisation=config.batch_normalisation,\n",
    "                dropout_rate=config.dropout_rate,\n",
    "                num_classes=10)\n",
    "    \n",
    "    if torch.cuda.device_count() > 1:\n",
    "        print(\"Using\", torch.cuda.device_count(), \"GPUs\")\n",
    "        model = nn.DataParallel(model)\n",
    "\n",
    "    model.to(device)\n",
    "    criterion = nn.CrossEntropyLoss()\n",
    "    optimizer=get_optimizer(optim=config.optimizer,lr=config.learning_rate,model=model)\n",
    "    train_loader,val_loader=get_dataloaders(batch_size=config.batch_size,augment=config.data_augmentation)\n",
    "    # Train\n",
    "    num_epochs=20\n",
    "    print(\"training...\")\n",
    "    for epoch in range(num_epochs):\n",
    "        model.train()\n",
    "        total_loss=0\n",
    "        for i, (images, labels) in enumerate(train_loader):  \n",
    "            images = images.to(device)\n",
    "            labels = labels.to(device)\n",
    "            \n",
    "            outputs = model(images)\n",
    "            loss = criterion(outputs, labels)\n",
    "            \n",
    "            optimizer.zero_grad()\n",
    "            loss.backward()\n",
    "            optimizer.step()\n",
    "            total_loss+=loss.item()\n",
    "        avg_loss=total_loss/len(train_loader)\n",
    "        print('Epoch [{}/{}], Loss: {:.4f}'.format(epoch+1, num_epochs, avg_loss))\n",
    "        wandb.log({\"epoch\": epoch + 1, \"train_loss\": avg_loss})\n",
    "\n",
    "    # Validation\n",
    "    model.eval()\n",
    "    correct = 0\n",
    "    total = 0\n",
    "    with torch.no_grad():\n",
    "        for images, labels in val_loader:\n",
    "            images, labels = images.to(device), labels.to(device)\n",
    "            outputs = model(images)\n",
    "            _, predicted = torch.max(outputs.data, 1)\n",
    "            total += labels.size(0)\n",
    "            correct += (predicted == labels).sum().item()\n",
    "\n",
    "    accuracy = 100 * correct / total\n",
    "    print('Validation Accuracy: {:.2f}%'.format(accuracy))\n",
    "\n",
    "    wandb.log({\"val_accuracy\": accuracy})\n",
    "    wandb.finish()"
   ]
  },
  {
   "cell_type": "code",
   "execution_count": null,
   "id": "d9e5b35e",
   "metadata": {
    "execution": {
     "execution_failed": "2025-04-12T21:42:10.421Z",
     "iopub.execute_input": "2025-04-12T09:52:43.185500Z",
     "iopub.status.busy": "2025-04-12T09:52:43.184816Z"
    },
    "trusted": true
   },
   "outputs": [
    {
     "name": "stderr",
     "output_type": "stream",
     "text": [
      "\u001b[34m\u001b[1mwandb\u001b[0m: Agent Starting Run: 9264ulfs with config:\n",
      "\u001b[34m\u001b[1mwandb\u001b[0m: \tactivation_func: mish\n",
      "\u001b[34m\u001b[1mwandb\u001b[0m: \tbatch_normalisation: False\n",
      "\u001b[34m\u001b[1mwandb\u001b[0m: \tbatch_size: 16\n",
      "\u001b[34m\u001b[1mwandb\u001b[0m: \tdata_augmentation: Yes\n",
      "\u001b[34m\u001b[1mwandb\u001b[0m: \tdropout_rate: 0.48513216376589935\n",
      "\u001b[34m\u001b[1mwandb\u001b[0m: \tfilter_org: 1\n",
      "\u001b[34m\u001b[1mwandb\u001b[0m: \tlearning_rate: 0.0026587824562307612\n",
      "\u001b[34m\u001b[1mwandb\u001b[0m: \tnum_dense: 128\n",
      "\u001b[34m\u001b[1mwandb\u001b[0m: \tnum_filters: 32\n",
      "\u001b[34m\u001b[1mwandb\u001b[0m: \toptimizer: sgd\n",
      "\u001b[34m\u001b[1mwandb\u001b[0m: \tsize_filters: 3\n",
      "\u001b[34m\u001b[1mwandb\u001b[0m: \u001b[33mWARNING\u001b[0m If you're specifying your api key in code, ensure this code is not shared publicly.\n",
      "\u001b[34m\u001b[1mwandb\u001b[0m: \u001b[33mWARNING\u001b[0m Consider setting the WANDB_API_KEY environment variable, or running `wandb login` from the command line.\n",
      "\u001b[34m\u001b[1mwandb\u001b[0m: Appending key for api.wandb.ai to your netrc file: /root/.netrc\n"
     ]
    },
    {
     "data": {
      "text/html": [
       "Tracking run with wandb version 0.19.6"
      ],
      "text/plain": [
       "<IPython.core.display.HTML object>"
      ]
     },
     "metadata": {},
     "output_type": "display_data"
    },
    {
     "data": {
      "text/html": [
       "Run data is saved locally in <code>/kaggle/working/wandb/run-20250412_095248-9264ulfs</code>"
      ],
      "text/plain": [
       "<IPython.core.display.HTML object>"
      ]
     },
     "metadata": {},
     "output_type": "display_data"
    },
    {
     "data": {
      "text/html": [
       "Syncing run <strong><a href='https://wandb.ai/ishita49-indian-institute-of-technology-madras/DA6401_Assign2/runs/9264ulfs' target=\"_blank\">whole-sweep-1</a></strong> to <a href='https://wandb.ai/ishita49-indian-institute-of-technology-madras/DA6401_Assign2' target=\"_blank\">Weights & Biases</a> (<a href='https://wandb.me/developer-guide' target=\"_blank\">docs</a>)<br>Sweep page: <a href='https://wandb.ai/ishita49-indian-institute-of-technology-madras/DA6401_Assign2/sweeps/ix36j15i' target=\"_blank\">https://wandb.ai/ishita49-indian-institute-of-technology-madras/DA6401_Assign2/sweeps/ix36j15i</a>"
      ],
      "text/plain": [
       "<IPython.core.display.HTML object>"
      ]
     },
     "metadata": {},
     "output_type": "display_data"
    },
    {
     "data": {
      "text/html": [
       " View project at <a href='https://wandb.ai/ishita49-indian-institute-of-technology-madras/DA6401_Assign2' target=\"_blank\">https://wandb.ai/ishita49-indian-institute-of-technology-madras/DA6401_Assign2</a>"
      ],
      "text/plain": [
       "<IPython.core.display.HTML object>"
      ]
     },
     "metadata": {},
     "output_type": "display_data"
    },
    {
     "data": {
      "text/html": [
       " View sweep at <a href='https://wandb.ai/ishita49-indian-institute-of-technology-madras/DA6401_Assign2/sweeps/ix36j15i' target=\"_blank\">https://wandb.ai/ishita49-indian-institute-of-technology-madras/DA6401_Assign2/sweeps/ix36j15i</a>"
      ],
      "text/plain": [
       "<IPython.core.display.HTML object>"
      ]
     },
     "metadata": {},
     "output_type": "display_data"
    },
    {
     "data": {
      "text/html": [
       " View run at <a href='https://wandb.ai/ishita49-indian-institute-of-technology-madras/DA6401_Assign2/runs/9264ulfs' target=\"_blank\">https://wandb.ai/ishita49-indian-institute-of-technology-madras/DA6401_Assign2/runs/9264ulfs</a>"
      ],
      "text/plain": [
       "<IPython.core.display.HTML object>"
      ]
     },
     "metadata": {},
     "output_type": "display_data"
    },
    {
     "name": "stdout",
     "output_type": "stream",
     "text": [
      "Using 2 GPUs\n",
      "training...\n",
      "Epoch [1/20], Loss: 2.3055\n",
      "Epoch [2/20], Loss: 2.3044\n",
      "Epoch [3/20], Loss: 2.3038\n",
      "Epoch [4/20], Loss: 2.3042\n",
      "Epoch [5/20], Loss: 2.3039\n",
      "Epoch [6/20], Loss: 2.3035\n",
      "Epoch [7/20], Loss: 2.3035\n",
      "Epoch [8/20], Loss: 2.3034\n",
      "Epoch [9/20], Loss: 2.3036\n",
      "Epoch [10/20], Loss: 2.3042\n",
      "Epoch [11/20], Loss: 2.3033\n",
      "Epoch [12/20], Loss: 2.3039\n",
      "Epoch [13/20], Loss: 2.3030\n",
      "Epoch [14/20], Loss: 2.3035\n",
      "Epoch [15/20], Loss: 2.3029\n",
      "Epoch [16/20], Loss: 2.3035\n",
      "Epoch [17/20], Loss: 2.3035\n",
      "Epoch [18/20], Loss: 2.3033\n",
      "Epoch [19/20], Loss: 2.3031\n",
      "Epoch [20/20], Loss: 2.3034\n",
      "Validation Accuracy: 10.00%\n"
     ]
    },
    {
     "data": {
      "text/html": [],
      "text/plain": [
       "<IPython.core.display.HTML object>"
      ]
     },
     "metadata": {},
     "output_type": "display_data"
    },
    {
     "data": {
      "text/html": [
       "<br>    <style><br>        .wandb-row {<br>            display: flex;<br>            flex-direction: row;<br>            flex-wrap: wrap;<br>            justify-content: flex-start;<br>            width: 100%;<br>        }<br>        .wandb-col {<br>            display: flex;<br>            flex-direction: column;<br>            flex-basis: 100%;<br>            flex: 1;<br>            padding: 10px;<br>        }<br>    </style><br><div class=\"wandb-row\"><div class=\"wandb-col\"><h3>Run history:</h3><br/><table class=\"wandb\"><tr><td>epoch</td><td>▁▁▂▂▂▃▃▄▄▄▅▅▅▆▆▇▇▇██</td></tr><tr><td>train_loss</td><td>█▅▄▅▄▃▃▂▃▄▂▄▁▃▁▃▃▂▂▂</td></tr><tr><td>val_accuracy</td><td>▁</td></tr></table><br/></div><div class=\"wandb-col\"><h3>Run summary:</h3><br/><table class=\"wandb\"><tr><td>epoch</td><td>20</td></tr><tr><td>train_loss</td><td>2.3034</td></tr><tr><td>val_accuracy</td><td>10</td></tr></table><br/></div></div>"
      ],
      "text/plain": [
       "<IPython.core.display.HTML object>"
      ]
     },
     "metadata": {},
     "output_type": "display_data"
    },
    {
     "data": {
      "text/html": [
       " View run <strong style=\"color:#cdcd00\">whole-sweep-1</strong> at: <a href='https://wandb.ai/ishita49-indian-institute-of-technology-madras/DA6401_Assign2/runs/9264ulfs' target=\"_blank\">https://wandb.ai/ishita49-indian-institute-of-technology-madras/DA6401_Assign2/runs/9264ulfs</a><br> View project at: <a href='https://wandb.ai/ishita49-indian-institute-of-technology-madras/DA6401_Assign2' target=\"_blank\">https://wandb.ai/ishita49-indian-institute-of-technology-madras/DA6401_Assign2</a><br>Synced 5 W&B file(s), 0 media file(s), 0 artifact file(s) and 0 other file(s)"
      ],
      "text/plain": [
       "<IPython.core.display.HTML object>"
      ]
     },
     "metadata": {},
     "output_type": "display_data"
    },
    {
     "data": {
      "text/html": [
       "Find logs at: <code>./wandb/run-20250412_095248-9264ulfs/logs</code>"
      ],
      "text/plain": [
       "<IPython.core.display.HTML object>"
      ]
     },
     "metadata": {},
     "output_type": "display_data"
    },
    {
     "name": "stderr",
     "output_type": "stream",
     "text": [
      "\u001b[34m\u001b[1mwandb\u001b[0m: Agent Starting Run: f1on36qj with config:\n",
      "\u001b[34m\u001b[1mwandb\u001b[0m: \tactivation_func: gelu\n",
      "\u001b[34m\u001b[1mwandb\u001b[0m: \tbatch_normalisation: True\n",
      "\u001b[34m\u001b[1mwandb\u001b[0m: \tbatch_size: 32\n",
      "\u001b[34m\u001b[1mwandb\u001b[0m: \tdata_augmentation: No\n",
      "\u001b[34m\u001b[1mwandb\u001b[0m: \tdropout_rate: 0.41369682254612383\n",
      "\u001b[34m\u001b[1mwandb\u001b[0m: \tfilter_org: 1\n",
      "\u001b[34m\u001b[1mwandb\u001b[0m: \tlearning_rate: 0.0014733199120718148\n",
      "\u001b[34m\u001b[1mwandb\u001b[0m: \tnum_dense: 128\n",
      "\u001b[34m\u001b[1mwandb\u001b[0m: \tnum_filters: 64\n",
      "\u001b[34m\u001b[1mwandb\u001b[0m: \toptimizer: adam\n",
      "\u001b[34m\u001b[1mwandb\u001b[0m: \tsize_filters: 10\n",
      "\u001b[34m\u001b[1mwandb\u001b[0m: \u001b[33mWARNING\u001b[0m If you're specifying your api key in code, ensure this code is not shared publicly.\n",
      "\u001b[34m\u001b[1mwandb\u001b[0m: \u001b[33mWARNING\u001b[0m Consider setting the WANDB_API_KEY environment variable, or running `wandb login` from the command line.\n",
      "\u001b[34m\u001b[1mwandb\u001b[0m: Appending key for api.wandb.ai to your netrc file: /root/.netrc\n"
     ]
    },
    {
     "data": {
      "text/html": [
       "Tracking run with wandb version 0.19.6"
      ],
      "text/plain": [
       "<IPython.core.display.HTML object>"
      ]
     },
     "metadata": {},
     "output_type": "display_data"
    },
    {
     "data": {
      "text/html": [
       "Run data is saved locally in <code>/kaggle/working/wandb/run-20250412_102212-f1on36qj</code>"
      ],
      "text/plain": [
       "<IPython.core.display.HTML object>"
      ]
     },
     "metadata": {},
     "output_type": "display_data"
    },
    {
     "data": {
      "text/html": [
       "Syncing run <strong><a href='https://wandb.ai/ishita49-indian-institute-of-technology-madras/DA6401_Assign2/runs/f1on36qj' target=\"_blank\">hearty-sweep-2</a></strong> to <a href='https://wandb.ai/ishita49-indian-institute-of-technology-madras/DA6401_Assign2' target=\"_blank\">Weights & Biases</a> (<a href='https://wandb.me/developer-guide' target=\"_blank\">docs</a>)<br>Sweep page: <a href='https://wandb.ai/ishita49-indian-institute-of-technology-madras/DA6401_Assign2/sweeps/ix36j15i' target=\"_blank\">https://wandb.ai/ishita49-indian-institute-of-technology-madras/DA6401_Assign2/sweeps/ix36j15i</a>"
      ],
      "text/plain": [
       "<IPython.core.display.HTML object>"
      ]
     },
     "metadata": {},
     "output_type": "display_data"
    },
    {
     "data": {
      "text/html": [
       " View project at <a href='https://wandb.ai/ishita49-indian-institute-of-technology-madras/DA6401_Assign2' target=\"_blank\">https://wandb.ai/ishita49-indian-institute-of-technology-madras/DA6401_Assign2</a>"
      ],
      "text/plain": [
       "<IPython.core.display.HTML object>"
      ]
     },
     "metadata": {},
     "output_type": "display_data"
    },
    {
     "data": {
      "text/html": [
       " View sweep at <a href='https://wandb.ai/ishita49-indian-institute-of-technology-madras/DA6401_Assign2/sweeps/ix36j15i' target=\"_blank\">https://wandb.ai/ishita49-indian-institute-of-technology-madras/DA6401_Assign2/sweeps/ix36j15i</a>"
      ],
      "text/plain": [
       "<IPython.core.display.HTML object>"
      ]
     },
     "metadata": {},
     "output_type": "display_data"
    },
    {
     "data": {
      "text/html": [
       " View run at <a href='https://wandb.ai/ishita49-indian-institute-of-technology-madras/DA6401_Assign2/runs/f1on36qj' target=\"_blank\">https://wandb.ai/ishita49-indian-institute-of-technology-madras/DA6401_Assign2/runs/f1on36qj</a>"
      ],
      "text/plain": [
       "<IPython.core.display.HTML object>"
      ]
     },
     "metadata": {},
     "output_type": "display_data"
    },
    {
     "name": "stdout",
     "output_type": "stream",
     "text": [
      "Using 2 GPUs\n",
      "training...\n",
      "Epoch [1/20], Loss: 2.2738\n",
      "Epoch [2/20], Loss: 2.2108\n",
      "Epoch [3/20], Loss: 2.1828\n",
      "Epoch [4/20], Loss: 2.1684\n",
      "Epoch [5/20], Loss: 2.1780\n",
      "Epoch [6/20], Loss: 2.1681\n",
      "Epoch [7/20], Loss: 2.1746\n",
      "Epoch [8/20], Loss: 2.1688\n",
      "Epoch [9/20], Loss: 2.1617\n",
      "Epoch [10/20], Loss: 2.1486\n",
      "Epoch [11/20], Loss: 2.1499\n",
      "Epoch [12/20], Loss: 2.1363\n",
      "Epoch [13/20], Loss: 2.1274\n",
      "Epoch [14/20], Loss: 2.1199\n",
      "Epoch [15/20], Loss: 2.1184\n",
      "Epoch [16/20], Loss: 2.1009\n",
      "Epoch [17/20], Loss: 2.1002\n",
      "Epoch [18/20], Loss: 2.0962\n",
      "Epoch [19/20], Loss: 2.0869\n",
      "Epoch [20/20], Loss: 2.0851\n",
      "Validation Accuracy: 23.85%\n"
     ]
    },
    {
     "data": {
      "text/html": [],
      "text/plain": [
       "<IPython.core.display.HTML object>"
      ]
     },
     "metadata": {},
     "output_type": "display_data"
    },
    {
     "data": {
      "text/html": [
       "<br>    <style><br>        .wandb-row {<br>            display: flex;<br>            flex-direction: row;<br>            flex-wrap: wrap;<br>            justify-content: flex-start;<br>            width: 100%;<br>        }<br>        .wandb-col {<br>            display: flex;<br>            flex-direction: column;<br>            flex-basis: 100%;<br>            flex: 1;<br>            padding: 10px;<br>        }<br>    </style><br><div class=\"wandb-row\"><div class=\"wandb-col\"><h3>Run history:</h3><br/><table class=\"wandb\"><tr><td>epoch</td><td>▁▁▂▂▂▃▃▄▄▄▅▅▅▆▆▇▇▇██</td></tr><tr><td>train_loss</td><td>█▆▅▄▄▄▄▄▄▃▃▃▃▂▂▂▂▁▁▁</td></tr><tr><td>val_accuracy</td><td>▁</td></tr></table><br/></div><div class=\"wandb-col\"><h3>Run summary:</h3><br/><table class=\"wandb\"><tr><td>epoch</td><td>20</td></tr><tr><td>train_loss</td><td>2.08507</td></tr><tr><td>val_accuracy</td><td>23.85</td></tr></table><br/></div></div>"
      ],
      "text/plain": [
       "<IPython.core.display.HTML object>"
      ]
     },
     "metadata": {},
     "output_type": "display_data"
    },
    {
     "data": {
      "text/html": [
       " View run <strong style=\"color:#cdcd00\">hearty-sweep-2</strong> at: <a href='https://wandb.ai/ishita49-indian-institute-of-technology-madras/DA6401_Assign2/runs/f1on36qj' target=\"_blank\">https://wandb.ai/ishita49-indian-institute-of-technology-madras/DA6401_Assign2/runs/f1on36qj</a><br> View project at: <a href='https://wandb.ai/ishita49-indian-institute-of-technology-madras/DA6401_Assign2' target=\"_blank\">https://wandb.ai/ishita49-indian-institute-of-technology-madras/DA6401_Assign2</a><br>Synced 5 W&B file(s), 0 media file(s), 0 artifact file(s) and 0 other file(s)"
      ],
      "text/plain": [
       "<IPython.core.display.HTML object>"
      ]
     },
     "metadata": {},
     "output_type": "display_data"
    },
    {
     "data": {
      "text/html": [
       "Find logs at: <code>./wandb/run-20250412_102212-f1on36qj/logs</code>"
      ],
      "text/plain": [
       "<IPython.core.display.HTML object>"
      ]
     },
     "metadata": {},
     "output_type": "display_data"
    },
    {
     "name": "stderr",
     "output_type": "stream",
     "text": [
      "\u001b[34m\u001b[1mwandb\u001b[0m: Agent Starting Run: plek4xf1 with config:\n",
      "\u001b[34m\u001b[1mwandb\u001b[0m: \tactivation_func: relu\n",
      "\u001b[34m\u001b[1mwandb\u001b[0m: \tbatch_normalisation: True\n",
      "\u001b[34m\u001b[1mwandb\u001b[0m: \tbatch_size: 16\n",
      "\u001b[34m\u001b[1mwandb\u001b[0m: \tdata_augmentation: No\n",
      "\u001b[34m\u001b[1mwandb\u001b[0m: \tdropout_rate: 0.24117060030829449\n",
      "\u001b[34m\u001b[1mwandb\u001b[0m: \tfilter_org: 0.5\n",
      "\u001b[34m\u001b[1mwandb\u001b[0m: \tlearning_rate: 0.002351152688703995\n",
      "\u001b[34m\u001b[1mwandb\u001b[0m: \tnum_dense: 256\n",
      "\u001b[34m\u001b[1mwandb\u001b[0m: \tnum_filters: 64\n",
      "\u001b[34m\u001b[1mwandb\u001b[0m: \toptimizer: adam\n",
      "\u001b[34m\u001b[1mwandb\u001b[0m: \tsize_filters: 3\n",
      "\u001b[34m\u001b[1mwandb\u001b[0m: \u001b[33mWARNING\u001b[0m If you're specifying your api key in code, ensure this code is not shared publicly.\n",
      "\u001b[34m\u001b[1mwandb\u001b[0m: \u001b[33mWARNING\u001b[0m Consider setting the WANDB_API_KEY environment variable, or running `wandb login` from the command line.\n",
      "\u001b[34m\u001b[1mwandb\u001b[0m: Appending key for api.wandb.ai to your netrc file: /root/.netrc\n"
     ]
    },
    {
     "data": {
      "text/html": [
       "Tracking run with wandb version 0.19.6"
      ],
      "text/plain": [
       "<IPython.core.display.HTML object>"
      ]
     },
     "metadata": {},
     "output_type": "display_data"
    },
    {
     "data": {
      "text/html": [
       "Run data is saved locally in <code>/kaggle/working/wandb/run-20250412_104449-plek4xf1</code>"
      ],
      "text/plain": [
       "<IPython.core.display.HTML object>"
      ]
     },
     "metadata": {},
     "output_type": "display_data"
    },
    {
     "data": {
      "text/html": [
       "Syncing run <strong><a href='https://wandb.ai/ishita49-indian-institute-of-technology-madras/DA6401_Assign2/runs/plek4xf1' target=\"_blank\">divine-sweep-3</a></strong> to <a href='https://wandb.ai/ishita49-indian-institute-of-technology-madras/DA6401_Assign2' target=\"_blank\">Weights & Biases</a> (<a href='https://wandb.me/developer-guide' target=\"_blank\">docs</a>)<br>Sweep page: <a href='https://wandb.ai/ishita49-indian-institute-of-technology-madras/DA6401_Assign2/sweeps/ix36j15i' target=\"_blank\">https://wandb.ai/ishita49-indian-institute-of-technology-madras/DA6401_Assign2/sweeps/ix36j15i</a>"
      ],
      "text/plain": [
       "<IPython.core.display.HTML object>"
      ]
     },
     "metadata": {},
     "output_type": "display_data"
    },
    {
     "data": {
      "text/html": [
       " View project at <a href='https://wandb.ai/ishita49-indian-institute-of-technology-madras/DA6401_Assign2' target=\"_blank\">https://wandb.ai/ishita49-indian-institute-of-technology-madras/DA6401_Assign2</a>"
      ],
      "text/plain": [
       "<IPython.core.display.HTML object>"
      ]
     },
     "metadata": {},
     "output_type": "display_data"
    },
    {
     "data": {
      "text/html": [
       " View sweep at <a href='https://wandb.ai/ishita49-indian-institute-of-technology-madras/DA6401_Assign2/sweeps/ix36j15i' target=\"_blank\">https://wandb.ai/ishita49-indian-institute-of-technology-madras/DA6401_Assign2/sweeps/ix36j15i</a>"
      ],
      "text/plain": [
       "<IPython.core.display.HTML object>"
      ]
     },
     "metadata": {},
     "output_type": "display_data"
    },
    {
     "data": {
      "text/html": [
       " View run at <a href='https://wandb.ai/ishita49-indian-institute-of-technology-madras/DA6401_Assign2/runs/plek4xf1' target=\"_blank\">https://wandb.ai/ishita49-indian-institute-of-technology-madras/DA6401_Assign2/runs/plek4xf1</a>"
      ],
      "text/plain": [
       "<IPython.core.display.HTML object>"
      ]
     },
     "metadata": {},
     "output_type": "display_data"
    },
    {
     "name": "stdout",
     "output_type": "stream",
     "text": [
      "Using 2 GPUs\n",
      "training...\n",
      "Epoch [1/20], Loss: 2.2512\n",
      "Epoch [2/20], Loss: 2.1937\n",
      "Epoch [3/20], Loss: 2.1638\n",
      "Epoch [4/20], Loss: 2.1580\n",
      "Epoch [5/20], Loss: 2.1501\n",
      "Epoch [6/20], Loss: 2.1469\n",
      "Epoch [7/20], Loss: 2.1408\n",
      "Epoch [8/20], Loss: 2.1247\n",
      "Epoch [9/20], Loss: 2.1135\n",
      "Epoch [10/20], Loss: 2.1031\n",
      "Epoch [11/20], Loss: 2.1037\n",
      "Epoch [12/20], Loss: 2.0965\n",
      "Epoch [13/20], Loss: 2.0869\n",
      "Epoch [14/20], Loss: 2.0866\n",
      "Epoch [15/20], Loss: 2.0803\n",
      "Epoch [16/20], Loss: 2.0798\n",
      "Epoch [17/20], Loss: 2.0845\n",
      "Epoch [18/20], Loss: 2.0655\n",
      "Epoch [19/20], Loss: 2.0702\n",
      "Epoch [20/20], Loss: 2.0724\n",
      "Validation Accuracy: 27.10%\n"
     ]
    },
    {
     "data": {
      "text/html": [],
      "text/plain": [
       "<IPython.core.display.HTML object>"
      ]
     },
     "metadata": {},
     "output_type": "display_data"
    },
    {
     "data": {
      "text/html": [
       "<br>    <style><br>        .wandb-row {<br>            display: flex;<br>            flex-direction: row;<br>            flex-wrap: wrap;<br>            justify-content: flex-start;<br>            width: 100%;<br>        }<br>        .wandb-col {<br>            display: flex;<br>            flex-direction: column;<br>            flex-basis: 100%;<br>            flex: 1;<br>            padding: 10px;<br>        }<br>    </style><br><div class=\"wandb-row\"><div class=\"wandb-col\"><h3>Run history:</h3><br/><table class=\"wandb\"><tr><td>epoch</td><td>▁▁▂▂▂▃▃▄▄▄▅▅▅▆▆▇▇▇██</td></tr><tr><td>train_loss</td><td>█▆▅▄▄▄▄▃▃▂▂▂▂▂▂▂▂▁▁▁</td></tr><tr><td>val_accuracy</td><td>▁</td></tr></table><br/></div><div class=\"wandb-col\"><h3>Run summary:</h3><br/><table class=\"wandb\"><tr><td>epoch</td><td>20</td></tr><tr><td>train_loss</td><td>2.07238</td></tr><tr><td>val_accuracy</td><td>27.1</td></tr></table><br/></div></div>"
      ],
      "text/plain": [
       "<IPython.core.display.HTML object>"
      ]
     },
     "metadata": {},
     "output_type": "display_data"
    },
    {
     "data": {
      "text/html": [
       " View run <strong style=\"color:#cdcd00\">divine-sweep-3</strong> at: <a href='https://wandb.ai/ishita49-indian-institute-of-technology-madras/DA6401_Assign2/runs/plek4xf1' target=\"_blank\">https://wandb.ai/ishita49-indian-institute-of-technology-madras/DA6401_Assign2/runs/plek4xf1</a><br> View project at: <a href='https://wandb.ai/ishita49-indian-institute-of-technology-madras/DA6401_Assign2' target=\"_blank\">https://wandb.ai/ishita49-indian-institute-of-technology-madras/DA6401_Assign2</a><br>Synced 5 W&B file(s), 0 media file(s), 0 artifact file(s) and 0 other file(s)"
      ],
      "text/plain": [
       "<IPython.core.display.HTML object>"
      ]
     },
     "metadata": {},
     "output_type": "display_data"
    },
    {
     "data": {
      "text/html": [
       "Find logs at: <code>./wandb/run-20250412_104449-plek4xf1/logs</code>"
      ],
      "text/plain": [
       "<IPython.core.display.HTML object>"
      ]
     },
     "metadata": {},
     "output_type": "display_data"
    },
    {
     "name": "stderr",
     "output_type": "stream",
     "text": [
      "\u001b[34m\u001b[1mwandb\u001b[0m: Agent Starting Run: f3n1nmv9 with config:\n",
      "\u001b[34m\u001b[1mwandb\u001b[0m: \tactivation_func: gelu\n",
      "\u001b[34m\u001b[1mwandb\u001b[0m: \tbatch_normalisation: False\n",
      "\u001b[34m\u001b[1mwandb\u001b[0m: \tbatch_size: 16\n",
      "\u001b[34m\u001b[1mwandb\u001b[0m: \tdata_augmentation: No\n",
      "\u001b[34m\u001b[1mwandb\u001b[0m: \tdropout_rate: 0.23807751541943636\n",
      "\u001b[34m\u001b[1mwandb\u001b[0m: \tfilter_org: 1\n",
      "\u001b[34m\u001b[1mwandb\u001b[0m: \tlearning_rate: 0.0026163196492818065\n",
      "\u001b[34m\u001b[1mwandb\u001b[0m: \tnum_dense: 512\n",
      "\u001b[34m\u001b[1mwandb\u001b[0m: \tnum_filters: 64\n",
      "\u001b[34m\u001b[1mwandb\u001b[0m: \toptimizer: momentum\n",
      "\u001b[34m\u001b[1mwandb\u001b[0m: \tsize_filters: 3\n",
      "\u001b[34m\u001b[1mwandb\u001b[0m: \u001b[33mWARNING\u001b[0m If you're specifying your api key in code, ensure this code is not shared publicly.\n",
      "\u001b[34m\u001b[1mwandb\u001b[0m: \u001b[33mWARNING\u001b[0m Consider setting the WANDB_API_KEY environment variable, or running `wandb login` from the command line.\n",
      "\u001b[34m\u001b[1mwandb\u001b[0m: Appending key for api.wandb.ai to your netrc file: /root/.netrc\n"
     ]
    },
    {
     "data": {
      "text/html": [
       "Tracking run with wandb version 0.19.6"
      ],
      "text/plain": [
       "<IPython.core.display.HTML object>"
      ]
     },
     "metadata": {},
     "output_type": "display_data"
    },
    {
     "data": {
      "text/html": [
       "Run data is saved locally in <code>/kaggle/working/wandb/run-20250412_110416-f3n1nmv9</code>"
      ],
      "text/plain": [
       "<IPython.core.display.HTML object>"
      ]
     },
     "metadata": {},
     "output_type": "display_data"
    },
    {
     "data": {
      "text/html": [
       "Syncing run <strong><a href='https://wandb.ai/ishita49-indian-institute-of-technology-madras/DA6401_Assign2/runs/f3n1nmv9' target=\"_blank\">visionary-sweep-4</a></strong> to <a href='https://wandb.ai/ishita49-indian-institute-of-technology-madras/DA6401_Assign2' target=\"_blank\">Weights & Biases</a> (<a href='https://wandb.me/developer-guide' target=\"_blank\">docs</a>)<br>Sweep page: <a href='https://wandb.ai/ishita49-indian-institute-of-technology-madras/DA6401_Assign2/sweeps/ix36j15i' target=\"_blank\">https://wandb.ai/ishita49-indian-institute-of-technology-madras/DA6401_Assign2/sweeps/ix36j15i</a>"
      ],
      "text/plain": [
       "<IPython.core.display.HTML object>"
      ]
     },
     "metadata": {},
     "output_type": "display_data"
    },
    {
     "data": {
      "text/html": [
       " View project at <a href='https://wandb.ai/ishita49-indian-institute-of-technology-madras/DA6401_Assign2' target=\"_blank\">https://wandb.ai/ishita49-indian-institute-of-technology-madras/DA6401_Assign2</a>"
      ],
      "text/plain": [
       "<IPython.core.display.HTML object>"
      ]
     },
     "metadata": {},
     "output_type": "display_data"
    },
    {
     "data": {
      "text/html": [
       " View sweep at <a href='https://wandb.ai/ishita49-indian-institute-of-technology-madras/DA6401_Assign2/sweeps/ix36j15i' target=\"_blank\">https://wandb.ai/ishita49-indian-institute-of-technology-madras/DA6401_Assign2/sweeps/ix36j15i</a>"
      ],
      "text/plain": [
       "<IPython.core.display.HTML object>"
      ]
     },
     "metadata": {},
     "output_type": "display_data"
    },
    {
     "data": {
      "text/html": [
       " View run at <a href='https://wandb.ai/ishita49-indian-institute-of-technology-madras/DA6401_Assign2/runs/f3n1nmv9' target=\"_blank\">https://wandb.ai/ishita49-indian-institute-of-technology-madras/DA6401_Assign2/runs/f3n1nmv9</a>"
      ],
      "text/plain": [
       "<IPython.core.display.HTML object>"
      ]
     },
     "metadata": {},
     "output_type": "display_data"
    },
    {
     "name": "stdout",
     "output_type": "stream",
     "text": [
      "Using 2 GPUs\n",
      "training...\n",
      "Epoch [1/20], Loss: 2.3037\n",
      "Epoch [2/20], Loss: 2.3036\n",
      "Epoch [3/20], Loss: 2.3032\n",
      "Epoch [4/20], Loss: 2.3031\n",
      "Epoch [5/20], Loss: 2.3019\n",
      "Epoch [6/20], Loss: 2.2831\n",
      "Epoch [7/20], Loss: 2.2674\n",
      "Epoch [8/20], Loss: 2.2528\n",
      "Epoch [9/20], Loss: 2.2351\n",
      "Epoch [10/20], Loss: 2.2302\n",
      "Epoch [11/20], Loss: 2.1964\n",
      "Epoch [12/20], Loss: 2.1528\n",
      "Epoch [13/20], Loss: 2.1307\n",
      "Epoch [14/20], Loss: 2.1106\n",
      "Epoch [15/20], Loss: 2.0942\n",
      "Epoch [16/20], Loss: 2.0754\n",
      "Epoch [17/20], Loss: 2.0672\n",
      "Epoch [18/20], Loss: 2.0517\n",
      "Epoch [19/20], Loss: 2.0392\n",
      "Epoch [20/20], Loss: 2.0254\n",
      "Validation Accuracy: 26.55%\n"
     ]
    },
    {
     "data": {
      "text/html": [],
      "text/plain": [
       "<IPython.core.display.HTML object>"
      ]
     },
     "metadata": {},
     "output_type": "display_data"
    },
    {
     "data": {
      "text/html": [
       "<br>    <style><br>        .wandb-row {<br>            display: flex;<br>            flex-direction: row;<br>            flex-wrap: wrap;<br>            justify-content: flex-start;<br>            width: 100%;<br>        }<br>        .wandb-col {<br>            display: flex;<br>            flex-direction: column;<br>            flex-basis: 100%;<br>            flex: 1;<br>            padding: 10px;<br>        }<br>    </style><br><div class=\"wandb-row\"><div class=\"wandb-col\"><h3>Run history:</h3><br/><table class=\"wandb\"><tr><td>epoch</td><td>▁▁▂▂▂▃▃▄▄▄▅▅▅▆▆▇▇▇██</td></tr><tr><td>train_loss</td><td>█████▇▇▇▆▆▅▄▄▃▃▂▂▂▁▁</td></tr><tr><td>val_accuracy</td><td>▁</td></tr></table><br/></div><div class=\"wandb-col\"><h3>Run summary:</h3><br/><table class=\"wandb\"><tr><td>epoch</td><td>20</td></tr><tr><td>train_loss</td><td>2.02543</td></tr><tr><td>val_accuracy</td><td>26.55</td></tr></table><br/></div></div>"
      ],
      "text/plain": [
       "<IPython.core.display.HTML object>"
      ]
     },
     "metadata": {},
     "output_type": "display_data"
    },
    {
     "data": {
      "text/html": [
       " View run <strong style=\"color:#cdcd00\">visionary-sweep-4</strong> at: <a href='https://wandb.ai/ishita49-indian-institute-of-technology-madras/DA6401_Assign2/runs/f3n1nmv9' target=\"_blank\">https://wandb.ai/ishita49-indian-institute-of-technology-madras/DA6401_Assign2/runs/f3n1nmv9</a><br> View project at: <a href='https://wandb.ai/ishita49-indian-institute-of-technology-madras/DA6401_Assign2' target=\"_blank\">https://wandb.ai/ishita49-indian-institute-of-technology-madras/DA6401_Assign2</a><br>Synced 5 W&B file(s), 0 media file(s), 0 artifact file(s) and 0 other file(s)"
      ],
      "text/plain": [
       "<IPython.core.display.HTML object>"
      ]
     },
     "metadata": {},
     "output_type": "display_data"
    },
    {
     "data": {
      "text/html": [
       "Find logs at: <code>./wandb/run-20250412_110416-f3n1nmv9/logs</code>"
      ],
      "text/plain": [
       "<IPython.core.display.HTML object>"
      ]
     },
     "metadata": {},
     "output_type": "display_data"
    },
    {
     "name": "stderr",
     "output_type": "stream",
     "text": [
      "\u001b[34m\u001b[1mwandb\u001b[0m: Agent Starting Run: h2d9vc3e with config:\n",
      "\u001b[34m\u001b[1mwandb\u001b[0m: \tactivation_func: relu\n",
      "\u001b[34m\u001b[1mwandb\u001b[0m: \tbatch_normalisation: True\n",
      "\u001b[34m\u001b[1mwandb\u001b[0m: \tbatch_size: 32\n",
      "\u001b[34m\u001b[1mwandb\u001b[0m: \tdata_augmentation: No\n",
      "\u001b[34m\u001b[1mwandb\u001b[0m: \tdropout_rate: 0.20426922413644705\n",
      "\u001b[34m\u001b[1mwandb\u001b[0m: \tfilter_org: 1\n",
      "\u001b[34m\u001b[1mwandb\u001b[0m: \tlearning_rate: 0.0032148335356218384\n",
      "\u001b[34m\u001b[1mwandb\u001b[0m: \tnum_dense: 256\n",
      "\u001b[34m\u001b[1mwandb\u001b[0m: \tnum_filters: 64\n",
      "\u001b[34m\u001b[1mwandb\u001b[0m: \toptimizer: momentum\n",
      "\u001b[34m\u001b[1mwandb\u001b[0m: \tsize_filters: 3\n",
      "\u001b[34m\u001b[1mwandb\u001b[0m: \u001b[33mWARNING\u001b[0m If you're specifying your api key in code, ensure this code is not shared publicly.\n",
      "\u001b[34m\u001b[1mwandb\u001b[0m: \u001b[33mWARNING\u001b[0m Consider setting the WANDB_API_KEY environment variable, or running `wandb login` from the command line.\n",
      "\u001b[34m\u001b[1mwandb\u001b[0m: Appending key for api.wandb.ai to your netrc file: /root/.netrc\n"
     ]
    },
    {
     "data": {
      "text/html": [
       "Tracking run with wandb version 0.19.6"
      ],
      "text/plain": [
       "<IPython.core.display.HTML object>"
      ]
     },
     "metadata": {},
     "output_type": "display_data"
    },
    {
     "data": {
      "text/html": [
       "Run data is saved locally in <code>/kaggle/working/wandb/run-20250412_112347-h2d9vc3e</code>"
      ],
      "text/plain": [
       "<IPython.core.display.HTML object>"
      ]
     },
     "metadata": {},
     "output_type": "display_data"
    },
    {
     "data": {
      "text/html": [
       "Syncing run <strong><a href='https://wandb.ai/ishita49-indian-institute-of-technology-madras/DA6401_Assign2/runs/h2d9vc3e' target=\"_blank\">fluent-sweep-5</a></strong> to <a href='https://wandb.ai/ishita49-indian-institute-of-technology-madras/DA6401_Assign2' target=\"_blank\">Weights & Biases</a> (<a href='https://wandb.me/developer-guide' target=\"_blank\">docs</a>)<br>Sweep page: <a href='https://wandb.ai/ishita49-indian-institute-of-technology-madras/DA6401_Assign2/sweeps/ix36j15i' target=\"_blank\">https://wandb.ai/ishita49-indian-institute-of-technology-madras/DA6401_Assign2/sweeps/ix36j15i</a>"
      ],
      "text/plain": [
       "<IPython.core.display.HTML object>"
      ]
     },
     "metadata": {},
     "output_type": "display_data"
    },
    {
     "data": {
      "text/html": [
       " View project at <a href='https://wandb.ai/ishita49-indian-institute-of-technology-madras/DA6401_Assign2' target=\"_blank\">https://wandb.ai/ishita49-indian-institute-of-technology-madras/DA6401_Assign2</a>"
      ],
      "text/plain": [
       "<IPython.core.display.HTML object>"
      ]
     },
     "metadata": {},
     "output_type": "display_data"
    },
    {
     "data": {
      "text/html": [
       " View sweep at <a href='https://wandb.ai/ishita49-indian-institute-of-technology-madras/DA6401_Assign2/sweeps/ix36j15i' target=\"_blank\">https://wandb.ai/ishita49-indian-institute-of-technology-madras/DA6401_Assign2/sweeps/ix36j15i</a>"
      ],
      "text/plain": [
       "<IPython.core.display.HTML object>"
      ]
     },
     "metadata": {},
     "output_type": "display_data"
    },
    {
     "data": {
      "text/html": [
       " View run at <a href='https://wandb.ai/ishita49-indian-institute-of-technology-madras/DA6401_Assign2/runs/h2d9vc3e' target=\"_blank\">https://wandb.ai/ishita49-indian-institute-of-technology-madras/DA6401_Assign2/runs/h2d9vc3e</a>"
      ],
      "text/plain": [
       "<IPython.core.display.HTML object>"
      ]
     },
     "metadata": {},
     "output_type": "display_data"
    },
    {
     "name": "stdout",
     "output_type": "stream",
     "text": [
      "Using 2 GPUs\n",
      "training...\n",
      "Epoch [1/20], Loss: 2.1656\n",
      "Epoch [2/20], Loss: 2.0946\n",
      "Epoch [3/20], Loss: 2.0527\n",
      "Epoch [4/20], Loss: 2.0173\n",
      "Epoch [5/20], Loss: 1.9845\n",
      "Epoch [6/20], Loss: 1.9659\n",
      "Epoch [7/20], Loss: 1.9407\n",
      "Epoch [8/20], Loss: 1.9200\n",
      "Epoch [9/20], Loss: 1.9023\n",
      "Epoch [10/20], Loss: 1.8778\n",
      "Epoch [11/20], Loss: 1.8733\n",
      "Epoch [12/20], Loss: 1.8597\n",
      "Epoch [13/20], Loss: 1.8314\n",
      "Epoch [14/20], Loss: 1.8144\n",
      "Epoch [15/20], Loss: 1.8057\n",
      "Epoch [16/20], Loss: 1.7779\n",
      "Epoch [17/20], Loss: 1.7773\n",
      "Epoch [18/20], Loss: 1.7700\n",
      "Epoch [19/20], Loss: 1.7503\n",
      "Epoch [20/20], Loss: 1.7391\n",
      "Validation Accuracy: 40.40%\n"
     ]
    },
    {
     "data": {
      "text/html": [],
      "text/plain": [
       "<IPython.core.display.HTML object>"
      ]
     },
     "metadata": {},
     "output_type": "display_data"
    },
    {
     "data": {
      "text/html": [
       "<br>    <style><br>        .wandb-row {<br>            display: flex;<br>            flex-direction: row;<br>            flex-wrap: wrap;<br>            justify-content: flex-start;<br>            width: 100%;<br>        }<br>        .wandb-col {<br>            display: flex;<br>            flex-direction: column;<br>            flex-basis: 100%;<br>            flex: 1;<br>            padding: 10px;<br>        }<br>    </style><br><div class=\"wandb-row\"><div class=\"wandb-col\"><h3>Run history:</h3><br/><table class=\"wandb\"><tr><td>epoch</td><td>▁▁▂▂▂▃▃▄▄▄▅▅▅▆▆▇▇▇██</td></tr><tr><td>train_loss</td><td>█▇▆▆▅▅▄▄▄▃▃▃▃▂▂▂▂▂▁▁</td></tr><tr><td>val_accuracy</td><td>▁</td></tr></table><br/></div><div class=\"wandb-col\"><h3>Run summary:</h3><br/><table class=\"wandb\"><tr><td>epoch</td><td>20</td></tr><tr><td>train_loss</td><td>1.73912</td></tr><tr><td>val_accuracy</td><td>40.4</td></tr></table><br/></div></div>"
      ],
      "text/plain": [
       "<IPython.core.display.HTML object>"
      ]
     },
     "metadata": {},
     "output_type": "display_data"
    },
    {
     "data": {
      "text/html": [
       " View run <strong style=\"color:#cdcd00\">fluent-sweep-5</strong> at: <a href='https://wandb.ai/ishita49-indian-institute-of-technology-madras/DA6401_Assign2/runs/h2d9vc3e' target=\"_blank\">https://wandb.ai/ishita49-indian-institute-of-technology-madras/DA6401_Assign2/runs/h2d9vc3e</a><br> View project at: <a href='https://wandb.ai/ishita49-indian-institute-of-technology-madras/DA6401_Assign2' target=\"_blank\">https://wandb.ai/ishita49-indian-institute-of-technology-madras/DA6401_Assign2</a><br>Synced 5 W&B file(s), 0 media file(s), 0 artifact file(s) and 0 other file(s)"
      ],
      "text/plain": [
       "<IPython.core.display.HTML object>"
      ]
     },
     "metadata": {},
     "output_type": "display_data"
    },
    {
     "data": {
      "text/html": [
       "Find logs at: <code>./wandb/run-20250412_112347-h2d9vc3e/logs</code>"
      ],
      "text/plain": [
       "<IPython.core.display.HTML object>"
      ]
     },
     "metadata": {},
     "output_type": "display_data"
    },
    {
     "name": "stderr",
     "output_type": "stream",
     "text": [
      "\u001b[34m\u001b[1mwandb\u001b[0m: Agent Starting Run: zipo9n21 with config:\n",
      "\u001b[34m\u001b[1mwandb\u001b[0m: \tactivation_func: relu\n",
      "\u001b[34m\u001b[1mwandb\u001b[0m: \tbatch_normalisation: True\n",
      "\u001b[34m\u001b[1mwandb\u001b[0m: \tbatch_size: 32\n",
      "\u001b[34m\u001b[1mwandb\u001b[0m: \tdata_augmentation: No\n",
      "\u001b[34m\u001b[1mwandb\u001b[0m: \tdropout_rate: 0.25978507486281127\n",
      "\u001b[34m\u001b[1mwandb\u001b[0m: \tfilter_org: 0.5\n",
      "\u001b[34m\u001b[1mwandb\u001b[0m: \tlearning_rate: 0.005047088144068402\n",
      "\u001b[34m\u001b[1mwandb\u001b[0m: \tnum_dense: 512\n",
      "\u001b[34m\u001b[1mwandb\u001b[0m: \tnum_filters: 64\n",
      "\u001b[34m\u001b[1mwandb\u001b[0m: \toptimizer: momentum\n",
      "\u001b[34m\u001b[1mwandb\u001b[0m: \tsize_filters: 5\n",
      "\u001b[34m\u001b[1mwandb\u001b[0m: \u001b[33mWARNING\u001b[0m If you're specifying your api key in code, ensure this code is not shared publicly.\n",
      "\u001b[34m\u001b[1mwandb\u001b[0m: \u001b[33mWARNING\u001b[0m Consider setting the WANDB_API_KEY environment variable, or running `wandb login` from the command line.\n",
      "\u001b[34m\u001b[1mwandb\u001b[0m: Appending key for api.wandb.ai to your netrc file: /root/.netrc\n"
     ]
    },
    {
     "data": {
      "text/html": [
       "Tracking run with wandb version 0.19.6"
      ],
      "text/plain": [
       "<IPython.core.display.HTML object>"
      ]
     },
     "metadata": {},
     "output_type": "display_data"
    },
    {
     "data": {
      "text/html": [
       "Run data is saved locally in <code>/kaggle/working/wandb/run-20250412_114223-zipo9n21</code>"
      ],
      "text/plain": [
       "<IPython.core.display.HTML object>"
      ]
     },
     "metadata": {},
     "output_type": "display_data"
    },
    {
     "data": {
      "text/html": [
       "Syncing run <strong><a href='https://wandb.ai/ishita49-indian-institute-of-technology-madras/DA6401_Assign2/runs/zipo9n21' target=\"_blank\">brisk-sweep-6</a></strong> to <a href='https://wandb.ai/ishita49-indian-institute-of-technology-madras/DA6401_Assign2' target=\"_blank\">Weights & Biases</a> (<a href='https://wandb.me/developer-guide' target=\"_blank\">docs</a>)<br>Sweep page: <a href='https://wandb.ai/ishita49-indian-institute-of-technology-madras/DA6401_Assign2/sweeps/ix36j15i' target=\"_blank\">https://wandb.ai/ishita49-indian-institute-of-technology-madras/DA6401_Assign2/sweeps/ix36j15i</a>"
      ],
      "text/plain": [
       "<IPython.core.display.HTML object>"
      ]
     },
     "metadata": {},
     "output_type": "display_data"
    },
    {
     "data": {
      "text/html": [
       " View project at <a href='https://wandb.ai/ishita49-indian-institute-of-technology-madras/DA6401_Assign2' target=\"_blank\">https://wandb.ai/ishita49-indian-institute-of-technology-madras/DA6401_Assign2</a>"
      ],
      "text/plain": [
       "<IPython.core.display.HTML object>"
      ]
     },
     "metadata": {},
     "output_type": "display_data"
    },
    {
     "data": {
      "text/html": [
       " View sweep at <a href='https://wandb.ai/ishita49-indian-institute-of-technology-madras/DA6401_Assign2/sweeps/ix36j15i' target=\"_blank\">https://wandb.ai/ishita49-indian-institute-of-technology-madras/DA6401_Assign2/sweeps/ix36j15i</a>"
      ],
      "text/plain": [
       "<IPython.core.display.HTML object>"
      ]
     },
     "metadata": {},
     "output_type": "display_data"
    },
    {
     "data": {
      "text/html": [
       " View run at <a href='https://wandb.ai/ishita49-indian-institute-of-technology-madras/DA6401_Assign2/runs/zipo9n21' target=\"_blank\">https://wandb.ai/ishita49-indian-institute-of-technology-madras/DA6401_Assign2/runs/zipo9n21</a>"
      ],
      "text/plain": [
       "<IPython.core.display.HTML object>"
      ]
     },
     "metadata": {},
     "output_type": "display_data"
    },
    {
     "name": "stdout",
     "output_type": "stream",
     "text": [
      "Using 2 GPUs\n",
      "training...\n",
      "Epoch [1/20], Loss: 2.4048\n",
      "Epoch [2/20], Loss: 2.3516\n",
      "Epoch [3/20], Loss: 2.3327\n",
      "Epoch [4/20], Loss: 2.3085\n",
      "Epoch [5/20], Loss: 2.2776\n",
      "Epoch [6/20], Loss: 2.2431\n",
      "Epoch [7/20], Loss: 2.2293\n",
      "Epoch [8/20], Loss: 2.2241\n",
      "Epoch [9/20], Loss: 2.2102\n",
      "Epoch [10/20], Loss: 2.1845\n",
      "Epoch [11/20], Loss: 2.1994\n",
      "Epoch [12/20], Loss: 2.1685\n",
      "Epoch [13/20], Loss: 2.1511\n",
      "Epoch [14/20], Loss: 2.1467\n",
      "Epoch [15/20], Loss: 2.1453\n",
      "Epoch [16/20], Loss: 2.1160\n",
      "Epoch [17/20], Loss: 2.1129\n",
      "Epoch [18/20], Loss: 2.1063\n",
      "Epoch [19/20], Loss: 2.1043\n",
      "Epoch [20/20], Loss: 2.0808\n",
      "Validation Accuracy: 27.25%\n"
     ]
    },
    {
     "data": {
      "text/html": [],
      "text/plain": [
       "<IPython.core.display.HTML object>"
      ]
     },
     "metadata": {},
     "output_type": "display_data"
    },
    {
     "data": {
      "text/html": [
       "<br>    <style><br>        .wandb-row {<br>            display: flex;<br>            flex-direction: row;<br>            flex-wrap: wrap;<br>            justify-content: flex-start;<br>            width: 100%;<br>        }<br>        .wandb-col {<br>            display: flex;<br>            flex-direction: column;<br>            flex-basis: 100%;<br>            flex: 1;<br>            padding: 10px;<br>        }<br>    </style><br><div class=\"wandb-row\"><div class=\"wandb-col\"><h3>Run history:</h3><br/><table class=\"wandb\"><tr><td>epoch</td><td>▁▁▂▂▂▃▃▄▄▄▅▅▅▆▆▇▇▇██</td></tr><tr><td>train_loss</td><td>█▇▆▆▅▅▄▄▄▃▄▃▃▂▂▂▂▂▂▁</td></tr><tr><td>val_accuracy</td><td>▁</td></tr></table><br/></div><div class=\"wandb-col\"><h3>Run summary:</h3><br/><table class=\"wandb\"><tr><td>epoch</td><td>20</td></tr><tr><td>train_loss</td><td>2.08077</td></tr><tr><td>val_accuracy</td><td>27.25</td></tr></table><br/></div></div>"
      ],
      "text/plain": [
       "<IPython.core.display.HTML object>"
      ]
     },
     "metadata": {},
     "output_type": "display_data"
    },
    {
     "data": {
      "text/html": [
       " View run <strong style=\"color:#cdcd00\">brisk-sweep-6</strong> at: <a href='https://wandb.ai/ishita49-indian-institute-of-technology-madras/DA6401_Assign2/runs/zipo9n21' target=\"_blank\">https://wandb.ai/ishita49-indian-institute-of-technology-madras/DA6401_Assign2/runs/zipo9n21</a><br> View project at: <a href='https://wandb.ai/ishita49-indian-institute-of-technology-madras/DA6401_Assign2' target=\"_blank\">https://wandb.ai/ishita49-indian-institute-of-technology-madras/DA6401_Assign2</a><br>Synced 5 W&B file(s), 0 media file(s), 0 artifact file(s) and 0 other file(s)"
      ],
      "text/plain": [
       "<IPython.core.display.HTML object>"
      ]
     },
     "metadata": {},
     "output_type": "display_data"
    },
    {
     "data": {
      "text/html": [
       "Find logs at: <code>./wandb/run-20250412_114223-zipo9n21/logs</code>"
      ],
      "text/plain": [
       "<IPython.core.display.HTML object>"
      ]
     },
     "metadata": {},
     "output_type": "display_data"
    },
    {
     "name": "stderr",
     "output_type": "stream",
     "text": [
      "\u001b[34m\u001b[1mwandb\u001b[0m: Agent Starting Run: e1b5azny with config:\n",
      "\u001b[34m\u001b[1mwandb\u001b[0m: \tactivation_func: relu\n",
      "\u001b[34m\u001b[1mwandb\u001b[0m: \tbatch_normalisation: True\n",
      "\u001b[34m\u001b[1mwandb\u001b[0m: \tbatch_size: 64\n",
      "\u001b[34m\u001b[1mwandb\u001b[0m: \tdata_augmentation: No\n",
      "\u001b[34m\u001b[1mwandb\u001b[0m: \tdropout_rate: 0.26378748126021895\n",
      "\u001b[34m\u001b[1mwandb\u001b[0m: \tfilter_org: 1\n",
      "\u001b[34m\u001b[1mwandb\u001b[0m: \tlearning_rate: 0.005511567380761828\n",
      "\u001b[34m\u001b[1mwandb\u001b[0m: \tnum_dense: 256\n",
      "\u001b[34m\u001b[1mwandb\u001b[0m: \tnum_filters: 64\n",
      "\u001b[34m\u001b[1mwandb\u001b[0m: \toptimizer: adam\n",
      "\u001b[34m\u001b[1mwandb\u001b[0m: \tsize_filters: 5\n",
      "\u001b[34m\u001b[1mwandb\u001b[0m: \u001b[33mWARNING\u001b[0m If you're specifying your api key in code, ensure this code is not shared publicly.\n",
      "\u001b[34m\u001b[1mwandb\u001b[0m: \u001b[33mWARNING\u001b[0m Consider setting the WANDB_API_KEY environment variable, or running `wandb login` from the command line.\n",
      "\u001b[34m\u001b[1mwandb\u001b[0m: Appending key for api.wandb.ai to your netrc file: /root/.netrc\n"
     ]
    },
    {
     "data": {
      "text/html": [
       "Tracking run with wandb version 0.19.6"
      ],
      "text/plain": [
       "<IPython.core.display.HTML object>"
      ]
     },
     "metadata": {},
     "output_type": "display_data"
    },
    {
     "data": {
      "text/html": [
       "Run data is saved locally in <code>/kaggle/working/wandb/run-20250412_120104-e1b5azny</code>"
      ],
      "text/plain": [
       "<IPython.core.display.HTML object>"
      ]
     },
     "metadata": {},
     "output_type": "display_data"
    },
    {
     "data": {
      "text/html": [
       "Syncing run <strong><a href='https://wandb.ai/ishita49-indian-institute-of-technology-madras/DA6401_Assign2/runs/e1b5azny' target=\"_blank\">graceful-sweep-7</a></strong> to <a href='https://wandb.ai/ishita49-indian-institute-of-technology-madras/DA6401_Assign2' target=\"_blank\">Weights & Biases</a> (<a href='https://wandb.me/developer-guide' target=\"_blank\">docs</a>)<br>Sweep page: <a href='https://wandb.ai/ishita49-indian-institute-of-technology-madras/DA6401_Assign2/sweeps/ix36j15i' target=\"_blank\">https://wandb.ai/ishita49-indian-institute-of-technology-madras/DA6401_Assign2/sweeps/ix36j15i</a>"
      ],
      "text/plain": [
       "<IPython.core.display.HTML object>"
      ]
     },
     "metadata": {},
     "output_type": "display_data"
    },
    {
     "data": {
      "text/html": [
       " View project at <a href='https://wandb.ai/ishita49-indian-institute-of-technology-madras/DA6401_Assign2' target=\"_blank\">https://wandb.ai/ishita49-indian-institute-of-technology-madras/DA6401_Assign2</a>"
      ],
      "text/plain": [
       "<IPython.core.display.HTML object>"
      ]
     },
     "metadata": {},
     "output_type": "display_data"
    },
    {
     "data": {
      "text/html": [
       " View sweep at <a href='https://wandb.ai/ishita49-indian-institute-of-technology-madras/DA6401_Assign2/sweeps/ix36j15i' target=\"_blank\">https://wandb.ai/ishita49-indian-institute-of-technology-madras/DA6401_Assign2/sweeps/ix36j15i</a>"
      ],
      "text/plain": [
       "<IPython.core.display.HTML object>"
      ]
     },
     "metadata": {},
     "output_type": "display_data"
    },
    {
     "data": {
      "text/html": [
       " View run at <a href='https://wandb.ai/ishita49-indian-institute-of-technology-madras/DA6401_Assign2/runs/e1b5azny' target=\"_blank\">https://wandb.ai/ishita49-indian-institute-of-technology-madras/DA6401_Assign2/runs/e1b5azny</a>"
      ],
      "text/plain": [
       "<IPython.core.display.HTML object>"
      ]
     },
     "metadata": {},
     "output_type": "display_data"
    },
    {
     "name": "stdout",
     "output_type": "stream",
     "text": [
      "Using 2 GPUs\n",
      "training...\n",
      "Epoch [1/20], Loss: 2.2607\n",
      "Epoch [2/20], Loss: 2.1804\n",
      "Epoch [3/20], Loss: 2.1557\n",
      "Epoch [4/20], Loss: 2.1587\n",
      "Epoch [5/20], Loss: 2.1473\n",
      "Epoch [6/20], Loss: 2.1370\n",
      "Epoch [7/20], Loss: 2.1340\n",
      "Epoch [8/20], Loss: 2.1292\n",
      "Epoch [9/20], Loss: 2.1211\n",
      "Epoch [10/20], Loss: 2.1174\n",
      "Epoch [11/20], Loss: 2.1111\n",
      "Epoch [12/20], Loss: 2.1119\n",
      "Epoch [13/20], Loss: 2.1019\n",
      "Epoch [14/20], Loss: 2.0905\n",
      "Epoch [15/20], Loss: 2.0861\n",
      "Epoch [16/20], Loss: 2.0916\n",
      "Epoch [17/20], Loss: 2.0830\n",
      "Epoch [18/20], Loss: 2.0730\n",
      "Epoch [19/20], Loss: 2.0691\n",
      "Epoch [20/20], Loss: 2.0585\n",
      "Validation Accuracy: 16.85%\n"
     ]
    },
    {
     "data": {
      "text/html": [],
      "text/plain": [
       "<IPython.core.display.HTML object>"
      ]
     },
     "metadata": {},
     "output_type": "display_data"
    },
    {
     "data": {
      "text/html": [
       "<br>    <style><br>        .wandb-row {<br>            display: flex;<br>            flex-direction: row;<br>            flex-wrap: wrap;<br>            justify-content: flex-start;<br>            width: 100%;<br>        }<br>        .wandb-col {<br>            display: flex;<br>            flex-direction: column;<br>            flex-basis: 100%;<br>            flex: 1;<br>            padding: 10px;<br>        }<br>    </style><br><div class=\"wandb-row\"><div class=\"wandb-col\"><h3>Run history:</h3><br/><table class=\"wandb\"><tr><td>epoch</td><td>▁▁▂▂▂▃▃▄▄▄▅▅▅▆▆▇▇▇██</td></tr><tr><td>train_loss</td><td>█▅▄▄▄▄▄▃▃▃▃▃▃▂▂▂▂▂▁▁</td></tr><tr><td>val_accuracy</td><td>▁</td></tr></table><br/></div><div class=\"wandb-col\"><h3>Run summary:</h3><br/><table class=\"wandb\"><tr><td>epoch</td><td>20</td></tr><tr><td>train_loss</td><td>2.05847</td></tr><tr><td>val_accuracy</td><td>16.85</td></tr></table><br/></div></div>"
      ],
      "text/plain": [
       "<IPython.core.display.HTML object>"
      ]
     },
     "metadata": {},
     "output_type": "display_data"
    },
    {
     "data": {
      "text/html": [
       " View run <strong style=\"color:#cdcd00\">graceful-sweep-7</strong> at: <a href='https://wandb.ai/ishita49-indian-institute-of-technology-madras/DA6401_Assign2/runs/e1b5azny' target=\"_blank\">https://wandb.ai/ishita49-indian-institute-of-technology-madras/DA6401_Assign2/runs/e1b5azny</a><br> View project at: <a href='https://wandb.ai/ishita49-indian-institute-of-technology-madras/DA6401_Assign2' target=\"_blank\">https://wandb.ai/ishita49-indian-institute-of-technology-madras/DA6401_Assign2</a><br>Synced 5 W&B file(s), 0 media file(s), 0 artifact file(s) and 0 other file(s)"
      ],
      "text/plain": [
       "<IPython.core.display.HTML object>"
      ]
     },
     "metadata": {},
     "output_type": "display_data"
    },
    {
     "data": {
      "text/html": [
       "Find logs at: <code>./wandb/run-20250412_120104-e1b5azny/logs</code>"
      ],
      "text/plain": [
       "<IPython.core.display.HTML object>"
      ]
     },
     "metadata": {},
     "output_type": "display_data"
    },
    {
     "name": "stderr",
     "output_type": "stream",
     "text": [
      "\u001b[34m\u001b[1mwandb\u001b[0m: Agent Starting Run: jmhysli3 with config:\n",
      "\u001b[34m\u001b[1mwandb\u001b[0m: \tactivation_func: relu\n",
      "\u001b[34m\u001b[1mwandb\u001b[0m: \tbatch_normalisation: False\n",
      "\u001b[34m\u001b[1mwandb\u001b[0m: \tbatch_size: 32\n",
      "\u001b[34m\u001b[1mwandb\u001b[0m: \tdata_augmentation: No\n",
      "\u001b[34m\u001b[1mwandb\u001b[0m: \tdropout_rate: 0.242369924495452\n",
      "\u001b[34m\u001b[1mwandb\u001b[0m: \tfilter_org: 0.5\n",
      "\u001b[34m\u001b[1mwandb\u001b[0m: \tlearning_rate: 0.0036570727274454454\n",
      "\u001b[34m\u001b[1mwandb\u001b[0m: \tnum_dense: 512\n",
      "\u001b[34m\u001b[1mwandb\u001b[0m: \tnum_filters: 64\n",
      "\u001b[34m\u001b[1mwandb\u001b[0m: \toptimizer: adam\n",
      "\u001b[34m\u001b[1mwandb\u001b[0m: \tsize_filters: 3\n",
      "\u001b[34m\u001b[1mwandb\u001b[0m: \u001b[33mWARNING\u001b[0m If you're specifying your api key in code, ensure this code is not shared publicly.\n",
      "\u001b[34m\u001b[1mwandb\u001b[0m: \u001b[33mWARNING\u001b[0m Consider setting the WANDB_API_KEY environment variable, or running `wandb login` from the command line.\n",
      "\u001b[34m\u001b[1mwandb\u001b[0m: Appending key for api.wandb.ai to your netrc file: /root/.netrc\n"
     ]
    },
    {
     "data": {
      "text/html": [
       "Tracking run with wandb version 0.19.6"
      ],
      "text/plain": [
       "<IPython.core.display.HTML object>"
      ]
     },
     "metadata": {},
     "output_type": "display_data"
    },
    {
     "data": {
      "text/html": [
       "Run data is saved locally in <code>/kaggle/working/wandb/run-20250412_121950-jmhysli3</code>"
      ],
      "text/plain": [
       "<IPython.core.display.HTML object>"
      ]
     },
     "metadata": {},
     "output_type": "display_data"
    },
    {
     "data": {
      "text/html": [
       "Syncing run <strong><a href='https://wandb.ai/ishita49-indian-institute-of-technology-madras/DA6401_Assign2/runs/jmhysli3' target=\"_blank\">electric-sweep-8</a></strong> to <a href='https://wandb.ai/ishita49-indian-institute-of-technology-madras/DA6401_Assign2' target=\"_blank\">Weights & Biases</a> (<a href='https://wandb.me/developer-guide' target=\"_blank\">docs</a>)<br>Sweep page: <a href='https://wandb.ai/ishita49-indian-institute-of-technology-madras/DA6401_Assign2/sweeps/ix36j15i' target=\"_blank\">https://wandb.ai/ishita49-indian-institute-of-technology-madras/DA6401_Assign2/sweeps/ix36j15i</a>"
      ],
      "text/plain": [
       "<IPython.core.display.HTML object>"
      ]
     },
     "metadata": {},
     "output_type": "display_data"
    },
    {
     "data": {
      "text/html": [
       " View project at <a href='https://wandb.ai/ishita49-indian-institute-of-technology-madras/DA6401_Assign2' target=\"_blank\">https://wandb.ai/ishita49-indian-institute-of-technology-madras/DA6401_Assign2</a>"
      ],
      "text/plain": [
       "<IPython.core.display.HTML object>"
      ]
     },
     "metadata": {},
     "output_type": "display_data"
    },
    {
     "data": {
      "text/html": [
       " View sweep at <a href='https://wandb.ai/ishita49-indian-institute-of-technology-madras/DA6401_Assign2/sweeps/ix36j15i' target=\"_blank\">https://wandb.ai/ishita49-indian-institute-of-technology-madras/DA6401_Assign2/sweeps/ix36j15i</a>"
      ],
      "text/plain": [
       "<IPython.core.display.HTML object>"
      ]
     },
     "metadata": {},
     "output_type": "display_data"
    },
    {
     "data": {
      "text/html": [
       " View run at <a href='https://wandb.ai/ishita49-indian-institute-of-technology-madras/DA6401_Assign2/runs/jmhysli3' target=\"_blank\">https://wandb.ai/ishita49-indian-institute-of-technology-madras/DA6401_Assign2/runs/jmhysli3</a>"
      ],
      "text/plain": [
       "<IPython.core.display.HTML object>"
      ]
     },
     "metadata": {},
     "output_type": "display_data"
    },
    {
     "name": "stdout",
     "output_type": "stream",
     "text": [
      "Using 2 GPUs\n",
      "training...\n",
      "Epoch [1/20], Loss: 2.3173\n",
      "Epoch [2/20], Loss: 2.3050\n",
      "Epoch [3/20], Loss: 2.3035\n",
      "Epoch [4/20], Loss: 2.3039\n",
      "Epoch [5/20], Loss: 2.3035\n",
      "Epoch [6/20], Loss: 2.3034\n",
      "Epoch [7/20], Loss: 2.3033\n",
      "Epoch [8/20], Loss: 2.3039\n",
      "Epoch [9/20], Loss: 2.3037\n",
      "Epoch [10/20], Loss: 2.3036\n",
      "Epoch [11/20], Loss: 2.3036\n",
      "Epoch [12/20], Loss: 2.3035\n",
      "Epoch [13/20], Loss: 2.3036\n",
      "Epoch [14/20], Loss: 2.3036\n",
      "Epoch [15/20], Loss: 2.3037\n",
      "Epoch [16/20], Loss: 2.3035\n",
      "Epoch [17/20], Loss: 2.3034\n",
      "Epoch [18/20], Loss: 2.3033\n",
      "Epoch [19/20], Loss: 2.3038\n",
      "Epoch [20/20], Loss: 2.3033\n",
      "Validation Accuracy: 10.00%\n"
     ]
    },
    {
     "data": {
      "text/html": [],
      "text/plain": [
       "<IPython.core.display.HTML object>"
      ]
     },
     "metadata": {},
     "output_type": "display_data"
    },
    {
     "data": {
      "text/html": [
       "<br>    <style><br>        .wandb-row {<br>            display: flex;<br>            flex-direction: row;<br>            flex-wrap: wrap;<br>            justify-content: flex-start;<br>            width: 100%;<br>        }<br>        .wandb-col {<br>            display: flex;<br>            flex-direction: column;<br>            flex-basis: 100%;<br>            flex: 1;<br>            padding: 10px;<br>        }<br>    </style><br><div class=\"wandb-row\"><div class=\"wandb-col\"><h3>Run history:</h3><br/><table class=\"wandb\"><tr><td>epoch</td><td>▁▁▂▂▂▃▃▄▄▄▅▅▅▆▆▇▇▇██</td></tr><tr><td>train_loss</td><td>█▂▁▁▁▁▁▁▁▁▁▁▁▁▁▁▁▁▁▁</td></tr><tr><td>val_accuracy</td><td>▁</td></tr></table><br/></div><div class=\"wandb-col\"><h3>Run summary:</h3><br/><table class=\"wandb\"><tr><td>epoch</td><td>20</td></tr><tr><td>train_loss</td><td>2.30329</td></tr><tr><td>val_accuracy</td><td>10</td></tr></table><br/></div></div>"
      ],
      "text/plain": [
       "<IPython.core.display.HTML object>"
      ]
     },
     "metadata": {},
     "output_type": "display_data"
    },
    {
     "data": {
      "text/html": [
       " View run <strong style=\"color:#cdcd00\">electric-sweep-8</strong> at: <a href='https://wandb.ai/ishita49-indian-institute-of-technology-madras/DA6401_Assign2/runs/jmhysli3' target=\"_blank\">https://wandb.ai/ishita49-indian-institute-of-technology-madras/DA6401_Assign2/runs/jmhysli3</a><br> View project at: <a href='https://wandb.ai/ishita49-indian-institute-of-technology-madras/DA6401_Assign2' target=\"_blank\">https://wandb.ai/ishita49-indian-institute-of-technology-madras/DA6401_Assign2</a><br>Synced 5 W&B file(s), 0 media file(s), 0 artifact file(s) and 0 other file(s)"
      ],
      "text/plain": [
       "<IPython.core.display.HTML object>"
      ]
     },
     "metadata": {},
     "output_type": "display_data"
    },
    {
     "data": {
      "text/html": [
       "Find logs at: <code>./wandb/run-20250412_121950-jmhysli3/logs</code>"
      ],
      "text/plain": [
       "<IPython.core.display.HTML object>"
      ]
     },
     "metadata": {},
     "output_type": "display_data"
    },
    {
     "name": "stderr",
     "output_type": "stream",
     "text": [
      "\u001b[34m\u001b[1mwandb\u001b[0m: Agent Starting Run: cj5zrocr with config:\n",
      "\u001b[34m\u001b[1mwandb\u001b[0m: \tactivation_func: mish\n",
      "\u001b[34m\u001b[1mwandb\u001b[0m: \tbatch_normalisation: True\n",
      "\u001b[34m\u001b[1mwandb\u001b[0m: \tbatch_size: 16\n",
      "\u001b[34m\u001b[1mwandb\u001b[0m: \tdata_augmentation: Yes\n",
      "\u001b[34m\u001b[1mwandb\u001b[0m: \tdropout_rate: 0.23042799886901727\n",
      "\u001b[34m\u001b[1mwandb\u001b[0m: \tfilter_org: 2\n",
      "\u001b[34m\u001b[1mwandb\u001b[0m: \tlearning_rate: 0.00156486451523688\n",
      "\u001b[34m\u001b[1mwandb\u001b[0m: \tnum_dense: 256\n",
      "\u001b[34m\u001b[1mwandb\u001b[0m: \tnum_filters: 64\n",
      "\u001b[34m\u001b[1mwandb\u001b[0m: \toptimizer: sgd\n",
      "\u001b[34m\u001b[1mwandb\u001b[0m: \tsize_filters: 10\n",
      "\u001b[34m\u001b[1mwandb\u001b[0m: \u001b[33mWARNING\u001b[0m If you're specifying your api key in code, ensure this code is not shared publicly.\n",
      "\u001b[34m\u001b[1mwandb\u001b[0m: \u001b[33mWARNING\u001b[0m Consider setting the WANDB_API_KEY environment variable, or running `wandb login` from the command line.\n",
      "\u001b[34m\u001b[1mwandb\u001b[0m: Appending key for api.wandb.ai to your netrc file: /root/.netrc\n"
     ]
    },
    {
     "data": {
      "text/html": [
       "Tracking run with wandb version 0.19.6"
      ],
      "text/plain": [
       "<IPython.core.display.HTML object>"
      ]
     },
     "metadata": {},
     "output_type": "display_data"
    },
    {
     "data": {
      "text/html": [
       "Run data is saved locally in <code>/kaggle/working/wandb/run-20250412_123741-cj5zrocr</code>"
      ],
      "text/plain": [
       "<IPython.core.display.HTML object>"
      ]
     },
     "metadata": {},
     "output_type": "display_data"
    },
    {
     "data": {
      "text/html": [
       "Syncing run <strong><a href='https://wandb.ai/ishita49-indian-institute-of-technology-madras/DA6401_Assign2/runs/cj5zrocr' target=\"_blank\">faithful-sweep-9</a></strong> to <a href='https://wandb.ai/ishita49-indian-institute-of-technology-madras/DA6401_Assign2' target=\"_blank\">Weights & Biases</a> (<a href='https://wandb.me/developer-guide' target=\"_blank\">docs</a>)<br>Sweep page: <a href='https://wandb.ai/ishita49-indian-institute-of-technology-madras/DA6401_Assign2/sweeps/ix36j15i' target=\"_blank\">https://wandb.ai/ishita49-indian-institute-of-technology-madras/DA6401_Assign2/sweeps/ix36j15i</a>"
      ],
      "text/plain": [
       "<IPython.core.display.HTML object>"
      ]
     },
     "metadata": {},
     "output_type": "display_data"
    },
    {
     "data": {
      "text/html": [
       " View project at <a href='https://wandb.ai/ishita49-indian-institute-of-technology-madras/DA6401_Assign2' target=\"_blank\">https://wandb.ai/ishita49-indian-institute-of-technology-madras/DA6401_Assign2</a>"
      ],
      "text/plain": [
       "<IPython.core.display.HTML object>"
      ]
     },
     "metadata": {},
     "output_type": "display_data"
    },
    {
     "data": {
      "text/html": [
       " View sweep at <a href='https://wandb.ai/ishita49-indian-institute-of-technology-madras/DA6401_Assign2/sweeps/ix36j15i' target=\"_blank\">https://wandb.ai/ishita49-indian-institute-of-technology-madras/DA6401_Assign2/sweeps/ix36j15i</a>"
      ],
      "text/plain": [
       "<IPython.core.display.HTML object>"
      ]
     },
     "metadata": {},
     "output_type": "display_data"
    },
    {
     "data": {
      "text/html": [
       " View run at <a href='https://wandb.ai/ishita49-indian-institute-of-technology-madras/DA6401_Assign2/runs/cj5zrocr' target=\"_blank\">https://wandb.ai/ishita49-indian-institute-of-technology-madras/DA6401_Assign2/runs/cj5zrocr</a>"
      ],
      "text/plain": [
       "<IPython.core.display.HTML object>"
      ]
     },
     "metadata": {},
     "output_type": "display_data"
    },
    {
     "name": "stdout",
     "output_type": "stream",
     "text": [
      "Using 2 GPUs\n",
      "training...\n",
      "Epoch [1/20], Loss: 2.2806\n",
      "Epoch [2/20], Loss: 2.2251\n",
      "Epoch [3/20], Loss: 2.1903\n",
      "Epoch [4/20], Loss: 2.1680\n",
      "Epoch [5/20], Loss: 2.1527\n",
      "Epoch [6/20], Loss: 2.1230\n",
      "Epoch [7/20], Loss: 2.1272\n",
      "Epoch [8/20], Loss: 2.0920\n",
      "Epoch [9/20], Loss: 2.0945\n",
      "Epoch [10/20], Loss: 2.0858\n",
      "Epoch [11/20], Loss: 2.0665\n",
      "Epoch [12/20], Loss: 2.0676\n",
      "Epoch [13/20], Loss: 2.0559\n",
      "Epoch [14/20], Loss: 2.0533\n",
      "Epoch [15/20], Loss: 2.0454\n",
      "Epoch [16/20], Loss: 2.0335\n",
      "Epoch [17/20], Loss: 2.0204\n",
      "Epoch [18/20], Loss: 2.0214\n",
      "Epoch [19/20], Loss: 2.0079\n",
      "Epoch [20/20], Loss: 2.0105\n",
      "Validation Accuracy: 32.65%\n"
     ]
    },
    {
     "data": {
      "text/html": [],
      "text/plain": [
       "<IPython.core.display.HTML object>"
      ]
     },
     "metadata": {},
     "output_type": "display_data"
    },
    {
     "data": {
      "text/html": [
       "<br>    <style><br>        .wandb-row {<br>            display: flex;<br>            flex-direction: row;<br>            flex-wrap: wrap;<br>            justify-content: flex-start;<br>            width: 100%;<br>        }<br>        .wandb-col {<br>            display: flex;<br>            flex-direction: column;<br>            flex-basis: 100%;<br>            flex: 1;<br>            padding: 10px;<br>        }<br>    </style><br><div class=\"wandb-row\"><div class=\"wandb-col\"><h3>Run history:</h3><br/><table class=\"wandb\"><tr><td>epoch</td><td>▁▁▂▂▂▃▃▄▄▄▅▅▅▆▆▇▇▇██</td></tr><tr><td>train_loss</td><td>█▇▆▅▅▄▄▃▃▃▃▃▂▂▂▂▁▁▁▁</td></tr><tr><td>val_accuracy</td><td>▁</td></tr></table><br/></div><div class=\"wandb-col\"><h3>Run summary:</h3><br/><table class=\"wandb\"><tr><td>epoch</td><td>20</td></tr><tr><td>train_loss</td><td>2.01054</td></tr><tr><td>val_accuracy</td><td>32.65</td></tr></table><br/></div></div>"
      ],
      "text/plain": [
       "<IPython.core.display.HTML object>"
      ]
     },
     "metadata": {},
     "output_type": "display_data"
    },
    {
     "data": {
      "text/html": [
       " View run <strong style=\"color:#cdcd00\">faithful-sweep-9</strong> at: <a href='https://wandb.ai/ishita49-indian-institute-of-technology-madras/DA6401_Assign2/runs/cj5zrocr' target=\"_blank\">https://wandb.ai/ishita49-indian-institute-of-technology-madras/DA6401_Assign2/runs/cj5zrocr</a><br> View project at: <a href='https://wandb.ai/ishita49-indian-institute-of-technology-madras/DA6401_Assign2' target=\"_blank\">https://wandb.ai/ishita49-indian-institute-of-technology-madras/DA6401_Assign2</a><br>Synced 5 W&B file(s), 0 media file(s), 0 artifact file(s) and 0 other file(s)"
      ],
      "text/plain": [
       "<IPython.core.display.HTML object>"
      ]
     },
     "metadata": {},
     "output_type": "display_data"
    },
    {
     "data": {
      "text/html": [
       "Find logs at: <code>./wandb/run-20250412_123741-cj5zrocr/logs</code>"
      ],
      "text/plain": [
       "<IPython.core.display.HTML object>"
      ]
     },
     "metadata": {},
     "output_type": "display_data"
    },
    {
     "name": "stderr",
     "output_type": "stream",
     "text": [
      "\u001b[34m\u001b[1mwandb\u001b[0m: Agent Starting Run: qla68qjr with config:\n",
      "\u001b[34m\u001b[1mwandb\u001b[0m: \tactivation_func: silu\n",
      "\u001b[34m\u001b[1mwandb\u001b[0m: \tbatch_normalisation: True\n",
      "\u001b[34m\u001b[1mwandb\u001b[0m: \tbatch_size: 16\n",
      "\u001b[34m\u001b[1mwandb\u001b[0m: \tdata_augmentation: Yes\n",
      "\u001b[34m\u001b[1mwandb\u001b[0m: \tdropout_rate: 0.21312552047282088\n",
      "\u001b[34m\u001b[1mwandb\u001b[0m: \tfilter_org: 0.5\n",
      "\u001b[34m\u001b[1mwandb\u001b[0m: \tlearning_rate: 0.008467516558951343\n",
      "\u001b[34m\u001b[1mwandb\u001b[0m: \tnum_dense: 128\n",
      "\u001b[34m\u001b[1mwandb\u001b[0m: \tnum_filters: 64\n",
      "\u001b[34m\u001b[1mwandb\u001b[0m: \toptimizer: sgd\n",
      "\u001b[34m\u001b[1mwandb\u001b[0m: \tsize_filters: 3\n",
      "\u001b[34m\u001b[1mwandb\u001b[0m: \u001b[33mWARNING\u001b[0m If you're specifying your api key in code, ensure this code is not shared publicly.\n",
      "\u001b[34m\u001b[1mwandb\u001b[0m: \u001b[33mWARNING\u001b[0m Consider setting the WANDB_API_KEY environment variable, or running `wandb login` from the command line.\n",
      "\u001b[34m\u001b[1mwandb\u001b[0m: Appending key for api.wandb.ai to your netrc file: /root/.netrc\n"
     ]
    },
    {
     "data": {
      "text/html": [
       "Tracking run with wandb version 0.19.6"
      ],
      "text/plain": [
       "<IPython.core.display.HTML object>"
      ]
     },
     "metadata": {},
     "output_type": "display_data"
    },
    {
     "data": {
      "text/html": [
       "Run data is saved locally in <code>/kaggle/working/wandb/run-20250412_144342-qla68qjr</code>"
      ],
      "text/plain": [
       "<IPython.core.display.HTML object>"
      ]
     },
     "metadata": {},
     "output_type": "display_data"
    },
    {
     "data": {
      "text/html": [
       "Syncing run <strong><a href='https://wandb.ai/ishita49-indian-institute-of-technology-madras/DA6401_Assign2/runs/qla68qjr' target=\"_blank\">wandering-sweep-10</a></strong> to <a href='https://wandb.ai/ishita49-indian-institute-of-technology-madras/DA6401_Assign2' target=\"_blank\">Weights & Biases</a> (<a href='https://wandb.me/developer-guide' target=\"_blank\">docs</a>)<br>Sweep page: <a href='https://wandb.ai/ishita49-indian-institute-of-technology-madras/DA6401_Assign2/sweeps/ix36j15i' target=\"_blank\">https://wandb.ai/ishita49-indian-institute-of-technology-madras/DA6401_Assign2/sweeps/ix36j15i</a>"
      ],
      "text/plain": [
       "<IPython.core.display.HTML object>"
      ]
     },
     "metadata": {},
     "output_type": "display_data"
    },
    {
     "data": {
      "text/html": [
       " View project at <a href='https://wandb.ai/ishita49-indian-institute-of-technology-madras/DA6401_Assign2' target=\"_blank\">https://wandb.ai/ishita49-indian-institute-of-technology-madras/DA6401_Assign2</a>"
      ],
      "text/plain": [
       "<IPython.core.display.HTML object>"
      ]
     },
     "metadata": {},
     "output_type": "display_data"
    },
    {
     "data": {
      "text/html": [
       " View sweep at <a href='https://wandb.ai/ishita49-indian-institute-of-technology-madras/DA6401_Assign2/sweeps/ix36j15i' target=\"_blank\">https://wandb.ai/ishita49-indian-institute-of-technology-madras/DA6401_Assign2/sweeps/ix36j15i</a>"
      ],
      "text/plain": [
       "<IPython.core.display.HTML object>"
      ]
     },
     "metadata": {},
     "output_type": "display_data"
    },
    {
     "data": {
      "text/html": [
       " View run at <a href='https://wandb.ai/ishita49-indian-institute-of-technology-madras/DA6401_Assign2/runs/qla68qjr' target=\"_blank\">https://wandb.ai/ishita49-indian-institute-of-technology-madras/DA6401_Assign2/runs/qla68qjr</a>"
      ],
      "text/plain": [
       "<IPython.core.display.HTML object>"
      ]
     },
     "metadata": {},
     "output_type": "display_data"
    },
    {
     "name": "stdout",
     "output_type": "stream",
     "text": [
      "Using 2 GPUs\n",
      "training...\n",
      "Epoch [1/20], Loss: 2.2832\n",
      "Epoch [2/20], Loss: 2.2357\n",
      "Epoch [3/20], Loss: 2.2061\n",
      "Epoch [4/20], Loss: 2.1972\n",
      "Epoch [5/20], Loss: 2.1856\n",
      "Epoch [6/20], Loss: 2.1673\n",
      "Epoch [7/20], Loss: 2.1580\n",
      "Epoch [8/20], Loss: 2.1472\n",
      "Epoch [9/20], Loss: 2.1445\n",
      "Epoch [10/20], Loss: 2.1346\n",
      "Epoch [11/20], Loss: 2.1264\n",
      "Epoch [12/20], Loss: 2.1197\n",
      "Epoch [13/20], Loss: 2.1131\n",
      "Epoch [14/20], Loss: 2.1107\n",
      "Epoch [15/20], Loss: 2.1039\n",
      "Epoch [16/20], Loss: 2.1004\n",
      "Epoch [17/20], Loss: 2.0980\n",
      "Epoch [18/20], Loss: 2.1020\n",
      "Epoch [19/20], Loss: 2.0954\n",
      "Epoch [20/20], Loss: 2.0942\n",
      "Validation Accuracy: 25.60%\n"
     ]
    },
    {
     "data": {
      "text/html": [],
      "text/plain": [
       "<IPython.core.display.HTML object>"
      ]
     },
     "metadata": {},
     "output_type": "display_data"
    },
    {
     "data": {
      "text/html": [
       "<br>    <style><br>        .wandb-row {<br>            display: flex;<br>            flex-direction: row;<br>            flex-wrap: wrap;<br>            justify-content: flex-start;<br>            width: 100%;<br>        }<br>        .wandb-col {<br>            display: flex;<br>            flex-direction: column;<br>            flex-basis: 100%;<br>            flex: 1;<br>            padding: 10px;<br>        }<br>    </style><br><div class=\"wandb-row\"><div class=\"wandb-col\"><h3>Run history:</h3><br/><table class=\"wandb\"><tr><td>epoch</td><td>▁▁▂▂▂▃▃▄▄▄▅▅▅▆▆▇▇▇██</td></tr><tr><td>train_loss</td><td>█▆▅▅▄▄▃▃▃▂▂▂▂▂▁▁▁▁▁▁</td></tr><tr><td>val_accuracy</td><td>▁</td></tr></table><br/></div><div class=\"wandb-col\"><h3>Run summary:</h3><br/><table class=\"wandb\"><tr><td>epoch</td><td>20</td></tr><tr><td>train_loss</td><td>2.09417</td></tr><tr><td>val_accuracy</td><td>25.6</td></tr></table><br/></div></div>"
      ],
      "text/plain": [
       "<IPython.core.display.HTML object>"
      ]
     },
     "metadata": {},
     "output_type": "display_data"
    },
    {
     "data": {
      "text/html": [
       " View run <strong style=\"color:#cdcd00\">wandering-sweep-10</strong> at: <a href='https://wandb.ai/ishita49-indian-institute-of-technology-madras/DA6401_Assign2/runs/qla68qjr' target=\"_blank\">https://wandb.ai/ishita49-indian-institute-of-technology-madras/DA6401_Assign2/runs/qla68qjr</a><br> View project at: <a href='https://wandb.ai/ishita49-indian-institute-of-technology-madras/DA6401_Assign2' target=\"_blank\">https://wandb.ai/ishita49-indian-institute-of-technology-madras/DA6401_Assign2</a><br>Synced 5 W&B file(s), 0 media file(s), 0 artifact file(s) and 0 other file(s)"
      ],
      "text/plain": [
       "<IPython.core.display.HTML object>"
      ]
     },
     "metadata": {},
     "output_type": "display_data"
    },
    {
     "data": {
      "text/html": [
       "Find logs at: <code>./wandb/run-20250412_144342-qla68qjr/logs</code>"
      ],
      "text/plain": [
       "<IPython.core.display.HTML object>"
      ]
     },
     "metadata": {},
     "output_type": "display_data"
    },
    {
     "name": "stderr",
     "output_type": "stream",
     "text": [
      "\u001b[34m\u001b[1mwandb\u001b[0m: Agent Starting Run: 438otjax with config:\n",
      "\u001b[34m\u001b[1mwandb\u001b[0m: \tactivation_func: gelu\n",
      "\u001b[34m\u001b[1mwandb\u001b[0m: \tbatch_normalisation: False\n",
      "\u001b[34m\u001b[1mwandb\u001b[0m: \tbatch_size: 16\n",
      "\u001b[34m\u001b[1mwandb\u001b[0m: \tdata_augmentation: Yes\n",
      "\u001b[34m\u001b[1mwandb\u001b[0m: \tdropout_rate: 0.35205461538591354\n",
      "\u001b[34m\u001b[1mwandb\u001b[0m: \tfilter_org: 0.5\n",
      "\u001b[34m\u001b[1mwandb\u001b[0m: \tlearning_rate: 0.00986006059170082\n",
      "\u001b[34m\u001b[1mwandb\u001b[0m: \tnum_dense: 128\n",
      "\u001b[34m\u001b[1mwandb\u001b[0m: \tnum_filters: 64\n",
      "\u001b[34m\u001b[1mwandb\u001b[0m: \toptimizer: adam\n",
      "\u001b[34m\u001b[1mwandb\u001b[0m: \tsize_filters: 3\n",
      "\u001b[34m\u001b[1mwandb\u001b[0m: \u001b[33mWARNING\u001b[0m If you're specifying your api key in code, ensure this code is not shared publicly.\n",
      "\u001b[34m\u001b[1mwandb\u001b[0m: \u001b[33mWARNING\u001b[0m Consider setting the WANDB_API_KEY environment variable, or running `wandb login` from the command line.\n",
      "\u001b[34m\u001b[1mwandb\u001b[0m: Appending key for api.wandb.ai to your netrc file: /root/.netrc\n"
     ]
    },
    {
     "data": {
      "text/html": [
       "Tracking run with wandb version 0.19.6"
      ],
      "text/plain": [
       "<IPython.core.display.HTML object>"
      ]
     },
     "metadata": {},
     "output_type": "display_data"
    },
    {
     "data": {
      "text/html": [
       "Run data is saved locally in <code>/kaggle/working/wandb/run-20250412_151131-438otjax</code>"
      ],
      "text/plain": [
       "<IPython.core.display.HTML object>"
      ]
     },
     "metadata": {},
     "output_type": "display_data"
    },
    {
     "data": {
      "text/html": [
       "Syncing run <strong><a href='https://wandb.ai/ishita49-indian-institute-of-technology-madras/DA6401_Assign2/runs/438otjax' target=\"_blank\">curious-sweep-11</a></strong> to <a href='https://wandb.ai/ishita49-indian-institute-of-technology-madras/DA6401_Assign2' target=\"_blank\">Weights & Biases</a> (<a href='https://wandb.me/developer-guide' target=\"_blank\">docs</a>)<br>Sweep page: <a href='https://wandb.ai/ishita49-indian-institute-of-technology-madras/DA6401_Assign2/sweeps/ix36j15i' target=\"_blank\">https://wandb.ai/ishita49-indian-institute-of-technology-madras/DA6401_Assign2/sweeps/ix36j15i</a>"
      ],
      "text/plain": [
       "<IPython.core.display.HTML object>"
      ]
     },
     "metadata": {},
     "output_type": "display_data"
    },
    {
     "data": {
      "text/html": [
       " View project at <a href='https://wandb.ai/ishita49-indian-institute-of-technology-madras/DA6401_Assign2' target=\"_blank\">https://wandb.ai/ishita49-indian-institute-of-technology-madras/DA6401_Assign2</a>"
      ],
      "text/plain": [
       "<IPython.core.display.HTML object>"
      ]
     },
     "metadata": {},
     "output_type": "display_data"
    },
    {
     "data": {
      "text/html": [
       " View sweep at <a href='https://wandb.ai/ishita49-indian-institute-of-technology-madras/DA6401_Assign2/sweeps/ix36j15i' target=\"_blank\">https://wandb.ai/ishita49-indian-institute-of-technology-madras/DA6401_Assign2/sweeps/ix36j15i</a>"
      ],
      "text/plain": [
       "<IPython.core.display.HTML object>"
      ]
     },
     "metadata": {},
     "output_type": "display_data"
    },
    {
     "data": {
      "text/html": [
       " View run at <a href='https://wandb.ai/ishita49-indian-institute-of-technology-madras/DA6401_Assign2/runs/438otjax' target=\"_blank\">https://wandb.ai/ishita49-indian-institute-of-technology-madras/DA6401_Assign2/runs/438otjax</a>"
      ],
      "text/plain": [
       "<IPython.core.display.HTML object>"
      ]
     },
     "metadata": {},
     "output_type": "display_data"
    },
    {
     "name": "stdout",
     "output_type": "stream",
     "text": [
      "Using 2 GPUs\n",
      "training...\n",
      "Epoch [1/20], Loss: 2.3092\n",
      "Epoch [2/20], Loss: 2.3059\n",
      "Epoch [3/20], Loss: 2.3058\n",
      "Epoch [4/20], Loss: 2.3063\n",
      "Epoch [5/20], Loss: 2.3062\n",
      "Epoch [6/20], Loss: 2.3062\n",
      "Epoch [7/20], Loss: 2.3054\n",
      "Epoch [8/20], Loss: 2.3062\n",
      "Epoch [9/20], Loss: 2.3078\n",
      "Epoch [10/20], Loss: 2.3060\n",
      "Epoch [11/20], Loss: 2.3049\n",
      "Epoch [12/20], Loss: 2.3055\n",
      "Epoch [13/20], Loss: 2.3063\n",
      "Epoch [14/20], Loss: 2.3060\n",
      "Epoch [15/20], Loss: 2.3067\n",
      "Epoch [16/20], Loss: 2.3063\n",
      "Epoch [17/20], Loss: 2.3068\n",
      "Epoch [18/20], Loss: 2.3063\n",
      "Epoch [19/20], Loss: 2.3057\n",
      "Epoch [20/20], Loss: 2.3067\n",
      "Validation Accuracy: 10.00%\n"
     ]
    },
    {
     "data": {
      "text/html": [],
      "text/plain": [
       "<IPython.core.display.HTML object>"
      ]
     },
     "metadata": {},
     "output_type": "display_data"
    },
    {
     "data": {
      "text/html": [
       "<br>    <style><br>        .wandb-row {<br>            display: flex;<br>            flex-direction: row;<br>            flex-wrap: wrap;<br>            justify-content: flex-start;<br>            width: 100%;<br>        }<br>        .wandb-col {<br>            display: flex;<br>            flex-direction: column;<br>            flex-basis: 100%;<br>            flex: 1;<br>            padding: 10px;<br>        }<br>    </style><br><div class=\"wandb-row\"><div class=\"wandb-col\"><h3>Run history:</h3><br/><table class=\"wandb\"><tr><td>epoch</td><td>▁▁▂▂▂▃▃▄▄▄▅▅▅▆▆▇▇▇██</td></tr><tr><td>train_loss</td><td>█▃▃▃▃▃▂▃▆▃▁▂▃▃▄▃▄▃▂▄</td></tr><tr><td>val_accuracy</td><td>▁</td></tr></table><br/></div><div class=\"wandb-col\"><h3>Run summary:</h3><br/><table class=\"wandb\"><tr><td>epoch</td><td>20</td></tr><tr><td>train_loss</td><td>2.30675</td></tr><tr><td>val_accuracy</td><td>10</td></tr></table><br/></div></div>"
      ],
      "text/plain": [
       "<IPython.core.display.HTML object>"
      ]
     },
     "metadata": {},
     "output_type": "display_data"
    },
    {
     "data": {
      "text/html": [
       " View run <strong style=\"color:#cdcd00\">curious-sweep-11</strong> at: <a href='https://wandb.ai/ishita49-indian-institute-of-technology-madras/DA6401_Assign2/runs/438otjax' target=\"_blank\">https://wandb.ai/ishita49-indian-institute-of-technology-madras/DA6401_Assign2/runs/438otjax</a><br> View project at: <a href='https://wandb.ai/ishita49-indian-institute-of-technology-madras/DA6401_Assign2' target=\"_blank\">https://wandb.ai/ishita49-indian-institute-of-technology-madras/DA6401_Assign2</a><br>Synced 5 W&B file(s), 0 media file(s), 0 artifact file(s) and 0 other file(s)"
      ],
      "text/plain": [
       "<IPython.core.display.HTML object>"
      ]
     },
     "metadata": {},
     "output_type": "display_data"
    },
    {
     "data": {
      "text/html": [
       "Find logs at: <code>./wandb/run-20250412_151131-438otjax/logs</code>"
      ],
      "text/plain": [
       "<IPython.core.display.HTML object>"
      ]
     },
     "metadata": {},
     "output_type": "display_data"
    },
    {
     "name": "stderr",
     "output_type": "stream",
     "text": [
      "\u001b[34m\u001b[1mwandb\u001b[0m: Agent Starting Run: z9lmg83k with config:\n",
      "\u001b[34m\u001b[1mwandb\u001b[0m: \tactivation_func: relu\n",
      "\u001b[34m\u001b[1mwandb\u001b[0m: \tbatch_normalisation: True\n",
      "\u001b[34m\u001b[1mwandb\u001b[0m: \tbatch_size: 64\n",
      "\u001b[34m\u001b[1mwandb\u001b[0m: \tdata_augmentation: No\n",
      "\u001b[34m\u001b[1mwandb\u001b[0m: \tdropout_rate: 0.4632738373554474\n",
      "\u001b[34m\u001b[1mwandb\u001b[0m: \tfilter_org: 1\n",
      "\u001b[34m\u001b[1mwandb\u001b[0m: \tlearning_rate: 0.00030918754208210446\n",
      "\u001b[34m\u001b[1mwandb\u001b[0m: \tnum_dense: 128\n",
      "\u001b[34m\u001b[1mwandb\u001b[0m: \tnum_filters: 64\n",
      "\u001b[34m\u001b[1mwandb\u001b[0m: \toptimizer: adam\n",
      "\u001b[34m\u001b[1mwandb\u001b[0m: \tsize_filters: 5\n",
      "\u001b[34m\u001b[1mwandb\u001b[0m: \u001b[33mWARNING\u001b[0m If you're specifying your api key in code, ensure this code is not shared publicly.\n",
      "\u001b[34m\u001b[1mwandb\u001b[0m: \u001b[33mWARNING\u001b[0m Consider setting the WANDB_API_KEY environment variable, or running `wandb login` from the command line.\n",
      "\u001b[34m\u001b[1mwandb\u001b[0m: Appending key for api.wandb.ai to your netrc file: /root/.netrc\n"
     ]
    },
    {
     "data": {
      "text/html": [
       "Tracking run with wandb version 0.19.6"
      ],
      "text/plain": [
       "<IPython.core.display.HTML object>"
      ]
     },
     "metadata": {},
     "output_type": "display_data"
    },
    {
     "data": {
      "text/html": [
       "Run data is saved locally in <code>/kaggle/working/wandb/run-20250412_153845-z9lmg83k</code>"
      ],
      "text/plain": [
       "<IPython.core.display.HTML object>"
      ]
     },
     "metadata": {},
     "output_type": "display_data"
    },
    {
     "data": {
      "text/html": [
       "Syncing run <strong><a href='https://wandb.ai/ishita49-indian-institute-of-technology-madras/DA6401_Assign2/runs/z9lmg83k' target=\"_blank\">stellar-sweep-12</a></strong> to <a href='https://wandb.ai/ishita49-indian-institute-of-technology-madras/DA6401_Assign2' target=\"_blank\">Weights & Biases</a> (<a href='https://wandb.me/developer-guide' target=\"_blank\">docs</a>)<br>Sweep page: <a href='https://wandb.ai/ishita49-indian-institute-of-technology-madras/DA6401_Assign2/sweeps/ix36j15i' target=\"_blank\">https://wandb.ai/ishita49-indian-institute-of-technology-madras/DA6401_Assign2/sweeps/ix36j15i</a>"
      ],
      "text/plain": [
       "<IPython.core.display.HTML object>"
      ]
     },
     "metadata": {},
     "output_type": "display_data"
    },
    {
     "data": {
      "text/html": [
       " View project at <a href='https://wandb.ai/ishita49-indian-institute-of-technology-madras/DA6401_Assign2' target=\"_blank\">https://wandb.ai/ishita49-indian-institute-of-technology-madras/DA6401_Assign2</a>"
      ],
      "text/plain": [
       "<IPython.core.display.HTML object>"
      ]
     },
     "metadata": {},
     "output_type": "display_data"
    },
    {
     "data": {
      "text/html": [
       " View sweep at <a href='https://wandb.ai/ishita49-indian-institute-of-technology-madras/DA6401_Assign2/sweeps/ix36j15i' target=\"_blank\">https://wandb.ai/ishita49-indian-institute-of-technology-madras/DA6401_Assign2/sweeps/ix36j15i</a>"
      ],
      "text/plain": [
       "<IPython.core.display.HTML object>"
      ]
     },
     "metadata": {},
     "output_type": "display_data"
    },
    {
     "data": {
      "text/html": [
       " View run at <a href='https://wandb.ai/ishita49-indian-institute-of-technology-madras/DA6401_Assign2/runs/z9lmg83k' target=\"_blank\">https://wandb.ai/ishita49-indian-institute-of-technology-madras/DA6401_Assign2/runs/z9lmg83k</a>"
      ],
      "text/plain": [
       "<IPython.core.display.HTML object>"
      ]
     },
     "metadata": {},
     "output_type": "display_data"
    },
    {
     "name": "stdout",
     "output_type": "stream",
     "text": [
      "Using 2 GPUs\n",
      "training...\n",
      "Epoch [1/20], Loss: 2.2779\n",
      "Epoch [2/20], Loss: 2.1587\n",
      "Epoch [3/20], Loss: 2.1172\n",
      "Epoch [4/20], Loss: 2.0770\n",
      "Epoch [5/20], Loss: 2.0601\n",
      "Epoch [6/20], Loss: 2.0269\n",
      "Epoch [7/20], Loss: 1.9880\n",
      "Epoch [8/20], Loss: 1.9635\n",
      "Epoch [9/20], Loss: 1.9324\n",
      "Epoch [10/20], Loss: 1.9235\n",
      "Epoch [11/20], Loss: 1.8939\n",
      "Epoch [12/20], Loss: 1.8688\n",
      "Epoch [13/20], Loss: 1.8439\n",
      "Epoch [14/20], Loss: 1.8248\n",
      "Epoch [15/20], Loss: 1.8113\n",
      "Epoch [16/20], Loss: 1.7767\n",
      "Epoch [17/20], Loss: 1.7919\n",
      "Epoch [18/20], Loss: 1.7500\n",
      "Epoch [19/20], Loss: 1.7324\n",
      "Epoch [20/20], Loss: 1.7131\n",
      "Validation Accuracy: 34.45%\n"
     ]
    },
    {
     "data": {
      "text/html": [],
      "text/plain": [
       "<IPython.core.display.HTML object>"
      ]
     },
     "metadata": {},
     "output_type": "display_data"
    },
    {
     "data": {
      "text/html": [
       "<br>    <style><br>        .wandb-row {<br>            display: flex;<br>            flex-direction: row;<br>            flex-wrap: wrap;<br>            justify-content: flex-start;<br>            width: 100%;<br>        }<br>        .wandb-col {<br>            display: flex;<br>            flex-direction: column;<br>            flex-basis: 100%;<br>            flex: 1;<br>            padding: 10px;<br>        }<br>    </style><br><div class=\"wandb-row\"><div class=\"wandb-col\"><h3>Run history:</h3><br/><table class=\"wandb\"><tr><td>epoch</td><td>▁▁▂▂▂▃▃▄▄▄▅▅▅▆▆▇▇▇██</td></tr><tr><td>train_loss</td><td>█▇▆▆▅▅▄▄▄▄▃▃▃▂▂▂▂▁▁▁</td></tr><tr><td>val_accuracy</td><td>▁</td></tr></table><br/></div><div class=\"wandb-col\"><h3>Run summary:</h3><br/><table class=\"wandb\"><tr><td>epoch</td><td>20</td></tr><tr><td>train_loss</td><td>1.71312</td></tr><tr><td>val_accuracy</td><td>34.45</td></tr></table><br/></div></div>"
      ],
      "text/plain": [
       "<IPython.core.display.HTML object>"
      ]
     },
     "metadata": {},
     "output_type": "display_data"
    },
    {
     "data": {
      "text/html": [
       " View run <strong style=\"color:#cdcd00\">stellar-sweep-12</strong> at: <a href='https://wandb.ai/ishita49-indian-institute-of-technology-madras/DA6401_Assign2/runs/z9lmg83k' target=\"_blank\">https://wandb.ai/ishita49-indian-institute-of-technology-madras/DA6401_Assign2/runs/z9lmg83k</a><br> View project at: <a href='https://wandb.ai/ishita49-indian-institute-of-technology-madras/DA6401_Assign2' target=\"_blank\">https://wandb.ai/ishita49-indian-institute-of-technology-madras/DA6401_Assign2</a><br>Synced 5 W&B file(s), 0 media file(s), 0 artifact file(s) and 0 other file(s)"
      ],
      "text/plain": [
       "<IPython.core.display.HTML object>"
      ]
     },
     "metadata": {},
     "output_type": "display_data"
    },
    {
     "data": {
      "text/html": [
       "Find logs at: <code>./wandb/run-20250412_153845-z9lmg83k/logs</code>"
      ],
      "text/plain": [
       "<IPython.core.display.HTML object>"
      ]
     },
     "metadata": {},
     "output_type": "display_data"
    },
    {
     "name": "stderr",
     "output_type": "stream",
     "text": [
      "\u001b[34m\u001b[1mwandb\u001b[0m: Agent Starting Run: ox54zz2w with config:\n",
      "\u001b[34m\u001b[1mwandb\u001b[0m: \tactivation_func: relu\n",
      "\u001b[34m\u001b[1mwandb\u001b[0m: \tbatch_normalisation: True\n",
      "\u001b[34m\u001b[1mwandb\u001b[0m: \tbatch_size: 64\n",
      "\u001b[34m\u001b[1mwandb\u001b[0m: \tdata_augmentation: Yes\n",
      "\u001b[34m\u001b[1mwandb\u001b[0m: \tdropout_rate: 0.42054165318595166\n",
      "\u001b[34m\u001b[1mwandb\u001b[0m: \tfilter_org: 0.5\n",
      "\u001b[34m\u001b[1mwandb\u001b[0m: \tlearning_rate: 0.00391845461543014\n",
      "\u001b[34m\u001b[1mwandb\u001b[0m: \tnum_dense: 512\n",
      "\u001b[34m\u001b[1mwandb\u001b[0m: \tnum_filters: 64\n",
      "\u001b[34m\u001b[1mwandb\u001b[0m: \toptimizer: momentum\n",
      "\u001b[34m\u001b[1mwandb\u001b[0m: \tsize_filters: 3\n",
      "\u001b[34m\u001b[1mwandb\u001b[0m: \u001b[33mWARNING\u001b[0m If you're specifying your api key in code, ensure this code is not shared publicly.\n",
      "\u001b[34m\u001b[1mwandb\u001b[0m: \u001b[33mWARNING\u001b[0m Consider setting the WANDB_API_KEY environment variable, or running `wandb login` from the command line.\n",
      "\u001b[34m\u001b[1mwandb\u001b[0m: Appending key for api.wandb.ai to your netrc file: /root/.netrc\n"
     ]
    },
    {
     "data": {
      "text/html": [
       "Tracking run with wandb version 0.19.6"
      ],
      "text/plain": [
       "<IPython.core.display.HTML object>"
      ]
     },
     "metadata": {},
     "output_type": "display_data"
    },
    {
     "data": {
      "text/html": [
       "Run data is saved locally in <code>/kaggle/working/wandb/run-20250412_155658-ox54zz2w</code>"
      ],
      "text/plain": [
       "<IPython.core.display.HTML object>"
      ]
     },
     "metadata": {},
     "output_type": "display_data"
    },
    {
     "data": {
      "text/html": [
       "Syncing run <strong><a href='https://wandb.ai/ishita49-indian-institute-of-technology-madras/DA6401_Assign2/runs/ox54zz2w' target=\"_blank\">driven-sweep-13</a></strong> to <a href='https://wandb.ai/ishita49-indian-institute-of-technology-madras/DA6401_Assign2' target=\"_blank\">Weights & Biases</a> (<a href='https://wandb.me/developer-guide' target=\"_blank\">docs</a>)<br>Sweep page: <a href='https://wandb.ai/ishita49-indian-institute-of-technology-madras/DA6401_Assign2/sweeps/ix36j15i' target=\"_blank\">https://wandb.ai/ishita49-indian-institute-of-technology-madras/DA6401_Assign2/sweeps/ix36j15i</a>"
      ],
      "text/plain": [
       "<IPython.core.display.HTML object>"
      ]
     },
     "metadata": {},
     "output_type": "display_data"
    },
    {
     "data": {
      "text/html": [
       " View project at <a href='https://wandb.ai/ishita49-indian-institute-of-technology-madras/DA6401_Assign2' target=\"_blank\">https://wandb.ai/ishita49-indian-institute-of-technology-madras/DA6401_Assign2</a>"
      ],
      "text/plain": [
       "<IPython.core.display.HTML object>"
      ]
     },
     "metadata": {},
     "output_type": "display_data"
    },
    {
     "data": {
      "text/html": [
       " View sweep at <a href='https://wandb.ai/ishita49-indian-institute-of-technology-madras/DA6401_Assign2/sweeps/ix36j15i' target=\"_blank\">https://wandb.ai/ishita49-indian-institute-of-technology-madras/DA6401_Assign2/sweeps/ix36j15i</a>"
      ],
      "text/plain": [
       "<IPython.core.display.HTML object>"
      ]
     },
     "metadata": {},
     "output_type": "display_data"
    },
    {
     "data": {
      "text/html": [
       " View run at <a href='https://wandb.ai/ishita49-indian-institute-of-technology-madras/DA6401_Assign2/runs/ox54zz2w' target=\"_blank\">https://wandb.ai/ishita49-indian-institute-of-technology-madras/DA6401_Assign2/runs/ox54zz2w</a>"
      ],
      "text/plain": [
       "<IPython.core.display.HTML object>"
      ]
     },
     "metadata": {},
     "output_type": "display_data"
    },
    {
     "name": "stdout",
     "output_type": "stream",
     "text": [
      "Using 2 GPUs\n",
      "training...\n",
      "Epoch [1/20], Loss: 2.3669\n",
      "Epoch [2/20], Loss: 2.3086\n",
      "Epoch [3/20], Loss: 2.2970\n",
      "Epoch [4/20], Loss: 2.2691\n",
      "Epoch [5/20], Loss: 2.2753\n",
      "Epoch [6/20], Loss: 2.2649\n",
      "Epoch [7/20], Loss: 2.2589\n",
      "Epoch [8/20], Loss: 2.2408\n",
      "Epoch [9/20], Loss: 2.2435\n",
      "Epoch [10/20], Loss: 2.2181\n",
      "Epoch [11/20], Loss: 2.2305\n",
      "Epoch [12/20], Loss: 2.2175\n",
      "Epoch [13/20], Loss: 2.2028\n",
      "Epoch [14/20], Loss: 2.2085\n",
      "Epoch [15/20], Loss: 2.1772\n",
      "Epoch [16/20], Loss: 2.1981\n",
      "Epoch [17/20], Loss: 2.1781\n",
      "Epoch [18/20], Loss: 2.1656\n",
      "Epoch [19/20], Loss: 2.1526\n",
      "Epoch [20/20], Loss: 2.1569\n",
      "Validation Accuracy: 25.20%\n"
     ]
    },
    {
     "data": {
      "text/html": [],
      "text/plain": [
       "<IPython.core.display.HTML object>"
      ]
     },
     "metadata": {},
     "output_type": "display_data"
    },
    {
     "data": {
      "text/html": [
       "<br>    <style><br>        .wandb-row {<br>            display: flex;<br>            flex-direction: row;<br>            flex-wrap: wrap;<br>            justify-content: flex-start;<br>            width: 100%;<br>        }<br>        .wandb-col {<br>            display: flex;<br>            flex-direction: column;<br>            flex-basis: 100%;<br>            flex: 1;<br>            padding: 10px;<br>        }<br>    </style><br><div class=\"wandb-row\"><div class=\"wandb-col\"><h3>Run history:</h3><br/><table class=\"wandb\"><tr><td>epoch</td><td>▁▁▂▂▂▃▃▄▄▄▅▅▅▆▆▇▇▇██</td></tr><tr><td>train_loss</td><td>█▆▆▅▅▅▄▄▄▃▄▃▃▃▂▂▂▁▁▁</td></tr><tr><td>val_accuracy</td><td>▁</td></tr></table><br/></div><div class=\"wandb-col\"><h3>Run summary:</h3><br/><table class=\"wandb\"><tr><td>epoch</td><td>20</td></tr><tr><td>train_loss</td><td>2.1569</td></tr><tr><td>val_accuracy</td><td>25.2</td></tr></table><br/></div></div>"
      ],
      "text/plain": [
       "<IPython.core.display.HTML object>"
      ]
     },
     "metadata": {},
     "output_type": "display_data"
    },
    {
     "data": {
      "text/html": [
       " View run <strong style=\"color:#cdcd00\">driven-sweep-13</strong> at: <a href='https://wandb.ai/ishita49-indian-institute-of-technology-madras/DA6401_Assign2/runs/ox54zz2w' target=\"_blank\">https://wandb.ai/ishita49-indian-institute-of-technology-madras/DA6401_Assign2/runs/ox54zz2w</a><br> View project at: <a href='https://wandb.ai/ishita49-indian-institute-of-technology-madras/DA6401_Assign2' target=\"_blank\">https://wandb.ai/ishita49-indian-institute-of-technology-madras/DA6401_Assign2</a><br>Synced 5 W&B file(s), 0 media file(s), 0 artifact file(s) and 0 other file(s)"
      ],
      "text/plain": [
       "<IPython.core.display.HTML object>"
      ]
     },
     "metadata": {},
     "output_type": "display_data"
    },
    {
     "data": {
      "text/html": [
       "Find logs at: <code>./wandb/run-20250412_155658-ox54zz2w/logs</code>"
      ],
      "text/plain": [
       "<IPython.core.display.HTML object>"
      ]
     },
     "metadata": {},
     "output_type": "display_data"
    },
    {
     "name": "stderr",
     "output_type": "stream",
     "text": [
      "\u001b[34m\u001b[1mwandb\u001b[0m: Agent Starting Run: 3qxvjwaz with config:\n",
      "\u001b[34m\u001b[1mwandb\u001b[0m: \tactivation_func: relu\n",
      "\u001b[34m\u001b[1mwandb\u001b[0m: \tbatch_normalisation: True\n",
      "\u001b[34m\u001b[1mwandb\u001b[0m: \tbatch_size: 16\n",
      "\u001b[34m\u001b[1mwandb\u001b[0m: \tdata_augmentation: Yes\n",
      "\u001b[34m\u001b[1mwandb\u001b[0m: \tdropout_rate: 0.3748027193256957\n",
      "\u001b[34m\u001b[1mwandb\u001b[0m: \tfilter_org: 2\n",
      "\u001b[34m\u001b[1mwandb\u001b[0m: \tlearning_rate: 0.0015008055660361212\n",
      "\u001b[34m\u001b[1mwandb\u001b[0m: \tnum_dense: 128\n",
      "\u001b[34m\u001b[1mwandb\u001b[0m: \tnum_filters: 32\n",
      "\u001b[34m\u001b[1mwandb\u001b[0m: \toptimizer: sgd\n",
      "\u001b[34m\u001b[1mwandb\u001b[0m: \tsize_filters: 5\n",
      "\u001b[34m\u001b[1mwandb\u001b[0m: \u001b[33mWARNING\u001b[0m If you're specifying your api key in code, ensure this code is not shared publicly.\n",
      "\u001b[34m\u001b[1mwandb\u001b[0m: \u001b[33mWARNING\u001b[0m Consider setting the WANDB_API_KEY environment variable, or running `wandb login` from the command line.\n",
      "\u001b[34m\u001b[1mwandb\u001b[0m: Appending key for api.wandb.ai to your netrc file: /root/.netrc\n"
     ]
    },
    {
     "data": {
      "text/html": [
       "Tracking run with wandb version 0.19.6"
      ],
      "text/plain": [
       "<IPython.core.display.HTML object>"
      ]
     },
     "metadata": {},
     "output_type": "display_data"
    },
    {
     "data": {
      "text/html": [
       "Run data is saved locally in <code>/kaggle/working/wandb/run-20250412_162353-3qxvjwaz</code>"
      ],
      "text/plain": [
       "<IPython.core.display.HTML object>"
      ]
     },
     "metadata": {},
     "output_type": "display_data"
    },
    {
     "data": {
      "text/html": [
       "Syncing run <strong><a href='https://wandb.ai/ishita49-indian-institute-of-technology-madras/DA6401_Assign2/runs/3qxvjwaz' target=\"_blank\">stoic-sweep-14</a></strong> to <a href='https://wandb.ai/ishita49-indian-institute-of-technology-madras/DA6401_Assign2' target=\"_blank\">Weights & Biases</a> (<a href='https://wandb.me/developer-guide' target=\"_blank\">docs</a>)<br>Sweep page: <a href='https://wandb.ai/ishita49-indian-institute-of-technology-madras/DA6401_Assign2/sweeps/ix36j15i' target=\"_blank\">https://wandb.ai/ishita49-indian-institute-of-technology-madras/DA6401_Assign2/sweeps/ix36j15i</a>"
      ],
      "text/plain": [
       "<IPython.core.display.HTML object>"
      ]
     },
     "metadata": {},
     "output_type": "display_data"
    },
    {
     "data": {
      "text/html": [
       " View project at <a href='https://wandb.ai/ishita49-indian-institute-of-technology-madras/DA6401_Assign2' target=\"_blank\">https://wandb.ai/ishita49-indian-institute-of-technology-madras/DA6401_Assign2</a>"
      ],
      "text/plain": [
       "<IPython.core.display.HTML object>"
      ]
     },
     "metadata": {},
     "output_type": "display_data"
    },
    {
     "data": {
      "text/html": [
       " View sweep at <a href='https://wandb.ai/ishita49-indian-institute-of-technology-madras/DA6401_Assign2/sweeps/ix36j15i' target=\"_blank\">https://wandb.ai/ishita49-indian-institute-of-technology-madras/DA6401_Assign2/sweeps/ix36j15i</a>"
      ],
      "text/plain": [
       "<IPython.core.display.HTML object>"
      ]
     },
     "metadata": {},
     "output_type": "display_data"
    },
    {
     "data": {
      "text/html": [
       " View run at <a href='https://wandb.ai/ishita49-indian-institute-of-technology-madras/DA6401_Assign2/runs/3qxvjwaz' target=\"_blank\">https://wandb.ai/ishita49-indian-institute-of-technology-madras/DA6401_Assign2/runs/3qxvjwaz</a>"
      ],
      "text/plain": [
       "<IPython.core.display.HTML object>"
      ]
     },
     "metadata": {},
     "output_type": "display_data"
    },
    {
     "name": "stdout",
     "output_type": "stream",
     "text": [
      "Using 2 GPUs\n",
      "training...\n",
      "Epoch [1/20], Loss: 2.2837\n",
      "Epoch [2/20], Loss: 2.2250\n",
      "Epoch [3/20], Loss: 2.2057\n",
      "Epoch [4/20], Loss: 2.1805\n",
      "Epoch [5/20], Loss: 2.1638\n",
      "Epoch [6/20], Loss: 2.1568\n",
      "Epoch [7/20], Loss: 2.1363\n",
      "Epoch [8/20], Loss: 2.1247\n",
      "Epoch [9/20], Loss: 2.1110\n",
      "Epoch [10/20], Loss: 2.0953\n",
      "Epoch [11/20], Loss: 2.0975\n",
      "Epoch [12/20], Loss: 2.0740\n",
      "Epoch [13/20], Loss: 2.0649\n",
      "Epoch [14/20], Loss: 2.0584\n",
      "Epoch [15/20], Loss: 2.0745\n",
      "Epoch [16/20], Loss: 2.0510\n",
      "Epoch [17/20], Loss: 2.0553\n",
      "Epoch [18/20], Loss: 2.0451\n",
      "Epoch [19/20], Loss: 2.0414\n",
      "Epoch [20/20], Loss: 2.0349\n",
      "Validation Accuracy: 32.50%\n"
     ]
    },
    {
     "data": {
      "text/html": [],
      "text/plain": [
       "<IPython.core.display.HTML object>"
      ]
     },
     "metadata": {},
     "output_type": "display_data"
    },
    {
     "data": {
      "text/html": [
       "<br>    <style><br>        .wandb-row {<br>            display: flex;<br>            flex-direction: row;<br>            flex-wrap: wrap;<br>            justify-content: flex-start;<br>            width: 100%;<br>        }<br>        .wandb-col {<br>            display: flex;<br>            flex-direction: column;<br>            flex-basis: 100%;<br>            flex: 1;<br>            padding: 10px;<br>        }<br>    </style><br><div class=\"wandb-row\"><div class=\"wandb-col\"><h3>Run history:</h3><br/><table class=\"wandb\"><tr><td>epoch</td><td>▁▁▂▂▂▃▃▄▄▄▅▅▅▆▆▇▇▇██</td></tr><tr><td>train_loss</td><td>█▆▆▅▅▄▄▄▃▃▃▂▂▂▂▁▂▁▁▁</td></tr><tr><td>val_accuracy</td><td>▁</td></tr></table><br/></div><div class=\"wandb-col\"><h3>Run summary:</h3><br/><table class=\"wandb\"><tr><td>epoch</td><td>20</td></tr><tr><td>train_loss</td><td>2.03489</td></tr><tr><td>val_accuracy</td><td>32.5</td></tr></table><br/></div></div>"
      ],
      "text/plain": [
       "<IPython.core.display.HTML object>"
      ]
     },
     "metadata": {},
     "output_type": "display_data"
    },
    {
     "data": {
      "text/html": [
       " View run <strong style=\"color:#cdcd00\">stoic-sweep-14</strong> at: <a href='https://wandb.ai/ishita49-indian-institute-of-technology-madras/DA6401_Assign2/runs/3qxvjwaz' target=\"_blank\">https://wandb.ai/ishita49-indian-institute-of-technology-madras/DA6401_Assign2/runs/3qxvjwaz</a><br> View project at: <a href='https://wandb.ai/ishita49-indian-institute-of-technology-madras/DA6401_Assign2' target=\"_blank\">https://wandb.ai/ishita49-indian-institute-of-technology-madras/DA6401_Assign2</a><br>Synced 5 W&B file(s), 0 media file(s), 0 artifact file(s) and 0 other file(s)"
      ],
      "text/plain": [
       "<IPython.core.display.HTML object>"
      ]
     },
     "metadata": {},
     "output_type": "display_data"
    },
    {
     "data": {
      "text/html": [
       "Find logs at: <code>./wandb/run-20250412_162353-3qxvjwaz/logs</code>"
      ],
      "text/plain": [
       "<IPython.core.display.HTML object>"
      ]
     },
     "metadata": {},
     "output_type": "display_data"
    },
    {
     "name": "stderr",
     "output_type": "stream",
     "text": [
      "\u001b[34m\u001b[1mwandb\u001b[0m: Agent Starting Run: qopkoc3v with config:\n",
      "\u001b[34m\u001b[1mwandb\u001b[0m: \tactivation_func: gelu\n",
      "\u001b[34m\u001b[1mwandb\u001b[0m: \tbatch_normalisation: True\n",
      "\u001b[34m\u001b[1mwandb\u001b[0m: \tbatch_size: 32\n",
      "\u001b[34m\u001b[1mwandb\u001b[0m: \tdata_augmentation: No\n",
      "\u001b[34m\u001b[1mwandb\u001b[0m: \tdropout_rate: 0.4118500596239753\n",
      "\u001b[34m\u001b[1mwandb\u001b[0m: \tfilter_org: 0.5\n",
      "\u001b[34m\u001b[1mwandb\u001b[0m: \tlearning_rate: 0.00802164166568048\n",
      "\u001b[34m\u001b[1mwandb\u001b[0m: \tnum_dense: 256\n",
      "\u001b[34m\u001b[1mwandb\u001b[0m: \tnum_filters: 32\n",
      "\u001b[34m\u001b[1mwandb\u001b[0m: \toptimizer: sgd\n",
      "\u001b[34m\u001b[1mwandb\u001b[0m: \tsize_filters: 10\n",
      "\u001b[34m\u001b[1mwandb\u001b[0m: \u001b[33mWARNING\u001b[0m If you're specifying your api key in code, ensure this code is not shared publicly.\n",
      "\u001b[34m\u001b[1mwandb\u001b[0m: \u001b[33mWARNING\u001b[0m Consider setting the WANDB_API_KEY environment variable, or running `wandb login` from the command line.\n",
      "\u001b[34m\u001b[1mwandb\u001b[0m: Appending key for api.wandb.ai to your netrc file: /root/.netrc\n"
     ]
    },
    {
     "data": {
      "text/html": [
       "Tracking run with wandb version 0.19.6"
      ],
      "text/plain": [
       "<IPython.core.display.HTML object>"
      ]
     },
     "metadata": {},
     "output_type": "display_data"
    },
    {
     "data": {
      "text/html": [
       "Run data is saved locally in <code>/kaggle/working/wandb/run-20250412_165157-qopkoc3v</code>"
      ],
      "text/plain": [
       "<IPython.core.display.HTML object>"
      ]
     },
     "metadata": {},
     "output_type": "display_data"
    },
    {
     "data": {
      "text/html": [
       "Syncing run <strong><a href='https://wandb.ai/ishita49-indian-institute-of-technology-madras/DA6401_Assign2/runs/qopkoc3v' target=\"_blank\">sage-sweep-15</a></strong> to <a href='https://wandb.ai/ishita49-indian-institute-of-technology-madras/DA6401_Assign2' target=\"_blank\">Weights & Biases</a> (<a href='https://wandb.me/developer-guide' target=\"_blank\">docs</a>)<br>Sweep page: <a href='https://wandb.ai/ishita49-indian-institute-of-technology-madras/DA6401_Assign2/sweeps/ix36j15i' target=\"_blank\">https://wandb.ai/ishita49-indian-institute-of-technology-madras/DA6401_Assign2/sweeps/ix36j15i</a>"
      ],
      "text/plain": [
       "<IPython.core.display.HTML object>"
      ]
     },
     "metadata": {},
     "output_type": "display_data"
    },
    {
     "data": {
      "text/html": [
       " View project at <a href='https://wandb.ai/ishita49-indian-institute-of-technology-madras/DA6401_Assign2' target=\"_blank\">https://wandb.ai/ishita49-indian-institute-of-technology-madras/DA6401_Assign2</a>"
      ],
      "text/plain": [
       "<IPython.core.display.HTML object>"
      ]
     },
     "metadata": {},
     "output_type": "display_data"
    },
    {
     "data": {
      "text/html": [
       " View sweep at <a href='https://wandb.ai/ishita49-indian-institute-of-technology-madras/DA6401_Assign2/sweeps/ix36j15i' target=\"_blank\">https://wandb.ai/ishita49-indian-institute-of-technology-madras/DA6401_Assign2/sweeps/ix36j15i</a>"
      ],
      "text/plain": [
       "<IPython.core.display.HTML object>"
      ]
     },
     "metadata": {},
     "output_type": "display_data"
    },
    {
     "data": {
      "text/html": [
       " View run at <a href='https://wandb.ai/ishita49-indian-institute-of-technology-madras/DA6401_Assign2/runs/qopkoc3v' target=\"_blank\">https://wandb.ai/ishita49-indian-institute-of-technology-madras/DA6401_Assign2/runs/qopkoc3v</a>"
      ],
      "text/plain": [
       "<IPython.core.display.HTML object>"
      ]
     },
     "metadata": {},
     "output_type": "display_data"
    },
    {
     "name": "stdout",
     "output_type": "stream",
     "text": [
      "Using 2 GPUs\n",
      "training...\n",
      "Epoch [1/20], Loss: 2.3214\n",
      "Epoch [2/20], Loss: 2.2607\n",
      "Epoch [3/20], Loss: 2.2107\n",
      "Epoch [4/20], Loss: 2.1903\n",
      "Epoch [5/20], Loss: 2.1667\n",
      "Epoch [6/20], Loss: 2.1554\n",
      "Epoch [7/20], Loss: 2.1441\n",
      "Epoch [8/20], Loss: 2.1152\n",
      "Epoch [9/20], Loss: 2.1105\n",
      "Epoch [10/20], Loss: 2.0933\n",
      "Epoch [11/20], Loss: 2.0797\n",
      "Epoch [12/20], Loss: 2.0786\n",
      "Epoch [13/20], Loss: 2.0686\n",
      "Epoch [14/20], Loss: 2.0722\n",
      "Epoch [15/20], Loss: 2.0542\n",
      "Epoch [16/20], Loss: 2.0481\n",
      "Epoch [17/20], Loss: 2.0325\n",
      "Epoch [18/20], Loss: 2.0287\n",
      "Epoch [19/20], Loss: 2.0314\n",
      "Epoch [20/20], Loss: 2.0046\n",
      "Validation Accuracy: 23.60%\n"
     ]
    },
    {
     "data": {
      "text/html": [],
      "text/plain": [
       "<IPython.core.display.HTML object>"
      ]
     },
     "metadata": {},
     "output_type": "display_data"
    },
    {
     "data": {
      "text/html": [
       "<br>    <style><br>        .wandb-row {<br>            display: flex;<br>            flex-direction: row;<br>            flex-wrap: wrap;<br>            justify-content: flex-start;<br>            width: 100%;<br>        }<br>        .wandb-col {<br>            display: flex;<br>            flex-direction: column;<br>            flex-basis: 100%;<br>            flex: 1;<br>            padding: 10px;<br>        }<br>    </style><br><div class=\"wandb-row\"><div class=\"wandb-col\"><h3>Run history:</h3><br/><table class=\"wandb\"><tr><td>epoch</td><td>▁▁▂▂▂▃▃▄▄▄▅▅▅▆▆▇▇▇██</td></tr><tr><td>train_loss</td><td>█▇▆▅▅▄▄▃▃▃▃▃▂▂▂▂▂▂▂▁</td></tr><tr><td>val_accuracy</td><td>▁</td></tr></table><br/></div><div class=\"wandb-col\"><h3>Run summary:</h3><br/><table class=\"wandb\"><tr><td>epoch</td><td>20</td></tr><tr><td>train_loss</td><td>2.00462</td></tr><tr><td>val_accuracy</td><td>23.6</td></tr></table><br/></div></div>"
      ],
      "text/plain": [
       "<IPython.core.display.HTML object>"
      ]
     },
     "metadata": {},
     "output_type": "display_data"
    },
    {
     "data": {
      "text/html": [
       " View run <strong style=\"color:#cdcd00\">sage-sweep-15</strong> at: <a href='https://wandb.ai/ishita49-indian-institute-of-technology-madras/DA6401_Assign2/runs/qopkoc3v' target=\"_blank\">https://wandb.ai/ishita49-indian-institute-of-technology-madras/DA6401_Assign2/runs/qopkoc3v</a><br> View project at: <a href='https://wandb.ai/ishita49-indian-institute-of-technology-madras/DA6401_Assign2' target=\"_blank\">https://wandb.ai/ishita49-indian-institute-of-technology-madras/DA6401_Assign2</a><br>Synced 5 W&B file(s), 0 media file(s), 0 artifact file(s) and 0 other file(s)"
      ],
      "text/plain": [
       "<IPython.core.display.HTML object>"
      ]
     },
     "metadata": {},
     "output_type": "display_data"
    },
    {
     "data": {
      "text/html": [
       "Find logs at: <code>./wandb/run-20250412_165157-qopkoc3v/logs</code>"
      ],
      "text/plain": [
       "<IPython.core.display.HTML object>"
      ]
     },
     "metadata": {},
     "output_type": "display_data"
    },
    {
     "name": "stderr",
     "output_type": "stream",
     "text": [
      "\u001b[34m\u001b[1mwandb\u001b[0m: Agent Starting Run: k2lowo0a with config:\n",
      "\u001b[34m\u001b[1mwandb\u001b[0m: \tactivation_func: relu\n",
      "\u001b[34m\u001b[1mwandb\u001b[0m: \tbatch_normalisation: False\n",
      "\u001b[34m\u001b[1mwandb\u001b[0m: \tbatch_size: 64\n",
      "\u001b[34m\u001b[1mwandb\u001b[0m: \tdata_augmentation: Yes\n",
      "\u001b[34m\u001b[1mwandb\u001b[0m: \tdropout_rate: 0.21467685169078857\n",
      "\u001b[34m\u001b[1mwandb\u001b[0m: \tfilter_org: 2\n",
      "\u001b[34m\u001b[1mwandb\u001b[0m: \tlearning_rate: 0.003456440355994406\n",
      "\u001b[34m\u001b[1mwandb\u001b[0m: \tnum_dense: 512\n",
      "\u001b[34m\u001b[1mwandb\u001b[0m: \tnum_filters: 32\n",
      "\u001b[34m\u001b[1mwandb\u001b[0m: \toptimizer: momentum\n",
      "\u001b[34m\u001b[1mwandb\u001b[0m: \tsize_filters: 10\n",
      "\u001b[34m\u001b[1mwandb\u001b[0m: \u001b[33mWARNING\u001b[0m If you're specifying your api key in code, ensure this code is not shared publicly.\n",
      "\u001b[34m\u001b[1mwandb\u001b[0m: \u001b[33mWARNING\u001b[0m Consider setting the WANDB_API_KEY environment variable, or running `wandb login` from the command line.\n",
      "\u001b[34m\u001b[1mwandb\u001b[0m: Appending key for api.wandb.ai to your netrc file: /root/.netrc\n"
     ]
    },
    {
     "data": {
      "text/html": [
       "Tracking run with wandb version 0.19.6"
      ],
      "text/plain": [
       "<IPython.core.display.HTML object>"
      ]
     },
     "metadata": {},
     "output_type": "display_data"
    },
    {
     "data": {
      "text/html": [
       "Run data is saved locally in <code>/kaggle/working/wandb/run-20250412_171043-k2lowo0a</code>"
      ],
      "text/plain": [
       "<IPython.core.display.HTML object>"
      ]
     },
     "metadata": {},
     "output_type": "display_data"
    },
    {
     "data": {
      "text/html": [
       "Syncing run <strong><a href='https://wandb.ai/ishita49-indian-institute-of-technology-madras/DA6401_Assign2/runs/k2lowo0a' target=\"_blank\">crisp-sweep-16</a></strong> to <a href='https://wandb.ai/ishita49-indian-institute-of-technology-madras/DA6401_Assign2' target=\"_blank\">Weights & Biases</a> (<a href='https://wandb.me/developer-guide' target=\"_blank\">docs</a>)<br>Sweep page: <a href='https://wandb.ai/ishita49-indian-institute-of-technology-madras/DA6401_Assign2/sweeps/ix36j15i' target=\"_blank\">https://wandb.ai/ishita49-indian-institute-of-technology-madras/DA6401_Assign2/sweeps/ix36j15i</a>"
      ],
      "text/plain": [
       "<IPython.core.display.HTML object>"
      ]
     },
     "metadata": {},
     "output_type": "display_data"
    },
    {
     "data": {
      "text/html": [
       " View project at <a href='https://wandb.ai/ishita49-indian-institute-of-technology-madras/DA6401_Assign2' target=\"_blank\">https://wandb.ai/ishita49-indian-institute-of-technology-madras/DA6401_Assign2</a>"
      ],
      "text/plain": [
       "<IPython.core.display.HTML object>"
      ]
     },
     "metadata": {},
     "output_type": "display_data"
    },
    {
     "data": {
      "text/html": [
       " View sweep at <a href='https://wandb.ai/ishita49-indian-institute-of-technology-madras/DA6401_Assign2/sweeps/ix36j15i' target=\"_blank\">https://wandb.ai/ishita49-indian-institute-of-technology-madras/DA6401_Assign2/sweeps/ix36j15i</a>"
      ],
      "text/plain": [
       "<IPython.core.display.HTML object>"
      ]
     },
     "metadata": {},
     "output_type": "display_data"
    },
    {
     "data": {
      "text/html": [
       " View run at <a href='https://wandb.ai/ishita49-indian-institute-of-technology-madras/DA6401_Assign2/runs/k2lowo0a' target=\"_blank\">https://wandb.ai/ishita49-indian-institute-of-technology-madras/DA6401_Assign2/runs/k2lowo0a</a>"
      ],
      "text/plain": [
       "<IPython.core.display.HTML object>"
      ]
     },
     "metadata": {},
     "output_type": "display_data"
    },
    {
     "name": "stdout",
     "output_type": "stream",
     "text": [
      "Using 2 GPUs\n",
      "training...\n",
      "Epoch [1/20], Loss: 2.3027\n",
      "Epoch [2/20], Loss: 2.2884\n",
      "Epoch [3/20], Loss: 2.2474\n",
      "Epoch [4/20], Loss: 2.2160\n",
      "Epoch [5/20], Loss: 2.2088\n",
      "Epoch [6/20], Loss: 2.2074\n",
      "Epoch [7/20], Loss: 2.1956\n",
      "Epoch [8/20], Loss: 2.1880\n",
      "Epoch [9/20], Loss: 2.1909\n",
      "Epoch [10/20], Loss: 2.1751\n",
      "Epoch [11/20], Loss: 2.1744\n",
      "Epoch [12/20], Loss: 2.1630\n",
      "Epoch [13/20], Loss: 2.1729\n",
      "Epoch [14/20], Loss: 2.1542\n",
      "Epoch [15/20], Loss: 2.1492\n",
      "Epoch [16/20], Loss: 2.1472\n",
      "Epoch [17/20], Loss: 2.1336\n",
      "Epoch [18/20], Loss: 2.1271\n",
      "Epoch [19/20], Loss: 2.1216\n",
      "Epoch [20/20], Loss: 2.1192\n",
      "Validation Accuracy: 26.50%\n"
     ]
    },
    {
     "data": {
      "text/html": [],
      "text/plain": [
       "<IPython.core.display.HTML object>"
      ]
     },
     "metadata": {},
     "output_type": "display_data"
    },
    {
     "data": {
      "text/html": [
       "<br>    <style><br>        .wandb-row {<br>            display: flex;<br>            flex-direction: row;<br>            flex-wrap: wrap;<br>            justify-content: flex-start;<br>            width: 100%;<br>        }<br>        .wandb-col {<br>            display: flex;<br>            flex-direction: column;<br>            flex-basis: 100%;<br>            flex: 1;<br>            padding: 10px;<br>        }<br>    </style><br><div class=\"wandb-row\"><div class=\"wandb-col\"><h3>Run history:</h3><br/><table class=\"wandb\"><tr><td>epoch</td><td>▁▁▂▂▂▃▃▄▄▄▅▅▅▆▆▇▇▇██</td></tr><tr><td>train_loss</td><td>█▇▆▅▄▄▄▄▄▃▃▃▃▂▂▂▂▁▁▁</td></tr><tr><td>val_accuracy</td><td>▁</td></tr></table><br/></div><div class=\"wandb-col\"><h3>Run summary:</h3><br/><table class=\"wandb\"><tr><td>epoch</td><td>20</td></tr><tr><td>train_loss</td><td>2.11919</td></tr><tr><td>val_accuracy</td><td>26.5</td></tr></table><br/></div></div>"
      ],
      "text/plain": [
       "<IPython.core.display.HTML object>"
      ]
     },
     "metadata": {},
     "output_type": "display_data"
    },
    {
     "data": {
      "text/html": [
       " View run <strong style=\"color:#cdcd00\">crisp-sweep-16</strong> at: <a href='https://wandb.ai/ishita49-indian-institute-of-technology-madras/DA6401_Assign2/runs/k2lowo0a' target=\"_blank\">https://wandb.ai/ishita49-indian-institute-of-technology-madras/DA6401_Assign2/runs/k2lowo0a</a><br> View project at: <a href='https://wandb.ai/ishita49-indian-institute-of-technology-madras/DA6401_Assign2' target=\"_blank\">https://wandb.ai/ishita49-indian-institute-of-technology-madras/DA6401_Assign2</a><br>Synced 5 W&B file(s), 0 media file(s), 0 artifact file(s) and 0 other file(s)"
      ],
      "text/plain": [
       "<IPython.core.display.HTML object>"
      ]
     },
     "metadata": {},
     "output_type": "display_data"
    },
    {
     "data": {
      "text/html": [
       "Find logs at: <code>./wandb/run-20250412_171043-k2lowo0a/logs</code>"
      ],
      "text/plain": [
       "<IPython.core.display.HTML object>"
      ]
     },
     "metadata": {},
     "output_type": "display_data"
    },
    {
     "name": "stderr",
     "output_type": "stream",
     "text": [
      "\u001b[34m\u001b[1mwandb\u001b[0m: Agent Starting Run: 2c9dk6dt with config:\n",
      "\u001b[34m\u001b[1mwandb\u001b[0m: \tactivation_func: mish\n",
      "\u001b[34m\u001b[1mwandb\u001b[0m: \tbatch_normalisation: False\n",
      "\u001b[34m\u001b[1mwandb\u001b[0m: \tbatch_size: 64\n",
      "\u001b[34m\u001b[1mwandb\u001b[0m: \tdata_augmentation: Yes\n",
      "\u001b[34m\u001b[1mwandb\u001b[0m: \tdropout_rate: 0.20234296498179227\n",
      "\u001b[34m\u001b[1mwandb\u001b[0m: \tfilter_org: 1\n",
      "\u001b[34m\u001b[1mwandb\u001b[0m: \tlearning_rate: 0.004100036662769788\n",
      "\u001b[34m\u001b[1mwandb\u001b[0m: \tnum_dense: 128\n",
      "\u001b[34m\u001b[1mwandb\u001b[0m: \tnum_filters: 32\n",
      "\u001b[34m\u001b[1mwandb\u001b[0m: \toptimizer: adam\n",
      "\u001b[34m\u001b[1mwandb\u001b[0m: \tsize_filters: 3\n",
      "\u001b[34m\u001b[1mwandb\u001b[0m: \u001b[33mWARNING\u001b[0m If you're specifying your api key in code, ensure this code is not shared publicly.\n",
      "\u001b[34m\u001b[1mwandb\u001b[0m: \u001b[33mWARNING\u001b[0m Consider setting the WANDB_API_KEY environment variable, or running `wandb login` from the command line.\n",
      "\u001b[34m\u001b[1mwandb\u001b[0m: Appending key for api.wandb.ai to your netrc file: /root/.netrc\n"
     ]
    },
    {
     "data": {
      "text/html": [
       "Tracking run with wandb version 0.19.6"
      ],
      "text/plain": [
       "<IPython.core.display.HTML object>"
      ]
     },
     "metadata": {},
     "output_type": "display_data"
    },
    {
     "data": {
      "text/html": [
       "Run data is saved locally in <code>/kaggle/working/wandb/run-20250412_174132-2c9dk6dt</code>"
      ],
      "text/plain": [
       "<IPython.core.display.HTML object>"
      ]
     },
     "metadata": {},
     "output_type": "display_data"
    },
    {
     "data": {
      "text/html": [
       "Syncing run <strong><a href='https://wandb.ai/ishita49-indian-institute-of-technology-madras/DA6401_Assign2/runs/2c9dk6dt' target=\"_blank\">proud-sweep-17</a></strong> to <a href='https://wandb.ai/ishita49-indian-institute-of-technology-madras/DA6401_Assign2' target=\"_blank\">Weights & Biases</a> (<a href='https://wandb.me/developer-guide' target=\"_blank\">docs</a>)<br>Sweep page: <a href='https://wandb.ai/ishita49-indian-institute-of-technology-madras/DA6401_Assign2/sweeps/ix36j15i' target=\"_blank\">https://wandb.ai/ishita49-indian-institute-of-technology-madras/DA6401_Assign2/sweeps/ix36j15i</a>"
      ],
      "text/plain": [
       "<IPython.core.display.HTML object>"
      ]
     },
     "metadata": {},
     "output_type": "display_data"
    },
    {
     "data": {
      "text/html": [
       " View project at <a href='https://wandb.ai/ishita49-indian-institute-of-technology-madras/DA6401_Assign2' target=\"_blank\">https://wandb.ai/ishita49-indian-institute-of-technology-madras/DA6401_Assign2</a>"
      ],
      "text/plain": [
       "<IPython.core.display.HTML object>"
      ]
     },
     "metadata": {},
     "output_type": "display_data"
    },
    {
     "data": {
      "text/html": [
       " View sweep at <a href='https://wandb.ai/ishita49-indian-institute-of-technology-madras/DA6401_Assign2/sweeps/ix36j15i' target=\"_blank\">https://wandb.ai/ishita49-indian-institute-of-technology-madras/DA6401_Assign2/sweeps/ix36j15i</a>"
      ],
      "text/plain": [
       "<IPython.core.display.HTML object>"
      ]
     },
     "metadata": {},
     "output_type": "display_data"
    },
    {
     "data": {
      "text/html": [
       " View run at <a href='https://wandb.ai/ishita49-indian-institute-of-technology-madras/DA6401_Assign2/runs/2c9dk6dt' target=\"_blank\">https://wandb.ai/ishita49-indian-institute-of-technology-madras/DA6401_Assign2/runs/2c9dk6dt</a>"
      ],
      "text/plain": [
       "<IPython.core.display.HTML object>"
      ]
     },
     "metadata": {},
     "output_type": "display_data"
    },
    {
     "name": "stdout",
     "output_type": "stream",
     "text": [
      "Using 2 GPUs\n",
      "training...\n",
      "Epoch [1/20], Loss: 2.3046\n",
      "Epoch [2/20], Loss: 2.3035\n",
      "Epoch [3/20], Loss: 2.3032\n",
      "Epoch [4/20], Loss: 2.3031\n",
      "Epoch [5/20], Loss: 2.3031\n",
      "Epoch [6/20], Loss: 2.3032\n",
      "Epoch [7/20], Loss: 2.3032\n",
      "Epoch [8/20], Loss: 2.3033\n",
      "Epoch [9/20], Loss: 2.3032\n",
      "Epoch [10/20], Loss: 2.3033\n",
      "Epoch [11/20], Loss: 2.3032\n",
      "Epoch [12/20], Loss: 2.3032\n",
      "Epoch [13/20], Loss: 2.3032\n",
      "Epoch [14/20], Loss: 2.3032\n",
      "Epoch [15/20], Loss: 2.3034\n",
      "Epoch [16/20], Loss: 2.3032\n",
      "Epoch [17/20], Loss: 2.3033\n",
      "Epoch [18/20], Loss: 2.3032\n",
      "Epoch [19/20], Loss: 2.3033\n",
      "Epoch [20/20], Loss: 2.3031\n",
      "Validation Accuracy: 10.00%\n"
     ]
    },
    {
     "data": {
      "text/html": [],
      "text/plain": [
       "<IPython.core.display.HTML object>"
      ]
     },
     "metadata": {},
     "output_type": "display_data"
    },
    {
     "data": {
      "text/html": [
       "<br>    <style><br>        .wandb-row {<br>            display: flex;<br>            flex-direction: row;<br>            flex-wrap: wrap;<br>            justify-content: flex-start;<br>            width: 100%;<br>        }<br>        .wandb-col {<br>            display: flex;<br>            flex-direction: column;<br>            flex-basis: 100%;<br>            flex: 1;<br>            padding: 10px;<br>        }<br>    </style><br><div class=\"wandb-row\"><div class=\"wandb-col\"><h3>Run history:</h3><br/><table class=\"wandb\"><tr><td>epoch</td><td>▁▁▂▂▂▃▃▄▄▄▅▅▅▆▆▇▇▇██</td></tr><tr><td>train_loss</td><td>█▃▁▁▁▁▁▂▂▂▂▂▁▁▂▁▂▁▂▁</td></tr><tr><td>val_accuracy</td><td>▁</td></tr></table><br/></div><div class=\"wandb-col\"><h3>Run summary:</h3><br/><table class=\"wandb\"><tr><td>epoch</td><td>20</td></tr><tr><td>train_loss</td><td>2.30311</td></tr><tr><td>val_accuracy</td><td>10</td></tr></table><br/></div></div>"
      ],
      "text/plain": [
       "<IPython.core.display.HTML object>"
      ]
     },
     "metadata": {},
     "output_type": "display_data"
    },
    {
     "data": {
      "text/html": [
       " View run <strong style=\"color:#cdcd00\">proud-sweep-17</strong> at: <a href='https://wandb.ai/ishita49-indian-institute-of-technology-madras/DA6401_Assign2/runs/2c9dk6dt' target=\"_blank\">https://wandb.ai/ishita49-indian-institute-of-technology-madras/DA6401_Assign2/runs/2c9dk6dt</a><br> View project at: <a href='https://wandb.ai/ishita49-indian-institute-of-technology-madras/DA6401_Assign2' target=\"_blank\">https://wandb.ai/ishita49-indian-institute-of-technology-madras/DA6401_Assign2</a><br>Synced 5 W&B file(s), 0 media file(s), 0 artifact file(s) and 0 other file(s)"
      ],
      "text/plain": [
       "<IPython.core.display.HTML object>"
      ]
     },
     "metadata": {},
     "output_type": "display_data"
    },
    {
     "data": {
      "text/html": [
       "Find logs at: <code>./wandb/run-20250412_174132-2c9dk6dt/logs</code>"
      ],
      "text/plain": [
       "<IPython.core.display.HTML object>"
      ]
     },
     "metadata": {},
     "output_type": "display_data"
    },
    {
     "name": "stderr",
     "output_type": "stream",
     "text": [
      "\u001b[34m\u001b[1mwandb\u001b[0m: Agent Starting Run: rl8sft6t with config:\n",
      "\u001b[34m\u001b[1mwandb\u001b[0m: \tactivation_func: mish\n",
      "\u001b[34m\u001b[1mwandb\u001b[0m: \tbatch_normalisation: True\n",
      "\u001b[34m\u001b[1mwandb\u001b[0m: \tbatch_size: 32\n",
      "\u001b[34m\u001b[1mwandb\u001b[0m: \tdata_augmentation: No\n",
      "\u001b[34m\u001b[1mwandb\u001b[0m: \tdropout_rate: 0.43212564034326073\n",
      "\u001b[34m\u001b[1mwandb\u001b[0m: \tfilter_org: 1\n",
      "\u001b[34m\u001b[1mwandb\u001b[0m: \tlearning_rate: 0.005346572586678155\n",
      "\u001b[34m\u001b[1mwandb\u001b[0m: \tnum_dense: 256\n",
      "\u001b[34m\u001b[1mwandb\u001b[0m: \tnum_filters: 64\n",
      "\u001b[34m\u001b[1mwandb\u001b[0m: \toptimizer: adam\n",
      "\u001b[34m\u001b[1mwandb\u001b[0m: \tsize_filters: 3\n",
      "\u001b[34m\u001b[1mwandb\u001b[0m: \u001b[33mWARNING\u001b[0m If you're specifying your api key in code, ensure this code is not shared publicly.\n",
      "\u001b[34m\u001b[1mwandb\u001b[0m: \u001b[33mWARNING\u001b[0m Consider setting the WANDB_API_KEY environment variable, or running `wandb login` from the command line.\n",
      "\u001b[34m\u001b[1mwandb\u001b[0m: Appending key for api.wandb.ai to your netrc file: /root/.netrc\n"
     ]
    },
    {
     "data": {
      "text/html": [
       "Tracking run with wandb version 0.19.6"
      ],
      "text/plain": [
       "<IPython.core.display.HTML object>"
      ]
     },
     "metadata": {},
     "output_type": "display_data"
    },
    {
     "data": {
      "text/html": [
       "Run data is saved locally in <code>/kaggle/working/wandb/run-20250412_180751-rl8sft6t</code>"
      ],
      "text/plain": [
       "<IPython.core.display.HTML object>"
      ]
     },
     "metadata": {},
     "output_type": "display_data"
    },
    {
     "data": {
      "text/html": [
       "Syncing run <strong><a href='https://wandb.ai/ishita49-indian-institute-of-technology-madras/DA6401_Assign2/runs/rl8sft6t' target=\"_blank\">laced-sweep-18</a></strong> to <a href='https://wandb.ai/ishita49-indian-institute-of-technology-madras/DA6401_Assign2' target=\"_blank\">Weights & Biases</a> (<a href='https://wandb.me/developer-guide' target=\"_blank\">docs</a>)<br>Sweep page: <a href='https://wandb.ai/ishita49-indian-institute-of-technology-madras/DA6401_Assign2/sweeps/ix36j15i' target=\"_blank\">https://wandb.ai/ishita49-indian-institute-of-technology-madras/DA6401_Assign2/sweeps/ix36j15i</a>"
      ],
      "text/plain": [
       "<IPython.core.display.HTML object>"
      ]
     },
     "metadata": {},
     "output_type": "display_data"
    },
    {
     "data": {
      "text/html": [
       " View project at <a href='https://wandb.ai/ishita49-indian-institute-of-technology-madras/DA6401_Assign2' target=\"_blank\">https://wandb.ai/ishita49-indian-institute-of-technology-madras/DA6401_Assign2</a>"
      ],
      "text/plain": [
       "<IPython.core.display.HTML object>"
      ]
     },
     "metadata": {},
     "output_type": "display_data"
    },
    {
     "data": {
      "text/html": [
       " View sweep at <a href='https://wandb.ai/ishita49-indian-institute-of-technology-madras/DA6401_Assign2/sweeps/ix36j15i' target=\"_blank\">https://wandb.ai/ishita49-indian-institute-of-technology-madras/DA6401_Assign2/sweeps/ix36j15i</a>"
      ],
      "text/plain": [
       "<IPython.core.display.HTML object>"
      ]
     },
     "metadata": {},
     "output_type": "display_data"
    },
    {
     "data": {
      "text/html": [
       " View run at <a href='https://wandb.ai/ishita49-indian-institute-of-technology-madras/DA6401_Assign2/runs/rl8sft6t' target=\"_blank\">https://wandb.ai/ishita49-indian-institute-of-technology-madras/DA6401_Assign2/runs/rl8sft6t</a>"
      ],
      "text/plain": [
       "<IPython.core.display.HTML object>"
      ]
     },
     "metadata": {},
     "output_type": "display_data"
    },
    {
     "name": "stdout",
     "output_type": "stream",
     "text": [
      "Using 2 GPUs\n",
      "training...\n",
      "Epoch [1/20], Loss: 2.2996\n",
      "Epoch [2/20], Loss: 2.2041\n",
      "Epoch [3/20], Loss: 2.1907\n",
      "Epoch [4/20], Loss: 2.1812\n",
      "Epoch [5/20], Loss: 2.1651\n",
      "Epoch [6/20], Loss: 2.1597\n",
      "Epoch [7/20], Loss: 2.1518\n",
      "Epoch [8/20], Loss: 2.1353\n",
      "Epoch [9/20], Loss: 2.1339\n",
      "Epoch [10/20], Loss: 2.1326\n",
      "Epoch [11/20], Loss: 2.1238\n",
      "Epoch [12/20], Loss: 2.1185\n",
      "Epoch [13/20], Loss: 2.1172\n",
      "Epoch [14/20], Loss: 2.1153\n",
      "Epoch [15/20], Loss: 2.1092\n",
      "Epoch [16/20], Loss: 2.1190\n",
      "Epoch [17/20], Loss: 2.1068\n",
      "Epoch [18/20], Loss: 2.1091\n",
      "Epoch [19/20], Loss: 2.0987\n",
      "Epoch [20/20], Loss: 2.0995\n",
      "Validation Accuracy: 21.25%\n"
     ]
    },
    {
     "data": {
      "text/html": [],
      "text/plain": [
       "<IPython.core.display.HTML object>"
      ]
     },
     "metadata": {},
     "output_type": "display_data"
    },
    {
     "data": {
      "text/html": [
       "<br>    <style><br>        .wandb-row {<br>            display: flex;<br>            flex-direction: row;<br>            flex-wrap: wrap;<br>            justify-content: flex-start;<br>            width: 100%;<br>        }<br>        .wandb-col {<br>            display: flex;<br>            flex-direction: column;<br>            flex-basis: 100%;<br>            flex: 1;<br>            padding: 10px;<br>        }<br>    </style><br><div class=\"wandb-row\"><div class=\"wandb-col\"><h3>Run history:</h3><br/><table class=\"wandb\"><tr><td>epoch</td><td>▁▁▂▂▂▃▃▄▄▄▅▅▅▆▆▇▇▇██</td></tr><tr><td>train_loss</td><td>█▅▄▄▃▃▃▂▂▂▂▂▂▂▁▂▁▁▁▁</td></tr><tr><td>val_accuracy</td><td>▁</td></tr></table><br/></div><div class=\"wandb-col\"><h3>Run summary:</h3><br/><table class=\"wandb\"><tr><td>epoch</td><td>20</td></tr><tr><td>train_loss</td><td>2.09948</td></tr><tr><td>val_accuracy</td><td>21.25</td></tr></table><br/></div></div>"
      ],
      "text/plain": [
       "<IPython.core.display.HTML object>"
      ]
     },
     "metadata": {},
     "output_type": "display_data"
    },
    {
     "data": {
      "text/html": [
       " View run <strong style=\"color:#cdcd00\">laced-sweep-18</strong> at: <a href='https://wandb.ai/ishita49-indian-institute-of-technology-madras/DA6401_Assign2/runs/rl8sft6t' target=\"_blank\">https://wandb.ai/ishita49-indian-institute-of-technology-madras/DA6401_Assign2/runs/rl8sft6t</a><br> View project at: <a href='https://wandb.ai/ishita49-indian-institute-of-technology-madras/DA6401_Assign2' target=\"_blank\">https://wandb.ai/ishita49-indian-institute-of-technology-madras/DA6401_Assign2</a><br>Synced 5 W&B file(s), 0 media file(s), 0 artifact file(s) and 0 other file(s)"
      ],
      "text/plain": [
       "<IPython.core.display.HTML object>"
      ]
     },
     "metadata": {},
     "output_type": "display_data"
    },
    {
     "data": {
      "text/html": [
       "Find logs at: <code>./wandb/run-20250412_180751-rl8sft6t/logs</code>"
      ],
      "text/plain": [
       "<IPython.core.display.HTML object>"
      ]
     },
     "metadata": {},
     "output_type": "display_data"
    },
    {
     "name": "stderr",
     "output_type": "stream",
     "text": [
      "\u001b[34m\u001b[1mwandb\u001b[0m: Agent Starting Run: j6b89hgz with config:\n",
      "\u001b[34m\u001b[1mwandb\u001b[0m: \tactivation_func: relu\n",
      "\u001b[34m\u001b[1mwandb\u001b[0m: \tbatch_normalisation: True\n",
      "\u001b[34m\u001b[1mwandb\u001b[0m: \tbatch_size: 32\n",
      "\u001b[34m\u001b[1mwandb\u001b[0m: \tdata_augmentation: No\n",
      "\u001b[34m\u001b[1mwandb\u001b[0m: \tdropout_rate: 0.35298806906663843\n",
      "\u001b[34m\u001b[1mwandb\u001b[0m: \tfilter_org: 2\n",
      "\u001b[34m\u001b[1mwandb\u001b[0m: \tlearning_rate: 0.0006349956446405355\n",
      "\u001b[34m\u001b[1mwandb\u001b[0m: \tnum_dense: 512\n",
      "\u001b[34m\u001b[1mwandb\u001b[0m: \tnum_filters: 64\n",
      "\u001b[34m\u001b[1mwandb\u001b[0m: \toptimizer: sgd\n",
      "\u001b[34m\u001b[1mwandb\u001b[0m: \tsize_filters: 10\n",
      "\u001b[34m\u001b[1mwandb\u001b[0m: \u001b[33mWARNING\u001b[0m If you're specifying your api key in code, ensure this code is not shared publicly.\n",
      "\u001b[34m\u001b[1mwandb\u001b[0m: \u001b[33mWARNING\u001b[0m Consider setting the WANDB_API_KEY environment variable, or running `wandb login` from the command line.\n",
      "\u001b[34m\u001b[1mwandb\u001b[0m: Appending key for api.wandb.ai to your netrc file: /root/.netrc\n"
     ]
    },
    {
     "data": {
      "text/html": [
       "Tracking run with wandb version 0.19.6"
      ],
      "text/plain": [
       "<IPython.core.display.HTML object>"
      ]
     },
     "metadata": {},
     "output_type": "display_data"
    },
    {
     "data": {
      "text/html": [
       "Run data is saved locally in <code>/kaggle/working/wandb/run-20250412_182607-j6b89hgz</code>"
      ],
      "text/plain": [
       "<IPython.core.display.HTML object>"
      ]
     },
     "metadata": {},
     "output_type": "display_data"
    },
    {
     "data": {
      "text/html": [
       "Syncing run <strong><a href='https://wandb.ai/ishita49-indian-institute-of-technology-madras/DA6401_Assign2/runs/j6b89hgz' target=\"_blank\">decent-sweep-19</a></strong> to <a href='https://wandb.ai/ishita49-indian-institute-of-technology-madras/DA6401_Assign2' target=\"_blank\">Weights & Biases</a> (<a href='https://wandb.me/developer-guide' target=\"_blank\">docs</a>)<br>Sweep page: <a href='https://wandb.ai/ishita49-indian-institute-of-technology-madras/DA6401_Assign2/sweeps/ix36j15i' target=\"_blank\">https://wandb.ai/ishita49-indian-institute-of-technology-madras/DA6401_Assign2/sweeps/ix36j15i</a>"
      ],
      "text/plain": [
       "<IPython.core.display.HTML object>"
      ]
     },
     "metadata": {},
     "output_type": "display_data"
    },
    {
     "data": {
      "text/html": [
       " View project at <a href='https://wandb.ai/ishita49-indian-institute-of-technology-madras/DA6401_Assign2' target=\"_blank\">https://wandb.ai/ishita49-indian-institute-of-technology-madras/DA6401_Assign2</a>"
      ],
      "text/plain": [
       "<IPython.core.display.HTML object>"
      ]
     },
     "metadata": {},
     "output_type": "display_data"
    },
    {
     "data": {
      "text/html": [
       " View sweep at <a href='https://wandb.ai/ishita49-indian-institute-of-technology-madras/DA6401_Assign2/sweeps/ix36j15i' target=\"_blank\">https://wandb.ai/ishita49-indian-institute-of-technology-madras/DA6401_Assign2/sweeps/ix36j15i</a>"
      ],
      "text/plain": [
       "<IPython.core.display.HTML object>"
      ]
     },
     "metadata": {},
     "output_type": "display_data"
    },
    {
     "data": {
      "text/html": [
       " View run at <a href='https://wandb.ai/ishita49-indian-institute-of-technology-madras/DA6401_Assign2/runs/j6b89hgz' target=\"_blank\">https://wandb.ai/ishita49-indian-institute-of-technology-madras/DA6401_Assign2/runs/j6b89hgz</a>"
      ],
      "text/plain": [
       "<IPython.core.display.HTML object>"
      ]
     },
     "metadata": {},
     "output_type": "display_data"
    },
    {
     "name": "stdout",
     "output_type": "stream",
     "text": [
      "Using 2 GPUs\n",
      "training...\n",
      "Epoch [1/20], Loss: 2.1952\n",
      "Epoch [2/20], Loss: 2.1050\n",
      "Epoch [3/20], Loss: 2.0264\n",
      "Epoch [4/20], Loss: 1.9867\n",
      "Epoch [5/20], Loss: 1.9522\n",
      "Epoch [6/20], Loss: 1.9182\n",
      "Epoch [7/20], Loss: 1.8844\n",
      "Epoch [8/20], Loss: 1.8472\n",
      "Epoch [9/20], Loss: 1.8184\n",
      "Epoch [10/20], Loss: 1.7875\n",
      "Epoch [11/20], Loss: 1.7576\n",
      "Epoch [12/20], Loss: 1.7206\n",
      "Epoch [13/20], Loss: 1.6919\n",
      "Epoch [14/20], Loss: 1.6382\n",
      "Epoch [15/20], Loss: 1.5933\n",
      "Epoch [16/20], Loss: 1.5446\n",
      "Epoch [17/20], Loss: 1.4781\n",
      "Epoch [18/20], Loss: 1.4022\n",
      "Epoch [19/20], Loss: 1.3054\n",
      "Epoch [20/20], Loss: 1.1676\n",
      "Validation Accuracy: 22.65%\n"
     ]
    },
    {
     "data": {
      "text/html": [],
      "text/plain": [
       "<IPython.core.display.HTML object>"
      ]
     },
     "metadata": {},
     "output_type": "display_data"
    },
    {
     "data": {
      "text/html": [
       "<br>    <style><br>        .wandb-row {<br>            display: flex;<br>            flex-direction: row;<br>            flex-wrap: wrap;<br>            justify-content: flex-start;<br>            width: 100%;<br>        }<br>        .wandb-col {<br>            display: flex;<br>            flex-direction: column;<br>            flex-basis: 100%;<br>            flex: 1;<br>            padding: 10px;<br>        }<br>    </style><br><div class=\"wandb-row\"><div class=\"wandb-col\"><h3>Run history:</h3><br/><table class=\"wandb\"><tr><td>epoch</td><td>▁▁▂▂▂▃▃▄▄▄▅▅▅▆▆▇▇▇██</td></tr><tr><td>train_loss</td><td>█▇▇▇▆▆▆▆▅▅▅▅▅▄▄▄▃▃▂▁</td></tr><tr><td>val_accuracy</td><td>▁</td></tr></table><br/></div><div class=\"wandb-col\"><h3>Run summary:</h3><br/><table class=\"wandb\"><tr><td>epoch</td><td>20</td></tr><tr><td>train_loss</td><td>1.16757</td></tr><tr><td>val_accuracy</td><td>22.65</td></tr></table><br/></div></div>"
      ],
      "text/plain": [
       "<IPython.core.display.HTML object>"
      ]
     },
     "metadata": {},
     "output_type": "display_data"
    },
    {
     "data": {
      "text/html": [
       " View run <strong style=\"color:#cdcd00\">decent-sweep-19</strong> at: <a href='https://wandb.ai/ishita49-indian-institute-of-technology-madras/DA6401_Assign2/runs/j6b89hgz' target=\"_blank\">https://wandb.ai/ishita49-indian-institute-of-technology-madras/DA6401_Assign2/runs/j6b89hgz</a><br> View project at: <a href='https://wandb.ai/ishita49-indian-institute-of-technology-madras/DA6401_Assign2' target=\"_blank\">https://wandb.ai/ishita49-indian-institute-of-technology-madras/DA6401_Assign2</a><br>Synced 5 W&B file(s), 0 media file(s), 0 artifact file(s) and 0 other file(s)"
      ],
      "text/plain": [
       "<IPython.core.display.HTML object>"
      ]
     },
     "metadata": {},
     "output_type": "display_data"
    },
    {
     "data": {
      "text/html": [
       "Find logs at: <code>./wandb/run-20250412_182607-j6b89hgz/logs</code>"
      ],
      "text/plain": [
       "<IPython.core.display.HTML object>"
      ]
     },
     "metadata": {},
     "output_type": "display_data"
    },
    {
     "name": "stderr",
     "output_type": "stream",
     "text": [
      "\u001b[34m\u001b[1mwandb\u001b[0m: Agent Starting Run: m4p7zekm with config:\n",
      "\u001b[34m\u001b[1mwandb\u001b[0m: \tactivation_func: silu\n",
      "\u001b[34m\u001b[1mwandb\u001b[0m: \tbatch_normalisation: True\n",
      "\u001b[34m\u001b[1mwandb\u001b[0m: \tbatch_size: 16\n",
      "\u001b[34m\u001b[1mwandb\u001b[0m: \tdata_augmentation: Yes\n",
      "\u001b[34m\u001b[1mwandb\u001b[0m: \tdropout_rate: 0.2432752732671815\n",
      "\u001b[34m\u001b[1mwandb\u001b[0m: \tfilter_org: 2\n",
      "\u001b[34m\u001b[1mwandb\u001b[0m: \tlearning_rate: 0.0026266654750572295\n",
      "\u001b[34m\u001b[1mwandb\u001b[0m: \tnum_dense: 256\n",
      "\u001b[34m\u001b[1mwandb\u001b[0m: \tnum_filters: 64\n",
      "\u001b[34m\u001b[1mwandb\u001b[0m: \toptimizer: momentum\n",
      "\u001b[34m\u001b[1mwandb\u001b[0m: \tsize_filters: 5\n",
      "\u001b[34m\u001b[1mwandb\u001b[0m: \u001b[33mWARNING\u001b[0m If you're specifying your api key in code, ensure this code is not shared publicly.\n",
      "\u001b[34m\u001b[1mwandb\u001b[0m: \u001b[33mWARNING\u001b[0m Consider setting the WANDB_API_KEY environment variable, or running `wandb login` from the command line.\n",
      "\u001b[34m\u001b[1mwandb\u001b[0m: Appending key for api.wandb.ai to your netrc file: /root/.netrc\n"
     ]
    },
    {
     "data": {
      "text/html": [
       "Tracking run with wandb version 0.19.6"
      ],
      "text/plain": [
       "<IPython.core.display.HTML object>"
      ]
     },
     "metadata": {},
     "output_type": "display_data"
    },
    {
     "data": {
      "text/html": [
       "Run data is saved locally in <code>/kaggle/working/wandb/run-20250412_200735-m4p7zekm</code>"
      ],
      "text/plain": [
       "<IPython.core.display.HTML object>"
      ]
     },
     "metadata": {},
     "output_type": "display_data"
    },
    {
     "data": {
      "text/html": [
       "Syncing run <strong><a href='https://wandb.ai/ishita49-indian-institute-of-technology-madras/DA6401_Assign2/runs/m4p7zekm' target=\"_blank\">major-sweep-20</a></strong> to <a href='https://wandb.ai/ishita49-indian-institute-of-technology-madras/DA6401_Assign2' target=\"_blank\">Weights & Biases</a> (<a href='https://wandb.me/developer-guide' target=\"_blank\">docs</a>)<br>Sweep page: <a href='https://wandb.ai/ishita49-indian-institute-of-technology-madras/DA6401_Assign2/sweeps/ix36j15i' target=\"_blank\">https://wandb.ai/ishita49-indian-institute-of-technology-madras/DA6401_Assign2/sweeps/ix36j15i</a>"
      ],
      "text/plain": [
       "<IPython.core.display.HTML object>"
      ]
     },
     "metadata": {},
     "output_type": "display_data"
    },
    {
     "data": {
      "text/html": [
       " View project at <a href='https://wandb.ai/ishita49-indian-institute-of-technology-madras/DA6401_Assign2' target=\"_blank\">https://wandb.ai/ishita49-indian-institute-of-technology-madras/DA6401_Assign2</a>"
      ],
      "text/plain": [
       "<IPython.core.display.HTML object>"
      ]
     },
     "metadata": {},
     "output_type": "display_data"
    },
    {
     "data": {
      "text/html": [
       " View sweep at <a href='https://wandb.ai/ishita49-indian-institute-of-technology-madras/DA6401_Assign2/sweeps/ix36j15i' target=\"_blank\">https://wandb.ai/ishita49-indian-institute-of-technology-madras/DA6401_Assign2/sweeps/ix36j15i</a>"
      ],
      "text/plain": [
       "<IPython.core.display.HTML object>"
      ]
     },
     "metadata": {},
     "output_type": "display_data"
    },
    {
     "data": {
      "text/html": [
       " View run at <a href='https://wandb.ai/ishita49-indian-institute-of-technology-madras/DA6401_Assign2/runs/m4p7zekm' target=\"_blank\">https://wandb.ai/ishita49-indian-institute-of-technology-madras/DA6401_Assign2/runs/m4p7zekm</a>"
      ],
      "text/plain": [
       "<IPython.core.display.HTML object>"
      ]
     },
     "metadata": {},
     "output_type": "display_data"
    },
    {
     "name": "stdout",
     "output_type": "stream",
     "text": [
      "Using 2 GPUs\n",
      "training...\n",
      "Epoch [1/20], Loss: 2.3683\n",
      "Epoch [2/20], Loss: 2.3134\n",
      "Epoch [3/20], Loss: 2.2976\n",
      "Epoch [4/20], Loss: 2.2693\n",
      "Epoch [5/20], Loss: 2.2729\n",
      "Epoch [6/20], Loss: 2.2560\n",
      "Epoch [7/20], Loss: 2.2454\n",
      "Epoch [8/20], Loss: 2.2430\n",
      "Epoch [9/20], Loss: 2.2215\n",
      "Epoch [10/20], Loss: 2.2142\n",
      "Epoch [11/20], Loss: 2.1957\n",
      "Epoch [12/20], Loss: 2.1962\n",
      "Epoch [13/20], Loss: 2.1850\n",
      "Epoch [14/20], Loss: 2.1727\n",
      "Epoch [15/20], Loss: 2.1603\n",
      "Epoch [16/20], Loss: 2.1438\n",
      "Epoch [17/20], Loss: 2.1363\n",
      "Epoch [18/20], Loss: 2.1385\n",
      "Epoch [19/20], Loss: 2.1238\n",
      "Epoch [20/20], Loss: 2.1095\n",
      "Validation Accuracy: 28.25%\n"
     ]
    },
    {
     "data": {
      "text/html": [],
      "text/plain": [
       "<IPython.core.display.HTML object>"
      ]
     },
     "metadata": {},
     "output_type": "display_data"
    },
    {
     "data": {
      "text/html": [
       "<br>    <style><br>        .wandb-row {<br>            display: flex;<br>            flex-direction: row;<br>            flex-wrap: wrap;<br>            justify-content: flex-start;<br>            width: 100%;<br>        }<br>        .wandb-col {<br>            display: flex;<br>            flex-direction: column;<br>            flex-basis: 100%;<br>            flex: 1;<br>            padding: 10px;<br>        }<br>    </style><br><div class=\"wandb-row\"><div class=\"wandb-col\"><h3>Run history:</h3><br/><table class=\"wandb\"><tr><td>epoch</td><td>▁▁▂▂▂▃▃▄▄▄▅▅▅▆▆▇▇▇██</td></tr><tr><td>train_loss</td><td>█▇▆▅▅▅▅▅▄▄▃▃▃▃▂▂▂▂▁▁</td></tr><tr><td>val_accuracy</td><td>▁</td></tr></table><br/></div><div class=\"wandb-col\"><h3>Run summary:</h3><br/><table class=\"wandb\"><tr><td>epoch</td><td>20</td></tr><tr><td>train_loss</td><td>2.10946</td></tr><tr><td>val_accuracy</td><td>28.25</td></tr></table><br/></div></div>"
      ],
      "text/plain": [
       "<IPython.core.display.HTML object>"
      ]
     },
     "metadata": {},
     "output_type": "display_data"
    },
    {
     "data": {
      "text/html": [
       " View run <strong style=\"color:#cdcd00\">major-sweep-20</strong> at: <a href='https://wandb.ai/ishita49-indian-institute-of-technology-madras/DA6401_Assign2/runs/m4p7zekm' target=\"_blank\">https://wandb.ai/ishita49-indian-institute-of-technology-madras/DA6401_Assign2/runs/m4p7zekm</a><br> View project at: <a href='https://wandb.ai/ishita49-indian-institute-of-technology-madras/DA6401_Assign2' target=\"_blank\">https://wandb.ai/ishita49-indian-institute-of-technology-madras/DA6401_Assign2</a><br>Synced 5 W&B file(s), 0 media file(s), 0 artifact file(s) and 0 other file(s)"
      ],
      "text/plain": [
       "<IPython.core.display.HTML object>"
      ]
     },
     "metadata": {},
     "output_type": "display_data"
    },
    {
     "data": {
      "text/html": [
       "Find logs at: <code>./wandb/run-20250412_200735-m4p7zekm/logs</code>"
      ],
      "text/plain": [
       "<IPython.core.display.HTML object>"
      ]
     },
     "metadata": {},
     "output_type": "display_data"
    },
    {
     "name": "stderr",
     "output_type": "stream",
     "text": [
      "\u001b[34m\u001b[1mwandb\u001b[0m: Agent Starting Run: uaqgq4o0 with config:\n",
      "\u001b[34m\u001b[1mwandb\u001b[0m: \tactivation_func: silu\n",
      "\u001b[34m\u001b[1mwandb\u001b[0m: \tbatch_normalisation: False\n",
      "\u001b[34m\u001b[1mwandb\u001b[0m: \tbatch_size: 32\n",
      "\u001b[34m\u001b[1mwandb\u001b[0m: \tdata_augmentation: No\n",
      "\u001b[34m\u001b[1mwandb\u001b[0m: \tdropout_rate: 0.2731739913939558\n",
      "\u001b[34m\u001b[1mwandb\u001b[0m: \tfilter_org: 1\n",
      "\u001b[34m\u001b[1mwandb\u001b[0m: \tlearning_rate: 0.0026399044072486283\n",
      "\u001b[34m\u001b[1mwandb\u001b[0m: \tnum_dense: 128\n",
      "\u001b[34m\u001b[1mwandb\u001b[0m: \tnum_filters: 64\n",
      "\u001b[34m\u001b[1mwandb\u001b[0m: \toptimizer: sgd\n",
      "\u001b[34m\u001b[1mwandb\u001b[0m: \tsize_filters: 10\n",
      "\u001b[34m\u001b[1mwandb\u001b[0m: \u001b[33mWARNING\u001b[0m If you're specifying your api key in code, ensure this code is not shared publicly.\n",
      "\u001b[34m\u001b[1mwandb\u001b[0m: \u001b[33mWARNING\u001b[0m Consider setting the WANDB_API_KEY environment variable, or running `wandb login` from the command line.\n",
      "\u001b[34m\u001b[1mwandb\u001b[0m: Appending key for api.wandb.ai to your netrc file: /root/.netrc\n"
     ]
    },
    {
     "data": {
      "text/html": [
       "Tracking run with wandb version 0.19.6"
      ],
      "text/plain": [
       "<IPython.core.display.HTML object>"
      ]
     },
     "metadata": {},
     "output_type": "display_data"
    },
    {
     "data": {
      "text/html": [
       "Run data is saved locally in <code>/kaggle/working/wandb/run-20250412_203754-uaqgq4o0</code>"
      ],
      "text/plain": [
       "<IPython.core.display.HTML object>"
      ]
     },
     "metadata": {},
     "output_type": "display_data"
    },
    {
     "data": {
      "text/html": [
       "Syncing run <strong><a href='https://wandb.ai/ishita49-indian-institute-of-technology-madras/DA6401_Assign2/runs/uaqgq4o0' target=\"_blank\">dutiful-sweep-21</a></strong> to <a href='https://wandb.ai/ishita49-indian-institute-of-technology-madras/DA6401_Assign2' target=\"_blank\">Weights & Biases</a> (<a href='https://wandb.me/developer-guide' target=\"_blank\">docs</a>)<br>Sweep page: <a href='https://wandb.ai/ishita49-indian-institute-of-technology-madras/DA6401_Assign2/sweeps/ix36j15i' target=\"_blank\">https://wandb.ai/ishita49-indian-institute-of-technology-madras/DA6401_Assign2/sweeps/ix36j15i</a>"
      ],
      "text/plain": [
       "<IPython.core.display.HTML object>"
      ]
     },
     "metadata": {},
     "output_type": "display_data"
    },
    {
     "data": {
      "text/html": [
       " View project at <a href='https://wandb.ai/ishita49-indian-institute-of-technology-madras/DA6401_Assign2' target=\"_blank\">https://wandb.ai/ishita49-indian-institute-of-technology-madras/DA6401_Assign2</a>"
      ],
      "text/plain": [
       "<IPython.core.display.HTML object>"
      ]
     },
     "metadata": {},
     "output_type": "display_data"
    },
    {
     "data": {
      "text/html": [
       " View sweep at <a href='https://wandb.ai/ishita49-indian-institute-of-technology-madras/DA6401_Assign2/sweeps/ix36j15i' target=\"_blank\">https://wandb.ai/ishita49-indian-institute-of-technology-madras/DA6401_Assign2/sweeps/ix36j15i</a>"
      ],
      "text/plain": [
       "<IPython.core.display.HTML object>"
      ]
     },
     "metadata": {},
     "output_type": "display_data"
    },
    {
     "data": {
      "text/html": [
       " View run at <a href='https://wandb.ai/ishita49-indian-institute-of-technology-madras/DA6401_Assign2/runs/uaqgq4o0' target=\"_blank\">https://wandb.ai/ishita49-indian-institute-of-technology-madras/DA6401_Assign2/runs/uaqgq4o0</a>"
      ],
      "text/plain": [
       "<IPython.core.display.HTML object>"
      ]
     },
     "metadata": {},
     "output_type": "display_data"
    },
    {
     "name": "stdout",
     "output_type": "stream",
     "text": [
      "Using 2 GPUs\n",
      "training...\n",
      "Epoch [1/20], Loss: 2.3049\n",
      "Epoch [2/20], Loss: 2.3048\n",
      "Epoch [3/20], Loss: 2.3043\n",
      "Epoch [4/20], Loss: 2.3042\n",
      "Epoch [5/20], Loss: 2.3039\n",
      "Epoch [6/20], Loss: 2.3037\n",
      "Epoch [7/20], Loss: 2.3037\n",
      "Epoch [8/20], Loss: 2.3033\n",
      "Epoch [9/20], Loss: 2.3033\n",
      "Epoch [10/20], Loss: 2.3033\n",
      "Epoch [11/20], Loss: 2.3027\n",
      "Epoch [12/20], Loss: 2.3033\n",
      "Epoch [13/20], Loss: 2.3029\n",
      "Epoch [14/20], Loss: 2.3029\n",
      "Epoch [15/20], Loss: 2.3029\n",
      "Epoch [16/20], Loss: 2.3029\n",
      "Epoch [17/20], Loss: 2.3028\n",
      "Epoch [18/20], Loss: 2.3031\n",
      "Epoch [19/20], Loss: 2.3027\n",
      "Epoch [20/20], Loss: 2.3029\n",
      "Validation Accuracy: 10.00%\n"
     ]
    },
    {
     "data": {
      "text/html": [],
      "text/plain": [
       "<IPython.core.display.HTML object>"
      ]
     },
     "metadata": {},
     "output_type": "display_data"
    },
    {
     "data": {
      "text/html": [
       "<br>    <style><br>        .wandb-row {<br>            display: flex;<br>            flex-direction: row;<br>            flex-wrap: wrap;<br>            justify-content: flex-start;<br>            width: 100%;<br>        }<br>        .wandb-col {<br>            display: flex;<br>            flex-direction: column;<br>            flex-basis: 100%;<br>            flex: 1;<br>            padding: 10px;<br>        }<br>    </style><br><div class=\"wandb-row\"><div class=\"wandb-col\"><h3>Run history:</h3><br/><table class=\"wandb\"><tr><td>epoch</td><td>▁▁▂▂▂▃▃▄▄▄▅▅▅▆▆▇▇▇██</td></tr><tr><td>train_loss</td><td>██▆▆▅▄▄▃▃▃▁▃▁▂▁▂▁▂▁▁</td></tr><tr><td>val_accuracy</td><td>▁</td></tr></table><br/></div><div class=\"wandb-col\"><h3>Run summary:</h3><br/><table class=\"wandb\"><tr><td>epoch</td><td>20</td></tr><tr><td>train_loss</td><td>2.30288</td></tr><tr><td>val_accuracy</td><td>10</td></tr></table><br/></div></div>"
      ],
      "text/plain": [
       "<IPython.core.display.HTML object>"
      ]
     },
     "metadata": {},
     "output_type": "display_data"
    },
    {
     "data": {
      "text/html": [
       " View run <strong style=\"color:#cdcd00\">dutiful-sweep-21</strong> at: <a href='https://wandb.ai/ishita49-indian-institute-of-technology-madras/DA6401_Assign2/runs/uaqgq4o0' target=\"_blank\">https://wandb.ai/ishita49-indian-institute-of-technology-madras/DA6401_Assign2/runs/uaqgq4o0</a><br> View project at: <a href='https://wandb.ai/ishita49-indian-institute-of-technology-madras/DA6401_Assign2' target=\"_blank\">https://wandb.ai/ishita49-indian-institute-of-technology-madras/DA6401_Assign2</a><br>Synced 5 W&B file(s), 0 media file(s), 0 artifact file(s) and 0 other file(s)"
      ],
      "text/plain": [
       "<IPython.core.display.HTML object>"
      ]
     },
     "metadata": {},
     "output_type": "display_data"
    },
    {
     "data": {
      "text/html": [
       "Find logs at: <code>./wandb/run-20250412_203754-uaqgq4o0/logs</code>"
      ],
      "text/plain": [
       "<IPython.core.display.HTML object>"
      ]
     },
     "metadata": {},
     "output_type": "display_data"
    },
    {
     "name": "stderr",
     "output_type": "stream",
     "text": [
      "\u001b[34m\u001b[1mwandb\u001b[0m: Agent Starting Run: l4a8l5sc with config:\n",
      "\u001b[34m\u001b[1mwandb\u001b[0m: \tactivation_func: silu\n",
      "\u001b[34m\u001b[1mwandb\u001b[0m: \tbatch_normalisation: False\n",
      "\u001b[34m\u001b[1mwandb\u001b[0m: \tbatch_size: 64\n",
      "\u001b[34m\u001b[1mwandb\u001b[0m: \tdata_augmentation: Yes\n",
      "\u001b[34m\u001b[1mwandb\u001b[0m: \tdropout_rate: 0.34462164541896084\n",
      "\u001b[34m\u001b[1mwandb\u001b[0m: \tfilter_org: 0.5\n",
      "\u001b[34m\u001b[1mwandb\u001b[0m: \tlearning_rate: 0.008760229643837856\n",
      "\u001b[34m\u001b[1mwandb\u001b[0m: \tnum_dense: 512\n",
      "\u001b[34m\u001b[1mwandb\u001b[0m: \tnum_filters: 32\n",
      "\u001b[34m\u001b[1mwandb\u001b[0m: \toptimizer: sgd\n",
      "\u001b[34m\u001b[1mwandb\u001b[0m: \tsize_filters: 5\n",
      "\u001b[34m\u001b[1mwandb\u001b[0m: \u001b[33mWARNING\u001b[0m If you're specifying your api key in code, ensure this code is not shared publicly.\n",
      "\u001b[34m\u001b[1mwandb\u001b[0m: \u001b[33mWARNING\u001b[0m Consider setting the WANDB_API_KEY environment variable, or running `wandb login` from the command line.\n",
      "\u001b[34m\u001b[1mwandb\u001b[0m: Appending key for api.wandb.ai to your netrc file: /root/.netrc\n"
     ]
    },
    {
     "data": {
      "text/html": [
       "Tracking run with wandb version 0.19.6"
      ],
      "text/plain": [
       "<IPython.core.display.HTML object>"
      ]
     },
     "metadata": {},
     "output_type": "display_data"
    },
    {
     "data": {
      "text/html": [
       "Run data is saved locally in <code>/kaggle/working/wandb/run-20250412_205835-l4a8l5sc</code>"
      ],
      "text/plain": [
       "<IPython.core.display.HTML object>"
      ]
     },
     "metadata": {},
     "output_type": "display_data"
    },
    {
     "data": {
      "text/html": [
       "Syncing run <strong><a href='https://wandb.ai/ishita49-indian-institute-of-technology-madras/DA6401_Assign2/runs/l4a8l5sc' target=\"_blank\">cosmic-sweep-22</a></strong> to <a href='https://wandb.ai/ishita49-indian-institute-of-technology-madras/DA6401_Assign2' target=\"_blank\">Weights & Biases</a> (<a href='https://wandb.me/developer-guide' target=\"_blank\">docs</a>)<br>Sweep page: <a href='https://wandb.ai/ishita49-indian-institute-of-technology-madras/DA6401_Assign2/sweeps/ix36j15i' target=\"_blank\">https://wandb.ai/ishita49-indian-institute-of-technology-madras/DA6401_Assign2/sweeps/ix36j15i</a>"
      ],
      "text/plain": [
       "<IPython.core.display.HTML object>"
      ]
     },
     "metadata": {},
     "output_type": "display_data"
    },
    {
     "data": {
      "text/html": [
       " View project at <a href='https://wandb.ai/ishita49-indian-institute-of-technology-madras/DA6401_Assign2' target=\"_blank\">https://wandb.ai/ishita49-indian-institute-of-technology-madras/DA6401_Assign2</a>"
      ],
      "text/plain": [
       "<IPython.core.display.HTML object>"
      ]
     },
     "metadata": {},
     "output_type": "display_data"
    },
    {
     "data": {
      "text/html": [
       " View sweep at <a href='https://wandb.ai/ishita49-indian-institute-of-technology-madras/DA6401_Assign2/sweeps/ix36j15i' target=\"_blank\">https://wandb.ai/ishita49-indian-institute-of-technology-madras/DA6401_Assign2/sweeps/ix36j15i</a>"
      ],
      "text/plain": [
       "<IPython.core.display.HTML object>"
      ]
     },
     "metadata": {},
     "output_type": "display_data"
    },
    {
     "data": {
      "text/html": [
       " View run at <a href='https://wandb.ai/ishita49-indian-institute-of-technology-madras/DA6401_Assign2/runs/l4a8l5sc' target=\"_blank\">https://wandb.ai/ishita49-indian-institute-of-technology-madras/DA6401_Assign2/runs/l4a8l5sc</a>"
      ],
      "text/plain": [
       "<IPython.core.display.HTML object>"
      ]
     },
     "metadata": {},
     "output_type": "display_data"
    },
    {
     "name": "stdout",
     "output_type": "stream",
     "text": [
      "Using 2 GPUs\n",
      "training...\n",
      "Epoch [1/20], Loss: 2.3081\n",
      "Epoch [2/20], Loss: 2.3066\n",
      "Epoch [3/20], Loss: 2.3063\n",
      "Epoch [4/20], Loss: 2.3072\n",
      "Epoch [5/20], Loss: 2.3069\n",
      "Epoch [6/20], Loss: 2.3066\n",
      "Epoch [7/20], Loss: 2.3064\n",
      "Epoch [8/20], Loss: 2.3061\n",
      "Epoch [9/20], Loss: 2.3064\n",
      "Epoch [10/20], Loss: 2.3085\n",
      "Epoch [11/20], Loss: 2.3073\n",
      "Epoch [12/20], Loss: 2.3063\n",
      "Epoch [13/20], Loss: 2.3060\n",
      "Epoch [14/20], Loss: 2.3074\n",
      "Epoch [15/20], Loss: 2.3074\n",
      "Epoch [16/20], Loss: 2.3066\n",
      "Epoch [17/20], Loss: 2.3078\n",
      "Epoch [18/20], Loss: 2.3074\n",
      "Epoch [19/20], Loss: 2.3058\n",
      "Epoch [20/20], Loss: 2.3059\n",
      "Validation Accuracy: 10.00%\n"
     ]
    },
    {
     "data": {
      "text/html": [],
      "text/plain": [
       "<IPython.core.display.HTML object>"
      ]
     },
     "metadata": {},
     "output_type": "display_data"
    },
    {
     "data": {
      "text/html": [
       "<br>    <style><br>        .wandb-row {<br>            display: flex;<br>            flex-direction: row;<br>            flex-wrap: wrap;<br>            justify-content: flex-start;<br>            width: 100%;<br>        }<br>        .wandb-col {<br>            display: flex;<br>            flex-direction: column;<br>            flex-basis: 100%;<br>            flex: 1;<br>            padding: 10px;<br>        }<br>    </style><br><div class=\"wandb-row\"><div class=\"wandb-col\"><h3>Run history:</h3><br/><table class=\"wandb\"><tr><td>epoch</td><td>▁▁▂▂▂▃▃▄▄▄▅▅▅▆▆▇▇▇██</td></tr><tr><td>train_loss</td><td>▇▃▂▅▄▃▃▂▃█▅▂▂▅▅▃▆▅▁▁</td></tr><tr><td>val_accuracy</td><td>▁</td></tr></table><br/></div><div class=\"wandb-col\"><h3>Run summary:</h3><br/><table class=\"wandb\"><tr><td>epoch</td><td>20</td></tr><tr><td>train_loss</td><td>2.30592</td></tr><tr><td>val_accuracy</td><td>10</td></tr></table><br/></div></div>"
      ],
      "text/plain": [
       "<IPython.core.display.HTML object>"
      ]
     },
     "metadata": {},
     "output_type": "display_data"
    },
    {
     "data": {
      "text/html": [
       " View run <strong style=\"color:#cdcd00\">cosmic-sweep-22</strong> at: <a href='https://wandb.ai/ishita49-indian-institute-of-technology-madras/DA6401_Assign2/runs/l4a8l5sc' target=\"_blank\">https://wandb.ai/ishita49-indian-institute-of-technology-madras/DA6401_Assign2/runs/l4a8l5sc</a><br> View project at: <a href='https://wandb.ai/ishita49-indian-institute-of-technology-madras/DA6401_Assign2' target=\"_blank\">https://wandb.ai/ishita49-indian-institute-of-technology-madras/DA6401_Assign2</a><br>Synced 5 W&B file(s), 0 media file(s), 0 artifact file(s) and 0 other file(s)"
      ],
      "text/plain": [
       "<IPython.core.display.HTML object>"
      ]
     },
     "metadata": {},
     "output_type": "display_data"
    },
    {
     "data": {
      "text/html": [
       "Find logs at: <code>./wandb/run-20250412_205835-l4a8l5sc/logs</code>"
      ],
      "text/plain": [
       "<IPython.core.display.HTML object>"
      ]
     },
     "metadata": {},
     "output_type": "display_data"
    },
    {
     "name": "stderr",
     "output_type": "stream",
     "text": [
      "\u001b[34m\u001b[1mwandb\u001b[0m: Agent Starting Run: da5m7oed with config:\n",
      "\u001b[34m\u001b[1mwandb\u001b[0m: \tactivation_func: silu\n",
      "\u001b[34m\u001b[1mwandb\u001b[0m: \tbatch_normalisation: False\n",
      "\u001b[34m\u001b[1mwandb\u001b[0m: \tbatch_size: 64\n",
      "\u001b[34m\u001b[1mwandb\u001b[0m: \tdata_augmentation: No\n",
      "\u001b[34m\u001b[1mwandb\u001b[0m: \tdropout_rate: 0.3957371450977386\n",
      "\u001b[34m\u001b[1mwandb\u001b[0m: \tfilter_org: 0.5\n",
      "\u001b[34m\u001b[1mwandb\u001b[0m: \tlearning_rate: 0.0019847665770792154\n",
      "\u001b[34m\u001b[1mwandb\u001b[0m: \tnum_dense: 512\n",
      "\u001b[34m\u001b[1mwandb\u001b[0m: \tnum_filters: 32\n",
      "\u001b[34m\u001b[1mwandb\u001b[0m: \toptimizer: sgd\n",
      "\u001b[34m\u001b[1mwandb\u001b[0m: \tsize_filters: 5\n",
      "\u001b[34m\u001b[1mwandb\u001b[0m: \u001b[33mWARNING\u001b[0m If you're specifying your api key in code, ensure this code is not shared publicly.\n",
      "\u001b[34m\u001b[1mwandb\u001b[0m: \u001b[33mWARNING\u001b[0m Consider setting the WANDB_API_KEY environment variable, or running `wandb login` from the command line.\n",
      "\u001b[34m\u001b[1mwandb\u001b[0m: Appending key for api.wandb.ai to your netrc file: /root/.netrc\n"
     ]
    },
    {
     "data": {
      "text/html": [
       "Tracking run with wandb version 0.19.6"
      ],
      "text/plain": [
       "<IPython.core.display.HTML object>"
      ]
     },
     "metadata": {},
     "output_type": "display_data"
    },
    {
     "data": {
      "text/html": [
       "Run data is saved locally in <code>/kaggle/working/wandb/run-20250412_212428-da5m7oed</code>"
      ],
      "text/plain": [
       "<IPython.core.display.HTML object>"
      ]
     },
     "metadata": {},
     "output_type": "display_data"
    },
    {
     "data": {
      "text/html": [
       "Syncing run <strong><a href='https://wandb.ai/ishita49-indian-institute-of-technology-madras/DA6401_Assign2/runs/da5m7oed' target=\"_blank\">volcanic-sweep-23</a></strong> to <a href='https://wandb.ai/ishita49-indian-institute-of-technology-madras/DA6401_Assign2' target=\"_blank\">Weights & Biases</a> (<a href='https://wandb.me/developer-guide' target=\"_blank\">docs</a>)<br>Sweep page: <a href='https://wandb.ai/ishita49-indian-institute-of-technology-madras/DA6401_Assign2/sweeps/ix36j15i' target=\"_blank\">https://wandb.ai/ishita49-indian-institute-of-technology-madras/DA6401_Assign2/sweeps/ix36j15i</a>"
      ],
      "text/plain": [
       "<IPython.core.display.HTML object>"
      ]
     },
     "metadata": {},
     "output_type": "display_data"
    },
    {
     "data": {
      "text/html": [
       " View project at <a href='https://wandb.ai/ishita49-indian-institute-of-technology-madras/DA6401_Assign2' target=\"_blank\">https://wandb.ai/ishita49-indian-institute-of-technology-madras/DA6401_Assign2</a>"
      ],
      "text/plain": [
       "<IPython.core.display.HTML object>"
      ]
     },
     "metadata": {},
     "output_type": "display_data"
    },
    {
     "data": {
      "text/html": [
       " View sweep at <a href='https://wandb.ai/ishita49-indian-institute-of-technology-madras/DA6401_Assign2/sweeps/ix36j15i' target=\"_blank\">https://wandb.ai/ishita49-indian-institute-of-technology-madras/DA6401_Assign2/sweeps/ix36j15i</a>"
      ],
      "text/plain": [
       "<IPython.core.display.HTML object>"
      ]
     },
     "metadata": {},
     "output_type": "display_data"
    },
    {
     "data": {
      "text/html": [
       " View run at <a href='https://wandb.ai/ishita49-indian-institute-of-technology-madras/DA6401_Assign2/runs/da5m7oed' target=\"_blank\">https://wandb.ai/ishita49-indian-institute-of-technology-madras/DA6401_Assign2/runs/da5m7oed</a>"
      ],
      "text/plain": [
       "<IPython.core.display.HTML object>"
      ]
     },
     "metadata": {},
     "output_type": "display_data"
    },
    {
     "name": "stdout",
     "output_type": "stream",
     "text": [
      "Using 2 GPUs\n",
      "training...\n",
      "Epoch [1/20], Loss: 2.3100\n",
      "Epoch [2/20], Loss: 2.3101\n",
      "Epoch [3/20], Loss: 2.3083\n",
      "Epoch [4/20], Loss: 2.3077\n",
      "Epoch [5/20], Loss: 2.3079\n",
      "Epoch [6/20], Loss: 2.3050\n",
      "Epoch [7/20], Loss: 2.3061\n",
      "Epoch [8/20], Loss: 2.3068\n",
      "Epoch [9/20], Loss: 2.3067\n",
      "Epoch [10/20], Loss: 2.3063\n",
      "Epoch [11/20], Loss: 2.3069\n",
      "Epoch [12/20], Loss: 2.3069\n",
      "Epoch [13/20], Loss: 2.3082\n",
      "Epoch [14/20], Loss: 2.3061\n",
      "Epoch [15/20], Loss: 2.3064\n",
      "Epoch [16/20], Loss: 2.3051\n",
      "Epoch [17/20], Loss: 2.3081\n",
      "Epoch [18/20], Loss: 2.3073\n",
      "Epoch [19/20], Loss: 2.3081\n",
      "Epoch [20/20], Loss: 2.3062\n",
      "Validation Accuracy: 10.10%\n"
     ]
    },
    {
     "data": {
      "text/html": [],
      "text/plain": [
       "<IPython.core.display.HTML object>"
      ]
     },
     "metadata": {},
     "output_type": "display_data"
    },
    {
     "data": {
      "text/html": [
       "<br>    <style><br>        .wandb-row {<br>            display: flex;<br>            flex-direction: row;<br>            flex-wrap: wrap;<br>            justify-content: flex-start;<br>            width: 100%;<br>        }<br>        .wandb-col {<br>            display: flex;<br>            flex-direction: column;<br>            flex-basis: 100%;<br>            flex: 1;<br>            padding: 10px;<br>        }<br>    </style><br><div class=\"wandb-row\"><div class=\"wandb-col\"><h3>Run history:</h3><br/><table class=\"wandb\"><tr><td>epoch</td><td>▁▁▂▂▂▃▃▄▄▄▅▅▅▆▆▇▇▇██</td></tr><tr><td>train_loss</td><td>██▆▅▅▁▂▃▃▃▄▄▅▃▃▁▅▄▅▃</td></tr><tr><td>val_accuracy</td><td>▁</td></tr></table><br/></div><div class=\"wandb-col\"><h3>Run summary:</h3><br/><table class=\"wandb\"><tr><td>epoch</td><td>20</td></tr><tr><td>train_loss</td><td>2.30621</td></tr><tr><td>val_accuracy</td><td>10.1</td></tr></table><br/></div></div>"
      ],
      "text/plain": [
       "<IPython.core.display.HTML object>"
      ]
     },
     "metadata": {},
     "output_type": "display_data"
    },
    {
     "data": {
      "text/html": [
       " View run <strong style=\"color:#cdcd00\">volcanic-sweep-23</strong> at: <a href='https://wandb.ai/ishita49-indian-institute-of-technology-madras/DA6401_Assign2/runs/da5m7oed' target=\"_blank\">https://wandb.ai/ishita49-indian-institute-of-technology-madras/DA6401_Assign2/runs/da5m7oed</a><br> View project at: <a href='https://wandb.ai/ishita49-indian-institute-of-technology-madras/DA6401_Assign2' target=\"_blank\">https://wandb.ai/ishita49-indian-institute-of-technology-madras/DA6401_Assign2</a><br>Synced 5 W&B file(s), 0 media file(s), 0 artifact file(s) and 0 other file(s)"
      ],
      "text/plain": [
       "<IPython.core.display.HTML object>"
      ]
     },
     "metadata": {},
     "output_type": "display_data"
    },
    {
     "data": {
      "text/html": [
       "Find logs at: <code>./wandb/run-20250412_212428-da5m7oed/logs</code>"
      ],
      "text/plain": [
       "<IPython.core.display.HTML object>"
      ]
     },
     "metadata": {},
     "output_type": "display_data"
    },
    {
     "name": "stderr",
     "output_type": "stream",
     "text": [
      "\u001b[34m\u001b[1mwandb\u001b[0m: Sweep Agent: Waiting for job.\n",
      "\u001b[34m\u001b[1mwandb\u001b[0m: Job received.\n",
      "\u001b[34m\u001b[1mwandb\u001b[0m: Agent Starting Run: 1xgq2v17 with config:\n",
      "\u001b[34m\u001b[1mwandb\u001b[0m: \tactivation_func: gelu\n",
      "\u001b[34m\u001b[1mwandb\u001b[0m: \tbatch_normalisation: False\n",
      "\u001b[34m\u001b[1mwandb\u001b[0m: \tbatch_size: 32\n",
      "\u001b[34m\u001b[1mwandb\u001b[0m: \tdata_augmentation: No\n",
      "\u001b[34m\u001b[1mwandb\u001b[0m: \tdropout_rate: 0.27130655808110793\n",
      "\u001b[34m\u001b[1mwandb\u001b[0m: \tfilter_org: 1\n",
      "\u001b[34m\u001b[1mwandb\u001b[0m: \tlearning_rate: 0.005722038133631561\n",
      "\u001b[34m\u001b[1mwandb\u001b[0m: \tnum_dense: 256\n",
      "\u001b[34m\u001b[1mwandb\u001b[0m: \tnum_filters: 32\n",
      "\u001b[34m\u001b[1mwandb\u001b[0m: \toptimizer: adam\n",
      "\u001b[34m\u001b[1mwandb\u001b[0m: \tsize_filters: 3\n",
      "\u001b[34m\u001b[1mwandb\u001b[0m: \u001b[33mWARNING\u001b[0m If you're specifying your api key in code, ensure this code is not shared publicly.\n",
      "\u001b[34m\u001b[1mwandb\u001b[0m: \u001b[33mWARNING\u001b[0m Consider setting the WANDB_API_KEY environment variable, or running `wandb login` from the command line.\n",
      "\u001b[34m\u001b[1mwandb\u001b[0m: Appending key for api.wandb.ai to your netrc file: /root/.netrc\n"
     ]
    }
   ],
   "source": [
    "wandb.agent(sweep_id, function=train)"
   ]
  },
  {
   "cell_type": "code",
   "execution_count": 5,
   "id": "ca120a3c-4dc7-410b-a39e-491343ab628c",
   "metadata": {
    "execution": {
     "iopub.execute_input": "2025-04-16T10:20:46.909044Z",
     "iopub.status.busy": "2025-04-16T10:20:46.908769Z",
     "iopub.status.idle": "2025-04-16T10:39:59.276457Z",
     "shell.execute_reply": "2025-04-16T10:39:59.275487Z",
     "shell.execute_reply.started": "2025-04-16T10:20:46.909022Z"
    },
    "trusted": true
   },
   "outputs": [
    {
     "name": "stdout",
     "output_type": "stream",
     "text": [
      "Using 2 GPUs\n",
      "training...\n",
      "Epoch [1/20], Loss: 2.1810\n",
      "Epoch [2/20], Loss: 2.1016\n",
      "Epoch [3/20], Loss: 2.0460\n",
      "Epoch [4/20], Loss: 2.0225\n",
      "Epoch [5/20], Loss: 1.9799\n",
      "Epoch [6/20], Loss: 1.9564\n",
      "Epoch [7/20], Loss: 1.9148\n",
      "Epoch [8/20], Loss: 1.8996\n",
      "Epoch [9/20], Loss: 1.8807\n",
      "Epoch [10/20], Loss: 1.8636\n",
      "Epoch [11/20], Loss: 1.8316\n",
      "Epoch [12/20], Loss: 1.8206\n",
      "Epoch [13/20], Loss: 1.8069\n",
      "Epoch [14/20], Loss: 1.7896\n",
      "Epoch [15/20], Loss: 1.7703\n",
      "Epoch [16/20], Loss: 1.7705\n",
      "Epoch [17/20], Loss: 1.7631\n",
      "Epoch [18/20], Loss: 1.7339\n",
      "Epoch [19/20], Loss: 1.7219\n",
      "Epoch [20/20], Loss: 1.7062\n",
      "Train Accuracy: 41.27%\n",
      "Validation Accuracy: 36.40%\n"
     ]
    }
   ],
   "source": [
    "model=CNN(num_filters=64, size_filters=3, activation_func='relu', filter_org=1, num_dense=256, batch_normalisation=True, dropout_rate=0.20426922413644705, input_channels=3, num_classes=10, num_conv=5)\n",
    "\n",
    "if torch.cuda.device_count() > 1:\n",
    "    print(\"Using\", torch.cuda.device_count(), \"GPUs\")\n",
    "    model = nn.DataParallel(model)\n",
    "\n",
    "model.to(device)\n",
    "criterion = nn.CrossEntropyLoss()\n",
    "optimizer=get_optimizer(optim='momentum',lr=0.0032148335356218384,model=model)\n",
    "train_loader,val_loader=get_dataloaders(batch_size=32,augment='No')\n",
    "# Train\n",
    "num_epochs=20\n",
    "print(\"training...\")\n",
    "for epoch in range(num_epochs):\n",
    "    model.train()\n",
    "    total_loss=0\n",
    "    for i, (images, labels) in enumerate(train_loader):  \n",
    "        images = images.to(device)\n",
    "        labels = labels.to(device)\n",
    "        \n",
    "        outputs = model(images)\n",
    "        loss = criterion(outputs, labels)\n",
    "        \n",
    "        optimizer.zero_grad()\n",
    "        loss.backward()\n",
    "        optimizer.step()\n",
    "        total_loss+=loss.item()\n",
    "    avg_loss=total_loss/len(train_loader)\n",
    "    print('Epoch [{}/{}], Loss: {:.4f}'.format(epoch+1, num_epochs, avg_loss))\n",
    "\n",
    "# Validation\n",
    "model.eval()\n",
    "correct = 0\n",
    "total = 0\n",
    "with torch.no_grad():\n",
    "    for images, labels in train_loader:\n",
    "        images, labels = images.to(device), labels.to(device)\n",
    "        outputs = model(images)\n",
    "        _, predicted = torch.max(outputs.data, 1)\n",
    "        total += labels.size(0)\n",
    "        correct += (predicted == labels).sum().item()\n",
    "\n",
    "accuracy = 100 * correct / total\n",
    "print('Train Accuracy: {:.2f}%'.format(accuracy))\n",
    "\n",
    "# Validation\n",
    "model.eval()\n",
    "correct = 0\n",
    "total = 0\n",
    "with torch.no_grad():\n",
    "    for images, labels in val_loader:\n",
    "        images, labels = images.to(device), labels.to(device)\n",
    "        outputs = model(images)\n",
    "        _, predicted = torch.max(outputs.data, 1)\n",
    "        total += labels.size(0)\n",
    "        correct += (predicted == labels).sum().item()\n",
    "\n",
    "accuracy = 100 * correct / total\n",
    "print('Validation Accuracy: {:.2f}%'.format(accuracy))"
   ]
  },
  {
   "cell_type": "code",
   "execution_count": 8,
   "id": "656c9eba-90b6-41c4-8c53-98f46824a674",
   "metadata": {
    "execution": {
     "iopub.execute_input": "2025-04-16T10:41:57.234726Z",
     "iopub.status.busy": "2025-04-16T10:41:57.234162Z",
     "iopub.status.idle": "2025-04-16T10:42:17.534734Z",
     "shell.execute_reply": "2025-04-16T10:42:17.533732Z",
     "shell.execute_reply.started": "2025-04-16T10:41:57.234698Z"
    },
    "trusted": true
   },
   "outputs": [
    {
     "name": "stdout",
     "output_type": "stream",
     "text": [
      "Test Accuracy: 37.10%\n"
     ]
    }
   ],
   "source": [
    "def test_dataloader(dir='/kaggle/input/nature-12k/inaturalist_12K/val',batch_size=32):\n",
    "    labels = datasets.ImageFolder(root=dir).targets\n",
    "    \n",
    "    all_transforms = transforms.Compose([\n",
    "        transforms.Resize((224, 224)),\n",
    "        transforms.ToTensor(),\n",
    "        transforms.Normalize(mean=[0.485, 0.456, 0.406],\n",
    "                            std=[0.229, 0.224, 0.225])\n",
    "    ])\n",
    "    \n",
    "    test_dataset=datasets.ImageFolder(root=dir,transform=all_transforms)\n",
    "    test_loader = DataLoader(test_dataset, batch_size=batch_size, num_workers=2)\n",
    "\n",
    "    return test_loader\n",
    "\n",
    "test_loader=test_dataloader(batch_size=32)\n",
    "\n",
    "# Test\n",
    "model.eval()\n",
    "correct = 0\n",
    "total = 0\n",
    "with torch.no_grad():\n",
    "    for images, labels in test_loader:\n",
    "        images, labels = images.to(device), labels.to(device)\n",
    "        outputs = model(images)\n",
    "        _, predicted = torch.max(outputs.data, 1)\n",
    "        total += labels.size(0)\n",
    "        correct += (predicted == labels).sum().item()\n",
    "\n",
    "accuracy = 100 * correct / total\n",
    "print('Test Accuracy: {:.2f}%'.format(accuracy))"
   ]
  },
  {
   "cell_type": "code",
   "execution_count": 20,
   "id": "5daaea2f-6d8b-4167-9b64-715eee2efe9f",
   "metadata": {
    "execution": {
     "iopub.execute_input": "2025-04-16T10:58:13.911292Z",
     "iopub.status.busy": "2025-04-16T10:58:13.911044Z",
     "iopub.status.idle": "2025-04-16T10:58:13.918501Z",
     "shell.execute_reply": "2025-04-16T10:58:13.917812Z",
     "shell.execute_reply.started": "2025-04-16T10:58:13.911274Z"
    },
    "trusted": true
   },
   "outputs": [
    {
     "name": "stdout",
     "output_type": "stream",
     "text": [
      "No. of samples in each class in training data:\n",
      "Class0: 800 samples\n",
      "Class1: 800 samples\n",
      "Class2: 800 samples\n",
      "Class3: 800 samples\n",
      "Class4: 799 samples\n",
      "Class5: 800 samples\n",
      "Class6: 800 samples\n",
      "Class7: 800 samples\n",
      "Class8: 800 samples\n",
      "Class9: 800 samples\n",
      "total samples=7999\n",
      "\n",
      "No. of samples in each class in Validation data:\n",
      "Class0: 200 samples\n",
      "Class1: 200 samples\n",
      "Class2: 200 samples\n",
      "Class3: 200 samples\n",
      "Class4: 200 samples\n",
      "Class5: 200 samples\n",
      "Class6: 200 samples\n",
      "Class7: 200 samples\n",
      "Class8: 200 samples\n",
      "Class9: 200 samples\n",
      "total samples=2000\n",
      "\n",
      "Percentage of train data kept aside for validation=20.00%\n"
     ]
    }
   ],
   "source": [
    "from collections import Counter\n",
    "\n",
    "def get_class_counts(dataloader):\n",
    "    dataset = dataloader.dataset\n",
    "    targets = [dataset.dataset.targets[i] for i in dataset.indices]\n",
    "    total=0\n",
    "    for cls,count in sorted(Counter(targets).items()):\n",
    "        print(f'Class{cls}: {count} samples')\n",
    "        total+=count\n",
    "    print(f'total samples={total}')\n",
    "    return total\n",
    "\n",
    "print('No. of samples in each class in training data:')\n",
    "train_count = get_class_counts(train_loader)\n",
    "print('\\nNo. of samples in each class in Validation data:')\n",
    "val_count = get_class_counts(val_loader)\n",
    "\n",
    "print('\\nPercentage of train data kept aside for validation={:.2f}%'.format(val_counts*100/(train_counts+val_counts)))"
   ]
  },
  {
   "cell_type": "code",
   "execution_count": 21,
   "id": "52e828db-6b9c-4e89-ae0d-37b3559731ac",
   "metadata": {
    "execution": {
     "iopub.execute_input": "2025-04-16T11:05:58.627372Z",
     "iopub.status.busy": "2025-04-16T11:05:58.626688Z",
     "iopub.status.idle": "2025-04-16T12:43:25.232365Z",
     "shell.execute_reply": "2025-04-16T12:43:25.231577Z",
     "shell.execute_reply.started": "2025-04-16T11:05:58.627349Z"
    },
    "trusted": true
   },
   "outputs": [
    {
     "name": "stdout",
     "output_type": "stream",
     "text": [
      "Using 2 GPUs\n",
      "training...\n",
      "Epoch [1/20], Loss: 2.1881\n",
      "Epoch [2/20], Loss: 2.0808\n",
      "Epoch [3/20], Loss: 2.0267\n",
      "Epoch [4/20], Loss: 1.9886\n",
      "Epoch [5/20], Loss: 1.9478\n",
      "Epoch [6/20], Loss: 1.9158\n",
      "Epoch [7/20], Loss: 1.8863\n",
      "Epoch [8/20], Loss: 1.8508\n",
      "Epoch [9/20], Loss: 1.8322\n",
      "Epoch [10/20], Loss: 1.7887\n",
      "Epoch [11/20], Loss: 1.7574\n",
      "Epoch [12/20], Loss: 1.7214\n",
      "Epoch [13/20], Loss: 1.6999\n",
      "Epoch [14/20], Loss: 1.6507\n",
      "Epoch [15/20], Loss: 1.5966\n",
      "Epoch [16/20], Loss: 1.5685\n",
      "Epoch [17/20], Loss: 1.5072\n",
      "Epoch [18/20], Loss: 1.4440\n",
      "Epoch [19/20], Loss: 1.3559\n",
      "Epoch [20/20], Loss: 1.2720\n",
      "Train Accuracy: 43.46%\n",
      "Validation Accuracy: 28.25%\n",
      "Test Accuracy: 28.95%\n"
     ]
    }
   ],
   "source": [
    "model=CNN(num_filters=64, size_filters=10, activation_func='relu', filter_org=2, num_dense=512, batch_normalisation=True, dropout_rate=0.35298806906663843, input_channels=3, num_classes=10, num_conv=5)\n",
    "\n",
    "if torch.cuda.device_count() > 1:\n",
    "    print(\"Using\", torch.cuda.device_count(), \"GPUs\")\n",
    "    model = nn.DataParallel(model)\n",
    "\n",
    "model.to(device)\n",
    "criterion = nn.CrossEntropyLoss()\n",
    "optimizer=get_optimizer(optim='sgd',lr=0.0006349956446405355,model=model)\n",
    "train_loader,val_loader=get_dataloaders(batch_size=32,augment='No')\n",
    "# Train\n",
    "num_epochs=20\n",
    "print(\"training...\")\n",
    "for epoch in range(num_epochs):\n",
    "    model.train()\n",
    "    total_loss=0\n",
    "    for i, (images, labels) in enumerate(train_loader):  \n",
    "        images = images.to(device)\n",
    "        labels = labels.to(device)\n",
    "        \n",
    "        outputs = model(images)\n",
    "        loss = criterion(outputs, labels)\n",
    "        \n",
    "        optimizer.zero_grad()\n",
    "        loss.backward()\n",
    "        optimizer.step()\n",
    "        total_loss+=loss.item()\n",
    "    avg_loss=total_loss/len(train_loader)\n",
    "    print('Epoch [{}/{}], Loss: {:.4f}'.format(epoch+1, num_epochs, avg_loss))\n",
    "\n",
    "# Validation\n",
    "model.eval()\n",
    "correct = 0\n",
    "total = 0\n",
    "with torch.no_grad():\n",
    "    for images, labels in train_loader:\n",
    "        images, labels = images.to(device), labels.to(device)\n",
    "        outputs = model(images)\n",
    "        _, predicted = torch.max(outputs.data, 1)\n",
    "        total += labels.size(0)\n",
    "        correct += (predicted == labels).sum().item()\n",
    "\n",
    "accuracy = 100 * correct / total\n",
    "print('Train Accuracy: {:.2f}%'.format(accuracy))\n",
    "\n",
    "# Validation\n",
    "model.eval()\n",
    "correct = 0\n",
    "total = 0\n",
    "with torch.no_grad():\n",
    "    for images, labels in val_loader:\n",
    "        images, labels = images.to(device), labels.to(device)\n",
    "        outputs = model(images)\n",
    "        _, predicted = torch.max(outputs.data, 1)\n",
    "        total += labels.size(0)\n",
    "        correct += (predicted == labels).sum().item()\n",
    "\n",
    "accuracy = 100 * correct / total\n",
    "print('Validation Accuracy: {:.2f}%'.format(accuracy))\n",
    "\n",
    "test_loader=test_dataloader(batch_size=32)\n",
    "\n",
    "# Test\n",
    "model.eval()\n",
    "correct = 0\n",
    "total = 0\n",
    "with torch.no_grad():\n",
    "    for images, labels in test_loader:\n",
    "        images, labels = images.to(device), labels.to(device)\n",
    "        outputs = model(images)\n",
    "        _, predicted = torch.max(outputs.data, 1)\n",
    "        total += labels.size(0)\n",
    "        correct += (predicted == labels).sum().item()\n",
    "\n",
    "accuracy = 100 * correct / total\n",
    "print('Test Accuracy: {:.2f}%'.format(accuracy))"
   ]
  },
  {
   "cell_type": "code",
   "execution_count": 10,
   "id": "492f51e8-cebf-4075-a4a3-d948c193488b",
   "metadata": {
    "execution": {
     "iopub.execute_input": "2025-04-16T17:39:01.520059Z",
     "iopub.status.busy": "2025-04-16T17:39:01.519389Z",
     "iopub.status.idle": "2025-04-16T17:39:01.896054Z",
     "shell.execute_reply": "2025-04-16T17:39:01.895456Z",
     "shell.execute_reply.started": "2025-04-16T17:39:01.520037Z"
    },
    "trusted": true
   },
   "outputs": [
    {
     "name": "stderr",
     "output_type": "stream",
     "text": [
      "\u001b[34m\u001b[1mwandb\u001b[0m: \u001b[33mWARNING\u001b[0m If you're specifying your api key in code, ensure this code is not shared publicly.\n",
      "\u001b[34m\u001b[1mwandb\u001b[0m: \u001b[33mWARNING\u001b[0m Consider setting the WANDB_API_KEY environment variable, or running `wandb login` from the command line.\n",
      "\u001b[34m\u001b[1mwandb\u001b[0m: Appending key for api.wandb.ai to your netrc file: /root/.netrc\n",
      "\u001b[34m\u001b[1mwandb\u001b[0m: Currently logged in as: \u001b[33mishita49\u001b[0m (\u001b[33mishita49-indian-institute-of-technology-madras\u001b[0m) to \u001b[32mhttps://api.wandb.ai\u001b[0m. Use \u001b[1m`wandb login --relogin`\u001b[0m to force relogin\n"
     ]
    },
    {
     "name": "stdout",
     "output_type": "stream",
     "text": [
      "Create sweep with ID: hyhjr9sg\n",
      "Sweep URL: https://wandb.ai/ishita49-indian-institute-of-technology-madras/DA6401_Assign2/sweeps/hyhjr9sg\n"
     ]
    }
   ],
   "source": [
    "import wandb\n",
    "wandb.login(key='70a00ae1607c730fb9cd50b1268b191bec7a2901')\n",
    "# wandb.init(\n",
    "#     project=\"DA6401_Assign2\",\n",
    "# )\n",
    "sweep_config = {\n",
    "    'method': 'bayes',\n",
    "    'metric': {\n",
    "        'name': 'val_accuracy',\n",
    "        'goal': 'maximize'\n",
    "    },\n",
    "    'early_terminate': {\n",
    "        'type': 'hyperband',\n",
    "        'min_iter': 3\n",
    "    },\n",
    "    'parameters': {\n",
    "        'num_filters':{\n",
    "            'values':[64,128]\n",
    "        },\n",
    "        'size_filters':{\n",
    "            'values':[3,5,10]\n",
    "        },\n",
    "        'activation_func':{\n",
    "            'values':['relu']\n",
    "        },\n",
    "        'filter_org':{\n",
    "            'values':[1,0.5,2]\n",
    "        },\n",
    "        'num_dense':{\n",
    "            'values':[128,256,512]\n",
    "        },\n",
    "        'batch_size':{\n",
    "            'values':[16,32]\n",
    "        },\n",
    "        'optimizer':{\n",
    "            'values':['momentum']\n",
    "        },\n",
    "        'learning_rate':{\n",
    "            'min':0.001,\n",
    "            'max':0.01\n",
    "        },\n",
    "        'data_augmentation':{\n",
    "            'values':['Yes','No']\n",
    "        },\n",
    "        'batch_normalisation':{\n",
    "            'values':[True]\n",
    "        },\n",
    "        'dropout_rate':{\n",
    "            'min':0.2,\n",
    "            'max':0.4\n",
    "        }\n",
    "    }\n",
    "}\n",
    "\n",
    "sweep_id = wandb.sweep(sweep_config, project=\"DA6401_Assign2\", entity=\"ishita49-indian-institute-of-technology-madras\")"
   ]
  },
  {
   "cell_type": "code",
   "execution_count": 11,
   "id": "93a86c1e-139a-40d5-b0db-441a94b22574",
   "metadata": {
    "execution": {
     "iopub.execute_input": "2025-04-16T17:39:12.808740Z",
     "iopub.status.busy": "2025-04-16T17:39:12.808477Z",
     "iopub.status.idle": "2025-04-16T17:39:12.818956Z",
     "shell.execute_reply": "2025-04-16T17:39:12.818381Z",
     "shell.execute_reply.started": "2025-04-16T17:39:12.808721Z"
    },
    "trusted": true
   },
   "outputs": [],
   "source": [
    "from tqdm import tqdm\n",
    "\n",
    "def train():\n",
    "    config_defaults = {\n",
    "        'num_filters':64,\n",
    "        'size_filters':3,\n",
    "        'activation_func':'relu',\n",
    "        'filter_org':2,\n",
    "        'num_dense':128,\n",
    "        'batch_size':32,\n",
    "        'optimizer':'momentum',\n",
    "        'learning_rate':0.002,\n",
    "        'data_augmentation':'No',\n",
    "        'batch_normalisation':True,\n",
    "        'dropout_rate':0.25\n",
    "    }\n",
    "    wandb.init(config=config_defaults, tags=\"Updated\")\n",
    "    config = wandb.config\n",
    "\n",
    "    model = CNN(num_filters=config.num_filters,\n",
    "                size_filters=config.size_filters,\n",
    "                activation_func=config.activation_func,\n",
    "                filter_org=config.filter_org,\n",
    "                num_dense=config.num_dense,\n",
    "                batch_normalisation=config.batch_normalisation,\n",
    "                dropout_rate=config.dropout_rate,\n",
    "                num_classes=10)\n",
    "    \n",
    "    if torch.cuda.device_count() > 1:\n",
    "        print(\"Using\", torch.cuda.device_count(), \"GPUs\")\n",
    "        model = nn.DataParallel(model)\n",
    "\n",
    "    model.to(device)\n",
    "    criterion = nn.CrossEntropyLoss()\n",
    "    optimizer=get_optimizer(optim=config.optimizer,lr=config.learning_rate,model=model)\n",
    "    train_loader,val_loader=get_dataloaders(batch_size=config.batch_size,augment=config.data_augmentation)\n",
    "    # Train\n",
    "    num_epochs=20\n",
    "    print(\"training...\")\n",
    "    for epoch in range(num_epochs):\n",
    "        model.train()\n",
    "        total_loss=0\n",
    "        for images, labels in tqdm(train_loader, desc=f\"Epoch {epoch+1}/{num_epochs}\", leave=False):\n",
    "            images = images.to(device)\n",
    "            labels = labels.to(device)\n",
    "            \n",
    "            outputs = model(images)\n",
    "            loss = criterion(outputs, labels)\n",
    "            \n",
    "            optimizer.zero_grad()\n",
    "            loss.backward()\n",
    "            optimizer.step()\n",
    "            total_loss+=loss.item()\n",
    "        avg_loss=total_loss/len(train_loader)\n",
    "        print('Epoch [{}/{}], Loss: {:.4f}'.format(epoch+1, num_epochs, avg_loss))\n",
    "        wandb.log({\"epoch\": epoch + 1, \"train_loss\": avg_loss})\n",
    "    \n",
    "        # Validation\n",
    "        model.eval()\n",
    "        correct = 0\n",
    "        total = 0\n",
    "        with torch.no_grad():\n",
    "            for images, labels in val_loader:\n",
    "                images, labels = images.to(device), labels.to(device)\n",
    "                outputs = model(images)\n",
    "                _, predicted = torch.max(outputs.data, 1)\n",
    "                total += labels.size(0)\n",
    "                correct += (predicted == labels).sum().item()\n",
    "    \n",
    "        accuracy = 100 * correct / total\n",
    "        print('Validation Accuracy: {:.2f}%'.format(accuracy))\n",
    "    \n",
    "        wandb.log({\"val_accuracy\": accuracy})\n",
    "    wandb.finish()"
   ]
  },
  {
   "cell_type": "code",
   "execution_count": 12,
   "id": "57b2e897-f69b-4c0a-9a55-012df87e0f34",
   "metadata": {
    "execution": {
     "iopub.execute_input": "2025-04-16T17:39:21.285725Z",
     "iopub.status.busy": "2025-04-16T17:39:21.285367Z",
     "iopub.status.idle": "2025-04-16T22:01:06.976421Z",
     "shell.execute_reply": "2025-04-16T22:01:06.975754Z",
     "shell.execute_reply.started": "2025-04-16T17:39:21.285701Z"
    },
    "trusted": true
   },
   "outputs": [
    {
     "name": "stderr",
     "output_type": "stream",
     "text": [
      "\u001b[34m\u001b[1mwandb\u001b[0m: Agent Starting Run: a38mwtom with config:\n",
      "\u001b[34m\u001b[1mwandb\u001b[0m: \tactivation_func: relu\n",
      "\u001b[34m\u001b[1mwandb\u001b[0m: \tbatch_normalisation: True\n",
      "\u001b[34m\u001b[1mwandb\u001b[0m: \tbatch_size: 16\n",
      "\u001b[34m\u001b[1mwandb\u001b[0m: \tdata_augmentation: No\n",
      "\u001b[34m\u001b[1mwandb\u001b[0m: \tdropout_rate: 0.29529864039607623\n",
      "\u001b[34m\u001b[1mwandb\u001b[0m: \tfilter_org: 1\n",
      "\u001b[34m\u001b[1mwandb\u001b[0m: \tlearning_rate: 0.004681688280367698\n",
      "\u001b[34m\u001b[1mwandb\u001b[0m: \tnum_dense: 512\n",
      "\u001b[34m\u001b[1mwandb\u001b[0m: \tnum_filters: 128\n",
      "\u001b[34m\u001b[1mwandb\u001b[0m: \toptimizer: momentum\n",
      "\u001b[34m\u001b[1mwandb\u001b[0m: \tsize_filters: 5\n",
      "\u001b[34m\u001b[1mwandb\u001b[0m: Using wandb-core as the SDK backend.  Please refer to https://wandb.me/wandb-core for more information.\n"
     ]
    },
    {
     "data": {
      "text/html": [
       "Tracking run with wandb version 0.19.6"
      ],
      "text/plain": [
       "<IPython.core.display.HTML object>"
      ]
     },
     "metadata": {},
     "output_type": "display_data"
    },
    {
     "data": {
      "text/html": [
       "Run data is saved locally in <code>/kaggle/working/wandb/run-20250416_173927-a38mwtom</code>"
      ],
      "text/plain": [
       "<IPython.core.display.HTML object>"
      ]
     },
     "metadata": {},
     "output_type": "display_data"
    },
    {
     "data": {
      "text/html": [
       "Syncing run <strong><a href='https://wandb.ai/ishita49-indian-institute-of-technology-madras/DA6401_Assign2/runs/a38mwtom' target=\"_blank\">northern-sweep-1</a></strong> to <a href='https://wandb.ai/ishita49-indian-institute-of-technology-madras/DA6401_Assign2' target=\"_blank\">Weights & Biases</a> (<a href='https://wandb.me/developer-guide' target=\"_blank\">docs</a>)<br>Sweep page: <a href='https://wandb.ai/ishita49-indian-institute-of-technology-madras/DA6401_Assign2/sweeps/hyhjr9sg' target=\"_blank\">https://wandb.ai/ishita49-indian-institute-of-technology-madras/DA6401_Assign2/sweeps/hyhjr9sg</a>"
      ],
      "text/plain": [
       "<IPython.core.display.HTML object>"
      ]
     },
     "metadata": {},
     "output_type": "display_data"
    },
    {
     "data": {
      "text/html": [
       " View project at <a href='https://wandb.ai/ishita49-indian-institute-of-technology-madras/DA6401_Assign2' target=\"_blank\">https://wandb.ai/ishita49-indian-institute-of-technology-madras/DA6401_Assign2</a>"
      ],
      "text/plain": [
       "<IPython.core.display.HTML object>"
      ]
     },
     "metadata": {},
     "output_type": "display_data"
    },
    {
     "data": {
      "text/html": [
       " View sweep at <a href='https://wandb.ai/ishita49-indian-institute-of-technology-madras/DA6401_Assign2/sweeps/hyhjr9sg' target=\"_blank\">https://wandb.ai/ishita49-indian-institute-of-technology-madras/DA6401_Assign2/sweeps/hyhjr9sg</a>"
      ],
      "text/plain": [
       "<IPython.core.display.HTML object>"
      ]
     },
     "metadata": {},
     "output_type": "display_data"
    },
    {
     "data": {
      "text/html": [
       " View run at <a href='https://wandb.ai/ishita49-indian-institute-of-technology-madras/DA6401_Assign2/runs/a38mwtom' target=\"_blank\">https://wandb.ai/ishita49-indian-institute-of-technology-madras/DA6401_Assign2/runs/a38mwtom</a>"
      ],
      "text/plain": [
       "<IPython.core.display.HTML object>"
      ]
     },
     "metadata": {},
     "output_type": "display_data"
    },
    {
     "name": "stdout",
     "output_type": "stream",
     "text": [
      "Using 2 GPUs\n",
      "training...\n"
     ]
    },
    {
     "name": "stderr",
     "output_type": "stream",
     "text": [
      "                                                             "
     ]
    },
    {
     "name": "stdout",
     "output_type": "stream",
     "text": [
      "Epoch [1/20], Loss: 2.5501\n"
     ]
    },
    {
     "name": "stderr",
     "output_type": "stream",
     "text": [
      "\r"
     ]
    },
    {
     "name": "stdout",
     "output_type": "stream",
     "text": [
      "Validation Accuracy: 14.45%\n"
     ]
    },
    {
     "name": "stderr",
     "output_type": "stream",
     "text": [
      "                                                             "
     ]
    },
    {
     "name": "stdout",
     "output_type": "stream",
     "text": [
      "Epoch [2/20], Loss: 2.4658\n"
     ]
    },
    {
     "name": "stderr",
     "output_type": "stream",
     "text": [
      "\r"
     ]
    },
    {
     "name": "stdout",
     "output_type": "stream",
     "text": [
      "Validation Accuracy: 18.35%\n"
     ]
    },
    {
     "name": "stderr",
     "output_type": "stream",
     "text": [
      "                                                             "
     ]
    },
    {
     "name": "stdout",
     "output_type": "stream",
     "text": [
      "Epoch [3/20], Loss: 2.4386\n"
     ]
    },
    {
     "name": "stderr",
     "output_type": "stream",
     "text": [
      "\r"
     ]
    },
    {
     "name": "stdout",
     "output_type": "stream",
     "text": [
      "Validation Accuracy: 21.65%\n"
     ]
    },
    {
     "name": "stderr",
     "output_type": "stream",
     "text": [
      "                                                             "
     ]
    },
    {
     "name": "stdout",
     "output_type": "stream",
     "text": [
      "Epoch [4/20], Loss: 2.3731\n"
     ]
    },
    {
     "name": "stderr",
     "output_type": "stream",
     "text": [
      "\r"
     ]
    },
    {
     "name": "stdout",
     "output_type": "stream",
     "text": [
      "Validation Accuracy: 22.95%\n"
     ]
    },
    {
     "name": "stderr",
     "output_type": "stream",
     "text": [
      "                                                             "
     ]
    },
    {
     "name": "stdout",
     "output_type": "stream",
     "text": [
      "Epoch [5/20], Loss: 2.3067\n"
     ]
    },
    {
     "name": "stderr",
     "output_type": "stream",
     "text": [
      "\r"
     ]
    },
    {
     "name": "stdout",
     "output_type": "stream",
     "text": [
      "Validation Accuracy: 23.25%\n"
     ]
    },
    {
     "name": "stderr",
     "output_type": "stream",
     "text": [
      "                                                             "
     ]
    },
    {
     "name": "stdout",
     "output_type": "stream",
     "text": [
      "Epoch [6/20], Loss: 2.2903\n"
     ]
    },
    {
     "name": "stderr",
     "output_type": "stream",
     "text": [
      "\r"
     ]
    },
    {
     "name": "stdout",
     "output_type": "stream",
     "text": [
      "Validation Accuracy: 20.95%\n"
     ]
    },
    {
     "name": "stderr",
     "output_type": "stream",
     "text": [
      "                                                             "
     ]
    },
    {
     "name": "stdout",
     "output_type": "stream",
     "text": [
      "Epoch [7/20], Loss: 2.2619\n"
     ]
    },
    {
     "name": "stderr",
     "output_type": "stream",
     "text": [
      "\r"
     ]
    },
    {
     "name": "stdout",
     "output_type": "stream",
     "text": [
      "Validation Accuracy: 23.80%\n"
     ]
    },
    {
     "name": "stderr",
     "output_type": "stream",
     "text": [
      "                                                             "
     ]
    },
    {
     "name": "stdout",
     "output_type": "stream",
     "text": [
      "Epoch [8/20], Loss: 2.2251\n"
     ]
    },
    {
     "name": "stderr",
     "output_type": "stream",
     "text": [
      "\r"
     ]
    },
    {
     "name": "stdout",
     "output_type": "stream",
     "text": [
      "Validation Accuracy: 24.30%\n"
     ]
    },
    {
     "name": "stderr",
     "output_type": "stream",
     "text": [
      "                                                             "
     ]
    },
    {
     "name": "stdout",
     "output_type": "stream",
     "text": [
      "Epoch [9/20], Loss: 2.1859\n"
     ]
    },
    {
     "name": "stderr",
     "output_type": "stream",
     "text": [
      "\r"
     ]
    },
    {
     "name": "stdout",
     "output_type": "stream",
     "text": [
      "Validation Accuracy: 27.85%\n"
     ]
    },
    {
     "name": "stderr",
     "output_type": "stream",
     "text": [
      "                                                              "
     ]
    },
    {
     "name": "stdout",
     "output_type": "stream",
     "text": [
      "Epoch [10/20], Loss: 2.1703\n"
     ]
    },
    {
     "name": "stderr",
     "output_type": "stream",
     "text": [
      "\r"
     ]
    },
    {
     "name": "stdout",
     "output_type": "stream",
     "text": [
      "Validation Accuracy: 25.15%\n"
     ]
    },
    {
     "name": "stderr",
     "output_type": "stream",
     "text": [
      "                                                              "
     ]
    },
    {
     "name": "stdout",
     "output_type": "stream",
     "text": [
      "Epoch [11/20], Loss: 2.1408\n"
     ]
    },
    {
     "name": "stderr",
     "output_type": "stream",
     "text": [
      "\r"
     ]
    },
    {
     "name": "stdout",
     "output_type": "stream",
     "text": [
      "Validation Accuracy: 24.90%\n"
     ]
    },
    {
     "name": "stderr",
     "output_type": "stream",
     "text": [
      "                                                              "
     ]
    },
    {
     "name": "stdout",
     "output_type": "stream",
     "text": [
      "Epoch [12/20], Loss: 2.1138\n"
     ]
    },
    {
     "name": "stderr",
     "output_type": "stream",
     "text": [
      "\r"
     ]
    },
    {
     "name": "stdout",
     "output_type": "stream",
     "text": [
      "Validation Accuracy: 26.00%\n"
     ]
    },
    {
     "name": "stderr",
     "output_type": "stream",
     "text": [
      "                                                              "
     ]
    },
    {
     "name": "stdout",
     "output_type": "stream",
     "text": [
      "Epoch [13/20], Loss: 2.0910\n"
     ]
    },
    {
     "name": "stderr",
     "output_type": "stream",
     "text": [
      "\r"
     ]
    },
    {
     "name": "stdout",
     "output_type": "stream",
     "text": [
      "Validation Accuracy: 28.70%\n"
     ]
    },
    {
     "name": "stderr",
     "output_type": "stream",
     "text": [
      "                                                              "
     ]
    },
    {
     "name": "stdout",
     "output_type": "stream",
     "text": [
      "Epoch [14/20], Loss: 2.0525\n"
     ]
    },
    {
     "name": "stderr",
     "output_type": "stream",
     "text": [
      "\r"
     ]
    },
    {
     "name": "stdout",
     "output_type": "stream",
     "text": [
      "Validation Accuracy: 30.20%\n"
     ]
    },
    {
     "name": "stderr",
     "output_type": "stream",
     "text": [
      "                                                              "
     ]
    },
    {
     "name": "stdout",
     "output_type": "stream",
     "text": [
      "Epoch [15/20], Loss: 2.0181\n"
     ]
    },
    {
     "name": "stderr",
     "output_type": "stream",
     "text": [
      "\r"
     ]
    },
    {
     "name": "stdout",
     "output_type": "stream",
     "text": [
      "Validation Accuracy: 29.50%\n"
     ]
    },
    {
     "name": "stderr",
     "output_type": "stream",
     "text": [
      "                                                              "
     ]
    },
    {
     "name": "stdout",
     "output_type": "stream",
     "text": [
      "Epoch [16/20], Loss: 2.0183\n"
     ]
    },
    {
     "name": "stderr",
     "output_type": "stream",
     "text": [
      "\r"
     ]
    },
    {
     "name": "stdout",
     "output_type": "stream",
     "text": [
      "Validation Accuracy: 31.90%\n"
     ]
    },
    {
     "name": "stderr",
     "output_type": "stream",
     "text": [
      "                                                              "
     ]
    },
    {
     "name": "stdout",
     "output_type": "stream",
     "text": [
      "Epoch [17/20], Loss: 1.9992\n"
     ]
    },
    {
     "name": "stderr",
     "output_type": "stream",
     "text": [
      "\r"
     ]
    },
    {
     "name": "stdout",
     "output_type": "stream",
     "text": [
      "Validation Accuracy: 30.25%\n"
     ]
    },
    {
     "name": "stderr",
     "output_type": "stream",
     "text": [
      "                                                              "
     ]
    },
    {
     "name": "stdout",
     "output_type": "stream",
     "text": [
      "Epoch [18/20], Loss: 1.9712\n"
     ]
    },
    {
     "name": "stderr",
     "output_type": "stream",
     "text": [
      "\r"
     ]
    },
    {
     "name": "stdout",
     "output_type": "stream",
     "text": [
      "Validation Accuracy: 30.55%\n"
     ]
    },
    {
     "name": "stderr",
     "output_type": "stream",
     "text": [
      "                                                              "
     ]
    },
    {
     "name": "stdout",
     "output_type": "stream",
     "text": [
      "Epoch [19/20], Loss: 1.9586\n"
     ]
    },
    {
     "name": "stderr",
     "output_type": "stream",
     "text": [
      "\r"
     ]
    },
    {
     "name": "stdout",
     "output_type": "stream",
     "text": [
      "Validation Accuracy: 33.55%\n"
     ]
    },
    {
     "name": "stderr",
     "output_type": "stream",
     "text": [
      "                                                              "
     ]
    },
    {
     "name": "stdout",
     "output_type": "stream",
     "text": [
      "Epoch [20/20], Loss: 1.9392\n"
     ]
    },
    {
     "name": "stderr",
     "output_type": "stream",
     "text": [
      "\r"
     ]
    },
    {
     "name": "stdout",
     "output_type": "stream",
     "text": [
      "Validation Accuracy: 32.60%\n"
     ]
    },
    {
     "data": {
      "text/html": [],
      "text/plain": [
       "<IPython.core.display.HTML object>"
      ]
     },
     "metadata": {},
     "output_type": "display_data"
    },
    {
     "data": {
      "text/html": [
       "<br>    <style><br>        .wandb-row {<br>            display: flex;<br>            flex-direction: row;<br>            flex-wrap: wrap;<br>            justify-content: flex-start;<br>            width: 100%;<br>        }<br>        .wandb-col {<br>            display: flex;<br>            flex-direction: column;<br>            flex-basis: 100%;<br>            flex: 1;<br>            padding: 10px;<br>        }<br>    </style><br><div class=\"wandb-row\"><div class=\"wandb-col\"><h3>Run history:</h3><br/><table class=\"wandb\"><tr><td>epoch</td><td>▁▁▂▂▂▃▃▄▄▄▅▅▅▆▆▇▇▇██</td></tr><tr><td>train_loss</td><td>█▇▇▆▅▅▅▄▄▄▃▃▃▂▂▂▂▁▁▁</td></tr><tr><td>val_accuracy</td><td>▁▂▄▄▄▃▄▅▆▅▅▅▆▇▇▇▇▇██</td></tr></table><br/></div><div class=\"wandb-col\"><h3>Run summary:</h3><br/><table class=\"wandb\"><tr><td>epoch</td><td>20</td></tr><tr><td>train_loss</td><td>1.93923</td></tr><tr><td>val_accuracy</td><td>32.6</td></tr></table><br/></div></div>"
      ],
      "text/plain": [
       "<IPython.core.display.HTML object>"
      ]
     },
     "metadata": {},
     "output_type": "display_data"
    },
    {
     "data": {
      "text/html": [
       " View run <strong style=\"color:#cdcd00\">northern-sweep-1</strong> at: <a href='https://wandb.ai/ishita49-indian-institute-of-technology-madras/DA6401_Assign2/runs/a38mwtom' target=\"_blank\">https://wandb.ai/ishita49-indian-institute-of-technology-madras/DA6401_Assign2/runs/a38mwtom</a><br> View project at: <a href='https://wandb.ai/ishita49-indian-institute-of-technology-madras/DA6401_Assign2' target=\"_blank\">https://wandb.ai/ishita49-indian-institute-of-technology-madras/DA6401_Assign2</a><br>Synced 5 W&B file(s), 0 media file(s), 0 artifact file(s) and 0 other file(s)"
      ],
      "text/plain": [
       "<IPython.core.display.HTML object>"
      ]
     },
     "metadata": {},
     "output_type": "display_data"
    },
    {
     "data": {
      "text/html": [
       "Find logs at: <code>./wandb/run-20250416_173927-a38mwtom/logs</code>"
      ],
      "text/plain": [
       "<IPython.core.display.HTML object>"
      ]
     },
     "metadata": {},
     "output_type": "display_data"
    },
    {
     "name": "stderr",
     "output_type": "stream",
     "text": [
      "\u001b[34m\u001b[1mwandb\u001b[0m: Agent Starting Run: 00kv4y69 with config:\n",
      "\u001b[34m\u001b[1mwandb\u001b[0m: \tactivation_func: relu\n",
      "\u001b[34m\u001b[1mwandb\u001b[0m: \tbatch_normalisation: True\n",
      "\u001b[34m\u001b[1mwandb\u001b[0m: \tbatch_size: 16\n",
      "\u001b[34m\u001b[1mwandb\u001b[0m: \tdata_augmentation: Yes\n",
      "\u001b[34m\u001b[1mwandb\u001b[0m: \tdropout_rate: 0.30293275445848356\n",
      "\u001b[34m\u001b[1mwandb\u001b[0m: \tfilter_org: 0.5\n",
      "\u001b[34m\u001b[1mwandb\u001b[0m: \tlearning_rate: 0.0019229192404976803\n",
      "\u001b[34m\u001b[1mwandb\u001b[0m: \tnum_dense: 128\n",
      "\u001b[34m\u001b[1mwandb\u001b[0m: \tnum_filters: 64\n",
      "\u001b[34m\u001b[1mwandb\u001b[0m: \toptimizer: momentum\n",
      "\u001b[34m\u001b[1mwandb\u001b[0m: \tsize_filters: 3\n"
     ]
    },
    {
     "data": {
      "text/html": [
       "Tracking run with wandb version 0.19.6"
      ],
      "text/plain": [
       "<IPython.core.display.HTML object>"
      ]
     },
     "metadata": {},
     "output_type": "display_data"
    },
    {
     "data": {
      "text/html": [
       "Run data is saved locally in <code>/kaggle/working/wandb/run-20250416_180436-00kv4y69</code>"
      ],
      "text/plain": [
       "<IPython.core.display.HTML object>"
      ]
     },
     "metadata": {},
     "output_type": "display_data"
    },
    {
     "data": {
      "text/html": [
       "Syncing run <strong><a href='https://wandb.ai/ishita49-indian-institute-of-technology-madras/DA6401_Assign2/runs/00kv4y69' target=\"_blank\">generous-sweep-2</a></strong> to <a href='https://wandb.ai/ishita49-indian-institute-of-technology-madras/DA6401_Assign2' target=\"_blank\">Weights & Biases</a> (<a href='https://wandb.me/developer-guide' target=\"_blank\">docs</a>)<br>Sweep page: <a href='https://wandb.ai/ishita49-indian-institute-of-technology-madras/DA6401_Assign2/sweeps/hyhjr9sg' target=\"_blank\">https://wandb.ai/ishita49-indian-institute-of-technology-madras/DA6401_Assign2/sweeps/hyhjr9sg</a>"
      ],
      "text/plain": [
       "<IPython.core.display.HTML object>"
      ]
     },
     "metadata": {},
     "output_type": "display_data"
    },
    {
     "data": {
      "text/html": [
       " View project at <a href='https://wandb.ai/ishita49-indian-institute-of-technology-madras/DA6401_Assign2' target=\"_blank\">https://wandb.ai/ishita49-indian-institute-of-technology-madras/DA6401_Assign2</a>"
      ],
      "text/plain": [
       "<IPython.core.display.HTML object>"
      ]
     },
     "metadata": {},
     "output_type": "display_data"
    },
    {
     "data": {
      "text/html": [
       " View sweep at <a href='https://wandb.ai/ishita49-indian-institute-of-technology-madras/DA6401_Assign2/sweeps/hyhjr9sg' target=\"_blank\">https://wandb.ai/ishita49-indian-institute-of-technology-madras/DA6401_Assign2/sweeps/hyhjr9sg</a>"
      ],
      "text/plain": [
       "<IPython.core.display.HTML object>"
      ]
     },
     "metadata": {},
     "output_type": "display_data"
    },
    {
     "data": {
      "text/html": [
       " View run at <a href='https://wandb.ai/ishita49-indian-institute-of-technology-madras/DA6401_Assign2/runs/00kv4y69' target=\"_blank\">https://wandb.ai/ishita49-indian-institute-of-technology-madras/DA6401_Assign2/runs/00kv4y69</a>"
      ],
      "text/plain": [
       "<IPython.core.display.HTML object>"
      ]
     },
     "metadata": {},
     "output_type": "display_data"
    },
    {
     "name": "stdout",
     "output_type": "stream",
     "text": [
      "Using 2 GPUs\n",
      "training...\n"
     ]
    },
    {
     "name": "stderr",
     "output_type": "stream",
     "text": [
      "                                                             "
     ]
    },
    {
     "name": "stdout",
     "output_type": "stream",
     "text": [
      "Epoch [1/20], Loss: 2.2980\n"
     ]
    },
    {
     "name": "stderr",
     "output_type": "stream",
     "text": [
      "\r"
     ]
    },
    {
     "name": "stdout",
     "output_type": "stream",
     "text": [
      "Validation Accuracy: 18.60%\n"
     ]
    },
    {
     "name": "stderr",
     "output_type": "stream",
     "text": [
      "                                                             "
     ]
    },
    {
     "name": "stdout",
     "output_type": "stream",
     "text": [
      "Epoch [2/20], Loss: 2.2693\n"
     ]
    },
    {
     "name": "stderr",
     "output_type": "stream",
     "text": [
      "\r"
     ]
    },
    {
     "name": "stdout",
     "output_type": "stream",
     "text": [
      "Validation Accuracy: 19.50%\n"
     ]
    },
    {
     "name": "stderr",
     "output_type": "stream",
     "text": [
      "                                                             "
     ]
    },
    {
     "name": "stdout",
     "output_type": "stream",
     "text": [
      "Epoch [3/20], Loss: 2.2485\n"
     ]
    },
    {
     "name": "stderr",
     "output_type": "stream",
     "text": [
      "\r"
     ]
    },
    {
     "name": "stdout",
     "output_type": "stream",
     "text": [
      "Validation Accuracy: 17.35%\n"
     ]
    },
    {
     "name": "stderr",
     "output_type": "stream",
     "text": [
      "                                                             \r"
     ]
    },
    {
     "data": {
      "text/html": [],
      "text/plain": [
       "<IPython.core.display.HTML object>"
      ]
     },
     "metadata": {},
     "output_type": "display_data"
    },
    {
     "data": {
      "text/html": [
       "<br>    <style><br>        .wandb-row {<br>            display: flex;<br>            flex-direction: row;<br>            flex-wrap: wrap;<br>            justify-content: flex-start;<br>            width: 100%;<br>        }<br>        .wandb-col {<br>            display: flex;<br>            flex-direction: column;<br>            flex-basis: 100%;<br>            flex: 1;<br>            padding: 10px;<br>        }<br>    </style><br><div class=\"wandb-row\"><div class=\"wandb-col\"><h3>Run history:</h3><br/><table class=\"wandb\"><tr><td>epoch</td><td>▁▅█</td></tr><tr><td>train_loss</td><td>█▄▁</td></tr><tr><td>val_accuracy</td><td>▅█▁</td></tr></table><br/></div><div class=\"wandb-col\"><h3>Run summary:</h3><br/><table class=\"wandb\"><tr><td>epoch</td><td>3</td></tr><tr><td>train_loss</td><td>2.24848</td></tr><tr><td>val_accuracy</td><td>17.35</td></tr></table><br/></div></div>"
      ],
      "text/plain": [
       "<IPython.core.display.HTML object>"
      ]
     },
     "metadata": {},
     "output_type": "display_data"
    },
    {
     "data": {
      "text/html": [
       " View run <strong style=\"color:#cdcd00\">generous-sweep-2</strong> at: <a href='https://wandb.ai/ishita49-indian-institute-of-technology-madras/DA6401_Assign2/runs/00kv4y69' target=\"_blank\">https://wandb.ai/ishita49-indian-institute-of-technology-madras/DA6401_Assign2/runs/00kv4y69</a><br> View project at: <a href='https://wandb.ai/ishita49-indian-institute-of-technology-madras/DA6401_Assign2' target=\"_blank\">https://wandb.ai/ishita49-indian-institute-of-technology-madras/DA6401_Assign2</a><br>Synced 5 W&B file(s), 0 media file(s), 0 artifact file(s) and 0 other file(s)"
      ],
      "text/plain": [
       "<IPython.core.display.HTML object>"
      ]
     },
     "metadata": {},
     "output_type": "display_data"
    },
    {
     "data": {
      "text/html": [
       "Find logs at: <code>./wandb/run-20250416_180436-00kv4y69/logs</code>"
      ],
      "text/plain": [
       "<IPython.core.display.HTML object>"
      ]
     },
     "metadata": {},
     "output_type": "display_data"
    },
    {
     "name": "stderr",
     "output_type": "stream",
     "text": [
      "\u001b[34m\u001b[1mwandb\u001b[0m: Agent Starting Run: ge9gfauv with config:\n",
      "\u001b[34m\u001b[1mwandb\u001b[0m: \tactivation_func: relu\n",
      "\u001b[34m\u001b[1mwandb\u001b[0m: \tbatch_normalisation: True\n",
      "\u001b[34m\u001b[1mwandb\u001b[0m: \tbatch_size: 16\n",
      "\u001b[34m\u001b[1mwandb\u001b[0m: \tdata_augmentation: Yes\n",
      "\u001b[34m\u001b[1mwandb\u001b[0m: \tdropout_rate: 0.2840099735039505\n",
      "\u001b[34m\u001b[1mwandb\u001b[0m: \tfilter_org: 2\n",
      "\u001b[34m\u001b[1mwandb\u001b[0m: \tlearning_rate: 0.009124431884153118\n",
      "\u001b[34m\u001b[1mwandb\u001b[0m: \tnum_dense: 512\n",
      "\u001b[34m\u001b[1mwandb\u001b[0m: \tnum_filters: 64\n",
      "\u001b[34m\u001b[1mwandb\u001b[0m: \toptimizer: momentum\n",
      "\u001b[34m\u001b[1mwandb\u001b[0m: \tsize_filters: 3\n"
     ]
    },
    {
     "data": {
      "text/html": [
       "Tracking run with wandb version 0.19.6"
      ],
      "text/plain": [
       "<IPython.core.display.HTML object>"
      ]
     },
     "metadata": {},
     "output_type": "display_data"
    },
    {
     "data": {
      "text/html": [
       "Run data is saved locally in <code>/kaggle/working/wandb/run-20250416_181013-ge9gfauv</code>"
      ],
      "text/plain": [
       "<IPython.core.display.HTML object>"
      ]
     },
     "metadata": {},
     "output_type": "display_data"
    },
    {
     "data": {
      "text/html": [
       "Syncing run <strong><a href='https://wandb.ai/ishita49-indian-institute-of-technology-madras/DA6401_Assign2/runs/ge9gfauv' target=\"_blank\">autumn-sweep-3</a></strong> to <a href='https://wandb.ai/ishita49-indian-institute-of-technology-madras/DA6401_Assign2' target=\"_blank\">Weights & Biases</a> (<a href='https://wandb.me/developer-guide' target=\"_blank\">docs</a>)<br>Sweep page: <a href='https://wandb.ai/ishita49-indian-institute-of-technology-madras/DA6401_Assign2/sweeps/hyhjr9sg' target=\"_blank\">https://wandb.ai/ishita49-indian-institute-of-technology-madras/DA6401_Assign2/sweeps/hyhjr9sg</a>"
      ],
      "text/plain": [
       "<IPython.core.display.HTML object>"
      ]
     },
     "metadata": {},
     "output_type": "display_data"
    },
    {
     "data": {
      "text/html": [
       " View project at <a href='https://wandb.ai/ishita49-indian-institute-of-technology-madras/DA6401_Assign2' target=\"_blank\">https://wandb.ai/ishita49-indian-institute-of-technology-madras/DA6401_Assign2</a>"
      ],
      "text/plain": [
       "<IPython.core.display.HTML object>"
      ]
     },
     "metadata": {},
     "output_type": "display_data"
    },
    {
     "data": {
      "text/html": [
       " View sweep at <a href='https://wandb.ai/ishita49-indian-institute-of-technology-madras/DA6401_Assign2/sweeps/hyhjr9sg' target=\"_blank\">https://wandb.ai/ishita49-indian-institute-of-technology-madras/DA6401_Assign2/sweeps/hyhjr9sg</a>"
      ],
      "text/plain": [
       "<IPython.core.display.HTML object>"
      ]
     },
     "metadata": {},
     "output_type": "display_data"
    },
    {
     "data": {
      "text/html": [
       " View run at <a href='https://wandb.ai/ishita49-indian-institute-of-technology-madras/DA6401_Assign2/runs/ge9gfauv' target=\"_blank\">https://wandb.ai/ishita49-indian-institute-of-technology-madras/DA6401_Assign2/runs/ge9gfauv</a>"
      ],
      "text/plain": [
       "<IPython.core.display.HTML object>"
      ]
     },
     "metadata": {},
     "output_type": "display_data"
    },
    {
     "name": "stdout",
     "output_type": "stream",
     "text": [
      "Using 2 GPUs\n",
      "training...\n"
     ]
    },
    {
     "name": "stderr",
     "output_type": "stream",
     "text": [
      "                                                             "
     ]
    },
    {
     "name": "stdout",
     "output_type": "stream",
     "text": [
      "Epoch [1/20], Loss: 2.8045\n"
     ]
    },
    {
     "name": "stderr",
     "output_type": "stream",
     "text": [
      "\r"
     ]
    },
    {
     "name": "stdout",
     "output_type": "stream",
     "text": [
      "Validation Accuracy: 15.95%\n"
     ]
    },
    {
     "name": "stderr",
     "output_type": "stream",
     "text": [
      "                                                             "
     ]
    },
    {
     "name": "stdout",
     "output_type": "stream",
     "text": [
      "Epoch [2/20], Loss: 2.6143\n"
     ]
    },
    {
     "name": "stderr",
     "output_type": "stream",
     "text": [
      "\r"
     ]
    },
    {
     "name": "stdout",
     "output_type": "stream",
     "text": [
      "Validation Accuracy: 15.60%\n"
     ]
    },
    {
     "name": "stderr",
     "output_type": "stream",
     "text": [
      "                                                             "
     ]
    },
    {
     "name": "stdout",
     "output_type": "stream",
     "text": [
      "Epoch [3/20], Loss: 2.4379\n"
     ]
    },
    {
     "name": "stderr",
     "output_type": "stream",
     "text": [
      "\r"
     ]
    },
    {
     "name": "stdout",
     "output_type": "stream",
     "text": [
      "Validation Accuracy: 17.50%\n"
     ]
    },
    {
     "name": "stderr",
     "output_type": "stream",
     "text": [
      "                                                             \r"
     ]
    },
    {
     "name": "stdout",
     "output_type": "stream",
     "text": [
      "Epoch [4/20], Loss: 2.3825\n",
      "Validation Accuracy: 18.00%\n"
     ]
    },
    {
     "name": "stderr",
     "output_type": "stream",
     "text": [
      "                                                             "
     ]
    },
    {
     "name": "stdout",
     "output_type": "stream",
     "text": [
      "Epoch [5/20], Loss: 2.3185\n"
     ]
    },
    {
     "name": "stderr",
     "output_type": "stream",
     "text": [
      "\r"
     ]
    },
    {
     "name": "stdout",
     "output_type": "stream",
     "text": [
      "Validation Accuracy: 16.70%\n"
     ]
    },
    {
     "name": "stderr",
     "output_type": "stream",
     "text": [
      "                                                             "
     ]
    },
    {
     "name": "stdout",
     "output_type": "stream",
     "text": [
      "Epoch [6/20], Loss: 2.2764\n"
     ]
    },
    {
     "name": "stderr",
     "output_type": "stream",
     "text": [
      "\r"
     ]
    },
    {
     "name": "stdout",
     "output_type": "stream",
     "text": [
      "Validation Accuracy: 18.95%\n"
     ]
    },
    {
     "name": "stderr",
     "output_type": "stream",
     "text": [
      "                                                             "
     ]
    },
    {
     "name": "stdout",
     "output_type": "stream",
     "text": [
      "Epoch [7/20], Loss: 2.2355\n"
     ]
    },
    {
     "name": "stderr",
     "output_type": "stream",
     "text": [
      "\r"
     ]
    },
    {
     "name": "stdout",
     "output_type": "stream",
     "text": [
      "Validation Accuracy: 21.95%\n"
     ]
    },
    {
     "name": "stderr",
     "output_type": "stream",
     "text": [
      "                                                             "
     ]
    },
    {
     "name": "stdout",
     "output_type": "stream",
     "text": [
      "Epoch [8/20], Loss: 2.2261\n"
     ]
    },
    {
     "name": "stderr",
     "output_type": "stream",
     "text": [
      "\r"
     ]
    },
    {
     "name": "stdout",
     "output_type": "stream",
     "text": [
      "Validation Accuracy: 20.50%\n"
     ]
    },
    {
     "name": "stderr",
     "output_type": "stream",
     "text": [
      "                                                             "
     ]
    },
    {
     "name": "stdout",
     "output_type": "stream",
     "text": [
      "Epoch [9/20], Loss: 2.2001\n"
     ]
    },
    {
     "name": "stderr",
     "output_type": "stream",
     "text": [
      "\r"
     ]
    },
    {
     "name": "stdout",
     "output_type": "stream",
     "text": [
      "Validation Accuracy: 21.15%\n"
     ]
    },
    {
     "name": "stderr",
     "output_type": "stream",
     "text": [
      "                                                              \r"
     ]
    },
    {
     "data": {
      "text/html": [],
      "text/plain": [
       "<IPython.core.display.HTML object>"
      ]
     },
     "metadata": {},
     "output_type": "display_data"
    },
    {
     "data": {
      "text/html": [
       "<br>    <style><br>        .wandb-row {<br>            display: flex;<br>            flex-direction: row;<br>            flex-wrap: wrap;<br>            justify-content: flex-start;<br>            width: 100%;<br>        }<br>        .wandb-col {<br>            display: flex;<br>            flex-direction: column;<br>            flex-basis: 100%;<br>            flex: 1;<br>            padding: 10px;<br>        }<br>    </style><br><div class=\"wandb-row\"><div class=\"wandb-col\"><h3>Run history:</h3><br/><table class=\"wandb\"><tr><td>epoch</td><td>▁▂▃▄▅▅▆▇█</td></tr><tr><td>train_loss</td><td>█▆▄▃▂▂▁▁▁</td></tr><tr><td>val_accuracy</td><td>▁▁▃▄▂▅█▆▇</td></tr></table><br/></div><div class=\"wandb-col\"><h3>Run summary:</h3><br/><table class=\"wandb\"><tr><td>epoch</td><td>9</td></tr><tr><td>train_loss</td><td>2.20006</td></tr><tr><td>val_accuracy</td><td>21.15</td></tr></table><br/></div></div>"
      ],
      "text/plain": [
       "<IPython.core.display.HTML object>"
      ]
     },
     "metadata": {},
     "output_type": "display_data"
    },
    {
     "data": {
      "text/html": [
       " View run <strong style=\"color:#cdcd00\">autumn-sweep-3</strong> at: <a href='https://wandb.ai/ishita49-indian-institute-of-technology-madras/DA6401_Assign2/runs/ge9gfauv' target=\"_blank\">https://wandb.ai/ishita49-indian-institute-of-technology-madras/DA6401_Assign2/runs/ge9gfauv</a><br> View project at: <a href='https://wandb.ai/ishita49-indian-institute-of-technology-madras/DA6401_Assign2' target=\"_blank\">https://wandb.ai/ishita49-indian-institute-of-technology-madras/DA6401_Assign2</a><br>Synced 5 W&B file(s), 0 media file(s), 0 artifact file(s) and 0 other file(s)"
      ],
      "text/plain": [
       "<IPython.core.display.HTML object>"
      ]
     },
     "metadata": {},
     "output_type": "display_data"
    },
    {
     "data": {
      "text/html": [
       "Find logs at: <code>./wandb/run-20250416_181013-ge9gfauv/logs</code>"
      ],
      "text/plain": [
       "<IPython.core.display.HTML object>"
      ]
     },
     "metadata": {},
     "output_type": "display_data"
    },
    {
     "name": "stderr",
     "output_type": "stream",
     "text": [
      "\u001b[34m\u001b[1mwandb\u001b[0m: Agent Starting Run: wc8cbxaw with config:\n",
      "\u001b[34m\u001b[1mwandb\u001b[0m: \tactivation_func: relu\n",
      "\u001b[34m\u001b[1mwandb\u001b[0m: \tbatch_normalisation: True\n",
      "\u001b[34m\u001b[1mwandb\u001b[0m: \tbatch_size: 16\n",
      "\u001b[34m\u001b[1mwandb\u001b[0m: \tdata_augmentation: Yes\n",
      "\u001b[34m\u001b[1mwandb\u001b[0m: \tdropout_rate: 0.3334631596195966\n",
      "\u001b[34m\u001b[1mwandb\u001b[0m: \tfilter_org: 2\n",
      "\u001b[34m\u001b[1mwandb\u001b[0m: \tlearning_rate: 0.002251082085321807\n",
      "\u001b[34m\u001b[1mwandb\u001b[0m: \tnum_dense: 128\n",
      "\u001b[34m\u001b[1mwandb\u001b[0m: \tnum_filters: 128\n",
      "\u001b[34m\u001b[1mwandb\u001b[0m: \toptimizer: momentum\n",
      "\u001b[34m\u001b[1mwandb\u001b[0m: \tsize_filters: 3\n"
     ]
    },
    {
     "data": {
      "text/html": [
       "Tracking run with wandb version 0.19.6"
      ],
      "text/plain": [
       "<IPython.core.display.HTML object>"
      ]
     },
     "metadata": {},
     "output_type": "display_data"
    },
    {
     "data": {
      "text/html": [
       "Run data is saved locally in <code>/kaggle/working/wandb/run-20250416_182514-wc8cbxaw</code>"
      ],
      "text/plain": [
       "<IPython.core.display.HTML object>"
      ]
     },
     "metadata": {},
     "output_type": "display_data"
    },
    {
     "data": {
      "text/html": [
       "Syncing run <strong><a href='https://wandb.ai/ishita49-indian-institute-of-technology-madras/DA6401_Assign2/runs/wc8cbxaw' target=\"_blank\">charmed-sweep-4</a></strong> to <a href='https://wandb.ai/ishita49-indian-institute-of-technology-madras/DA6401_Assign2' target=\"_blank\">Weights & Biases</a> (<a href='https://wandb.me/developer-guide' target=\"_blank\">docs</a>)<br>Sweep page: <a href='https://wandb.ai/ishita49-indian-institute-of-technology-madras/DA6401_Assign2/sweeps/hyhjr9sg' target=\"_blank\">https://wandb.ai/ishita49-indian-institute-of-technology-madras/DA6401_Assign2/sweeps/hyhjr9sg</a>"
      ],
      "text/plain": [
       "<IPython.core.display.HTML object>"
      ]
     },
     "metadata": {},
     "output_type": "display_data"
    },
    {
     "data": {
      "text/html": [
       " View project at <a href='https://wandb.ai/ishita49-indian-institute-of-technology-madras/DA6401_Assign2' target=\"_blank\">https://wandb.ai/ishita49-indian-institute-of-technology-madras/DA6401_Assign2</a>"
      ],
      "text/plain": [
       "<IPython.core.display.HTML object>"
      ]
     },
     "metadata": {},
     "output_type": "display_data"
    },
    {
     "data": {
      "text/html": [
       " View sweep at <a href='https://wandb.ai/ishita49-indian-institute-of-technology-madras/DA6401_Assign2/sweeps/hyhjr9sg' target=\"_blank\">https://wandb.ai/ishita49-indian-institute-of-technology-madras/DA6401_Assign2/sweeps/hyhjr9sg</a>"
      ],
      "text/plain": [
       "<IPython.core.display.HTML object>"
      ]
     },
     "metadata": {},
     "output_type": "display_data"
    },
    {
     "data": {
      "text/html": [
       " View run at <a href='https://wandb.ai/ishita49-indian-institute-of-technology-madras/DA6401_Assign2/runs/wc8cbxaw' target=\"_blank\">https://wandb.ai/ishita49-indian-institute-of-technology-madras/DA6401_Assign2/runs/wc8cbxaw</a>"
      ],
      "text/plain": [
       "<IPython.core.display.HTML object>"
      ]
     },
     "metadata": {},
     "output_type": "display_data"
    },
    {
     "name": "stdout",
     "output_type": "stream",
     "text": [
      "Using 2 GPUs\n",
      "training...\n"
     ]
    },
    {
     "name": "stderr",
     "output_type": "stream",
     "text": [
      "                                                             "
     ]
    },
    {
     "name": "stdout",
     "output_type": "stream",
     "text": [
      "Epoch [1/20], Loss: 2.2679\n"
     ]
    },
    {
     "name": "stderr",
     "output_type": "stream",
     "text": [
      "\r"
     ]
    },
    {
     "name": "stdout",
     "output_type": "stream",
     "text": [
      "Validation Accuracy: 23.25%\n"
     ]
    },
    {
     "name": "stderr",
     "output_type": "stream",
     "text": [
      "                                                             "
     ]
    },
    {
     "name": "stdout",
     "output_type": "stream",
     "text": [
      "Epoch [2/20], Loss: 2.2114\n"
     ]
    },
    {
     "name": "stderr",
     "output_type": "stream",
     "text": [
      "\r"
     ]
    },
    {
     "name": "stdout",
     "output_type": "stream",
     "text": [
      "Validation Accuracy: 21.95%\n"
     ]
    },
    {
     "name": "stderr",
     "output_type": "stream",
     "text": [
      "                                                             "
     ]
    },
    {
     "name": "stdout",
     "output_type": "stream",
     "text": [
      "Epoch [3/20], Loss: 2.1928\n"
     ]
    },
    {
     "name": "stderr",
     "output_type": "stream",
     "text": [
      "\r"
     ]
    },
    {
     "name": "stdout",
     "output_type": "stream",
     "text": [
      "Validation Accuracy: 23.00%\n"
     ]
    },
    {
     "name": "stderr",
     "output_type": "stream",
     "text": [
      "                                                             "
     ]
    },
    {
     "name": "stdout",
     "output_type": "stream",
     "text": [
      "Epoch [4/20], Loss: 2.1767\n"
     ]
    },
    {
     "name": "stderr",
     "output_type": "stream",
     "text": [
      "\r"
     ]
    },
    {
     "name": "stdout",
     "output_type": "stream",
     "text": [
      "Validation Accuracy: 24.55%\n"
     ]
    },
    {
     "name": "stderr",
     "output_type": "stream",
     "text": [
      "                                                             "
     ]
    },
    {
     "name": "stdout",
     "output_type": "stream",
     "text": [
      "Epoch [5/20], Loss: 2.1565\n"
     ]
    },
    {
     "name": "stderr",
     "output_type": "stream",
     "text": [
      "\r"
     ]
    },
    {
     "name": "stdout",
     "output_type": "stream",
     "text": [
      "Validation Accuracy: 26.45%\n"
     ]
    },
    {
     "name": "stderr",
     "output_type": "stream",
     "text": [
      "                                                             "
     ]
    },
    {
     "name": "stdout",
     "output_type": "stream",
     "text": [
      "Epoch [6/20], Loss: 2.1558\n"
     ]
    },
    {
     "name": "stderr",
     "output_type": "stream",
     "text": [
      "\r"
     ]
    },
    {
     "name": "stdout",
     "output_type": "stream",
     "text": [
      "Validation Accuracy: 26.90%\n"
     ]
    },
    {
     "name": "stderr",
     "output_type": "stream",
     "text": [
      "                                                             "
     ]
    },
    {
     "name": "stdout",
     "output_type": "stream",
     "text": [
      "Epoch [7/20], Loss: 2.1353\n"
     ]
    },
    {
     "name": "stderr",
     "output_type": "stream",
     "text": [
      "\r"
     ]
    },
    {
     "name": "stdout",
     "output_type": "stream",
     "text": [
      "Validation Accuracy: 26.80%\n"
     ]
    },
    {
     "name": "stderr",
     "output_type": "stream",
     "text": [
      "                                                             "
     ]
    },
    {
     "name": "stdout",
     "output_type": "stream",
     "text": [
      "Epoch [8/20], Loss: 2.1346\n"
     ]
    },
    {
     "name": "stderr",
     "output_type": "stream",
     "text": [
      "\r"
     ]
    },
    {
     "name": "stdout",
     "output_type": "stream",
     "text": [
      "Validation Accuracy: 25.25%\n"
     ]
    },
    {
     "name": "stderr",
     "output_type": "stream",
     "text": [
      "                                                             "
     ]
    },
    {
     "name": "stdout",
     "output_type": "stream",
     "text": [
      "Epoch [9/20], Loss: 2.1294\n"
     ]
    },
    {
     "name": "stderr",
     "output_type": "stream",
     "text": [
      "\r"
     ]
    },
    {
     "name": "stdout",
     "output_type": "stream",
     "text": [
      "Validation Accuracy: 28.10%\n"
     ]
    },
    {
     "name": "stderr",
     "output_type": "stream",
     "text": [
      "                                                              "
     ]
    },
    {
     "name": "stdout",
     "output_type": "stream",
     "text": [
      "Epoch [10/20], Loss: 2.1106\n"
     ]
    },
    {
     "name": "stderr",
     "output_type": "stream",
     "text": [
      "\r"
     ]
    },
    {
     "name": "stdout",
     "output_type": "stream",
     "text": [
      "Validation Accuracy: 28.25%\n"
     ]
    },
    {
     "name": "stderr",
     "output_type": "stream",
     "text": [
      "                                                              "
     ]
    },
    {
     "name": "stdout",
     "output_type": "stream",
     "text": [
      "Epoch [11/20], Loss: 2.0967\n"
     ]
    },
    {
     "name": "stderr",
     "output_type": "stream",
     "text": [
      "\r"
     ]
    },
    {
     "name": "stdout",
     "output_type": "stream",
     "text": [
      "Validation Accuracy: 27.55%\n"
     ]
    },
    {
     "name": "stderr",
     "output_type": "stream",
     "text": [
      "                                                              "
     ]
    },
    {
     "name": "stdout",
     "output_type": "stream",
     "text": [
      "Epoch [12/20], Loss: 2.0927\n"
     ]
    },
    {
     "name": "stderr",
     "output_type": "stream",
     "text": [
      "\r"
     ]
    },
    {
     "name": "stdout",
     "output_type": "stream",
     "text": [
      "Validation Accuracy: 29.30%\n"
     ]
    },
    {
     "name": "stderr",
     "output_type": "stream",
     "text": [
      "                                                              "
     ]
    },
    {
     "name": "stdout",
     "output_type": "stream",
     "text": [
      "Epoch [13/20], Loss: 2.0799\n"
     ]
    },
    {
     "name": "stderr",
     "output_type": "stream",
     "text": [
      "\r"
     ]
    },
    {
     "name": "stdout",
     "output_type": "stream",
     "text": [
      "Validation Accuracy: 26.55%\n"
     ]
    },
    {
     "name": "stderr",
     "output_type": "stream",
     "text": [
      "                                                              "
     ]
    },
    {
     "name": "stdout",
     "output_type": "stream",
     "text": [
      "Epoch [14/20], Loss: 2.0821\n"
     ]
    },
    {
     "name": "stderr",
     "output_type": "stream",
     "text": [
      "\r"
     ]
    },
    {
     "name": "stdout",
     "output_type": "stream",
     "text": [
      "Validation Accuracy: 31.35%\n"
     ]
    },
    {
     "name": "stderr",
     "output_type": "stream",
     "text": [
      "                                                              "
     ]
    },
    {
     "name": "stdout",
     "output_type": "stream",
     "text": [
      "Epoch [15/20], Loss: 2.0757\n"
     ]
    },
    {
     "name": "stderr",
     "output_type": "stream",
     "text": [
      "\r"
     ]
    },
    {
     "name": "stdout",
     "output_type": "stream",
     "text": [
      "Validation Accuracy: 30.80%\n"
     ]
    },
    {
     "name": "stderr",
     "output_type": "stream",
     "text": [
      "                                                              "
     ]
    },
    {
     "name": "stdout",
     "output_type": "stream",
     "text": [
      "Epoch [16/20], Loss: 2.0626\n"
     ]
    },
    {
     "name": "stderr",
     "output_type": "stream",
     "text": [
      "\r"
     ]
    },
    {
     "name": "stdout",
     "output_type": "stream",
     "text": [
      "Validation Accuracy: 28.35%\n"
     ]
    },
    {
     "name": "stderr",
     "output_type": "stream",
     "text": [
      "                                                              "
     ]
    },
    {
     "name": "stdout",
     "output_type": "stream",
     "text": [
      "Epoch [17/20], Loss: 2.0606\n"
     ]
    },
    {
     "name": "stderr",
     "output_type": "stream",
     "text": [
      "\r"
     ]
    },
    {
     "name": "stdout",
     "output_type": "stream",
     "text": [
      "Validation Accuracy: 31.85%\n"
     ]
    },
    {
     "name": "stderr",
     "output_type": "stream",
     "text": [
      "                                                              "
     ]
    },
    {
     "name": "stdout",
     "output_type": "stream",
     "text": [
      "Epoch [18/20], Loss: 2.0619\n"
     ]
    },
    {
     "name": "stderr",
     "output_type": "stream",
     "text": [
      "\r"
     ]
    },
    {
     "name": "stdout",
     "output_type": "stream",
     "text": [
      "Validation Accuracy: 31.60%\n"
     ]
    },
    {
     "name": "stderr",
     "output_type": "stream",
     "text": [
      "                                                              "
     ]
    },
    {
     "name": "stdout",
     "output_type": "stream",
     "text": [
      "Epoch [19/20], Loss: 2.0494\n"
     ]
    },
    {
     "name": "stderr",
     "output_type": "stream",
     "text": [
      "\r"
     ]
    },
    {
     "name": "stdout",
     "output_type": "stream",
     "text": [
      "Validation Accuracy: 27.90%\n"
     ]
    },
    {
     "name": "stderr",
     "output_type": "stream",
     "text": [
      "                                                              "
     ]
    },
    {
     "name": "stdout",
     "output_type": "stream",
     "text": [
      "Epoch [20/20], Loss: 2.0454\n"
     ]
    },
    {
     "name": "stderr",
     "output_type": "stream",
     "text": [
      "\r"
     ]
    },
    {
     "name": "stdout",
     "output_type": "stream",
     "text": [
      "Validation Accuracy: 30.30%\n"
     ]
    },
    {
     "data": {
      "text/html": [],
      "text/plain": [
       "<IPython.core.display.HTML object>"
      ]
     },
     "metadata": {},
     "output_type": "display_data"
    },
    {
     "data": {
      "text/html": [
       "<br>    <style><br>        .wandb-row {<br>            display: flex;<br>            flex-direction: row;<br>            flex-wrap: wrap;<br>            justify-content: flex-start;<br>            width: 100%;<br>        }<br>        .wandb-col {<br>            display: flex;<br>            flex-direction: column;<br>            flex-basis: 100%;<br>            flex: 1;<br>            padding: 10px;<br>        }<br>    </style><br><div class=\"wandb-row\"><div class=\"wandb-col\"><h3>Run history:</h3><br/><table class=\"wandb\"><tr><td>epoch</td><td>▁▁▂▂▂▃▃▄▄▄▅▅▅▆▆▇▇▇██</td></tr><tr><td>train_loss</td><td>█▆▆▅▄▄▄▄▄▃▃▂▂▂▂▂▁▂▁▁</td></tr><tr><td>val_accuracy</td><td>▂▁▂▃▄▄▄▃▅▅▅▆▄█▇▆██▅▇</td></tr></table><br/></div><div class=\"wandb-col\"><h3>Run summary:</h3><br/><table class=\"wandb\"><tr><td>epoch</td><td>20</td></tr><tr><td>train_loss</td><td>2.04542</td></tr><tr><td>val_accuracy</td><td>30.3</td></tr></table><br/></div></div>"
      ],
      "text/plain": [
       "<IPython.core.display.HTML object>"
      ]
     },
     "metadata": {},
     "output_type": "display_data"
    },
    {
     "data": {
      "text/html": [
       " View run <strong style=\"color:#cdcd00\">charmed-sweep-4</strong> at: <a href='https://wandb.ai/ishita49-indian-institute-of-technology-madras/DA6401_Assign2/runs/wc8cbxaw' target=\"_blank\">https://wandb.ai/ishita49-indian-institute-of-technology-madras/DA6401_Assign2/runs/wc8cbxaw</a><br> View project at: <a href='https://wandb.ai/ishita49-indian-institute-of-technology-madras/DA6401_Assign2' target=\"_blank\">https://wandb.ai/ishita49-indian-institute-of-technology-madras/DA6401_Assign2</a><br>Synced 5 W&B file(s), 0 media file(s), 0 artifact file(s) and 0 other file(s)"
      ],
      "text/plain": [
       "<IPython.core.display.HTML object>"
      ]
     },
     "metadata": {},
     "output_type": "display_data"
    },
    {
     "data": {
      "text/html": [
       "Find logs at: <code>./wandb/run-20250416_182514-wc8cbxaw/logs</code>"
      ],
      "text/plain": [
       "<IPython.core.display.HTML object>"
      ]
     },
     "metadata": {},
     "output_type": "display_data"
    },
    {
     "name": "stderr",
     "output_type": "stream",
     "text": [
      "\u001b[34m\u001b[1mwandb\u001b[0m: Agent Starting Run: j3vx4y8z with config:\n",
      "\u001b[34m\u001b[1mwandb\u001b[0m: \tactivation_func: relu\n",
      "\u001b[34m\u001b[1mwandb\u001b[0m: \tbatch_normalisation: True\n",
      "\u001b[34m\u001b[1mwandb\u001b[0m: \tbatch_size: 16\n",
      "\u001b[34m\u001b[1mwandb\u001b[0m: \tdata_augmentation: No\n",
      "\u001b[34m\u001b[1mwandb\u001b[0m: \tdropout_rate: 0.3031153880686924\n",
      "\u001b[34m\u001b[1mwandb\u001b[0m: \tfilter_org: 0.5\n",
      "\u001b[34m\u001b[1mwandb\u001b[0m: \tlearning_rate: 0.008606845044576091\n",
      "\u001b[34m\u001b[1mwandb\u001b[0m: \tnum_dense: 256\n",
      "\u001b[34m\u001b[1mwandb\u001b[0m: \tnum_filters: 128\n",
      "\u001b[34m\u001b[1mwandb\u001b[0m: \toptimizer: momentum\n",
      "\u001b[34m\u001b[1mwandb\u001b[0m: \tsize_filters: 10\n"
     ]
    },
    {
     "data": {
      "text/html": [
       "Tracking run with wandb version 0.19.6"
      ],
      "text/plain": [
       "<IPython.core.display.HTML object>"
      ]
     },
     "metadata": {},
     "output_type": "display_data"
    },
    {
     "data": {
      "text/html": [
       "Run data is saved locally in <code>/kaggle/working/wandb/run-20250416_190246-j3vx4y8z</code>"
      ],
      "text/plain": [
       "<IPython.core.display.HTML object>"
      ]
     },
     "metadata": {},
     "output_type": "display_data"
    },
    {
     "data": {
      "text/html": [
       "Syncing run <strong><a href='https://wandb.ai/ishita49-indian-institute-of-technology-madras/DA6401_Assign2/runs/j3vx4y8z' target=\"_blank\">worldly-sweep-5</a></strong> to <a href='https://wandb.ai/ishita49-indian-institute-of-technology-madras/DA6401_Assign2' target=\"_blank\">Weights & Biases</a> (<a href='https://wandb.me/developer-guide' target=\"_blank\">docs</a>)<br>Sweep page: <a href='https://wandb.ai/ishita49-indian-institute-of-technology-madras/DA6401_Assign2/sweeps/hyhjr9sg' target=\"_blank\">https://wandb.ai/ishita49-indian-institute-of-technology-madras/DA6401_Assign2/sweeps/hyhjr9sg</a>"
      ],
      "text/plain": [
       "<IPython.core.display.HTML object>"
      ]
     },
     "metadata": {},
     "output_type": "display_data"
    },
    {
     "data": {
      "text/html": [
       " View project at <a href='https://wandb.ai/ishita49-indian-institute-of-technology-madras/DA6401_Assign2' target=\"_blank\">https://wandb.ai/ishita49-indian-institute-of-technology-madras/DA6401_Assign2</a>"
      ],
      "text/plain": [
       "<IPython.core.display.HTML object>"
      ]
     },
     "metadata": {},
     "output_type": "display_data"
    },
    {
     "data": {
      "text/html": [
       " View sweep at <a href='https://wandb.ai/ishita49-indian-institute-of-technology-madras/DA6401_Assign2/sweeps/hyhjr9sg' target=\"_blank\">https://wandb.ai/ishita49-indian-institute-of-technology-madras/DA6401_Assign2/sweeps/hyhjr9sg</a>"
      ],
      "text/plain": [
       "<IPython.core.display.HTML object>"
      ]
     },
     "metadata": {},
     "output_type": "display_data"
    },
    {
     "data": {
      "text/html": [
       " View run at <a href='https://wandb.ai/ishita49-indian-institute-of-technology-madras/DA6401_Assign2/runs/j3vx4y8z' target=\"_blank\">https://wandb.ai/ishita49-indian-institute-of-technology-madras/DA6401_Assign2/runs/j3vx4y8z</a>"
      ],
      "text/plain": [
       "<IPython.core.display.HTML object>"
      ]
     },
     "metadata": {},
     "output_type": "display_data"
    },
    {
     "name": "stdout",
     "output_type": "stream",
     "text": [
      "Using 2 GPUs\n",
      "training...\n"
     ]
    },
    {
     "name": "stderr",
     "output_type": "stream",
     "text": [
      "                                                             "
     ]
    },
    {
     "name": "stdout",
     "output_type": "stream",
     "text": [
      "Epoch [1/20], Loss: 2.5328\n"
     ]
    },
    {
     "name": "stderr",
     "output_type": "stream",
     "text": [
      "\r"
     ]
    },
    {
     "name": "stdout",
     "output_type": "stream",
     "text": [
      "Validation Accuracy: 13.05%\n"
     ]
    },
    {
     "name": "stderr",
     "output_type": "stream",
     "text": [
      "                                                             "
     ]
    },
    {
     "name": "stdout",
     "output_type": "stream",
     "text": [
      "Epoch [2/20], Loss: 2.4239\n"
     ]
    },
    {
     "name": "stderr",
     "output_type": "stream",
     "text": [
      "\r"
     ]
    },
    {
     "name": "stdout",
     "output_type": "stream",
     "text": [
      "Validation Accuracy: 18.55%\n"
     ]
    },
    {
     "name": "stderr",
     "output_type": "stream",
     "text": [
      "                                                             "
     ]
    },
    {
     "name": "stdout",
     "output_type": "stream",
     "text": [
      "Epoch [3/20], Loss: 2.3276\n"
     ]
    },
    {
     "name": "stderr",
     "output_type": "stream",
     "text": [
      "\r"
     ]
    },
    {
     "name": "stdout",
     "output_type": "stream",
     "text": [
      "Validation Accuracy: 19.75%\n"
     ]
    },
    {
     "name": "stderr",
     "output_type": "stream",
     "text": [
      "                                                             \r"
     ]
    },
    {
     "data": {
      "text/html": [],
      "text/plain": [
       "<IPython.core.display.HTML object>"
      ]
     },
     "metadata": {},
     "output_type": "display_data"
    },
    {
     "data": {
      "text/html": [
       "<br>    <style><br>        .wandb-row {<br>            display: flex;<br>            flex-direction: row;<br>            flex-wrap: wrap;<br>            justify-content: flex-start;<br>            width: 100%;<br>        }<br>        .wandb-col {<br>            display: flex;<br>            flex-direction: column;<br>            flex-basis: 100%;<br>            flex: 1;<br>            padding: 10px;<br>        }<br>    </style><br><div class=\"wandb-row\"><div class=\"wandb-col\"><h3>Run history:</h3><br/><table class=\"wandb\"><tr><td>epoch</td><td>▁▅█</td></tr><tr><td>train_loss</td><td>█▄▁</td></tr><tr><td>val_accuracy</td><td>▁▇█</td></tr></table><br/></div><div class=\"wandb-col\"><h3>Run summary:</h3><br/><table class=\"wandb\"><tr><td>epoch</td><td>3</td></tr><tr><td>train_loss</td><td>2.3276</td></tr><tr><td>val_accuracy</td><td>19.75</td></tr></table><br/></div></div>"
      ],
      "text/plain": [
       "<IPython.core.display.HTML object>"
      ]
     },
     "metadata": {},
     "output_type": "display_data"
    },
    {
     "data": {
      "text/html": [
       " View run <strong style=\"color:#cdcd00\">worldly-sweep-5</strong> at: <a href='https://wandb.ai/ishita49-indian-institute-of-technology-madras/DA6401_Assign2/runs/j3vx4y8z' target=\"_blank\">https://wandb.ai/ishita49-indian-institute-of-technology-madras/DA6401_Assign2/runs/j3vx4y8z</a><br> View project at: <a href='https://wandb.ai/ishita49-indian-institute-of-technology-madras/DA6401_Assign2' target=\"_blank\">https://wandb.ai/ishita49-indian-institute-of-technology-madras/DA6401_Assign2</a><br>Synced 5 W&B file(s), 0 media file(s), 0 artifact file(s) and 0 other file(s)"
      ],
      "text/plain": [
       "<IPython.core.display.HTML object>"
      ]
     },
     "metadata": {},
     "output_type": "display_data"
    },
    {
     "data": {
      "text/html": [
       "Find logs at: <code>./wandb/run-20250416_190246-j3vx4y8z/logs</code>"
      ],
      "text/plain": [
       "<IPython.core.display.HTML object>"
      ]
     },
     "metadata": {},
     "output_type": "display_data"
    },
    {
     "name": "stderr",
     "output_type": "stream",
     "text": [
      "\u001b[34m\u001b[1mwandb\u001b[0m: Agent Starting Run: 2y1addxj with config:\n",
      "\u001b[34m\u001b[1mwandb\u001b[0m: \tactivation_func: relu\n",
      "\u001b[34m\u001b[1mwandb\u001b[0m: \tbatch_normalisation: True\n",
      "\u001b[34m\u001b[1mwandb\u001b[0m: \tbatch_size: 16\n",
      "\u001b[34m\u001b[1mwandb\u001b[0m: \tdata_augmentation: Yes\n",
      "\u001b[34m\u001b[1mwandb\u001b[0m: \tdropout_rate: 0.23775066815053633\n",
      "\u001b[34m\u001b[1mwandb\u001b[0m: \tfilter_org: 0.5\n",
      "\u001b[34m\u001b[1mwandb\u001b[0m: \tlearning_rate: 0.009141165136493178\n",
      "\u001b[34m\u001b[1mwandb\u001b[0m: \tnum_dense: 256\n",
      "\u001b[34m\u001b[1mwandb\u001b[0m: \tnum_filters: 128\n",
      "\u001b[34m\u001b[1mwandb\u001b[0m: \toptimizer: momentum\n",
      "\u001b[34m\u001b[1mwandb\u001b[0m: \tsize_filters: 5\n"
     ]
    },
    {
     "data": {
      "text/html": [
       "Tracking run with wandb version 0.19.6"
      ],
      "text/plain": [
       "<IPython.core.display.HTML object>"
      ]
     },
     "metadata": {},
     "output_type": "display_data"
    },
    {
     "data": {
      "text/html": [
       "Run data is saved locally in <code>/kaggle/working/wandb/run-20250416_190913-2y1addxj</code>"
      ],
      "text/plain": [
       "<IPython.core.display.HTML object>"
      ]
     },
     "metadata": {},
     "output_type": "display_data"
    },
    {
     "data": {
      "text/html": [
       "Syncing run <strong><a href='https://wandb.ai/ishita49-indian-institute-of-technology-madras/DA6401_Assign2/runs/2y1addxj' target=\"_blank\">magic-sweep-6</a></strong> to <a href='https://wandb.ai/ishita49-indian-institute-of-technology-madras/DA6401_Assign2' target=\"_blank\">Weights & Biases</a> (<a href='https://wandb.me/developer-guide' target=\"_blank\">docs</a>)<br>Sweep page: <a href='https://wandb.ai/ishita49-indian-institute-of-technology-madras/DA6401_Assign2/sweeps/hyhjr9sg' target=\"_blank\">https://wandb.ai/ishita49-indian-institute-of-technology-madras/DA6401_Assign2/sweeps/hyhjr9sg</a>"
      ],
      "text/plain": [
       "<IPython.core.display.HTML object>"
      ]
     },
     "metadata": {},
     "output_type": "display_data"
    },
    {
     "data": {
      "text/html": [
       " View project at <a href='https://wandb.ai/ishita49-indian-institute-of-technology-madras/DA6401_Assign2' target=\"_blank\">https://wandb.ai/ishita49-indian-institute-of-technology-madras/DA6401_Assign2</a>"
      ],
      "text/plain": [
       "<IPython.core.display.HTML object>"
      ]
     },
     "metadata": {},
     "output_type": "display_data"
    },
    {
     "data": {
      "text/html": [
       " View sweep at <a href='https://wandb.ai/ishita49-indian-institute-of-technology-madras/DA6401_Assign2/sweeps/hyhjr9sg' target=\"_blank\">https://wandb.ai/ishita49-indian-institute-of-technology-madras/DA6401_Assign2/sweeps/hyhjr9sg</a>"
      ],
      "text/plain": [
       "<IPython.core.display.HTML object>"
      ]
     },
     "metadata": {},
     "output_type": "display_data"
    },
    {
     "data": {
      "text/html": [
       " View run at <a href='https://wandb.ai/ishita49-indian-institute-of-technology-madras/DA6401_Assign2/runs/2y1addxj' target=\"_blank\">https://wandb.ai/ishita49-indian-institute-of-technology-madras/DA6401_Assign2/runs/2y1addxj</a>"
      ],
      "text/plain": [
       "<IPython.core.display.HTML object>"
      ]
     },
     "metadata": {},
     "output_type": "display_data"
    },
    {
     "name": "stdout",
     "output_type": "stream",
     "text": [
      "Using 2 GPUs\n",
      "training...\n"
     ]
    },
    {
     "name": "stderr",
     "output_type": "stream",
     "text": [
      "                                                             "
     ]
    },
    {
     "name": "stdout",
     "output_type": "stream",
     "text": [
      "Epoch [1/20], Loss: 2.5578\n"
     ]
    },
    {
     "name": "stderr",
     "output_type": "stream",
     "text": [
      "\r"
     ]
    },
    {
     "name": "stdout",
     "output_type": "stream",
     "text": [
      "Validation Accuracy: 13.90%\n"
     ]
    },
    {
     "name": "stderr",
     "output_type": "stream",
     "text": [
      "                                                             "
     ]
    },
    {
     "name": "stdout",
     "output_type": "stream",
     "text": [
      "Epoch [2/20], Loss: 2.4235\n"
     ]
    },
    {
     "name": "stderr",
     "output_type": "stream",
     "text": [
      "\r"
     ]
    },
    {
     "name": "stdout",
     "output_type": "stream",
     "text": [
      "Validation Accuracy: 18.65%\n"
     ]
    },
    {
     "name": "stderr",
     "output_type": "stream",
     "text": [
      "                                                             "
     ]
    },
    {
     "name": "stdout",
     "output_type": "stream",
     "text": [
      "Epoch [3/20], Loss: 2.3546\n"
     ]
    },
    {
     "name": "stderr",
     "output_type": "stream",
     "text": [
      "\r"
     ]
    },
    {
     "name": "stdout",
     "output_type": "stream",
     "text": [
      "Validation Accuracy: 19.30%\n"
     ]
    },
    {
     "name": "stderr",
     "output_type": "stream",
     "text": [
      "                                                             \r"
     ]
    },
    {
     "data": {
      "text/html": [],
      "text/plain": [
       "<IPython.core.display.HTML object>"
      ]
     },
     "metadata": {},
     "output_type": "display_data"
    },
    {
     "data": {
      "text/html": [
       "<br>    <style><br>        .wandb-row {<br>            display: flex;<br>            flex-direction: row;<br>            flex-wrap: wrap;<br>            justify-content: flex-start;<br>            width: 100%;<br>        }<br>        .wandb-col {<br>            display: flex;<br>            flex-direction: column;<br>            flex-basis: 100%;<br>            flex: 1;<br>            padding: 10px;<br>        }<br>    </style><br><div class=\"wandb-row\"><div class=\"wandb-col\"><h3>Run history:</h3><br/><table class=\"wandb\"><tr><td>epoch</td><td>▁▅█</td></tr><tr><td>train_loss</td><td>█▃▁</td></tr><tr><td>val_accuracy</td><td>▁▇█</td></tr></table><br/></div><div class=\"wandb-col\"><h3>Run summary:</h3><br/><table class=\"wandb\"><tr><td>epoch</td><td>3</td></tr><tr><td>train_loss</td><td>2.35462</td></tr><tr><td>val_accuracy</td><td>19.3</td></tr></table><br/></div></div>"
      ],
      "text/plain": [
       "<IPython.core.display.HTML object>"
      ]
     },
     "metadata": {},
     "output_type": "display_data"
    },
    {
     "data": {
      "text/html": [
       " View run <strong style=\"color:#cdcd00\">magic-sweep-6</strong> at: <a href='https://wandb.ai/ishita49-indian-institute-of-technology-madras/DA6401_Assign2/runs/2y1addxj' target=\"_blank\">https://wandb.ai/ishita49-indian-institute-of-technology-madras/DA6401_Assign2/runs/2y1addxj</a><br> View project at: <a href='https://wandb.ai/ishita49-indian-institute-of-technology-madras/DA6401_Assign2' target=\"_blank\">https://wandb.ai/ishita49-indian-institute-of-technology-madras/DA6401_Assign2</a><br>Synced 5 W&B file(s), 0 media file(s), 0 artifact file(s) and 0 other file(s)"
      ],
      "text/plain": [
       "<IPython.core.display.HTML object>"
      ]
     },
     "metadata": {},
     "output_type": "display_data"
    },
    {
     "data": {
      "text/html": [
       "Find logs at: <code>./wandb/run-20250416_190913-2y1addxj/logs</code>"
      ],
      "text/plain": [
       "<IPython.core.display.HTML object>"
      ]
     },
     "metadata": {},
     "output_type": "display_data"
    },
    {
     "name": "stderr",
     "output_type": "stream",
     "text": [
      "\u001b[34m\u001b[1mwandb\u001b[0m: Agent Starting Run: 515m1iwn with config:\n",
      "\u001b[34m\u001b[1mwandb\u001b[0m: \tactivation_func: relu\n",
      "\u001b[34m\u001b[1mwandb\u001b[0m: \tbatch_normalisation: True\n",
      "\u001b[34m\u001b[1mwandb\u001b[0m: \tbatch_size: 16\n",
      "\u001b[34m\u001b[1mwandb\u001b[0m: \tdata_augmentation: Yes\n",
      "\u001b[34m\u001b[1mwandb\u001b[0m: \tdropout_rate: 0.3694415723835604\n",
      "\u001b[34m\u001b[1mwandb\u001b[0m: \tfilter_org: 1\n",
      "\u001b[34m\u001b[1mwandb\u001b[0m: \tlearning_rate: 0.007899087133640178\n",
      "\u001b[34m\u001b[1mwandb\u001b[0m: \tnum_dense: 256\n",
      "\u001b[34m\u001b[1mwandb\u001b[0m: \tnum_filters: 64\n",
      "\u001b[34m\u001b[1mwandb\u001b[0m: \toptimizer: momentum\n",
      "\u001b[34m\u001b[1mwandb\u001b[0m: \tsize_filters: 3\n"
     ]
    },
    {
     "data": {
      "text/html": [
       "Tracking run with wandb version 0.19.6"
      ],
      "text/plain": [
       "<IPython.core.display.HTML object>"
      ]
     },
     "metadata": {},
     "output_type": "display_data"
    },
    {
     "data": {
      "text/html": [
       "Run data is saved locally in <code>/kaggle/working/wandb/run-20250416_191516-515m1iwn</code>"
      ],
      "text/plain": [
       "<IPython.core.display.HTML object>"
      ]
     },
     "metadata": {},
     "output_type": "display_data"
    },
    {
     "data": {
      "text/html": [
       "Syncing run <strong><a href='https://wandb.ai/ishita49-indian-institute-of-technology-madras/DA6401_Assign2/runs/515m1iwn' target=\"_blank\">crimson-sweep-7</a></strong> to <a href='https://wandb.ai/ishita49-indian-institute-of-technology-madras/DA6401_Assign2' target=\"_blank\">Weights & Biases</a> (<a href='https://wandb.me/developer-guide' target=\"_blank\">docs</a>)<br>Sweep page: <a href='https://wandb.ai/ishita49-indian-institute-of-technology-madras/DA6401_Assign2/sweeps/hyhjr9sg' target=\"_blank\">https://wandb.ai/ishita49-indian-institute-of-technology-madras/DA6401_Assign2/sweeps/hyhjr9sg</a>"
      ],
      "text/plain": [
       "<IPython.core.display.HTML object>"
      ]
     },
     "metadata": {},
     "output_type": "display_data"
    },
    {
     "data": {
      "text/html": [
       " View project at <a href='https://wandb.ai/ishita49-indian-institute-of-technology-madras/DA6401_Assign2' target=\"_blank\">https://wandb.ai/ishita49-indian-institute-of-technology-madras/DA6401_Assign2</a>"
      ],
      "text/plain": [
       "<IPython.core.display.HTML object>"
      ]
     },
     "metadata": {},
     "output_type": "display_data"
    },
    {
     "data": {
      "text/html": [
       " View sweep at <a href='https://wandb.ai/ishita49-indian-institute-of-technology-madras/DA6401_Assign2/sweeps/hyhjr9sg' target=\"_blank\">https://wandb.ai/ishita49-indian-institute-of-technology-madras/DA6401_Assign2/sweeps/hyhjr9sg</a>"
      ],
      "text/plain": [
       "<IPython.core.display.HTML object>"
      ]
     },
     "metadata": {},
     "output_type": "display_data"
    },
    {
     "data": {
      "text/html": [
       " View run at <a href='https://wandb.ai/ishita49-indian-institute-of-technology-madras/DA6401_Assign2/runs/515m1iwn' target=\"_blank\">https://wandb.ai/ishita49-indian-institute-of-technology-madras/DA6401_Assign2/runs/515m1iwn</a>"
      ],
      "text/plain": [
       "<IPython.core.display.HTML object>"
      ]
     },
     "metadata": {},
     "output_type": "display_data"
    },
    {
     "name": "stdout",
     "output_type": "stream",
     "text": [
      "Using 2 GPUs\n",
      "training...\n"
     ]
    },
    {
     "name": "stderr",
     "output_type": "stream",
     "text": [
      "                                                             "
     ]
    },
    {
     "name": "stdout",
     "output_type": "stream",
     "text": [
      "Epoch [1/20], Loss: 2.5549\n"
     ]
    },
    {
     "name": "stderr",
     "output_type": "stream",
     "text": [
      "\r"
     ]
    },
    {
     "name": "stdout",
     "output_type": "stream",
     "text": [
      "Validation Accuracy: 16.55%\n"
     ]
    },
    {
     "name": "stderr",
     "output_type": "stream",
     "text": [
      "                                                             "
     ]
    },
    {
     "name": "stdout",
     "output_type": "stream",
     "text": [
      "Epoch [2/20], Loss: 2.4515\n"
     ]
    },
    {
     "name": "stderr",
     "output_type": "stream",
     "text": [
      "\r"
     ]
    },
    {
     "name": "stdout",
     "output_type": "stream",
     "text": [
      "Validation Accuracy: 16.55%\n"
     ]
    },
    {
     "name": "stderr",
     "output_type": "stream",
     "text": [
      "                                                             "
     ]
    },
    {
     "name": "stdout",
     "output_type": "stream",
     "text": [
      "Epoch [3/20], Loss: 2.3742\n"
     ]
    },
    {
     "name": "stderr",
     "output_type": "stream",
     "text": [
      "\r"
     ]
    },
    {
     "name": "stdout",
     "output_type": "stream",
     "text": [
      "Validation Accuracy: 19.50%\n"
     ]
    },
    {
     "name": "stderr",
     "output_type": "stream",
     "text": [
      "                                                             \r"
     ]
    },
    {
     "data": {
      "text/html": [],
      "text/plain": [
       "<IPython.core.display.HTML object>"
      ]
     },
     "metadata": {},
     "output_type": "display_data"
    },
    {
     "data": {
      "text/html": [
       "<br>    <style><br>        .wandb-row {<br>            display: flex;<br>            flex-direction: row;<br>            flex-wrap: wrap;<br>            justify-content: flex-start;<br>            width: 100%;<br>        }<br>        .wandb-col {<br>            display: flex;<br>            flex-direction: column;<br>            flex-basis: 100%;<br>            flex: 1;<br>            padding: 10px;<br>        }<br>    </style><br><div class=\"wandb-row\"><div class=\"wandb-col\"><h3>Run history:</h3><br/><table class=\"wandb\"><tr><td>epoch</td><td>▁▅█</td></tr><tr><td>train_loss</td><td>█▄▁</td></tr><tr><td>val_accuracy</td><td>▁▁█</td></tr></table><br/></div><div class=\"wandb-col\"><h3>Run summary:</h3><br/><table class=\"wandb\"><tr><td>epoch</td><td>3</td></tr><tr><td>train_loss</td><td>2.37423</td></tr><tr><td>val_accuracy</td><td>19.5</td></tr></table><br/></div></div>"
      ],
      "text/plain": [
       "<IPython.core.display.HTML object>"
      ]
     },
     "metadata": {},
     "output_type": "display_data"
    },
    {
     "data": {
      "text/html": [
       " View run <strong style=\"color:#cdcd00\">crimson-sweep-7</strong> at: <a href='https://wandb.ai/ishita49-indian-institute-of-technology-madras/DA6401_Assign2/runs/515m1iwn' target=\"_blank\">https://wandb.ai/ishita49-indian-institute-of-technology-madras/DA6401_Assign2/runs/515m1iwn</a><br> View project at: <a href='https://wandb.ai/ishita49-indian-institute-of-technology-madras/DA6401_Assign2' target=\"_blank\">https://wandb.ai/ishita49-indian-institute-of-technology-madras/DA6401_Assign2</a><br>Synced 5 W&B file(s), 0 media file(s), 0 artifact file(s) and 0 other file(s)"
      ],
      "text/plain": [
       "<IPython.core.display.HTML object>"
      ]
     },
     "metadata": {},
     "output_type": "display_data"
    },
    {
     "data": {
      "text/html": [
       "Find logs at: <code>./wandb/run-20250416_191516-515m1iwn/logs</code>"
      ],
      "text/plain": [
       "<IPython.core.display.HTML object>"
      ]
     },
     "metadata": {},
     "output_type": "display_data"
    },
    {
     "name": "stderr",
     "output_type": "stream",
     "text": [
      "\u001b[34m\u001b[1mwandb\u001b[0m: Agent Starting Run: g2f53bkm with config:\n",
      "\u001b[34m\u001b[1mwandb\u001b[0m: \tactivation_func: relu\n",
      "\u001b[34m\u001b[1mwandb\u001b[0m: \tbatch_normalisation: True\n",
      "\u001b[34m\u001b[1mwandb\u001b[0m: \tbatch_size: 32\n",
      "\u001b[34m\u001b[1mwandb\u001b[0m: \tdata_augmentation: No\n",
      "\u001b[34m\u001b[1mwandb\u001b[0m: \tdropout_rate: 0.3738332403643933\n",
      "\u001b[34m\u001b[1mwandb\u001b[0m: \tfilter_org: 1\n",
      "\u001b[34m\u001b[1mwandb\u001b[0m: \tlearning_rate: 0.001466307235080442\n",
      "\u001b[34m\u001b[1mwandb\u001b[0m: \tnum_dense: 256\n",
      "\u001b[34m\u001b[1mwandb\u001b[0m: \tnum_filters: 128\n",
      "\u001b[34m\u001b[1mwandb\u001b[0m: \toptimizer: momentum\n",
      "\u001b[34m\u001b[1mwandb\u001b[0m: \tsize_filters: 5\n"
     ]
    },
    {
     "data": {
      "text/html": [
       "Tracking run with wandb version 0.19.6"
      ],
      "text/plain": [
       "<IPython.core.display.HTML object>"
      ]
     },
     "metadata": {},
     "output_type": "display_data"
    },
    {
     "data": {
      "text/html": [
       "Run data is saved locally in <code>/kaggle/working/wandb/run-20250416_192114-g2f53bkm</code>"
      ],
      "text/plain": [
       "<IPython.core.display.HTML object>"
      ]
     },
     "metadata": {},
     "output_type": "display_data"
    },
    {
     "data": {
      "text/html": [
       "Syncing run <strong><a href='https://wandb.ai/ishita49-indian-institute-of-technology-madras/DA6401_Assign2/runs/g2f53bkm' target=\"_blank\">confused-sweep-8</a></strong> to <a href='https://wandb.ai/ishita49-indian-institute-of-technology-madras/DA6401_Assign2' target=\"_blank\">Weights & Biases</a> (<a href='https://wandb.me/developer-guide' target=\"_blank\">docs</a>)<br>Sweep page: <a href='https://wandb.ai/ishita49-indian-institute-of-technology-madras/DA6401_Assign2/sweeps/hyhjr9sg' target=\"_blank\">https://wandb.ai/ishita49-indian-institute-of-technology-madras/DA6401_Assign2/sweeps/hyhjr9sg</a>"
      ],
      "text/plain": [
       "<IPython.core.display.HTML object>"
      ]
     },
     "metadata": {},
     "output_type": "display_data"
    },
    {
     "data": {
      "text/html": [
       " View project at <a href='https://wandb.ai/ishita49-indian-institute-of-technology-madras/DA6401_Assign2' target=\"_blank\">https://wandb.ai/ishita49-indian-institute-of-technology-madras/DA6401_Assign2</a>"
      ],
      "text/plain": [
       "<IPython.core.display.HTML object>"
      ]
     },
     "metadata": {},
     "output_type": "display_data"
    },
    {
     "data": {
      "text/html": [
       " View sweep at <a href='https://wandb.ai/ishita49-indian-institute-of-technology-madras/DA6401_Assign2/sweeps/hyhjr9sg' target=\"_blank\">https://wandb.ai/ishita49-indian-institute-of-technology-madras/DA6401_Assign2/sweeps/hyhjr9sg</a>"
      ],
      "text/plain": [
       "<IPython.core.display.HTML object>"
      ]
     },
     "metadata": {},
     "output_type": "display_data"
    },
    {
     "data": {
      "text/html": [
       " View run at <a href='https://wandb.ai/ishita49-indian-institute-of-technology-madras/DA6401_Assign2/runs/g2f53bkm' target=\"_blank\">https://wandb.ai/ishita49-indian-institute-of-technology-madras/DA6401_Assign2/runs/g2f53bkm</a>"
      ],
      "text/plain": [
       "<IPython.core.display.HTML object>"
      ]
     },
     "metadata": {},
     "output_type": "display_data"
    },
    {
     "name": "stdout",
     "output_type": "stream",
     "text": [
      "Using 2 GPUs\n",
      "training...\n"
     ]
    },
    {
     "name": "stderr",
     "output_type": "stream",
     "text": [
      "                                                             "
     ]
    },
    {
     "name": "stdout",
     "output_type": "stream",
     "text": [
      "Epoch [1/20], Loss: 2.2231\n"
     ]
    },
    {
     "name": "stderr",
     "output_type": "stream",
     "text": [
      "\r"
     ]
    },
    {
     "name": "stdout",
     "output_type": "stream",
     "text": [
      "Validation Accuracy: 25.50%\n"
     ]
    },
    {
     "name": "stderr",
     "output_type": "stream",
     "text": [
      "                                                             "
     ]
    },
    {
     "name": "stdout",
     "output_type": "stream",
     "text": [
      "Epoch [2/20], Loss: 2.1326\n"
     ]
    },
    {
     "name": "stderr",
     "output_type": "stream",
     "text": [
      "\r"
     ]
    },
    {
     "name": "stdout",
     "output_type": "stream",
     "text": [
      "Validation Accuracy: 26.30%\n"
     ]
    },
    {
     "name": "stderr",
     "output_type": "stream",
     "text": [
      "                                                             "
     ]
    },
    {
     "name": "stdout",
     "output_type": "stream",
     "text": [
      "Epoch [3/20], Loss: 2.0843\n"
     ]
    },
    {
     "name": "stderr",
     "output_type": "stream",
     "text": [
      "\r"
     ]
    },
    {
     "name": "stdout",
     "output_type": "stream",
     "text": [
      "Validation Accuracy: 28.80%\n"
     ]
    },
    {
     "name": "stderr",
     "output_type": "stream",
     "text": [
      "                                                             "
     ]
    },
    {
     "name": "stdout",
     "output_type": "stream",
     "text": [
      "Epoch [4/20], Loss: 2.0450\n"
     ]
    },
    {
     "name": "stderr",
     "output_type": "stream",
     "text": [
      "\r"
     ]
    },
    {
     "name": "stdout",
     "output_type": "stream",
     "text": [
      "Validation Accuracy: 29.90%\n"
     ]
    },
    {
     "name": "stderr",
     "output_type": "stream",
     "text": [
      "                                                             "
     ]
    },
    {
     "name": "stdout",
     "output_type": "stream",
     "text": [
      "Epoch [5/20], Loss: 2.0134\n"
     ]
    },
    {
     "name": "stderr",
     "output_type": "stream",
     "text": [
      "\r"
     ]
    },
    {
     "name": "stdout",
     "output_type": "stream",
     "text": [
      "Validation Accuracy: 29.65%\n"
     ]
    },
    {
     "name": "stderr",
     "output_type": "stream",
     "text": [
      "                                                             "
     ]
    },
    {
     "name": "stdout",
     "output_type": "stream",
     "text": [
      "Epoch [6/20], Loss: 1.9942\n"
     ]
    },
    {
     "name": "stderr",
     "output_type": "stream",
     "text": [
      "\r"
     ]
    },
    {
     "name": "stdout",
     "output_type": "stream",
     "text": [
      "Validation Accuracy: 31.00%\n"
     ]
    },
    {
     "name": "stderr",
     "output_type": "stream",
     "text": [
      "                                                             "
     ]
    },
    {
     "name": "stdout",
     "output_type": "stream",
     "text": [
      "Epoch [7/20], Loss: 1.9746\n"
     ]
    },
    {
     "name": "stderr",
     "output_type": "stream",
     "text": [
      "\r"
     ]
    },
    {
     "name": "stdout",
     "output_type": "stream",
     "text": [
      "Validation Accuracy: 32.10%\n"
     ]
    },
    {
     "name": "stderr",
     "output_type": "stream",
     "text": [
      "                                                             "
     ]
    },
    {
     "name": "stdout",
     "output_type": "stream",
     "text": [
      "Epoch [8/20], Loss: 1.9365\n"
     ]
    },
    {
     "name": "stderr",
     "output_type": "stream",
     "text": [
      "\r"
     ]
    },
    {
     "name": "stdout",
     "output_type": "stream",
     "text": [
      "Validation Accuracy: 33.75%\n"
     ]
    },
    {
     "name": "stderr",
     "output_type": "stream",
     "text": [
      "                                                             "
     ]
    },
    {
     "name": "stdout",
     "output_type": "stream",
     "text": [
      "Epoch [9/20], Loss: 1.9087\n"
     ]
    },
    {
     "name": "stderr",
     "output_type": "stream",
     "text": [
      "\r"
     ]
    },
    {
     "name": "stdout",
     "output_type": "stream",
     "text": [
      "Validation Accuracy: 33.65%\n"
     ]
    },
    {
     "name": "stderr",
     "output_type": "stream",
     "text": [
      "                                                              "
     ]
    },
    {
     "name": "stdout",
     "output_type": "stream",
     "text": [
      "Epoch [10/20], Loss: 1.8843\n"
     ]
    },
    {
     "name": "stderr",
     "output_type": "stream",
     "text": [
      "\r"
     ]
    },
    {
     "name": "stdout",
     "output_type": "stream",
     "text": [
      "Validation Accuracy: 35.30%\n"
     ]
    },
    {
     "name": "stderr",
     "output_type": "stream",
     "text": [
      "                                                              "
     ]
    },
    {
     "name": "stdout",
     "output_type": "stream",
     "text": [
      "Epoch [11/20], Loss: 1.8789\n"
     ]
    },
    {
     "name": "stderr",
     "output_type": "stream",
     "text": [
      "\r"
     ]
    },
    {
     "name": "stdout",
     "output_type": "stream",
     "text": [
      "Validation Accuracy: 33.15%\n"
     ]
    },
    {
     "name": "stderr",
     "output_type": "stream",
     "text": [
      "                                                              "
     ]
    },
    {
     "name": "stdout",
     "output_type": "stream",
     "text": [
      "Epoch [12/20], Loss: 1.8606\n"
     ]
    },
    {
     "name": "stderr",
     "output_type": "stream",
     "text": [
      "\r"
     ]
    },
    {
     "name": "stdout",
     "output_type": "stream",
     "text": [
      "Validation Accuracy: 32.45%\n"
     ]
    },
    {
     "name": "stderr",
     "output_type": "stream",
     "text": [
      "                                                              "
     ]
    },
    {
     "name": "stdout",
     "output_type": "stream",
     "text": [
      "Epoch [13/20], Loss: 1.8227\n"
     ]
    },
    {
     "name": "stderr",
     "output_type": "stream",
     "text": [
      "\r"
     ]
    },
    {
     "name": "stdout",
     "output_type": "stream",
     "text": [
      "Validation Accuracy: 37.00%\n"
     ]
    },
    {
     "name": "stderr",
     "output_type": "stream",
     "text": [
      "                                                              "
     ]
    },
    {
     "name": "stdout",
     "output_type": "stream",
     "text": [
      "Epoch [14/20], Loss: 1.8132\n"
     ]
    },
    {
     "name": "stderr",
     "output_type": "stream",
     "text": [
      "\r"
     ]
    },
    {
     "name": "stdout",
     "output_type": "stream",
     "text": [
      "Validation Accuracy: 38.65%\n"
     ]
    },
    {
     "name": "stderr",
     "output_type": "stream",
     "text": [
      "                                                              "
     ]
    },
    {
     "name": "stdout",
     "output_type": "stream",
     "text": [
      "Epoch [15/20], Loss: 1.7977\n"
     ]
    },
    {
     "name": "stderr",
     "output_type": "stream",
     "text": [
      "\r"
     ]
    },
    {
     "name": "stdout",
     "output_type": "stream",
     "text": [
      "Validation Accuracy: 36.50%\n"
     ]
    },
    {
     "name": "stderr",
     "output_type": "stream",
     "text": [
      "                                                              "
     ]
    },
    {
     "name": "stdout",
     "output_type": "stream",
     "text": [
      "Epoch [16/20], Loss: 1.7713\n"
     ]
    },
    {
     "name": "stderr",
     "output_type": "stream",
     "text": [
      "\r"
     ]
    },
    {
     "name": "stdout",
     "output_type": "stream",
     "text": [
      "Validation Accuracy: 36.30%\n"
     ]
    },
    {
     "name": "stderr",
     "output_type": "stream",
     "text": [
      "                                                              "
     ]
    },
    {
     "name": "stdout",
     "output_type": "stream",
     "text": [
      "Epoch [17/20], Loss: 1.7693\n"
     ]
    },
    {
     "name": "stderr",
     "output_type": "stream",
     "text": [
      "\r"
     ]
    },
    {
     "name": "stdout",
     "output_type": "stream",
     "text": [
      "Validation Accuracy: 37.35%\n"
     ]
    },
    {
     "name": "stderr",
     "output_type": "stream",
     "text": [
      "                                                              "
     ]
    },
    {
     "name": "stdout",
     "output_type": "stream",
     "text": [
      "Epoch [18/20], Loss: 1.7377\n"
     ]
    },
    {
     "name": "stderr",
     "output_type": "stream",
     "text": [
      "\r"
     ]
    },
    {
     "name": "stdout",
     "output_type": "stream",
     "text": [
      "Validation Accuracy: 38.85%\n"
     ]
    },
    {
     "name": "stderr",
     "output_type": "stream",
     "text": [
      "                                                              \r"
     ]
    },
    {
     "name": "stdout",
     "output_type": "stream",
     "text": [
      "Epoch [19/20], Loss: 1.7245\n",
      "Validation Accuracy: 34.25%\n"
     ]
    },
    {
     "name": "stderr",
     "output_type": "stream",
     "text": [
      "                                                              "
     ]
    },
    {
     "name": "stdout",
     "output_type": "stream",
     "text": [
      "Epoch [20/20], Loss: 1.7180\n"
     ]
    },
    {
     "name": "stderr",
     "output_type": "stream",
     "text": [
      "\r"
     ]
    },
    {
     "name": "stdout",
     "output_type": "stream",
     "text": [
      "Validation Accuracy: 37.10%\n"
     ]
    },
    {
     "data": {
      "text/html": [],
      "text/plain": [
       "<IPython.core.display.HTML object>"
      ]
     },
     "metadata": {},
     "output_type": "display_data"
    },
    {
     "data": {
      "text/html": [
       "<br>    <style><br>        .wandb-row {<br>            display: flex;<br>            flex-direction: row;<br>            flex-wrap: wrap;<br>            justify-content: flex-start;<br>            width: 100%;<br>        }<br>        .wandb-col {<br>            display: flex;<br>            flex-direction: column;<br>            flex-basis: 100%;<br>            flex: 1;<br>            padding: 10px;<br>        }<br>    </style><br><div class=\"wandb-row\"><div class=\"wandb-col\"><h3>Run history:</h3><br/><table class=\"wandb\"><tr><td>epoch</td><td>▁▁▂▂▂▃▃▄▄▄▅▅▅▆▆▇▇▇██</td></tr><tr><td>train_loss</td><td>█▇▆▆▅▅▅▄▄▃▃▃▂▂▂▂▂▁▁▁</td></tr><tr><td>val_accuracy</td><td>▁▁▃▃▃▄▄▅▅▆▅▅▇█▇▇▇█▆▇</td></tr></table><br/></div><div class=\"wandb-col\"><h3>Run summary:</h3><br/><table class=\"wandb\"><tr><td>epoch</td><td>20</td></tr><tr><td>train_loss</td><td>1.71796</td></tr><tr><td>val_accuracy</td><td>37.1</td></tr></table><br/></div></div>"
      ],
      "text/plain": [
       "<IPython.core.display.HTML object>"
      ]
     },
     "metadata": {},
     "output_type": "display_data"
    },
    {
     "data": {
      "text/html": [
       " View run <strong style=\"color:#cdcd00\">confused-sweep-8</strong> at: <a href='https://wandb.ai/ishita49-indian-institute-of-technology-madras/DA6401_Assign2/runs/g2f53bkm' target=\"_blank\">https://wandb.ai/ishita49-indian-institute-of-technology-madras/DA6401_Assign2/runs/g2f53bkm</a><br> View project at: <a href='https://wandb.ai/ishita49-indian-institute-of-technology-madras/DA6401_Assign2' target=\"_blank\">https://wandb.ai/ishita49-indian-institute-of-technology-madras/DA6401_Assign2</a><br>Synced 5 W&B file(s), 0 media file(s), 0 artifact file(s) and 0 other file(s)"
      ],
      "text/plain": [
       "<IPython.core.display.HTML object>"
      ]
     },
     "metadata": {},
     "output_type": "display_data"
    },
    {
     "data": {
      "text/html": [
       "Find logs at: <code>./wandb/run-20250416_192114-g2f53bkm/logs</code>"
      ],
      "text/plain": [
       "<IPython.core.display.HTML object>"
      ]
     },
     "metadata": {},
     "output_type": "display_data"
    },
    {
     "name": "stderr",
     "output_type": "stream",
     "text": [
      "\u001b[34m\u001b[1mwandb\u001b[0m: Agent Starting Run: 23a7gyt0 with config:\n",
      "\u001b[34m\u001b[1mwandb\u001b[0m: \tactivation_func: relu\n",
      "\u001b[34m\u001b[1mwandb\u001b[0m: \tbatch_normalisation: True\n",
      "\u001b[34m\u001b[1mwandb\u001b[0m: \tbatch_size: 32\n",
      "\u001b[34m\u001b[1mwandb\u001b[0m: \tdata_augmentation: No\n",
      "\u001b[34m\u001b[1mwandb\u001b[0m: \tdropout_rate: 0.31740220416609766\n",
      "\u001b[34m\u001b[1mwandb\u001b[0m: \tfilter_org: 1\n",
      "\u001b[34m\u001b[1mwandb\u001b[0m: \tlearning_rate: 0.002265601238896994\n",
      "\u001b[34m\u001b[1mwandb\u001b[0m: \tnum_dense: 512\n",
      "\u001b[34m\u001b[1mwandb\u001b[0m: \tnum_filters: 128\n",
      "\u001b[34m\u001b[1mwandb\u001b[0m: \toptimizer: momentum\n",
      "\u001b[34m\u001b[1mwandb\u001b[0m: \tsize_filters: 3\n"
     ]
    },
    {
     "data": {
      "text/html": [
       "Tracking run with wandb version 0.19.6"
      ],
      "text/plain": [
       "<IPython.core.display.HTML object>"
      ]
     },
     "metadata": {},
     "output_type": "display_data"
    },
    {
     "data": {
      "text/html": [
       "Run data is saved locally in <code>/kaggle/working/wandb/run-20250416_194349-23a7gyt0</code>"
      ],
      "text/plain": [
       "<IPython.core.display.HTML object>"
      ]
     },
     "metadata": {},
     "output_type": "display_data"
    },
    {
     "data": {
      "text/html": [
       "Syncing run <strong><a href='https://wandb.ai/ishita49-indian-institute-of-technology-madras/DA6401_Assign2/runs/23a7gyt0' target=\"_blank\">autumn-sweep-9</a></strong> to <a href='https://wandb.ai/ishita49-indian-institute-of-technology-madras/DA6401_Assign2' target=\"_blank\">Weights & Biases</a> (<a href='https://wandb.me/developer-guide' target=\"_blank\">docs</a>)<br>Sweep page: <a href='https://wandb.ai/ishita49-indian-institute-of-technology-madras/DA6401_Assign2/sweeps/hyhjr9sg' target=\"_blank\">https://wandb.ai/ishita49-indian-institute-of-technology-madras/DA6401_Assign2/sweeps/hyhjr9sg</a>"
      ],
      "text/plain": [
       "<IPython.core.display.HTML object>"
      ]
     },
     "metadata": {},
     "output_type": "display_data"
    },
    {
     "data": {
      "text/html": [
       " View project at <a href='https://wandb.ai/ishita49-indian-institute-of-technology-madras/DA6401_Assign2' target=\"_blank\">https://wandb.ai/ishita49-indian-institute-of-technology-madras/DA6401_Assign2</a>"
      ],
      "text/plain": [
       "<IPython.core.display.HTML object>"
      ]
     },
     "metadata": {},
     "output_type": "display_data"
    },
    {
     "data": {
      "text/html": [
       " View sweep at <a href='https://wandb.ai/ishita49-indian-institute-of-technology-madras/DA6401_Assign2/sweeps/hyhjr9sg' target=\"_blank\">https://wandb.ai/ishita49-indian-institute-of-technology-madras/DA6401_Assign2/sweeps/hyhjr9sg</a>"
      ],
      "text/plain": [
       "<IPython.core.display.HTML object>"
      ]
     },
     "metadata": {},
     "output_type": "display_data"
    },
    {
     "data": {
      "text/html": [
       " View run at <a href='https://wandb.ai/ishita49-indian-institute-of-technology-madras/DA6401_Assign2/runs/23a7gyt0' target=\"_blank\">https://wandb.ai/ishita49-indian-institute-of-technology-madras/DA6401_Assign2/runs/23a7gyt0</a>"
      ],
      "text/plain": [
       "<IPython.core.display.HTML object>"
      ]
     },
     "metadata": {},
     "output_type": "display_data"
    },
    {
     "name": "stdout",
     "output_type": "stream",
     "text": [
      "Using 2 GPUs\n",
      "training...\n"
     ]
    },
    {
     "name": "stderr",
     "output_type": "stream",
     "text": [
      "                                                             "
     ]
    },
    {
     "name": "stdout",
     "output_type": "stream",
     "text": [
      "Epoch [1/20], Loss: 2.2172\n"
     ]
    },
    {
     "name": "stderr",
     "output_type": "stream",
     "text": [
      "\r"
     ]
    },
    {
     "name": "stdout",
     "output_type": "stream",
     "text": [
      "Validation Accuracy: 21.95%\n"
     ]
    },
    {
     "name": "stderr",
     "output_type": "stream",
     "text": [
      "                                                             "
     ]
    },
    {
     "name": "stdout",
     "output_type": "stream",
     "text": [
      "Epoch [2/20], Loss: 2.1373\n"
     ]
    },
    {
     "name": "stderr",
     "output_type": "stream",
     "text": [
      "\r"
     ]
    },
    {
     "name": "stdout",
     "output_type": "stream",
     "text": [
      "Validation Accuracy: 26.05%\n"
     ]
    },
    {
     "name": "stderr",
     "output_type": "stream",
     "text": [
      "                                                             "
     ]
    },
    {
     "name": "stdout",
     "output_type": "stream",
     "text": [
      "Epoch [3/20], Loss: 2.0806\n"
     ]
    },
    {
     "name": "stderr",
     "output_type": "stream",
     "text": [
      "\r"
     ]
    },
    {
     "name": "stdout",
     "output_type": "stream",
     "text": [
      "Validation Accuracy: 28.20%\n"
     ]
    },
    {
     "name": "stderr",
     "output_type": "stream",
     "text": [
      "                                                             "
     ]
    },
    {
     "name": "stdout",
     "output_type": "stream",
     "text": [
      "Epoch [4/20], Loss: 2.0474\n"
     ]
    },
    {
     "name": "stderr",
     "output_type": "stream",
     "text": [
      "\r"
     ]
    },
    {
     "name": "stdout",
     "output_type": "stream",
     "text": [
      "Validation Accuracy: 29.80%\n"
     ]
    },
    {
     "name": "stderr",
     "output_type": "stream",
     "text": [
      "                                                             "
     ]
    },
    {
     "name": "stdout",
     "output_type": "stream",
     "text": [
      "Epoch [5/20], Loss: 2.0258\n"
     ]
    },
    {
     "name": "stderr",
     "output_type": "stream",
     "text": [
      "\r"
     ]
    },
    {
     "name": "stdout",
     "output_type": "stream",
     "text": [
      "Validation Accuracy: 28.35%\n"
     ]
    },
    {
     "name": "stderr",
     "output_type": "stream",
     "text": [
      "                                                             "
     ]
    },
    {
     "name": "stdout",
     "output_type": "stream",
     "text": [
      "Epoch [6/20], Loss: 1.9853\n"
     ]
    },
    {
     "name": "stderr",
     "output_type": "stream",
     "text": [
      "\r"
     ]
    },
    {
     "name": "stdout",
     "output_type": "stream",
     "text": [
      "Validation Accuracy: 28.95%\n"
     ]
    },
    {
     "name": "stderr",
     "output_type": "stream",
     "text": [
      "                                                             "
     ]
    },
    {
     "name": "stdout",
     "output_type": "stream",
     "text": [
      "Epoch [7/20], Loss: 1.9583\n"
     ]
    },
    {
     "name": "stderr",
     "output_type": "stream",
     "text": [
      "\r"
     ]
    },
    {
     "name": "stdout",
     "output_type": "stream",
     "text": [
      "Validation Accuracy: 30.30%\n"
     ]
    },
    {
     "name": "stderr",
     "output_type": "stream",
     "text": [
      "                                                             "
     ]
    },
    {
     "name": "stdout",
     "output_type": "stream",
     "text": [
      "Epoch [8/20], Loss: 1.9344\n"
     ]
    },
    {
     "name": "stderr",
     "output_type": "stream",
     "text": [
      "\r"
     ]
    },
    {
     "name": "stdout",
     "output_type": "stream",
     "text": [
      "Validation Accuracy: 32.60%\n"
     ]
    },
    {
     "name": "stderr",
     "output_type": "stream",
     "text": [
      "                                                             "
     ]
    },
    {
     "name": "stdout",
     "output_type": "stream",
     "text": [
      "Epoch [9/20], Loss: 1.9088\n"
     ]
    },
    {
     "name": "stderr",
     "output_type": "stream",
     "text": [
      "\r"
     ]
    },
    {
     "name": "stdout",
     "output_type": "stream",
     "text": [
      "Validation Accuracy: 32.20%\n"
     ]
    },
    {
     "name": "stderr",
     "output_type": "stream",
     "text": [
      "                                                              "
     ]
    },
    {
     "name": "stdout",
     "output_type": "stream",
     "text": [
      "Epoch [10/20], Loss: 1.8838\n"
     ]
    },
    {
     "name": "stderr",
     "output_type": "stream",
     "text": [
      "\r"
     ]
    },
    {
     "name": "stdout",
     "output_type": "stream",
     "text": [
      "Validation Accuracy: 32.80%\n"
     ]
    },
    {
     "name": "stderr",
     "output_type": "stream",
     "text": [
      "                                                              "
     ]
    },
    {
     "name": "stdout",
     "output_type": "stream",
     "text": [
      "Epoch [11/20], Loss: 1.8683\n"
     ]
    },
    {
     "name": "stderr",
     "output_type": "stream",
     "text": [
      "\r"
     ]
    },
    {
     "name": "stdout",
     "output_type": "stream",
     "text": [
      "Validation Accuracy: 36.05%\n"
     ]
    },
    {
     "name": "stderr",
     "output_type": "stream",
     "text": [
      "                                                              "
     ]
    },
    {
     "name": "stdout",
     "output_type": "stream",
     "text": [
      "Epoch [12/20], Loss: 1.8385\n"
     ]
    },
    {
     "name": "stderr",
     "output_type": "stream",
     "text": [
      "\r"
     ]
    },
    {
     "name": "stdout",
     "output_type": "stream",
     "text": [
      "Validation Accuracy: 31.10%\n"
     ]
    },
    {
     "name": "stderr",
     "output_type": "stream",
     "text": [
      "                                                              "
     ]
    },
    {
     "name": "stdout",
     "output_type": "stream",
     "text": [
      "Epoch [13/20], Loss: 1.8374\n"
     ]
    },
    {
     "name": "stderr",
     "output_type": "stream",
     "text": [
      "\r"
     ]
    },
    {
     "name": "stdout",
     "output_type": "stream",
     "text": [
      "Validation Accuracy: 33.15%\n"
     ]
    },
    {
     "name": "stderr",
     "output_type": "stream",
     "text": [
      "                                                              "
     ]
    },
    {
     "name": "stdout",
     "output_type": "stream",
     "text": [
      "Epoch [14/20], Loss: 1.8225\n"
     ]
    },
    {
     "name": "stderr",
     "output_type": "stream",
     "text": [
      "\r"
     ]
    },
    {
     "name": "stdout",
     "output_type": "stream",
     "text": [
      "Validation Accuracy: 32.30%\n"
     ]
    },
    {
     "name": "stderr",
     "output_type": "stream",
     "text": [
      "                                                              \r"
     ]
    },
    {
     "name": "stdout",
     "output_type": "stream",
     "text": [
      "Epoch [15/20], Loss: 1.8078\n",
      "Validation Accuracy: 35.85%\n"
     ]
    },
    {
     "name": "stderr",
     "output_type": "stream",
     "text": [
      "                                                              "
     ]
    },
    {
     "name": "stdout",
     "output_type": "stream",
     "text": [
      "Epoch [16/20], Loss: 1.7867\n"
     ]
    },
    {
     "name": "stderr",
     "output_type": "stream",
     "text": [
      "\r"
     ]
    },
    {
     "name": "stdout",
     "output_type": "stream",
     "text": [
      "Validation Accuracy: 33.50%\n"
     ]
    },
    {
     "name": "stderr",
     "output_type": "stream",
     "text": [
      "                                                              "
     ]
    },
    {
     "name": "stdout",
     "output_type": "stream",
     "text": [
      "Epoch [17/20], Loss: 1.7682\n"
     ]
    },
    {
     "name": "stderr",
     "output_type": "stream",
     "text": [
      "\r"
     ]
    },
    {
     "name": "stdout",
     "output_type": "stream",
     "text": [
      "Validation Accuracy: 38.10%\n"
     ]
    },
    {
     "name": "stderr",
     "output_type": "stream",
     "text": [
      "                                                              "
     ]
    },
    {
     "name": "stdout",
     "output_type": "stream",
     "text": [
      "Epoch [18/20], Loss: 1.7675\n"
     ]
    },
    {
     "name": "stderr",
     "output_type": "stream",
     "text": [
      "\r"
     ]
    },
    {
     "name": "stdout",
     "output_type": "stream",
     "text": [
      "Validation Accuracy: 32.95%\n"
     ]
    },
    {
     "name": "stderr",
     "output_type": "stream",
     "text": [
      "                                                              "
     ]
    },
    {
     "name": "stdout",
     "output_type": "stream",
     "text": [
      "Epoch [19/20], Loss: 1.7393\n"
     ]
    },
    {
     "name": "stderr",
     "output_type": "stream",
     "text": [
      "\r"
     ]
    },
    {
     "name": "stdout",
     "output_type": "stream",
     "text": [
      "Validation Accuracy: 36.85%\n"
     ]
    },
    {
     "name": "stderr",
     "output_type": "stream",
     "text": [
      "                                                              "
     ]
    },
    {
     "name": "stdout",
     "output_type": "stream",
     "text": [
      "Epoch [20/20], Loss: 1.7264\n"
     ]
    },
    {
     "name": "stderr",
     "output_type": "stream",
     "text": [
      "\r"
     ]
    },
    {
     "name": "stdout",
     "output_type": "stream",
     "text": [
      "Validation Accuracy: 38.25%\n"
     ]
    },
    {
     "data": {
      "text/html": [],
      "text/plain": [
       "<IPython.core.display.HTML object>"
      ]
     },
     "metadata": {},
     "output_type": "display_data"
    },
    {
     "data": {
      "text/html": [
       "<br>    <style><br>        .wandb-row {<br>            display: flex;<br>            flex-direction: row;<br>            flex-wrap: wrap;<br>            justify-content: flex-start;<br>            width: 100%;<br>        }<br>        .wandb-col {<br>            display: flex;<br>            flex-direction: column;<br>            flex-basis: 100%;<br>            flex: 1;<br>            padding: 10px;<br>        }<br>    </style><br><div class=\"wandb-row\"><div class=\"wandb-col\"><h3>Run history:</h3><br/><table class=\"wandb\"><tr><td>epoch</td><td>▁▁▂▂▂▃▃▄▄▄▅▅▅▆▆▇▇▇██</td></tr><tr><td>train_loss</td><td>█▇▆▆▅▅▄▄▄▃▃▃▃▂▂▂▂▂▁▁</td></tr><tr><td>val_accuracy</td><td>▁▃▄▄▄▄▅▆▅▆▇▅▆▅▇▆█▆▇█</td></tr></table><br/></div><div class=\"wandb-col\"><h3>Run summary:</h3><br/><table class=\"wandb\"><tr><td>epoch</td><td>20</td></tr><tr><td>train_loss</td><td>1.72636</td></tr><tr><td>val_accuracy</td><td>38.25</td></tr></table><br/></div></div>"
      ],
      "text/plain": [
       "<IPython.core.display.HTML object>"
      ]
     },
     "metadata": {},
     "output_type": "display_data"
    },
    {
     "data": {
      "text/html": [
       " View run <strong style=\"color:#cdcd00\">autumn-sweep-9</strong> at: <a href='https://wandb.ai/ishita49-indian-institute-of-technology-madras/DA6401_Assign2/runs/23a7gyt0' target=\"_blank\">https://wandb.ai/ishita49-indian-institute-of-technology-madras/DA6401_Assign2/runs/23a7gyt0</a><br> View project at: <a href='https://wandb.ai/ishita49-indian-institute-of-technology-madras/DA6401_Assign2' target=\"_blank\">https://wandb.ai/ishita49-indian-institute-of-technology-madras/DA6401_Assign2</a><br>Synced 5 W&B file(s), 0 media file(s), 0 artifact file(s) and 0 other file(s)"
      ],
      "text/plain": [
       "<IPython.core.display.HTML object>"
      ]
     },
     "metadata": {},
     "output_type": "display_data"
    },
    {
     "data": {
      "text/html": [
       "Find logs at: <code>./wandb/run-20250416_194349-23a7gyt0/logs</code>"
      ],
      "text/plain": [
       "<IPython.core.display.HTML object>"
      ]
     },
     "metadata": {},
     "output_type": "display_data"
    },
    {
     "name": "stderr",
     "output_type": "stream",
     "text": [
      "\u001b[34m\u001b[1mwandb\u001b[0m: Agent Starting Run: yzfmxakg with config:\n",
      "\u001b[34m\u001b[1mwandb\u001b[0m: \tactivation_func: relu\n",
      "\u001b[34m\u001b[1mwandb\u001b[0m: \tbatch_normalisation: True\n",
      "\u001b[34m\u001b[1mwandb\u001b[0m: \tbatch_size: 32\n",
      "\u001b[34m\u001b[1mwandb\u001b[0m: \tdata_augmentation: No\n",
      "\u001b[34m\u001b[1mwandb\u001b[0m: \tdropout_rate: 0.31688476545024863\n",
      "\u001b[34m\u001b[1mwandb\u001b[0m: \tfilter_org: 0.5\n",
      "\u001b[34m\u001b[1mwandb\u001b[0m: \tlearning_rate: 0.0013318450244589146\n",
      "\u001b[34m\u001b[1mwandb\u001b[0m: \tnum_dense: 512\n",
      "\u001b[34m\u001b[1mwandb\u001b[0m: \tnum_filters: 128\n",
      "\u001b[34m\u001b[1mwandb\u001b[0m: \toptimizer: momentum\n",
      "\u001b[34m\u001b[1mwandb\u001b[0m: \tsize_filters: 5\n"
     ]
    },
    {
     "data": {
      "text/html": [
       "Tracking run with wandb version 0.19.6"
      ],
      "text/plain": [
       "<IPython.core.display.HTML object>"
      ]
     },
     "metadata": {},
     "output_type": "display_data"
    },
    {
     "data": {
      "text/html": [
       "Run data is saved locally in <code>/kaggle/working/wandb/run-20250416_200539-yzfmxakg</code>"
      ],
      "text/plain": [
       "<IPython.core.display.HTML object>"
      ]
     },
     "metadata": {},
     "output_type": "display_data"
    },
    {
     "data": {
      "text/html": [
       "Syncing run <strong><a href='https://wandb.ai/ishita49-indian-institute-of-technology-madras/DA6401_Assign2/runs/yzfmxakg' target=\"_blank\">apricot-sweep-10</a></strong> to <a href='https://wandb.ai/ishita49-indian-institute-of-technology-madras/DA6401_Assign2' target=\"_blank\">Weights & Biases</a> (<a href='https://wandb.me/developer-guide' target=\"_blank\">docs</a>)<br>Sweep page: <a href='https://wandb.ai/ishita49-indian-institute-of-technology-madras/DA6401_Assign2/sweeps/hyhjr9sg' target=\"_blank\">https://wandb.ai/ishita49-indian-institute-of-technology-madras/DA6401_Assign2/sweeps/hyhjr9sg</a>"
      ],
      "text/plain": [
       "<IPython.core.display.HTML object>"
      ]
     },
     "metadata": {},
     "output_type": "display_data"
    },
    {
     "data": {
      "text/html": [
       " View project at <a href='https://wandb.ai/ishita49-indian-institute-of-technology-madras/DA6401_Assign2' target=\"_blank\">https://wandb.ai/ishita49-indian-institute-of-technology-madras/DA6401_Assign2</a>"
      ],
      "text/plain": [
       "<IPython.core.display.HTML object>"
      ]
     },
     "metadata": {},
     "output_type": "display_data"
    },
    {
     "data": {
      "text/html": [
       " View sweep at <a href='https://wandb.ai/ishita49-indian-institute-of-technology-madras/DA6401_Assign2/sweeps/hyhjr9sg' target=\"_blank\">https://wandb.ai/ishita49-indian-institute-of-technology-madras/DA6401_Assign2/sweeps/hyhjr9sg</a>"
      ],
      "text/plain": [
       "<IPython.core.display.HTML object>"
      ]
     },
     "metadata": {},
     "output_type": "display_data"
    },
    {
     "data": {
      "text/html": [
       " View run at <a href='https://wandb.ai/ishita49-indian-institute-of-technology-madras/DA6401_Assign2/runs/yzfmxakg' target=\"_blank\">https://wandb.ai/ishita49-indian-institute-of-technology-madras/DA6401_Assign2/runs/yzfmxakg</a>"
      ],
      "text/plain": [
       "<IPython.core.display.HTML object>"
      ]
     },
     "metadata": {},
     "output_type": "display_data"
    },
    {
     "name": "stdout",
     "output_type": "stream",
     "text": [
      "Using 2 GPUs\n",
      "training...\n"
     ]
    },
    {
     "name": "stderr",
     "output_type": "stream",
     "text": [
      "                                                             "
     ]
    },
    {
     "name": "stdout",
     "output_type": "stream",
     "text": [
      "Epoch [1/20], Loss: 2.2742\n"
     ]
    },
    {
     "name": "stderr",
     "output_type": "stream",
     "text": [
      "\r"
     ]
    },
    {
     "name": "stdout",
     "output_type": "stream",
     "text": [
      "Validation Accuracy: 19.30%\n"
     ]
    },
    {
     "name": "stderr",
     "output_type": "stream",
     "text": [
      "                                                             "
     ]
    },
    {
     "name": "stdout",
     "output_type": "stream",
     "text": [
      "Epoch [2/20], Loss: 2.2009\n"
     ]
    },
    {
     "name": "stderr",
     "output_type": "stream",
     "text": [
      "\r"
     ]
    },
    {
     "name": "stdout",
     "output_type": "stream",
     "text": [
      "Validation Accuracy: 22.85%\n"
     ]
    },
    {
     "name": "stderr",
     "output_type": "stream",
     "text": [
      "                                                             "
     ]
    },
    {
     "name": "stdout",
     "output_type": "stream",
     "text": [
      "Epoch [3/20], Loss: 2.1521\n"
     ]
    },
    {
     "name": "stderr",
     "output_type": "stream",
     "text": [
      "\r"
     ]
    },
    {
     "name": "stdout",
     "output_type": "stream",
     "text": [
      "Validation Accuracy: 22.70%\n"
     ]
    },
    {
     "name": "stderr",
     "output_type": "stream",
     "text": [
      "                                                             "
     ]
    },
    {
     "name": "stdout",
     "output_type": "stream",
     "text": [
      "Epoch [4/20], Loss: 2.1358\n"
     ]
    },
    {
     "name": "stderr",
     "output_type": "stream",
     "text": [
      "\r"
     ]
    },
    {
     "name": "stdout",
     "output_type": "stream",
     "text": [
      "Validation Accuracy: 25.65%\n"
     ]
    },
    {
     "name": "stderr",
     "output_type": "stream",
     "text": [
      "                                                             "
     ]
    },
    {
     "name": "stdout",
     "output_type": "stream",
     "text": [
      "Epoch [5/20], Loss: 2.0896\n"
     ]
    },
    {
     "name": "stderr",
     "output_type": "stream",
     "text": [
      "\r"
     ]
    },
    {
     "name": "stdout",
     "output_type": "stream",
     "text": [
      "Validation Accuracy: 25.20%\n"
     ]
    },
    {
     "name": "stderr",
     "output_type": "stream",
     "text": [
      "                                                             "
     ]
    },
    {
     "name": "stdout",
     "output_type": "stream",
     "text": [
      "Epoch [6/20], Loss: 2.0774\n"
     ]
    },
    {
     "name": "stderr",
     "output_type": "stream",
     "text": [
      "\r"
     ]
    },
    {
     "name": "stdout",
     "output_type": "stream",
     "text": [
      "Validation Accuracy: 25.95%\n"
     ]
    },
    {
     "name": "stderr",
     "output_type": "stream",
     "text": [
      "                                                             "
     ]
    },
    {
     "name": "stdout",
     "output_type": "stream",
     "text": [
      "Epoch [7/20], Loss: 2.0503\n"
     ]
    },
    {
     "name": "stderr",
     "output_type": "stream",
     "text": [
      "\r"
     ]
    },
    {
     "name": "stdout",
     "output_type": "stream",
     "text": [
      "Validation Accuracy: 28.20%\n"
     ]
    },
    {
     "name": "stderr",
     "output_type": "stream",
     "text": [
      "                                                             "
     ]
    },
    {
     "name": "stdout",
     "output_type": "stream",
     "text": [
      "Epoch [8/20], Loss: 2.0374\n"
     ]
    },
    {
     "name": "stderr",
     "output_type": "stream",
     "text": [
      "\r"
     ]
    },
    {
     "name": "stdout",
     "output_type": "stream",
     "text": [
      "Validation Accuracy: 30.05%\n"
     ]
    },
    {
     "name": "stderr",
     "output_type": "stream",
     "text": [
      "                                                             "
     ]
    },
    {
     "name": "stdout",
     "output_type": "stream",
     "text": [
      "Epoch [9/20], Loss: 2.0198\n"
     ]
    },
    {
     "name": "stderr",
     "output_type": "stream",
     "text": [
      "\r"
     ]
    },
    {
     "name": "stdout",
     "output_type": "stream",
     "text": [
      "Validation Accuracy: 29.35%\n"
     ]
    },
    {
     "name": "stderr",
     "output_type": "stream",
     "text": [
      "                                                              "
     ]
    },
    {
     "name": "stdout",
     "output_type": "stream",
     "text": [
      "Epoch [10/20], Loss: 2.0132\n"
     ]
    },
    {
     "name": "stderr",
     "output_type": "stream",
     "text": [
      "\r"
     ]
    },
    {
     "name": "stdout",
     "output_type": "stream",
     "text": [
      "Validation Accuracy: 30.20%\n"
     ]
    },
    {
     "name": "stderr",
     "output_type": "stream",
     "text": [
      "                                                              "
     ]
    },
    {
     "name": "stdout",
     "output_type": "stream",
     "text": [
      "Epoch [11/20], Loss: 1.9994\n"
     ]
    },
    {
     "name": "stderr",
     "output_type": "stream",
     "text": [
      "\r"
     ]
    },
    {
     "name": "stdout",
     "output_type": "stream",
     "text": [
      "Validation Accuracy: 28.50%\n"
     ]
    },
    {
     "name": "stderr",
     "output_type": "stream",
     "text": [
      "                                                              "
     ]
    },
    {
     "name": "stdout",
     "output_type": "stream",
     "text": [
      "Epoch [12/20], Loss: 1.9737\n"
     ]
    },
    {
     "name": "stderr",
     "output_type": "stream",
     "text": [
      "\r"
     ]
    },
    {
     "name": "stdout",
     "output_type": "stream",
     "text": [
      "Validation Accuracy: 28.50%\n"
     ]
    },
    {
     "name": "stderr",
     "output_type": "stream",
     "text": [
      "                                                              "
     ]
    },
    {
     "name": "stdout",
     "output_type": "stream",
     "text": [
      "Epoch [13/20], Loss: 1.9706\n"
     ]
    },
    {
     "name": "stderr",
     "output_type": "stream",
     "text": [
      "\r"
     ]
    },
    {
     "name": "stdout",
     "output_type": "stream",
     "text": [
      "Validation Accuracy: 29.10%\n"
     ]
    },
    {
     "name": "stderr",
     "output_type": "stream",
     "text": [
      "                                                              "
     ]
    },
    {
     "name": "stdout",
     "output_type": "stream",
     "text": [
      "Epoch [14/20], Loss: 1.9623\n"
     ]
    },
    {
     "name": "stderr",
     "output_type": "stream",
     "text": [
      "\r"
     ]
    },
    {
     "name": "stdout",
     "output_type": "stream",
     "text": [
      "Validation Accuracy: 31.15%\n"
     ]
    },
    {
     "name": "stderr",
     "output_type": "stream",
     "text": [
      "                                                              "
     ]
    },
    {
     "name": "stdout",
     "output_type": "stream",
     "text": [
      "Epoch [15/20], Loss: 1.9442\n"
     ]
    },
    {
     "name": "stderr",
     "output_type": "stream",
     "text": [
      "\r"
     ]
    },
    {
     "name": "stdout",
     "output_type": "stream",
     "text": [
      "Validation Accuracy: 30.05%\n"
     ]
    },
    {
     "name": "stderr",
     "output_type": "stream",
     "text": [
      "                                                              "
     ]
    },
    {
     "name": "stdout",
     "output_type": "stream",
     "text": [
      "Epoch [16/20], Loss: 1.9323\n"
     ]
    },
    {
     "name": "stderr",
     "output_type": "stream",
     "text": [
      "\r"
     ]
    },
    {
     "name": "stdout",
     "output_type": "stream",
     "text": [
      "Validation Accuracy: 26.60%\n"
     ]
    },
    {
     "name": "stderr",
     "output_type": "stream",
     "text": [
      "                                                              "
     ]
    },
    {
     "name": "stdout",
     "output_type": "stream",
     "text": [
      "Epoch [17/20], Loss: 1.9246\n"
     ]
    },
    {
     "name": "stderr",
     "output_type": "stream",
     "text": [
      "\r"
     ]
    },
    {
     "name": "stdout",
     "output_type": "stream",
     "text": [
      "Validation Accuracy: 28.65%\n"
     ]
    },
    {
     "name": "stderr",
     "output_type": "stream",
     "text": [
      "                                                              "
     ]
    },
    {
     "name": "stdout",
     "output_type": "stream",
     "text": [
      "Epoch [18/20], Loss: 1.9048\n"
     ]
    },
    {
     "name": "stderr",
     "output_type": "stream",
     "text": [
      "\r"
     ]
    },
    {
     "name": "stdout",
     "output_type": "stream",
     "text": [
      "Validation Accuracy: 33.75%\n"
     ]
    },
    {
     "name": "stderr",
     "output_type": "stream",
     "text": [
      "                                                              "
     ]
    },
    {
     "name": "stdout",
     "output_type": "stream",
     "text": [
      "Epoch [19/20], Loss: 1.8821\n"
     ]
    },
    {
     "name": "stderr",
     "output_type": "stream",
     "text": [
      "\r"
     ]
    },
    {
     "name": "stdout",
     "output_type": "stream",
     "text": [
      "Validation Accuracy: 28.30%\n"
     ]
    },
    {
     "name": "stderr",
     "output_type": "stream",
     "text": [
      "                                                              "
     ]
    },
    {
     "name": "stdout",
     "output_type": "stream",
     "text": [
      "Epoch [20/20], Loss: 1.8920\n"
     ]
    },
    {
     "name": "stderr",
     "output_type": "stream",
     "text": [
      "\r"
     ]
    },
    {
     "name": "stdout",
     "output_type": "stream",
     "text": [
      "Validation Accuracy: 31.50%\n"
     ]
    },
    {
     "data": {
      "text/html": [],
      "text/plain": [
       "<IPython.core.display.HTML object>"
      ]
     },
     "metadata": {},
     "output_type": "display_data"
    },
    {
     "data": {
      "text/html": [
       "<br>    <style><br>        .wandb-row {<br>            display: flex;<br>            flex-direction: row;<br>            flex-wrap: wrap;<br>            justify-content: flex-start;<br>            width: 100%;<br>        }<br>        .wandb-col {<br>            display: flex;<br>            flex-direction: column;<br>            flex-basis: 100%;<br>            flex: 1;<br>            padding: 10px;<br>        }<br>    </style><br><div class=\"wandb-row\"><div class=\"wandb-col\"><h3>Run history:</h3><br/><table class=\"wandb\"><tr><td>epoch</td><td>▁▁▂▂▂▃▃▄▄▄▅▅▅▆▆▇▇▇██</td></tr><tr><td>train_loss</td><td>█▇▆▆▅▄▄▄▃▃▃▃▃▂▂▂▂▁▁▁</td></tr><tr><td>val_accuracy</td><td>▁▃▃▄▄▄▅▆▆▆▅▅▆▇▆▅▆█▅▇</td></tr></table><br/></div><div class=\"wandb-col\"><h3>Run summary:</h3><br/><table class=\"wandb\"><tr><td>epoch</td><td>20</td></tr><tr><td>train_loss</td><td>1.89196</td></tr><tr><td>val_accuracy</td><td>31.5</td></tr></table><br/></div></div>"
      ],
      "text/plain": [
       "<IPython.core.display.HTML object>"
      ]
     },
     "metadata": {},
     "output_type": "display_data"
    },
    {
     "data": {
      "text/html": [
       " View run <strong style=\"color:#cdcd00\">apricot-sweep-10</strong> at: <a href='https://wandb.ai/ishita49-indian-institute-of-technology-madras/DA6401_Assign2/runs/yzfmxakg' target=\"_blank\">https://wandb.ai/ishita49-indian-institute-of-technology-madras/DA6401_Assign2/runs/yzfmxakg</a><br> View project at: <a href='https://wandb.ai/ishita49-indian-institute-of-technology-madras/DA6401_Assign2' target=\"_blank\">https://wandb.ai/ishita49-indian-institute-of-technology-madras/DA6401_Assign2</a><br>Synced 5 W&B file(s), 0 media file(s), 0 artifact file(s) and 0 other file(s)"
      ],
      "text/plain": [
       "<IPython.core.display.HTML object>"
      ]
     },
     "metadata": {},
     "output_type": "display_data"
    },
    {
     "data": {
      "text/html": [
       "Find logs at: <code>./wandb/run-20250416_200539-yzfmxakg/logs</code>"
      ],
      "text/plain": [
       "<IPython.core.display.HTML object>"
      ]
     },
     "metadata": {},
     "output_type": "display_data"
    },
    {
     "name": "stderr",
     "output_type": "stream",
     "text": [
      "\u001b[34m\u001b[1mwandb\u001b[0m: Agent Starting Run: i0e1bamp with config:\n",
      "\u001b[34m\u001b[1mwandb\u001b[0m: \tactivation_func: relu\n",
      "\u001b[34m\u001b[1mwandb\u001b[0m: \tbatch_normalisation: True\n",
      "\u001b[34m\u001b[1mwandb\u001b[0m: \tbatch_size: 32\n",
      "\u001b[34m\u001b[1mwandb\u001b[0m: \tdata_augmentation: No\n",
      "\u001b[34m\u001b[1mwandb\u001b[0m: \tdropout_rate: 0.2963529109210346\n",
      "\u001b[34m\u001b[1mwandb\u001b[0m: \tfilter_org: 1\n",
      "\u001b[34m\u001b[1mwandb\u001b[0m: \tlearning_rate: 0.003665994509421451\n",
      "\u001b[34m\u001b[1mwandb\u001b[0m: \tnum_dense: 512\n",
      "\u001b[34m\u001b[1mwandb\u001b[0m: \tnum_filters: 128\n",
      "\u001b[34m\u001b[1mwandb\u001b[0m: \toptimizer: momentum\n",
      "\u001b[34m\u001b[1mwandb\u001b[0m: \tsize_filters: 3\n"
     ]
    },
    {
     "data": {
      "text/html": [
       "Tracking run with wandb version 0.19.6"
      ],
      "text/plain": [
       "<IPython.core.display.HTML object>"
      ]
     },
     "metadata": {},
     "output_type": "display_data"
    },
    {
     "data": {
      "text/html": [
       "Run data is saved locally in <code>/kaggle/working/wandb/run-20250416_202737-i0e1bamp</code>"
      ],
      "text/plain": [
       "<IPython.core.display.HTML object>"
      ]
     },
     "metadata": {},
     "output_type": "display_data"
    },
    {
     "data": {
      "text/html": [
       "Syncing run <strong><a href='https://wandb.ai/ishita49-indian-institute-of-technology-madras/DA6401_Assign2/runs/i0e1bamp' target=\"_blank\">curious-sweep-11</a></strong> to <a href='https://wandb.ai/ishita49-indian-institute-of-technology-madras/DA6401_Assign2' target=\"_blank\">Weights & Biases</a> (<a href='https://wandb.me/developer-guide' target=\"_blank\">docs</a>)<br>Sweep page: <a href='https://wandb.ai/ishita49-indian-institute-of-technology-madras/DA6401_Assign2/sweeps/hyhjr9sg' target=\"_blank\">https://wandb.ai/ishita49-indian-institute-of-technology-madras/DA6401_Assign2/sweeps/hyhjr9sg</a>"
      ],
      "text/plain": [
       "<IPython.core.display.HTML object>"
      ]
     },
     "metadata": {},
     "output_type": "display_data"
    },
    {
     "data": {
      "text/html": [
       " View project at <a href='https://wandb.ai/ishita49-indian-institute-of-technology-madras/DA6401_Assign2' target=\"_blank\">https://wandb.ai/ishita49-indian-institute-of-technology-madras/DA6401_Assign2</a>"
      ],
      "text/plain": [
       "<IPython.core.display.HTML object>"
      ]
     },
     "metadata": {},
     "output_type": "display_data"
    },
    {
     "data": {
      "text/html": [
       " View sweep at <a href='https://wandb.ai/ishita49-indian-institute-of-technology-madras/DA6401_Assign2/sweeps/hyhjr9sg' target=\"_blank\">https://wandb.ai/ishita49-indian-institute-of-technology-madras/DA6401_Assign2/sweeps/hyhjr9sg</a>"
      ],
      "text/plain": [
       "<IPython.core.display.HTML object>"
      ]
     },
     "metadata": {},
     "output_type": "display_data"
    },
    {
     "data": {
      "text/html": [
       " View run at <a href='https://wandb.ai/ishita49-indian-institute-of-technology-madras/DA6401_Assign2/runs/i0e1bamp' target=\"_blank\">https://wandb.ai/ishita49-indian-institute-of-technology-madras/DA6401_Assign2/runs/i0e1bamp</a>"
      ],
      "text/plain": [
       "<IPython.core.display.HTML object>"
      ]
     },
     "metadata": {},
     "output_type": "display_data"
    },
    {
     "name": "stdout",
     "output_type": "stream",
     "text": [
      "Using 2 GPUs\n",
      "training...\n"
     ]
    },
    {
     "name": "stderr",
     "output_type": "stream",
     "text": [
      "                                                             "
     ]
    },
    {
     "name": "stdout",
     "output_type": "stream",
     "text": [
      "Epoch [1/20], Loss: 2.2639\n"
     ]
    },
    {
     "name": "stderr",
     "output_type": "stream",
     "text": [
      "\r"
     ]
    },
    {
     "name": "stdout",
     "output_type": "stream",
     "text": [
      "Validation Accuracy: 20.35%\n"
     ]
    },
    {
     "name": "stderr",
     "output_type": "stream",
     "text": [
      "                                                             "
     ]
    },
    {
     "name": "stdout",
     "output_type": "stream",
     "text": [
      "Epoch [2/20], Loss: 2.1924\n"
     ]
    },
    {
     "name": "stderr",
     "output_type": "stream",
     "text": [
      "\r"
     ]
    },
    {
     "name": "stdout",
     "output_type": "stream",
     "text": [
      "Validation Accuracy: 25.10%\n"
     ]
    },
    {
     "name": "stderr",
     "output_type": "stream",
     "text": [
      "                                                             "
     ]
    },
    {
     "name": "stdout",
     "output_type": "stream",
     "text": [
      "Epoch [3/20], Loss: 2.1327\n"
     ]
    },
    {
     "name": "stderr",
     "output_type": "stream",
     "text": [
      "\r"
     ]
    },
    {
     "name": "stdout",
     "output_type": "stream",
     "text": [
      "Validation Accuracy: 27.45%\n"
     ]
    },
    {
     "name": "stderr",
     "output_type": "stream",
     "text": [
      "                                                             "
     ]
    },
    {
     "name": "stdout",
     "output_type": "stream",
     "text": [
      "Epoch [4/20], Loss: 2.1078\n"
     ]
    },
    {
     "name": "stderr",
     "output_type": "stream",
     "text": [
      "\r"
     ]
    },
    {
     "name": "stdout",
     "output_type": "stream",
     "text": [
      "Validation Accuracy: 25.60%\n"
     ]
    },
    {
     "name": "stderr",
     "output_type": "stream",
     "text": [
      "                                                             "
     ]
    },
    {
     "name": "stdout",
     "output_type": "stream",
     "text": [
      "Epoch [5/20], Loss: 2.0732\n"
     ]
    },
    {
     "name": "stderr",
     "output_type": "stream",
     "text": [
      "\r"
     ]
    },
    {
     "name": "stdout",
     "output_type": "stream",
     "text": [
      "Validation Accuracy: 29.40%\n"
     ]
    },
    {
     "name": "stderr",
     "output_type": "stream",
     "text": [
      "                                                             "
     ]
    },
    {
     "name": "stdout",
     "output_type": "stream",
     "text": [
      "Epoch [6/20], Loss: 2.0323\n"
     ]
    },
    {
     "name": "stderr",
     "output_type": "stream",
     "text": [
      "\r"
     ]
    },
    {
     "name": "stdout",
     "output_type": "stream",
     "text": [
      "Validation Accuracy: 29.80%\n"
     ]
    },
    {
     "name": "stderr",
     "output_type": "stream",
     "text": [
      "                                                             "
     ]
    },
    {
     "name": "stdout",
     "output_type": "stream",
     "text": [
      "Epoch [7/20], Loss: 2.0029\n"
     ]
    },
    {
     "name": "stderr",
     "output_type": "stream",
     "text": [
      "\r"
     ]
    },
    {
     "name": "stdout",
     "output_type": "stream",
     "text": [
      "Validation Accuracy: 31.15%\n"
     ]
    },
    {
     "name": "stderr",
     "output_type": "stream",
     "text": [
      "                                                             "
     ]
    },
    {
     "name": "stdout",
     "output_type": "stream",
     "text": [
      "Epoch [8/20], Loss: 1.9954\n"
     ]
    },
    {
     "name": "stderr",
     "output_type": "stream",
     "text": [
      "\r"
     ]
    },
    {
     "name": "stdout",
     "output_type": "stream",
     "text": [
      "Validation Accuracy: 30.65%\n"
     ]
    },
    {
     "name": "stderr",
     "output_type": "stream",
     "text": [
      "                                                             "
     ]
    },
    {
     "name": "stdout",
     "output_type": "stream",
     "text": [
      "Epoch [9/20], Loss: 1.9499\n"
     ]
    },
    {
     "name": "stderr",
     "output_type": "stream",
     "text": [
      "\r"
     ]
    },
    {
     "name": "stdout",
     "output_type": "stream",
     "text": [
      "Validation Accuracy: 30.15%\n"
     ]
    },
    {
     "name": "stderr",
     "output_type": "stream",
     "text": [
      "                                                              "
     ]
    },
    {
     "name": "stdout",
     "output_type": "stream",
     "text": [
      "Epoch [10/20], Loss: 1.9396\n"
     ]
    },
    {
     "name": "stderr",
     "output_type": "stream",
     "text": [
      "\r"
     ]
    },
    {
     "name": "stdout",
     "output_type": "stream",
     "text": [
      "Validation Accuracy: 32.55%\n"
     ]
    },
    {
     "name": "stderr",
     "output_type": "stream",
     "text": [
      "                                                              "
     ]
    },
    {
     "name": "stdout",
     "output_type": "stream",
     "text": [
      "Epoch [11/20], Loss: 1.9181\n"
     ]
    },
    {
     "name": "stderr",
     "output_type": "stream",
     "text": [
      "\r"
     ]
    },
    {
     "name": "stdout",
     "output_type": "stream",
     "text": [
      "Validation Accuracy: 34.00%\n"
     ]
    },
    {
     "name": "stderr",
     "output_type": "stream",
     "text": [
      "                                                              "
     ]
    },
    {
     "name": "stdout",
     "output_type": "stream",
     "text": [
      "Epoch [12/20], Loss: 1.8882\n"
     ]
    },
    {
     "name": "stderr",
     "output_type": "stream",
     "text": [
      "\r"
     ]
    },
    {
     "name": "stdout",
     "output_type": "stream",
     "text": [
      "Validation Accuracy: 34.95%\n"
     ]
    },
    {
     "name": "stderr",
     "output_type": "stream",
     "text": [
      "                                                              "
     ]
    },
    {
     "name": "stdout",
     "output_type": "stream",
     "text": [
      "Epoch [13/20], Loss: 1.8686\n"
     ]
    },
    {
     "name": "stderr",
     "output_type": "stream",
     "text": [
      "\r"
     ]
    },
    {
     "name": "stdout",
     "output_type": "stream",
     "text": [
      "Validation Accuracy: 35.55%\n"
     ]
    },
    {
     "name": "stderr",
     "output_type": "stream",
     "text": [
      "                                                              "
     ]
    },
    {
     "name": "stdout",
     "output_type": "stream",
     "text": [
      "Epoch [14/20], Loss: 1.8547\n"
     ]
    },
    {
     "name": "stderr",
     "output_type": "stream",
     "text": [
      "\r"
     ]
    },
    {
     "name": "stdout",
     "output_type": "stream",
     "text": [
      "Validation Accuracy: 35.10%\n"
     ]
    },
    {
     "name": "stderr",
     "output_type": "stream",
     "text": [
      "                                                              "
     ]
    },
    {
     "name": "stdout",
     "output_type": "stream",
     "text": [
      "Epoch [15/20], Loss: 1.8341\n"
     ]
    },
    {
     "name": "stderr",
     "output_type": "stream",
     "text": [
      "\r"
     ]
    },
    {
     "name": "stdout",
     "output_type": "stream",
     "text": [
      "Validation Accuracy: 33.25%\n"
     ]
    },
    {
     "name": "stderr",
     "output_type": "stream",
     "text": [
      "                                                              "
     ]
    },
    {
     "name": "stdout",
     "output_type": "stream",
     "text": [
      "Epoch [16/20], Loss: 1.8289\n"
     ]
    },
    {
     "name": "stderr",
     "output_type": "stream",
     "text": [
      "\r"
     ]
    },
    {
     "name": "stdout",
     "output_type": "stream",
     "text": [
      "Validation Accuracy: 34.25%\n"
     ]
    },
    {
     "name": "stderr",
     "output_type": "stream",
     "text": [
      "                                                              "
     ]
    },
    {
     "name": "stdout",
     "output_type": "stream",
     "text": [
      "Epoch [17/20], Loss: 1.8100\n"
     ]
    },
    {
     "name": "stderr",
     "output_type": "stream",
     "text": [
      "\r"
     ]
    },
    {
     "name": "stdout",
     "output_type": "stream",
     "text": [
      "Validation Accuracy: 36.70%\n"
     ]
    },
    {
     "name": "stderr",
     "output_type": "stream",
     "text": [
      "                                                              "
     ]
    },
    {
     "name": "stdout",
     "output_type": "stream",
     "text": [
      "Epoch [18/20], Loss: 1.7832\n"
     ]
    },
    {
     "name": "stderr",
     "output_type": "stream",
     "text": [
      "\r"
     ]
    },
    {
     "name": "stdout",
     "output_type": "stream",
     "text": [
      "Validation Accuracy: 35.30%\n"
     ]
    },
    {
     "name": "stderr",
     "output_type": "stream",
     "text": [
      "                                                              "
     ]
    },
    {
     "name": "stdout",
     "output_type": "stream",
     "text": [
      "Epoch [19/20], Loss: 1.7760\n"
     ]
    },
    {
     "name": "stderr",
     "output_type": "stream",
     "text": [
      "\r"
     ]
    },
    {
     "name": "stdout",
     "output_type": "stream",
     "text": [
      "Validation Accuracy: 33.50%\n"
     ]
    },
    {
     "name": "stderr",
     "output_type": "stream",
     "text": [
      "                                                              "
     ]
    },
    {
     "name": "stdout",
     "output_type": "stream",
     "text": [
      "Epoch [20/20], Loss: 1.7696\n"
     ]
    },
    {
     "name": "stderr",
     "output_type": "stream",
     "text": [
      "\r"
     ]
    },
    {
     "name": "stdout",
     "output_type": "stream",
     "text": [
      "Validation Accuracy: 34.45%\n"
     ]
    },
    {
     "data": {
      "text/html": [],
      "text/plain": [
       "<IPython.core.display.HTML object>"
      ]
     },
     "metadata": {},
     "output_type": "display_data"
    },
    {
     "data": {
      "text/html": [
       "<br>    <style><br>        .wandb-row {<br>            display: flex;<br>            flex-direction: row;<br>            flex-wrap: wrap;<br>            justify-content: flex-start;<br>            width: 100%;<br>        }<br>        .wandb-col {<br>            display: flex;<br>            flex-direction: column;<br>            flex-basis: 100%;<br>            flex: 1;<br>            padding: 10px;<br>        }<br>    </style><br><div class=\"wandb-row\"><div class=\"wandb-col\"><h3>Run history:</h3><br/><table class=\"wandb\"><tr><td>epoch</td><td>▁▁▂▂▂▃▃▄▄▄▅▅▅▆▆▇▇▇██</td></tr><tr><td>train_loss</td><td>█▇▆▆▅▅▄▄▄▃▃▃▂▂▂▂▂▁▁▁</td></tr><tr><td>val_accuracy</td><td>▁▃▄▃▅▅▆▅▅▆▇▇█▇▇▇█▇▇▇</td></tr></table><br/></div><div class=\"wandb-col\"><h3>Run summary:</h3><br/><table class=\"wandb\"><tr><td>epoch</td><td>20</td></tr><tr><td>train_loss</td><td>1.76963</td></tr><tr><td>val_accuracy</td><td>34.45</td></tr></table><br/></div></div>"
      ],
      "text/plain": [
       "<IPython.core.display.HTML object>"
      ]
     },
     "metadata": {},
     "output_type": "display_data"
    },
    {
     "data": {
      "text/html": [
       " View run <strong style=\"color:#cdcd00\">curious-sweep-11</strong> at: <a href='https://wandb.ai/ishita49-indian-institute-of-technology-madras/DA6401_Assign2/runs/i0e1bamp' target=\"_blank\">https://wandb.ai/ishita49-indian-institute-of-technology-madras/DA6401_Assign2/runs/i0e1bamp</a><br> View project at: <a href='https://wandb.ai/ishita49-indian-institute-of-technology-madras/DA6401_Assign2' target=\"_blank\">https://wandb.ai/ishita49-indian-institute-of-technology-madras/DA6401_Assign2</a><br>Synced 5 W&B file(s), 0 media file(s), 0 artifact file(s) and 0 other file(s)"
      ],
      "text/plain": [
       "<IPython.core.display.HTML object>"
      ]
     },
     "metadata": {},
     "output_type": "display_data"
    },
    {
     "data": {
      "text/html": [
       "Find logs at: <code>./wandb/run-20250416_202737-i0e1bamp/logs</code>"
      ],
      "text/plain": [
       "<IPython.core.display.HTML object>"
      ]
     },
     "metadata": {},
     "output_type": "display_data"
    },
    {
     "name": "stderr",
     "output_type": "stream",
     "text": [
      "\u001b[34m\u001b[1mwandb\u001b[0m: Agent Starting Run: xzhxnsh8 with config:\n",
      "\u001b[34m\u001b[1mwandb\u001b[0m: \tactivation_func: relu\n",
      "\u001b[34m\u001b[1mwandb\u001b[0m: \tbatch_normalisation: True\n",
      "\u001b[34m\u001b[1mwandb\u001b[0m: \tbatch_size: 32\n",
      "\u001b[34m\u001b[1mwandb\u001b[0m: \tdata_augmentation: No\n",
      "\u001b[34m\u001b[1mwandb\u001b[0m: \tdropout_rate: 0.22931031535837376\n",
      "\u001b[34m\u001b[1mwandb\u001b[0m: \tfilter_org: 1\n",
      "\u001b[34m\u001b[1mwandb\u001b[0m: \tlearning_rate: 0.0012204556369416915\n",
      "\u001b[34m\u001b[1mwandb\u001b[0m: \tnum_dense: 512\n",
      "\u001b[34m\u001b[1mwandb\u001b[0m: \tnum_filters: 128\n",
      "\u001b[34m\u001b[1mwandb\u001b[0m: \toptimizer: momentum\n",
      "\u001b[34m\u001b[1mwandb\u001b[0m: \tsize_filters: 5\n"
     ]
    },
    {
     "data": {
      "text/html": [
       "Tracking run with wandb version 0.19.6"
      ],
      "text/plain": [
       "<IPython.core.display.HTML object>"
      ]
     },
     "metadata": {},
     "output_type": "display_data"
    },
    {
     "data": {
      "text/html": [
       "Run data is saved locally in <code>/kaggle/working/wandb/run-20250416_204927-xzhxnsh8</code>"
      ],
      "text/plain": [
       "<IPython.core.display.HTML object>"
      ]
     },
     "metadata": {},
     "output_type": "display_data"
    },
    {
     "data": {
      "text/html": [
       "Syncing run <strong><a href='https://wandb.ai/ishita49-indian-institute-of-technology-madras/DA6401_Assign2/runs/xzhxnsh8' target=\"_blank\">usual-sweep-12</a></strong> to <a href='https://wandb.ai/ishita49-indian-institute-of-technology-madras/DA6401_Assign2' target=\"_blank\">Weights & Biases</a> (<a href='https://wandb.me/developer-guide' target=\"_blank\">docs</a>)<br>Sweep page: <a href='https://wandb.ai/ishita49-indian-institute-of-technology-madras/DA6401_Assign2/sweeps/hyhjr9sg' target=\"_blank\">https://wandb.ai/ishita49-indian-institute-of-technology-madras/DA6401_Assign2/sweeps/hyhjr9sg</a>"
      ],
      "text/plain": [
       "<IPython.core.display.HTML object>"
      ]
     },
     "metadata": {},
     "output_type": "display_data"
    },
    {
     "data": {
      "text/html": [
       " View project at <a href='https://wandb.ai/ishita49-indian-institute-of-technology-madras/DA6401_Assign2' target=\"_blank\">https://wandb.ai/ishita49-indian-institute-of-technology-madras/DA6401_Assign2</a>"
      ],
      "text/plain": [
       "<IPython.core.display.HTML object>"
      ]
     },
     "metadata": {},
     "output_type": "display_data"
    },
    {
     "data": {
      "text/html": [
       " View sweep at <a href='https://wandb.ai/ishita49-indian-institute-of-technology-madras/DA6401_Assign2/sweeps/hyhjr9sg' target=\"_blank\">https://wandb.ai/ishita49-indian-institute-of-technology-madras/DA6401_Assign2/sweeps/hyhjr9sg</a>"
      ],
      "text/plain": [
       "<IPython.core.display.HTML object>"
      ]
     },
     "metadata": {},
     "output_type": "display_data"
    },
    {
     "data": {
      "text/html": [
       " View run at <a href='https://wandb.ai/ishita49-indian-institute-of-technology-madras/DA6401_Assign2/runs/xzhxnsh8' target=\"_blank\">https://wandb.ai/ishita49-indian-institute-of-technology-madras/DA6401_Assign2/runs/xzhxnsh8</a>"
      ],
      "text/plain": [
       "<IPython.core.display.HTML object>"
      ]
     },
     "metadata": {},
     "output_type": "display_data"
    },
    {
     "name": "stdout",
     "output_type": "stream",
     "text": [
      "Using 2 GPUs\n",
      "training...\n"
     ]
    },
    {
     "name": "stderr",
     "output_type": "stream",
     "text": [
      "                                                             "
     ]
    },
    {
     "name": "stdout",
     "output_type": "stream",
     "text": [
      "Epoch [1/20], Loss: 2.2036\n"
     ]
    },
    {
     "name": "stderr",
     "output_type": "stream",
     "text": [
      "\r"
     ]
    },
    {
     "name": "stdout",
     "output_type": "stream",
     "text": [
      "Validation Accuracy: 25.95%\n"
     ]
    },
    {
     "name": "stderr",
     "output_type": "stream",
     "text": [
      "                                                             "
     ]
    },
    {
     "name": "stdout",
     "output_type": "stream",
     "text": [
      "Epoch [2/20], Loss: 2.1204\n"
     ]
    },
    {
     "name": "stderr",
     "output_type": "stream",
     "text": [
      "\r"
     ]
    },
    {
     "name": "stdout",
     "output_type": "stream",
     "text": [
      "Validation Accuracy: 27.85%\n"
     ]
    },
    {
     "name": "stderr",
     "output_type": "stream",
     "text": [
      "                                                             "
     ]
    },
    {
     "name": "stdout",
     "output_type": "stream",
     "text": [
      "Epoch [3/20], Loss: 2.0792\n"
     ]
    },
    {
     "name": "stderr",
     "output_type": "stream",
     "text": [
      "\r"
     ]
    },
    {
     "name": "stdout",
     "output_type": "stream",
     "text": [
      "Validation Accuracy: 27.15%\n"
     ]
    },
    {
     "name": "stderr",
     "output_type": "stream",
     "text": [
      "                                                             "
     ]
    },
    {
     "name": "stdout",
     "output_type": "stream",
     "text": [
      "Epoch [4/20], Loss: 2.0438\n"
     ]
    },
    {
     "name": "stderr",
     "output_type": "stream",
     "text": [
      "\r"
     ]
    },
    {
     "name": "stdout",
     "output_type": "stream",
     "text": [
      "Validation Accuracy: 29.05%\n"
     ]
    },
    {
     "name": "stderr",
     "output_type": "stream",
     "text": [
      "                                                             "
     ]
    },
    {
     "name": "stdout",
     "output_type": "stream",
     "text": [
      "Epoch [5/20], Loss: 2.0138\n"
     ]
    },
    {
     "name": "stderr",
     "output_type": "stream",
     "text": [
      "\r"
     ]
    },
    {
     "name": "stdout",
     "output_type": "stream",
     "text": [
      "Validation Accuracy: 28.45%\n"
     ]
    },
    {
     "name": "stderr",
     "output_type": "stream",
     "text": [
      "                                                             "
     ]
    },
    {
     "name": "stdout",
     "output_type": "stream",
     "text": [
      "Epoch [6/20], Loss: 1.9714\n"
     ]
    },
    {
     "name": "stderr",
     "output_type": "stream",
     "text": [
      "\r"
     ]
    },
    {
     "name": "stdout",
     "output_type": "stream",
     "text": [
      "Validation Accuracy: 29.80%\n"
     ]
    },
    {
     "name": "stderr",
     "output_type": "stream",
     "text": [
      "                                                             "
     ]
    },
    {
     "name": "stdout",
     "output_type": "stream",
     "text": [
      "Epoch [7/20], Loss: 1.9542\n"
     ]
    },
    {
     "name": "stderr",
     "output_type": "stream",
     "text": [
      "\r"
     ]
    },
    {
     "name": "stdout",
     "output_type": "stream",
     "text": [
      "Validation Accuracy: 32.20%\n"
     ]
    },
    {
     "name": "stderr",
     "output_type": "stream",
     "text": [
      "                                                             "
     ]
    },
    {
     "name": "stdout",
     "output_type": "stream",
     "text": [
      "Epoch [8/20], Loss: 1.9308\n"
     ]
    },
    {
     "name": "stderr",
     "output_type": "stream",
     "text": [
      "\r"
     ]
    },
    {
     "name": "stdout",
     "output_type": "stream",
     "text": [
      "Validation Accuracy: 31.65%\n"
     ]
    },
    {
     "name": "stderr",
     "output_type": "stream",
     "text": [
      "                                                             \r"
     ]
    },
    {
     "name": "stdout",
     "output_type": "stream",
     "text": [
      "Epoch [9/20], Loss: 1.9108\n",
      "Validation Accuracy: 31.35%\n"
     ]
    },
    {
     "name": "stderr",
     "output_type": "stream",
     "text": [
      "                                                              "
     ]
    },
    {
     "name": "stdout",
     "output_type": "stream",
     "text": [
      "Epoch [10/20], Loss: 1.8892\n"
     ]
    },
    {
     "name": "stderr",
     "output_type": "stream",
     "text": [
      "\r"
     ]
    },
    {
     "name": "stdout",
     "output_type": "stream",
     "text": [
      "Validation Accuracy: 35.25%\n"
     ]
    },
    {
     "name": "stderr",
     "output_type": "stream",
     "text": [
      "                                                              "
     ]
    },
    {
     "name": "stdout",
     "output_type": "stream",
     "text": [
      "Epoch [11/20], Loss: 1.8570\n"
     ]
    },
    {
     "name": "stderr",
     "output_type": "stream",
     "text": [
      "\r"
     ]
    },
    {
     "name": "stdout",
     "output_type": "stream",
     "text": [
      "Validation Accuracy: 35.15%\n"
     ]
    },
    {
     "name": "stderr",
     "output_type": "stream",
     "text": [
      "                                                              "
     ]
    },
    {
     "name": "stdout",
     "output_type": "stream",
     "text": [
      "Epoch [12/20], Loss: 1.8499\n"
     ]
    },
    {
     "name": "stderr",
     "output_type": "stream",
     "text": [
      "\r"
     ]
    },
    {
     "name": "stdout",
     "output_type": "stream",
     "text": [
      "Validation Accuracy: 33.50%\n"
     ]
    },
    {
     "name": "stderr",
     "output_type": "stream",
     "text": [
      "                                                              "
     ]
    },
    {
     "name": "stdout",
     "output_type": "stream",
     "text": [
      "Epoch [13/20], Loss: 1.8352\n"
     ]
    },
    {
     "name": "stderr",
     "output_type": "stream",
     "text": [
      "\r"
     ]
    },
    {
     "name": "stdout",
     "output_type": "stream",
     "text": [
      "Validation Accuracy: 32.55%\n"
     ]
    },
    {
     "name": "stderr",
     "output_type": "stream",
     "text": [
      "                                                              "
     ]
    },
    {
     "name": "stdout",
     "output_type": "stream",
     "text": [
      "Epoch [14/20], Loss: 1.7991\n"
     ]
    },
    {
     "name": "stderr",
     "output_type": "stream",
     "text": [
      "\r"
     ]
    },
    {
     "name": "stdout",
     "output_type": "stream",
     "text": [
      "Validation Accuracy: 35.80%\n"
     ]
    },
    {
     "name": "stderr",
     "output_type": "stream",
     "text": [
      "                                                              "
     ]
    },
    {
     "name": "stdout",
     "output_type": "stream",
     "text": [
      "Epoch [15/20], Loss: 1.7914\n"
     ]
    },
    {
     "name": "stderr",
     "output_type": "stream",
     "text": [
      "\r"
     ]
    },
    {
     "name": "stdout",
     "output_type": "stream",
     "text": [
      "Validation Accuracy: 34.65%\n"
     ]
    },
    {
     "name": "stderr",
     "output_type": "stream",
     "text": [
      "                                                              "
     ]
    },
    {
     "name": "stdout",
     "output_type": "stream",
     "text": [
      "Epoch [16/20], Loss: 1.7619\n"
     ]
    },
    {
     "name": "stderr",
     "output_type": "stream",
     "text": [
      "\r"
     ]
    },
    {
     "name": "stdout",
     "output_type": "stream",
     "text": [
      "Validation Accuracy: 36.10%\n"
     ]
    },
    {
     "name": "stderr",
     "output_type": "stream",
     "text": [
      "                                                              \r"
     ]
    },
    {
     "name": "stdout",
     "output_type": "stream",
     "text": [
      "Epoch [17/20], Loss: 1.7424\n",
      "Validation Accuracy: 34.30%\n"
     ]
    },
    {
     "name": "stderr",
     "output_type": "stream",
     "text": [
      "                                                              "
     ]
    },
    {
     "name": "stdout",
     "output_type": "stream",
     "text": [
      "Epoch [18/20], Loss: 1.7358\n"
     ]
    },
    {
     "name": "stderr",
     "output_type": "stream",
     "text": [
      "\r"
     ]
    },
    {
     "name": "stdout",
     "output_type": "stream",
     "text": [
      "Validation Accuracy: 34.80%\n"
     ]
    },
    {
     "name": "stderr",
     "output_type": "stream",
     "text": [
      "                                                              "
     ]
    },
    {
     "name": "stdout",
     "output_type": "stream",
     "text": [
      "Epoch [19/20], Loss: 1.7074\n"
     ]
    },
    {
     "name": "stderr",
     "output_type": "stream",
     "text": [
      "\r"
     ]
    },
    {
     "name": "stdout",
     "output_type": "stream",
     "text": [
      "Validation Accuracy: 34.25%\n"
     ]
    },
    {
     "name": "stderr",
     "output_type": "stream",
     "text": [
      "                                                              "
     ]
    },
    {
     "name": "stdout",
     "output_type": "stream",
     "text": [
      "Epoch [20/20], Loss: 1.6904\n"
     ]
    },
    {
     "name": "stderr",
     "output_type": "stream",
     "text": [
      "\r"
     ]
    },
    {
     "name": "stdout",
     "output_type": "stream",
     "text": [
      "Validation Accuracy: 38.25%\n"
     ]
    },
    {
     "data": {
      "text/html": [],
      "text/plain": [
       "<IPython.core.display.HTML object>"
      ]
     },
     "metadata": {},
     "output_type": "display_data"
    },
    {
     "data": {
      "text/html": [
       "<br>    <style><br>        .wandb-row {<br>            display: flex;<br>            flex-direction: row;<br>            flex-wrap: wrap;<br>            justify-content: flex-start;<br>            width: 100%;<br>        }<br>        .wandb-col {<br>            display: flex;<br>            flex-direction: column;<br>            flex-basis: 100%;<br>            flex: 1;<br>            padding: 10px;<br>        }<br>    </style><br><div class=\"wandb-row\"><div class=\"wandb-col\"><h3>Run history:</h3><br/><table class=\"wandb\"><tr><td>epoch</td><td>▁▁▂▂▂▃▃▄▄▄▅▅▅▆▆▇▇▇██</td></tr><tr><td>train_loss</td><td>█▇▆▆▅▅▅▄▄▄▃▃▃▂▂▂▂▂▁▁</td></tr><tr><td>val_accuracy</td><td>▁▂▂▃▂▃▅▄▄▆▆▅▅▇▆▇▆▆▆█</td></tr></table><br/></div><div class=\"wandb-col\"><h3>Run summary:</h3><br/><table class=\"wandb\"><tr><td>epoch</td><td>20</td></tr><tr><td>train_loss</td><td>1.69038</td></tr><tr><td>val_accuracy</td><td>38.25</td></tr></table><br/></div></div>"
      ],
      "text/plain": [
       "<IPython.core.display.HTML object>"
      ]
     },
     "metadata": {},
     "output_type": "display_data"
    },
    {
     "data": {
      "text/html": [
       " View run <strong style=\"color:#cdcd00\">usual-sweep-12</strong> at: <a href='https://wandb.ai/ishita49-indian-institute-of-technology-madras/DA6401_Assign2/runs/xzhxnsh8' target=\"_blank\">https://wandb.ai/ishita49-indian-institute-of-technology-madras/DA6401_Assign2/runs/xzhxnsh8</a><br> View project at: <a href='https://wandb.ai/ishita49-indian-institute-of-technology-madras/DA6401_Assign2' target=\"_blank\">https://wandb.ai/ishita49-indian-institute-of-technology-madras/DA6401_Assign2</a><br>Synced 5 W&B file(s), 0 media file(s), 0 artifact file(s) and 0 other file(s)"
      ],
      "text/plain": [
       "<IPython.core.display.HTML object>"
      ]
     },
     "metadata": {},
     "output_type": "display_data"
    },
    {
     "data": {
      "text/html": [
       "Find logs at: <code>./wandb/run-20250416_204927-xzhxnsh8/logs</code>"
      ],
      "text/plain": [
       "<IPython.core.display.HTML object>"
      ]
     },
     "metadata": {},
     "output_type": "display_data"
    },
    {
     "name": "stderr",
     "output_type": "stream",
     "text": [
      "\u001b[34m\u001b[1mwandb\u001b[0m: Agent Starting Run: 10xtdu5v with config:\n",
      "\u001b[34m\u001b[1mwandb\u001b[0m: \tactivation_func: relu\n",
      "\u001b[34m\u001b[1mwandb\u001b[0m: \tbatch_normalisation: True\n",
      "\u001b[34m\u001b[1mwandb\u001b[0m: \tbatch_size: 32\n",
      "\u001b[34m\u001b[1mwandb\u001b[0m: \tdata_augmentation: No\n",
      "\u001b[34m\u001b[1mwandb\u001b[0m: \tdropout_rate: 0.23242125771563577\n",
      "\u001b[34m\u001b[1mwandb\u001b[0m: \tfilter_org: 1\n",
      "\u001b[34m\u001b[1mwandb\u001b[0m: \tlearning_rate: 0.001509510637730718\n",
      "\u001b[34m\u001b[1mwandb\u001b[0m: \tnum_dense: 512\n",
      "\u001b[34m\u001b[1mwandb\u001b[0m: \tnum_filters: 128\n",
      "\u001b[34m\u001b[1mwandb\u001b[0m: \toptimizer: momentum\n",
      "\u001b[34m\u001b[1mwandb\u001b[0m: \tsize_filters: 3\n"
     ]
    },
    {
     "data": {
      "text/html": [
       "Tracking run with wandb version 0.19.6"
      ],
      "text/plain": [
       "<IPython.core.display.HTML object>"
      ]
     },
     "metadata": {},
     "output_type": "display_data"
    },
    {
     "data": {
      "text/html": [
       "Run data is saved locally in <code>/kaggle/working/wandb/run-20250416_211149-10xtdu5v</code>"
      ],
      "text/plain": [
       "<IPython.core.display.HTML object>"
      ]
     },
     "metadata": {},
     "output_type": "display_data"
    },
    {
     "data": {
      "text/html": [
       "Syncing run <strong><a href='https://wandb.ai/ishita49-indian-institute-of-technology-madras/DA6401_Assign2/runs/10xtdu5v' target=\"_blank\">young-sweep-13</a></strong> to <a href='https://wandb.ai/ishita49-indian-institute-of-technology-madras/DA6401_Assign2' target=\"_blank\">Weights & Biases</a> (<a href='https://wandb.me/developer-guide' target=\"_blank\">docs</a>)<br>Sweep page: <a href='https://wandb.ai/ishita49-indian-institute-of-technology-madras/DA6401_Assign2/sweeps/hyhjr9sg' target=\"_blank\">https://wandb.ai/ishita49-indian-institute-of-technology-madras/DA6401_Assign2/sweeps/hyhjr9sg</a>"
      ],
      "text/plain": [
       "<IPython.core.display.HTML object>"
      ]
     },
     "metadata": {},
     "output_type": "display_data"
    },
    {
     "data": {
      "text/html": [
       " View project at <a href='https://wandb.ai/ishita49-indian-institute-of-technology-madras/DA6401_Assign2' target=\"_blank\">https://wandb.ai/ishita49-indian-institute-of-technology-madras/DA6401_Assign2</a>"
      ],
      "text/plain": [
       "<IPython.core.display.HTML object>"
      ]
     },
     "metadata": {},
     "output_type": "display_data"
    },
    {
     "data": {
      "text/html": [
       " View sweep at <a href='https://wandb.ai/ishita49-indian-institute-of-technology-madras/DA6401_Assign2/sweeps/hyhjr9sg' target=\"_blank\">https://wandb.ai/ishita49-indian-institute-of-technology-madras/DA6401_Assign2/sweeps/hyhjr9sg</a>"
      ],
      "text/plain": [
       "<IPython.core.display.HTML object>"
      ]
     },
     "metadata": {},
     "output_type": "display_data"
    },
    {
     "data": {
      "text/html": [
       " View run at <a href='https://wandb.ai/ishita49-indian-institute-of-technology-madras/DA6401_Assign2/runs/10xtdu5v' target=\"_blank\">https://wandb.ai/ishita49-indian-institute-of-technology-madras/DA6401_Assign2/runs/10xtdu5v</a>"
      ],
      "text/plain": [
       "<IPython.core.display.HTML object>"
      ]
     },
     "metadata": {},
     "output_type": "display_data"
    },
    {
     "name": "stdout",
     "output_type": "stream",
     "text": [
      "Using 2 GPUs\n",
      "training...\n"
     ]
    },
    {
     "name": "stderr",
     "output_type": "stream",
     "text": [
      "                                                             "
     ]
    },
    {
     "name": "stdout",
     "output_type": "stream",
     "text": [
      "Epoch [1/20], Loss: 2.1861\n"
     ]
    },
    {
     "name": "stderr",
     "output_type": "stream",
     "text": [
      "\r"
     ]
    },
    {
     "name": "stdout",
     "output_type": "stream",
     "text": [
      "Validation Accuracy: 21.70%\n"
     ]
    },
    {
     "name": "stderr",
     "output_type": "stream",
     "text": [
      "                                                             "
     ]
    },
    {
     "name": "stdout",
     "output_type": "stream",
     "text": [
      "Epoch [2/20], Loss: 2.0930\n"
     ]
    },
    {
     "name": "stderr",
     "output_type": "stream",
     "text": [
      "\r"
     ]
    },
    {
     "name": "stdout",
     "output_type": "stream",
     "text": [
      "Validation Accuracy: 29.00%\n"
     ]
    },
    {
     "name": "stderr",
     "output_type": "stream",
     "text": [
      "                                                             "
     ]
    },
    {
     "name": "stdout",
     "output_type": "stream",
     "text": [
      "Epoch [3/20], Loss: 2.0229\n"
     ]
    },
    {
     "name": "stderr",
     "output_type": "stream",
     "text": [
      "\r"
     ]
    },
    {
     "name": "stdout",
     "output_type": "stream",
     "text": [
      "Validation Accuracy: 30.55%\n"
     ]
    },
    {
     "name": "stderr",
     "output_type": "stream",
     "text": [
      "                                                             "
     ]
    },
    {
     "name": "stdout",
     "output_type": "stream",
     "text": [
      "Epoch [4/20], Loss: 1.9747\n"
     ]
    },
    {
     "name": "stderr",
     "output_type": "stream",
     "text": [
      "\r"
     ]
    },
    {
     "name": "stdout",
     "output_type": "stream",
     "text": [
      "Validation Accuracy: 30.85%\n"
     ]
    },
    {
     "name": "stderr",
     "output_type": "stream",
     "text": [
      "                                                             "
     ]
    },
    {
     "name": "stdout",
     "output_type": "stream",
     "text": [
      "Epoch [5/20], Loss: 1.9438\n"
     ]
    },
    {
     "name": "stderr",
     "output_type": "stream",
     "text": [
      "\r"
     ]
    },
    {
     "name": "stdout",
     "output_type": "stream",
     "text": [
      "Validation Accuracy: 33.70%\n"
     ]
    },
    {
     "name": "stderr",
     "output_type": "stream",
     "text": [
      "                                                             "
     ]
    },
    {
     "name": "stdout",
     "output_type": "stream",
     "text": [
      "Epoch [6/20], Loss: 1.8999\n"
     ]
    },
    {
     "name": "stderr",
     "output_type": "stream",
     "text": [
      "\r"
     ]
    },
    {
     "name": "stdout",
     "output_type": "stream",
     "text": [
      "Validation Accuracy: 30.40%\n"
     ]
    },
    {
     "name": "stderr",
     "output_type": "stream",
     "text": [
      "                                                             "
     ]
    },
    {
     "name": "stdout",
     "output_type": "stream",
     "text": [
      "Epoch [7/20], Loss: 1.8910\n"
     ]
    },
    {
     "name": "stderr",
     "output_type": "stream",
     "text": [
      "\r"
     ]
    },
    {
     "name": "stdout",
     "output_type": "stream",
     "text": [
      "Validation Accuracy: 34.60%\n"
     ]
    },
    {
     "name": "stderr",
     "output_type": "stream",
     "text": [
      "                                                             "
     ]
    },
    {
     "name": "stdout",
     "output_type": "stream",
     "text": [
      "Epoch [8/20], Loss: 1.8447\n"
     ]
    },
    {
     "name": "stderr",
     "output_type": "stream",
     "text": [
      "\r"
     ]
    },
    {
     "name": "stdout",
     "output_type": "stream",
     "text": [
      "Validation Accuracy: 32.70%\n"
     ]
    },
    {
     "name": "stderr",
     "output_type": "stream",
     "text": [
      "                                                             "
     ]
    },
    {
     "name": "stdout",
     "output_type": "stream",
     "text": [
      "Epoch [9/20], Loss: 1.8278\n"
     ]
    },
    {
     "name": "stderr",
     "output_type": "stream",
     "text": [
      "\r"
     ]
    },
    {
     "name": "stdout",
     "output_type": "stream",
     "text": [
      "Validation Accuracy: 37.05%\n"
     ]
    },
    {
     "name": "stderr",
     "output_type": "stream",
     "text": [
      "                                                              "
     ]
    },
    {
     "name": "stdout",
     "output_type": "stream",
     "text": [
      "Epoch [10/20], Loss: 1.8105\n"
     ]
    },
    {
     "name": "stderr",
     "output_type": "stream",
     "text": [
      "\r"
     ]
    },
    {
     "name": "stdout",
     "output_type": "stream",
     "text": [
      "Validation Accuracy: 35.00%\n"
     ]
    },
    {
     "name": "stderr",
     "output_type": "stream",
     "text": [
      "                                                              "
     ]
    },
    {
     "name": "stdout",
     "output_type": "stream",
     "text": [
      "Epoch [11/20], Loss: 1.7933\n"
     ]
    },
    {
     "name": "stderr",
     "output_type": "stream",
     "text": [
      "\r"
     ]
    },
    {
     "name": "stdout",
     "output_type": "stream",
     "text": [
      "Validation Accuracy: 38.80%\n"
     ]
    },
    {
     "name": "stderr",
     "output_type": "stream",
     "text": [
      "                                                              "
     ]
    },
    {
     "name": "stdout",
     "output_type": "stream",
     "text": [
      "Epoch [12/20], Loss: 1.7701\n"
     ]
    },
    {
     "name": "stderr",
     "output_type": "stream",
     "text": [
      "\r"
     ]
    },
    {
     "name": "stdout",
     "output_type": "stream",
     "text": [
      "Validation Accuracy: 33.80%\n"
     ]
    },
    {
     "name": "stderr",
     "output_type": "stream",
     "text": [
      "                                                              "
     ]
    },
    {
     "name": "stdout",
     "output_type": "stream",
     "text": [
      "Epoch [13/20], Loss: 1.7486\n"
     ]
    },
    {
     "name": "stderr",
     "output_type": "stream",
     "text": [
      "\r"
     ]
    },
    {
     "name": "stdout",
     "output_type": "stream",
     "text": [
      "Validation Accuracy: 34.70%\n"
     ]
    },
    {
     "name": "stderr",
     "output_type": "stream",
     "text": [
      "                                                              "
     ]
    },
    {
     "name": "stdout",
     "output_type": "stream",
     "text": [
      "Epoch [14/20], Loss: 1.7443\n"
     ]
    },
    {
     "name": "stderr",
     "output_type": "stream",
     "text": [
      "\r"
     ]
    },
    {
     "name": "stdout",
     "output_type": "stream",
     "text": [
      "Validation Accuracy: 37.50%\n"
     ]
    },
    {
     "name": "stderr",
     "output_type": "stream",
     "text": [
      "                                                              "
     ]
    },
    {
     "name": "stdout",
     "output_type": "stream",
     "text": [
      "Epoch [15/20], Loss: 1.7188\n"
     ]
    },
    {
     "name": "stderr",
     "output_type": "stream",
     "text": [
      "\r"
     ]
    },
    {
     "name": "stdout",
     "output_type": "stream",
     "text": [
      "Validation Accuracy: 39.50%\n"
     ]
    },
    {
     "name": "stderr",
     "output_type": "stream",
     "text": [
      "                                                              "
     ]
    },
    {
     "name": "stdout",
     "output_type": "stream",
     "text": [
      "Epoch [16/20], Loss: 1.7007\n"
     ]
    },
    {
     "name": "stderr",
     "output_type": "stream",
     "text": [
      "\r"
     ]
    },
    {
     "name": "stdout",
     "output_type": "stream",
     "text": [
      "Validation Accuracy: 39.35%\n"
     ]
    },
    {
     "name": "stderr",
     "output_type": "stream",
     "text": [
      "                                                              "
     ]
    },
    {
     "name": "stdout",
     "output_type": "stream",
     "text": [
      "Epoch [17/20], Loss: 1.6792\n"
     ]
    },
    {
     "name": "stderr",
     "output_type": "stream",
     "text": [
      "\r"
     ]
    },
    {
     "name": "stdout",
     "output_type": "stream",
     "text": [
      "Validation Accuracy: 37.55%\n"
     ]
    },
    {
     "name": "stderr",
     "output_type": "stream",
     "text": [
      "                                                              "
     ]
    },
    {
     "name": "stdout",
     "output_type": "stream",
     "text": [
      "Epoch [18/20], Loss: 1.6804\n"
     ]
    },
    {
     "name": "stderr",
     "output_type": "stream",
     "text": [
      "\r"
     ]
    },
    {
     "name": "stdout",
     "output_type": "stream",
     "text": [
      "Validation Accuracy: 38.95%\n"
     ]
    },
    {
     "name": "stderr",
     "output_type": "stream",
     "text": [
      "                                                              "
     ]
    },
    {
     "name": "stdout",
     "output_type": "stream",
     "text": [
      "Epoch [19/20], Loss: 1.6595\n"
     ]
    },
    {
     "name": "stderr",
     "output_type": "stream",
     "text": [
      "\r"
     ]
    },
    {
     "name": "stdout",
     "output_type": "stream",
     "text": [
      "Validation Accuracy: 39.25%\n"
     ]
    },
    {
     "name": "stderr",
     "output_type": "stream",
     "text": [
      "                                                              "
     ]
    },
    {
     "name": "stdout",
     "output_type": "stream",
     "text": [
      "Epoch [20/20], Loss: 1.6502\n"
     ]
    },
    {
     "name": "stderr",
     "output_type": "stream",
     "text": [
      "\r"
     ]
    },
    {
     "name": "stdout",
     "output_type": "stream",
     "text": [
      "Validation Accuracy: 37.10%\n"
     ]
    },
    {
     "data": {
      "text/html": [],
      "text/plain": [
       "<IPython.core.display.HTML object>"
      ]
     },
     "metadata": {},
     "output_type": "display_data"
    },
    {
     "data": {
      "text/html": [
       "<br>    <style><br>        .wandb-row {<br>            display: flex;<br>            flex-direction: row;<br>            flex-wrap: wrap;<br>            justify-content: flex-start;<br>            width: 100%;<br>        }<br>        .wandb-col {<br>            display: flex;<br>            flex-direction: column;<br>            flex-basis: 100%;<br>            flex: 1;<br>            padding: 10px;<br>        }<br>    </style><br><div class=\"wandb-row\"><div class=\"wandb-col\"><h3>Run history:</h3><br/><table class=\"wandb\"><tr><td>epoch</td><td>▁▁▂▂▂▃▃▄▄▄▅▅▅▆▆▇▇▇██</td></tr><tr><td>train_loss</td><td>█▇▆▅▅▄▄▄▃▃▃▃▂▂▂▂▁▁▁▁</td></tr><tr><td>val_accuracy</td><td>▁▄▄▅▆▄▆▅▇▆█▆▆▇██▇██▇</td></tr></table><br/></div><div class=\"wandb-col\"><h3>Run summary:</h3><br/><table class=\"wandb\"><tr><td>epoch</td><td>20</td></tr><tr><td>train_loss</td><td>1.65019</td></tr><tr><td>val_accuracy</td><td>37.1</td></tr></table><br/></div></div>"
      ],
      "text/plain": [
       "<IPython.core.display.HTML object>"
      ]
     },
     "metadata": {},
     "output_type": "display_data"
    },
    {
     "data": {
      "text/html": [
       " View run <strong style=\"color:#cdcd00\">young-sweep-13</strong> at: <a href='https://wandb.ai/ishita49-indian-institute-of-technology-madras/DA6401_Assign2/runs/10xtdu5v' target=\"_blank\">https://wandb.ai/ishita49-indian-institute-of-technology-madras/DA6401_Assign2/runs/10xtdu5v</a><br> View project at: <a href='https://wandb.ai/ishita49-indian-institute-of-technology-madras/DA6401_Assign2' target=\"_blank\">https://wandb.ai/ishita49-indian-institute-of-technology-madras/DA6401_Assign2</a><br>Synced 5 W&B file(s), 0 media file(s), 0 artifact file(s) and 0 other file(s)"
      ],
      "text/plain": [
       "<IPython.core.display.HTML object>"
      ]
     },
     "metadata": {},
     "output_type": "display_data"
    },
    {
     "data": {
      "text/html": [
       "Find logs at: <code>./wandb/run-20250416_211149-10xtdu5v/logs</code>"
      ],
      "text/plain": [
       "<IPython.core.display.HTML object>"
      ]
     },
     "metadata": {},
     "output_type": "display_data"
    },
    {
     "name": "stderr",
     "output_type": "stream",
     "text": [
      "\u001b[34m\u001b[1mwandb\u001b[0m: Sweep Agent: Waiting for job.\n",
      "\u001b[34m\u001b[1mwandb\u001b[0m: Job received.\n",
      "\u001b[34m\u001b[1mwandb\u001b[0m: Agent Starting Run: beuly2nh with config:\n",
      "\u001b[34m\u001b[1mwandb\u001b[0m: \tactivation_func: relu\n",
      "\u001b[34m\u001b[1mwandb\u001b[0m: \tbatch_normalisation: True\n",
      "\u001b[34m\u001b[1mwandb\u001b[0m: \tbatch_size: 32\n",
      "\u001b[34m\u001b[1mwandb\u001b[0m: \tdata_augmentation: No\n",
      "\u001b[34m\u001b[1mwandb\u001b[0m: \tdropout_rate: 0.36754466233175376\n",
      "\u001b[34m\u001b[1mwandb\u001b[0m: \tfilter_org: 1\n",
      "\u001b[34m\u001b[1mwandb\u001b[0m: \tlearning_rate: 0.0027782429553148283\n",
      "\u001b[34m\u001b[1mwandb\u001b[0m: \tnum_dense: 512\n",
      "\u001b[34m\u001b[1mwandb\u001b[0m: \tnum_filters: 128\n",
      "\u001b[34m\u001b[1mwandb\u001b[0m: \toptimizer: momentum\n",
      "\u001b[34m\u001b[1mwandb\u001b[0m: \tsize_filters: 10\n"
     ]
    },
    {
     "data": {
      "text/html": [
       "Tracking run with wandb version 0.19.6"
      ],
      "text/plain": [
       "<IPython.core.display.HTML object>"
      ]
     },
     "metadata": {},
     "output_type": "display_data"
    },
    {
     "data": {
      "text/html": [
       "Run data is saved locally in <code>/kaggle/working/wandb/run-20250416_213333-beuly2nh</code>"
      ],
      "text/plain": [
       "<IPython.core.display.HTML object>"
      ]
     },
     "metadata": {},
     "output_type": "display_data"
    },
    {
     "data": {
      "text/html": [
       "Syncing run <strong><a href='https://wandb.ai/ishita49-indian-institute-of-technology-madras/DA6401_Assign2/runs/beuly2nh' target=\"_blank\">solar-sweep-14</a></strong> to <a href='https://wandb.ai/ishita49-indian-institute-of-technology-madras/DA6401_Assign2' target=\"_blank\">Weights & Biases</a> (<a href='https://wandb.me/developer-guide' target=\"_blank\">docs</a>)<br>Sweep page: <a href='https://wandb.ai/ishita49-indian-institute-of-technology-madras/DA6401_Assign2/sweeps/hyhjr9sg' target=\"_blank\">https://wandb.ai/ishita49-indian-institute-of-technology-madras/DA6401_Assign2/sweeps/hyhjr9sg</a>"
      ],
      "text/plain": [
       "<IPython.core.display.HTML object>"
      ]
     },
     "metadata": {},
     "output_type": "display_data"
    },
    {
     "data": {
      "text/html": [
       " View project at <a href='https://wandb.ai/ishita49-indian-institute-of-technology-madras/DA6401_Assign2' target=\"_blank\">https://wandb.ai/ishita49-indian-institute-of-technology-madras/DA6401_Assign2</a>"
      ],
      "text/plain": [
       "<IPython.core.display.HTML object>"
      ]
     },
     "metadata": {},
     "output_type": "display_data"
    },
    {
     "data": {
      "text/html": [
       " View sweep at <a href='https://wandb.ai/ishita49-indian-institute-of-technology-madras/DA6401_Assign2/sweeps/hyhjr9sg' target=\"_blank\">https://wandb.ai/ishita49-indian-institute-of-technology-madras/DA6401_Assign2/sweeps/hyhjr9sg</a>"
      ],
      "text/plain": [
       "<IPython.core.display.HTML object>"
      ]
     },
     "metadata": {},
     "output_type": "display_data"
    },
    {
     "data": {
      "text/html": [
       " View run at <a href='https://wandb.ai/ishita49-indian-institute-of-technology-madras/DA6401_Assign2/runs/beuly2nh' target=\"_blank\">https://wandb.ai/ishita49-indian-institute-of-technology-madras/DA6401_Assign2/runs/beuly2nh</a>"
      ],
      "text/plain": [
       "<IPython.core.display.HTML object>"
      ]
     },
     "metadata": {},
     "output_type": "display_data"
    },
    {
     "name": "stdout",
     "output_type": "stream",
     "text": [
      "Using 2 GPUs\n",
      "training...\n"
     ]
    },
    {
     "name": "stderr",
     "output_type": "stream",
     "text": [
      "                                                             "
     ]
    },
    {
     "name": "stdout",
     "output_type": "stream",
     "text": [
      "Epoch [1/20], Loss: 2.2878\n"
     ]
    },
    {
     "name": "stderr",
     "output_type": "stream",
     "text": [
      "\r"
     ]
    },
    {
     "name": "stdout",
     "output_type": "stream",
     "text": [
      "Validation Accuracy: 22.10%\n"
     ]
    },
    {
     "name": "stderr",
     "output_type": "stream",
     "text": [
      "                                                             "
     ]
    },
    {
     "name": "stdout",
     "output_type": "stream",
     "text": [
      "Epoch [2/20], Loss: 2.2514\n"
     ]
    },
    {
     "name": "stderr",
     "output_type": "stream",
     "text": [
      "\r"
     ]
    },
    {
     "name": "stdout",
     "output_type": "stream",
     "text": [
      "Validation Accuracy: 22.25%\n"
     ]
    },
    {
     "name": "stderr",
     "output_type": "stream",
     "text": [
      "                                                             "
     ]
    },
    {
     "name": "stdout",
     "output_type": "stream",
     "text": [
      "Epoch [3/20], Loss: 2.1976\n"
     ]
    },
    {
     "name": "stderr",
     "output_type": "stream",
     "text": [
      "\r"
     ]
    },
    {
     "name": "stdout",
     "output_type": "stream",
     "text": [
      "Validation Accuracy: 23.65%\n"
     ]
    },
    {
     "name": "stderr",
     "output_type": "stream",
     "text": [
      "                                                            \r"
     ]
    },
    {
     "data": {
      "text/html": [],
      "text/plain": [
       "<IPython.core.display.HTML object>"
      ]
     },
     "metadata": {},
     "output_type": "display_data"
    },
    {
     "data": {
      "text/html": [
       "<br>    <style><br>        .wandb-row {<br>            display: flex;<br>            flex-direction: row;<br>            flex-wrap: wrap;<br>            justify-content: flex-start;<br>            width: 100%;<br>        }<br>        .wandb-col {<br>            display: flex;<br>            flex-direction: column;<br>            flex-basis: 100%;<br>            flex: 1;<br>            padding: 10px;<br>        }<br>    </style><br><div class=\"wandb-row\"><div class=\"wandb-col\"><h3>Run history:</h3><br/><table class=\"wandb\"><tr><td>epoch</td><td>▁▅█</td></tr><tr><td>train_loss</td><td>█▅▁</td></tr><tr><td>val_accuracy</td><td>▁▂█</td></tr></table><br/></div><div class=\"wandb-col\"><h3>Run summary:</h3><br/><table class=\"wandb\"><tr><td>epoch</td><td>3</td></tr><tr><td>train_loss</td><td>2.19764</td></tr><tr><td>val_accuracy</td><td>23.65</td></tr></table><br/></div></div>"
      ],
      "text/plain": [
       "<IPython.core.display.HTML object>"
      ]
     },
     "metadata": {},
     "output_type": "display_data"
    },
    {
     "data": {
      "text/html": [
       " View run <strong style=\"color:#cdcd00\">solar-sweep-14</strong> at: <a href='https://wandb.ai/ishita49-indian-institute-of-technology-madras/DA6401_Assign2/runs/beuly2nh' target=\"_blank\">https://wandb.ai/ishita49-indian-institute-of-technology-madras/DA6401_Assign2/runs/beuly2nh</a><br> View project at: <a href='https://wandb.ai/ishita49-indian-institute-of-technology-madras/DA6401_Assign2' target=\"_blank\">https://wandb.ai/ishita49-indian-institute-of-technology-madras/DA6401_Assign2</a><br>Synced 5 W&B file(s), 0 media file(s), 0 artifact file(s) and 0 other file(s)"
      ],
      "text/plain": [
       "<IPython.core.display.HTML object>"
      ]
     },
     "metadata": {},
     "output_type": "display_data"
    },
    {
     "data": {
      "text/html": [
       "Find logs at: <code>./wandb/run-20250416_213333-beuly2nh/logs</code>"
      ],
      "text/plain": [
       "<IPython.core.display.HTML object>"
      ]
     },
     "metadata": {},
     "output_type": "display_data"
    },
    {
     "name": "stderr",
     "output_type": "stream",
     "text": [
      "\u001b[34m\u001b[1mwandb\u001b[0m: Agent Starting Run: v6hcmi77 with config:\n",
      "\u001b[34m\u001b[1mwandb\u001b[0m: \tactivation_func: relu\n",
      "\u001b[34m\u001b[1mwandb\u001b[0m: \tbatch_normalisation: True\n",
      "\u001b[34m\u001b[1mwandb\u001b[0m: \tbatch_size: 32\n",
      "\u001b[34m\u001b[1mwandb\u001b[0m: \tdata_augmentation: Yes\n",
      "\u001b[34m\u001b[1mwandb\u001b[0m: \tdropout_rate: 0.29627730599176016\n",
      "\u001b[34m\u001b[1mwandb\u001b[0m: \tfilter_org: 1\n",
      "\u001b[34m\u001b[1mwandb\u001b[0m: \tlearning_rate: 0.0018969115028583136\n",
      "\u001b[34m\u001b[1mwandb\u001b[0m: \tnum_dense: 256\n",
      "\u001b[34m\u001b[1mwandb\u001b[0m: \tnum_filters: 128\n",
      "\u001b[34m\u001b[1mwandb\u001b[0m: \toptimizer: momentum\n",
      "\u001b[34m\u001b[1mwandb\u001b[0m: \tsize_filters: 3\n"
     ]
    },
    {
     "data": {
      "text/html": [
       "Tracking run with wandb version 0.19.6"
      ],
      "text/plain": [
       "<IPython.core.display.HTML object>"
      ]
     },
     "metadata": {},
     "output_type": "display_data"
    },
    {
     "data": {
      "text/html": [
       "Run data is saved locally in <code>/kaggle/working/wandb/run-20250416_214513-v6hcmi77</code>"
      ],
      "text/plain": [
       "<IPython.core.display.HTML object>"
      ]
     },
     "metadata": {},
     "output_type": "display_data"
    },
    {
     "data": {
      "text/html": [
       "Syncing run <strong><a href='https://wandb.ai/ishita49-indian-institute-of-technology-madras/DA6401_Assign2/runs/v6hcmi77' target=\"_blank\">golden-sweep-15</a></strong> to <a href='https://wandb.ai/ishita49-indian-institute-of-technology-madras/DA6401_Assign2' target=\"_blank\">Weights & Biases</a> (<a href='https://wandb.me/developer-guide' target=\"_blank\">docs</a>)<br>Sweep page: <a href='https://wandb.ai/ishita49-indian-institute-of-technology-madras/DA6401_Assign2/sweeps/hyhjr9sg' target=\"_blank\">https://wandb.ai/ishita49-indian-institute-of-technology-madras/DA6401_Assign2/sweeps/hyhjr9sg</a>"
      ],
      "text/plain": [
       "<IPython.core.display.HTML object>"
      ]
     },
     "metadata": {},
     "output_type": "display_data"
    },
    {
     "data": {
      "text/html": [
       " View project at <a href='https://wandb.ai/ishita49-indian-institute-of-technology-madras/DA6401_Assign2' target=\"_blank\">https://wandb.ai/ishita49-indian-institute-of-technology-madras/DA6401_Assign2</a>"
      ],
      "text/plain": [
       "<IPython.core.display.HTML object>"
      ]
     },
     "metadata": {},
     "output_type": "display_data"
    },
    {
     "data": {
      "text/html": [
       " View sweep at <a href='https://wandb.ai/ishita49-indian-institute-of-technology-madras/DA6401_Assign2/sweeps/hyhjr9sg' target=\"_blank\">https://wandb.ai/ishita49-indian-institute-of-technology-madras/DA6401_Assign2/sweeps/hyhjr9sg</a>"
      ],
      "text/plain": [
       "<IPython.core.display.HTML object>"
      ]
     },
     "metadata": {},
     "output_type": "display_data"
    },
    {
     "data": {
      "text/html": [
       " View run at <a href='https://wandb.ai/ishita49-indian-institute-of-technology-madras/DA6401_Assign2/runs/v6hcmi77' target=\"_blank\">https://wandb.ai/ishita49-indian-institute-of-technology-madras/DA6401_Assign2/runs/v6hcmi77</a>"
      ],
      "text/plain": [
       "<IPython.core.display.HTML object>"
      ]
     },
     "metadata": {},
     "output_type": "display_data"
    },
    {
     "name": "stdout",
     "output_type": "stream",
     "text": [
      "Using 2 GPUs\n",
      "training...\n"
     ]
    },
    {
     "name": "stderr",
     "output_type": "stream",
     "text": [
      "                                                             "
     ]
    },
    {
     "name": "stdout",
     "output_type": "stream",
     "text": [
      "Epoch [1/20], Loss: 2.2669\n"
     ]
    },
    {
     "name": "stderr",
     "output_type": "stream",
     "text": [
      "\r"
     ]
    },
    {
     "name": "stdout",
     "output_type": "stream",
     "text": [
      "Validation Accuracy: 24.55%\n"
     ]
    },
    {
     "name": "stderr",
     "output_type": "stream",
     "text": [
      "                                                             "
     ]
    },
    {
     "name": "stdout",
     "output_type": "stream",
     "text": [
      "Epoch [2/20], Loss: 2.1922\n"
     ]
    },
    {
     "name": "stderr",
     "output_type": "stream",
     "text": [
      "\r"
     ]
    },
    {
     "name": "stdout",
     "output_type": "stream",
     "text": [
      "Validation Accuracy: 24.25%\n"
     ]
    },
    {
     "name": "stderr",
     "output_type": "stream",
     "text": [
      "                                                             "
     ]
    },
    {
     "name": "stdout",
     "output_type": "stream",
     "text": [
      "Epoch [3/20], Loss: 2.1565\n"
     ]
    },
    {
     "name": "stderr",
     "output_type": "stream",
     "text": [
      "\r"
     ]
    },
    {
     "name": "stdout",
     "output_type": "stream",
     "text": [
      "Validation Accuracy: 25.90%\n"
     ]
    },
    {
     "name": "stderr",
     "output_type": "stream",
     "text": [
      "                                                             "
     ]
    },
    {
     "name": "stdout",
     "output_type": "stream",
     "text": [
      "Epoch [4/20], Loss: 2.1420\n"
     ]
    },
    {
     "name": "stderr",
     "output_type": "stream",
     "text": [
      "\r"
     ]
    },
    {
     "name": "stdout",
     "output_type": "stream",
     "text": [
      "Validation Accuracy: 27.45%\n"
     ]
    },
    {
     "name": "stderr",
     "output_type": "stream",
     "text": [
      "                                                             "
     ]
    },
    {
     "name": "stdout",
     "output_type": "stream",
     "text": [
      "Epoch [5/20], Loss: 2.1369\n"
     ]
    },
    {
     "name": "stderr",
     "output_type": "stream",
     "text": [
      "\r"
     ]
    },
    {
     "name": "stdout",
     "output_type": "stream",
     "text": [
      "Validation Accuracy: 27.05%\n"
     ]
    },
    {
     "name": "stderr",
     "output_type": "stream",
     "text": [
      "                                                             "
     ]
    },
    {
     "name": "stdout",
     "output_type": "stream",
     "text": [
      "Epoch [6/20], Loss: 2.1279\n"
     ]
    },
    {
     "name": "stderr",
     "output_type": "stream",
     "text": [
      "\r"
     ]
    },
    {
     "name": "stdout",
     "output_type": "stream",
     "text": [
      "Validation Accuracy: 28.65%\n"
     ]
    },
    {
     "name": "stderr",
     "output_type": "stream",
     "text": [
      "                                                             "
     ]
    },
    {
     "name": "stdout",
     "output_type": "stream",
     "text": [
      "Epoch [7/20], Loss: 2.1046\n"
     ]
    },
    {
     "name": "stderr",
     "output_type": "stream",
     "text": [
      "\r"
     ]
    },
    {
     "name": "stdout",
     "output_type": "stream",
     "text": [
      "Validation Accuracy: 27.15%\n"
     ]
    },
    {
     "name": "stderr",
     "output_type": "stream",
     "text": [
      "                                                             "
     ]
    },
    {
     "name": "stdout",
     "output_type": "stream",
     "text": [
      "Epoch [8/20], Loss: 2.1099\n"
     ]
    },
    {
     "name": "stderr",
     "output_type": "stream",
     "text": [
      "\r"
     ]
    },
    {
     "name": "stdout",
     "output_type": "stream",
     "text": [
      "Validation Accuracy: 28.30%\n"
     ]
    },
    {
     "name": "stderr",
     "output_type": "stream",
     "text": [
      "                                                             "
     ]
    },
    {
     "name": "stdout",
     "output_type": "stream",
     "text": [
      "Epoch [9/20], Loss: 2.0814\n"
     ]
    },
    {
     "name": "stderr",
     "output_type": "stream",
     "text": [
      "\r"
     ]
    },
    {
     "name": "stdout",
     "output_type": "stream",
     "text": [
      "Validation Accuracy: 30.55%\n"
     ]
    },
    {
     "name": "stderr",
     "output_type": "stream",
     "text": [
      "                                                              "
     ]
    },
    {
     "name": "stdout",
     "output_type": "stream",
     "text": [
      "Epoch [10/20], Loss: 2.0570\n"
     ]
    },
    {
     "name": "stderr",
     "output_type": "stream",
     "text": [
      "\r"
     ]
    },
    {
     "name": "stdout",
     "output_type": "stream",
     "text": [
      "Validation Accuracy: 28.75%\n"
     ]
    },
    {
     "name": "stderr",
     "output_type": "stream",
     "text": [
      "                                                             \r"
     ]
    },
    {
     "data": {
      "text/html": [],
      "text/plain": [
       "<IPython.core.display.HTML object>"
      ]
     },
     "metadata": {},
     "output_type": "display_data"
    },
    {
     "data": {
      "text/html": [
       "<br>    <style><br>        .wandb-row {<br>            display: flex;<br>            flex-direction: row;<br>            flex-wrap: wrap;<br>            justify-content: flex-start;<br>            width: 100%;<br>        }<br>        .wandb-col {<br>            display: flex;<br>            flex-direction: column;<br>            flex-basis: 100%;<br>            flex: 1;<br>            padding: 10px;<br>        }<br>    </style><br><div class=\"wandb-row\"><div class=\"wandb-col\"><h3>Run history:</h3><br/><table class=\"wandb\"><tr><td>epoch</td><td>▁▂▃▃▄▅▆▆▇█</td></tr><tr><td>train_loss</td><td>█▆▄▄▄▃▃▃▂▁</td></tr><tr><td>val_accuracy</td><td>▁▁▃▅▄▆▄▅█▆</td></tr></table><br/></div><div class=\"wandb-col\"><h3>Run summary:</h3><br/><table class=\"wandb\"><tr><td>epoch</td><td>10</td></tr><tr><td>train_loss</td><td>2.05702</td></tr><tr><td>val_accuracy</td><td>28.75</td></tr></table><br/></div></div>"
      ],
      "text/plain": [
       "<IPython.core.display.HTML object>"
      ]
     },
     "metadata": {},
     "output_type": "display_data"
    },
    {
     "data": {
      "text/html": [
       " View run <strong style=\"color:#cdcd00\">golden-sweep-15</strong> at: <a href='https://wandb.ai/ishita49-indian-institute-of-technology-madras/DA6401_Assign2/runs/v6hcmi77' target=\"_blank\">https://wandb.ai/ishita49-indian-institute-of-technology-madras/DA6401_Assign2/runs/v6hcmi77</a><br> View project at: <a href='https://wandb.ai/ishita49-indian-institute-of-technology-madras/DA6401_Assign2' target=\"_blank\">https://wandb.ai/ishita49-indian-institute-of-technology-madras/DA6401_Assign2</a><br>Synced 5 W&B file(s), 0 media file(s), 0 artifact file(s) and 0 other file(s)"
      ],
      "text/plain": [
       "<IPython.core.display.HTML object>"
      ]
     },
     "metadata": {},
     "output_type": "display_data"
    },
    {
     "data": {
      "text/html": [
       "Find logs at: <code>./wandb/run-20250416_214513-v6hcmi77/logs</code>"
      ],
      "text/plain": [
       "<IPython.core.display.HTML object>"
      ]
     },
     "metadata": {},
     "output_type": "display_data"
    }
   ],
   "source": [
    "wandb.agent(sweep_id, function=train,count=15)"
   ]
  },
  {
   "cell_type": "code",
   "execution_count": 1,
   "id": "f6f6f3b4",
   "metadata": {
    "execution": {
     "iopub.execute_input": "2025-04-13T03:07:05.730307Z",
     "iopub.status.busy": "2025-04-13T03:07:05.730060Z",
     "iopub.status.idle": "2025-04-13T03:07:05.738581Z",
     "shell.execute_reply": "2025-04-13T03:07:05.737905Z",
     "shell.execute_reply.started": "2025-04-13T03:07:05.730284Z"
    },
    "trusted": true
   },
   "outputs": [],
   "source": [
    "References={\n",
    "    \"CNN Model\":\"https://www.digitalocean.com/community/tutorials/writing-cnns-from-scratch-in-pytorch\",\n",
    "    \"Batch Normalisation\":\"https://datahacker.rs/017-pytorch-how-to-apply-batch-normalization-in-pytorch/\",\n",
    "    \"Dropout\":\"https://medium.com/@vishnuam/dropout-in-convolutional-neural-networks-cnn-422a4a17da41\"\n",
    " }"
   ]
  }
 ],
 "metadata": {
  "kaggle": {
   "accelerator": "none",
   "dataSources": [
    {
     "datasetId": 7121085,
     "sourceId": 11374628,
     "sourceType": "datasetVersion"
    }
   ],
   "dockerImageVersionId": 31012,
   "isGpuEnabled": false,
   "isInternetEnabled": true,
   "language": "python",
   "sourceType": "notebook"
  },
  "kernelspec": {
   "display_name": "DL",
   "language": "python",
   "name": "python3"
  },
  "language_info": {
   "codemirror_mode": {
    "name": "ipython",
    "version": 3
   },
   "file_extension": ".py",
   "mimetype": "text/x-python",
   "name": "python",
   "nbconvert_exporter": "python",
   "pygments_lexer": "ipython3",
   "version": "3.12.4"
  }
 },
 "nbformat": 4,
 "nbformat_minor": 5
}
