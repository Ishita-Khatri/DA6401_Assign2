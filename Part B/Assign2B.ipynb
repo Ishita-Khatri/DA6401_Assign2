{
 "cells": [
  {
   "cell_type": "code",
   "execution_count": null,
   "id": "c914eb7e",
   "metadata": {},
   "outputs": [],
   "source": [
    "import torch.nn as nn\n",
    "from torchvision.models import resnet50, ResNet50_Weights\n",
    "model=resnet50(weights=ResNet50_Weights.IMAGENET1K_V1)\n",
    "model=resnet50(weights=\"IMAGENET1K_V1\")\n",
    "model=resnet50(pretrained=True)  # deprecated\n",
    "model=resnet50(True)  # deprecated\n",
    "\n",
    "num_filters = model.fc.in_features\n",
    "\n",
    "model.fc = nn.Linear(num_filters, 10)"
   ]
  },
  {
   "cell_type": "code",
   "execution_count": null,
   "id": "71a48a4c",
   "metadata": {},
   "outputs": [],
   "source": [
    "for param in model.parameters():\n",
    "    param.requires_grad = False\n",
    "    \n",
    "if isinstance(model, torchvision.models.ResNet):\n",
    "    layers_to_unfreeze = list(model.children())[-5:]\n",
    "    for layer in layers_to_unfreeze:\n",
    "        for param in layer.parameters():\n",
    "            param.requires_grad = True"
   ]
  }
 ],
 "metadata": {
  "kernelspec": {
   "display_name": "DL",
   "language": "python",
   "name": "python3"
  },
  "language_info": {
   "name": "python",
   "version": "3.12.4"
  }
 },
 "nbformat": 4,
 "nbformat_minor": 5
}
